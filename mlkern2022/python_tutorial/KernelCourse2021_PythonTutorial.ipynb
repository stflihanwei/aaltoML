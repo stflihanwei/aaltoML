{
 "cells": [
  {
   "cell_type": "markdown",
   "metadata": {},
   "source": [
    "# Python Tutorial\n",
    "**Kernel Methods in Machine Learning (CS-E4830)**\n",
    "\n",
    "**Tutorial session**: Thursday 11th March 16:15-18:00\n",
    "## Topics:\n",
    "- [Python](#Python)\n",
    "  - [Basic data types](#Basic_Data_Types)\n",
    "  - [Containers](#Containers) (Lists, Tuples and Dictionaries)\n",
    "  - [Function](#Functions)\n",
    "  - [Classes](#Classes)\n",
    "- [Math using `numpy`](#NumPy)\n",
    "  - [Arrays](#Arrays)\n",
    "  - [Array Indexing](#Array_Indexing)\n",
    "  - [Datatypes](#Datatypes)\n",
    "  - [Array Math](#Array_Math) (elementwise operations, matrix multiplication, transopose, inverse, mean, sum, ...)\n",
    "- [Plotting using `matplotlib`](#matplotlib)\n",
    "  - [Simple Functions](#Simple_Functions)\n",
    "  - [Scatter Plots](#Scatter_Plots)\n",
    "  - [Subplots](#Subplots)\n",
    "- [Machine Learning using `sklearn`](#sklearn)\n",
    "  - [Models](#models): fit(), predict()\n",
    "  - [Model Selection](#model_selection) (GridSearchCV, KFold, RandomSplit, ...)\n",
    "  \n",
    "This tutorial loosly follows the [Python tutorial](http://cs231n.github.io/python-numpy-tutorial/) of the Stanford CS class on Convolutional Neural Networks for Visual Recognition. It is itended to be crash course for those of you without (much) practice in Python programming. \n",
    "\n",
    "## References and Useful Links\n",
    "- Official Python [documentation](https://docs.python.org/3.7/library/index.html), [tutorials](https://docs.python.org/3.7/tutorial/index.html), ...\n",
    "- [Immutable vs. mutable types in Python](https://codehabitude.com/2013/12/24/python-objects-mutable-vs-immutable/)"
   ]
  },
  {
   "cell_type": "markdown",
   "metadata": {},
   "source": [
    "## Python <a id='Python'></a>\n",
    "Python is an easy to learn high-level, dynamically typed multiparadigm programming language. It allows to express very powerful ideas in very few lines. \n",
    "\n",
    "In this course we will use Python 3.5 (or greater).\n",
    "\n",
    "### Basic Data Types <a id='Basic_Data_Types'></a>\n",
    "Python provides a number of basic data types like integers, float, booleans and strings. \n",
    "\n",
    "#### Numbers\n",
    "Integer and floats work as you expect it from other languages. "
   ]
  },
  {
   "cell_type": "code",
   "execution_count": null,
   "metadata": {},
   "outputs": [],
   "source": [
    "x = 3\n",
    "print(type(x))"
   ]
  },
  {
   "cell_type": "code",
   "execution_count": null,
   "metadata": {},
   "outputs": [],
   "source": [
    "print(x, x + 1, x * 2, x**2)  # math operations will not change the value of 'x'\n",
    "\n",
    "x += 1  # equivalent: x = x + 1\n",
    "print(x)\n",
    "x *= 2  # equivalent: x = x * 2\n",
    "print(x)"
   ]
  },
  {
   "cell_type": "code",
   "execution_count": null,
   "metadata": {},
   "outputs": [],
   "source": [
    "y = 2.5\n",
    "print(type(y))\n",
    "y = 2.5e0\n",
    "print(type(y))"
   ]
  },
  {
   "cell_type": "code",
   "execution_count": null,
   "metadata": {},
   "outputs": [],
   "source": [
    "print(y, y + 1, y * 2, y**2)"
   ]
  },
  {
   "cell_type": "markdown",
   "metadata": {},
   "source": [
    "Python has full support for *mixed arithmetic*: When a binary arithmetic operator has operands of different numeric type (e.g. integer and float), the operand with the *narrower* type is widened to that of the other. For example and iteger would be widened to a float. Comparisons between numbers of mixed type follow the same rule."
   ]
  },
  {
   "cell_type": "code",
   "execution_count": null,
   "metadata": {},
   "outputs": [],
   "source": [
    "print(type(x * y))"
   ]
  },
  {
   "cell_type": "markdown",
   "metadata": {},
   "source": [
    "#### Boolean"
   ]
  },
  {
   "cell_type": "code",
   "execution_count": null,
   "metadata": {},
   "outputs": [],
   "source": [
    "t = True\n",
    "f = False\n",
    "print(type(t))\n",
    "print(t and f)\n",
    "print(t or f)\n",
    "print(not t)\n",
    "print(t == f)\n",
    "print(t != f)      # Logical XOR"
   ]
  },
  {
   "cell_type": "markdown",
   "metadata": {},
   "source": [
    "#### Strings\n",
    "Strings are [immutable](https://docs.python.org/3.7/glossary.html#term-immutable) sequences of Unicode code points, e.g. characters."
   ]
  },
  {
   "cell_type": "code",
   "execution_count": null,
   "metadata": {},
   "outputs": [],
   "source": [
    "hello = 'hello'    # String literals can use single quotes\n",
    "world = \"world\"    # or double quotes; it does not matter."
   ]
  },
  {
   "cell_type": "code",
   "execution_count": null,
   "metadata": {},
   "outputs": [],
   "source": [
    "print(hello)\n",
    "print(len(hello))\n",
    "hw = hello + ' ' + world  # string concatenation\n",
    "print(hw)\n",
    "hw12 = '%s %s %d' % (hello, world, 12)  # sprintf style string formatting\n",
    "print(hw12)\n",
    "hw15 = '{} {} {}'.format(hello, world, 15) # string formatting using the \"new style\" of python 3.6+\n",
    "print(hw15)\n",
    "hw17 = f'{hello} {world} {17}' # string formatting using f strings\n",
    "print(hw17)"
   ]
  },
  {
   "cell_type": "markdown",
   "metadata": {},
   "source": [
    "As strings are of sequence type and one can index single characters or slice out multiple. We will learn more about the indexing of sequences in the following sections."
   ]
  },
  {
   "cell_type": "code",
   "execution_count": null,
   "metadata": {},
   "outputs": [],
   "source": [
    "print(hello[0])\n",
    "print(hello[1:])  # slice from index 1 to the end"
   ]
  },
  {
   "cell_type": "markdown",
   "metadata": {},
   "source": [
    "A full list of string methods, e.g. converting characters to upper case, can be found in the [documentation](https://docs.python.org/3.7/library/stdtypes.html#string-methods)."
   ]
  },
  {
   "cell_type": "markdown",
   "metadata": {},
   "source": [
    "### Containers  <a id='Containers'></a>\n",
    "Python includes several built-in container types: lists, dictionaries, sets and tuples.\n",
    "\n",
    "#### Lists\n",
    "Lists are the Python equivalent of an array. However, they are resizeable and can contain elements of different types. "
   ]
  },
  {
   "cell_type": "code",
   "execution_count": null,
   "metadata": {},
   "outputs": [],
   "source": [
    "l = [0, 1, 2, 3, 4]  # equivalent: list(range(5))\n",
    "print(l)\n",
    "print(l[2])  # indexing a single element\n",
    "\n",
    "l[3] = '3'   # different types are possible\n",
    "print(l)\n",
    "\n",
    "l.append(5)  # appending an element in the and of the list, equivalent: l + [5]\n",
    "print(l)"
   ]
  },
  {
   "cell_type": "markdown",
   "metadata": {},
   "source": [
    "**Slicing**: Besides indexing a single element in a list, one can also access sublists. This is known as slicing."
   ]
  },
  {
   "cell_type": "code",
   "execution_count": null,
   "metadata": {},
   "outputs": [],
   "source": [
    "print(l[1:4])  # [1, 4)\n",
    "print(l[1:])   # [1, 5] \n",
    "print(l[:3])   # [0, 3)\n",
    "print(l[:])    # [0, 5], shallow copy of l\n",
    "print(l[:-2])  # [0, 3]\n",
    "\n",
    "l[2:4] = [66, 99]\n",
    "print(l)\n",
    "\n",
    "l[2:4] = []  # removing elements\n",
    "print(l)"
   ]
  },
  {
   "cell_type": "markdown",
   "metadata": {},
   "source": [
    "Python provides some very [useful operations for list](https://docs.python.org/3.7/library/stdtypes.html#mutable-sequence-types) (or generally for mutable sequence types):"
   ]
  },
  {
   "cell_type": "code",
   "execution_count": null,
   "metadata": {},
   "outputs": [],
   "source": [
    "l = list(range(5))\n",
    "print(l, \"Length:\", len(l))\n",
    "\n",
    "print(5 in l)  # check whether item (5) is equal to one in the list (l)\n",
    "print(5 not in l)  # not in the list?\n",
    "\n",
    "print(l + [5, 6, 7])  # lists concatenation\n",
    "print(l * 2) "
   ]
  },
  {
   "cell_type": "markdown",
   "metadata": {},
   "source": [
    "**Loops** over list:"
   ]
  },
  {
   "cell_type": "code",
   "execution_count": null,
   "metadata": {},
   "outputs": [],
   "source": [
    "animals = ['cat', 'dog', 'monkey']\n",
    "for animal in animals:\n",
    "    print(animal)"
   ]
  },
  {
   "cell_type": "markdown",
   "metadata": {},
   "source": [
    "We can access the index of each element we are iterating over, using the biult-in `enumerate` function:"
   ]
  },
  {
   "cell_type": "code",
   "execution_count": null,
   "metadata": {},
   "outputs": [],
   "source": [
    "for idx, animal in enumerate(animals):\n",
    "    print('%d: %s' % (idx, animal))"
   ]
  },
  {
   "cell_type": "markdown",
   "metadata": {},
   "source": [
    "**List comprehensions** is a consice way to create lists. Commonly this technique is used to create new lists, e.g. where each element is the result of an operation applied to each member of *another* sequence or iterable.  "
   ]
  },
  {
   "cell_type": "code",
   "execution_count": null,
   "metadata": {},
   "outputs": [],
   "source": [
    "squares = []\n",
    "for x in range(10):  # range create an iterable of integers: [0, 1, ..., 10)\n",
    "    squares.append(x ** 2)\n",
    "print(squares)"
   ]
  },
  {
   "cell_type": "markdown",
   "metadata": {},
   "source": [
    "If we use list comprehension, we get the same result:"
   ]
  },
  {
   "cell_type": "code",
   "execution_count": null,
   "metadata": {},
   "outputs": [],
   "source": [
    "squares = [x ** 2 for x in range(10)]  # without side effects, e.g. x not known after\n",
    "print(squares)"
   ]
  },
  {
   "cell_type": "markdown",
   "metadata": {},
   "source": [
    "Note: The variable `x` still exists after the normal loop completes. In constrast, the variable `x` in the list comprehension is not accessible outside.\n",
    "\n",
    "We can use conditions in the list comprehension expression as well:"
   ]
  },
  {
   "cell_type": "code",
   "execution_count": null,
   "metadata": {},
   "outputs": [],
   "source": [
    "even_squares = [x ** 2 for x in range(10) if (x ** 2) % 2 == 0]  # % = modulo\n",
    "print(even_squares)"
   ]
  },
  {
   "cell_type": "markdown",
   "metadata": {},
   "source": [
    "#### Tuples\n",
    "Tuples are immutable ordered lists of values. Tuples are in many aspects similar to lists, with one important difference: Tuples can be used as keys for dictionaries (next section) and elements of [sets](https://docs.python.org/3.7/tutorial/datastructures.html#sets)."
   ]
  },
  {
   "cell_type": "code",
   "execution_count": null,
   "metadata": {},
   "outputs": [],
   "source": [
    "tup = (2, 'a', [0, 1, 2])  # round brackets instead of squared ones\n",
    "print(type(tup))\n",
    "print(tup)\n",
    "print(tup[1])\n",
    "print(tup[0:2])\n",
    "\n",
    "tup2 = 3,  # round brackets can be omitted\n",
    "print(type(tup2))\n",
    "print(tup2)"
   ]
  },
  {
   "cell_type": "markdown",
   "metadata": {},
   "source": [
    "#### Dictionaries\n",
    "Dictionaries can be sometimes found in other languages as *associatve arrays*. Unlike sequences, e.g. lists, dictionaries are indexed by keys. Those can by any immutable type, e.g. strings, numbers or tuples (if it does not contain any mutable element). \n",
    "\n",
    "Think of a dictionary as a set of `key: value` pairs, where the keys need to be unique."
   ]
  },
  {
   "cell_type": "code",
   "execution_count": null,
   "metadata": {},
   "outputs": [],
   "source": [
    "tel = {\"julia\": 3032, \"jack\": 9321}  # equivalent: dict(julia=3032, jack=9321)\n",
    "print(tel)"
   ]
  },
  {
   "cell_type": "markdown",
   "metadata": {},
   "source": [
    "**Accessing elements**: If the requested key is not in the dictionary, a KeyError is raised."
   ]
  },
  {
   "cell_type": "code",
   "execution_count": null,
   "metadata": {},
   "outputs": [],
   "source": [
    "print(tel[\"jack\"])\n",
    "\n",
    "# Access an element not in the dictionary\n",
    "try:\n",
    "    tel[\"anna\"]\n",
    "except KeyError as err:\n",
    "    print(\"KeyError:\", err)\n",
    "    \n",
    "# Check whether a key is in the dictionary\n",
    "if \"anna\" in tel:\n",
    "    print(tel[\"anna\"])\n",
    "else:\n",
    "    print(\"Anna is not in the dictionary.\")"
   ]
  },
  {
   "cell_type": "markdown",
   "metadata": {},
   "source": [
    "**Insert and delete elements**:"
   ]
  },
  {
   "cell_type": "code",
   "execution_count": null,
   "metadata": {},
   "outputs": [],
   "source": [
    "tel[\"simon\"] = 4922\n",
    "tel[\"anna\"] = 9394\n",
    "print(tel)\n",
    "\n",
    "del tel[\"jack\"]\n",
    "print(tel)"
   ]
  },
  {
   "cell_type": "code",
   "execution_count": null,
   "metadata": {},
   "outputs": [],
   "source": [
    "print(\"Length:\", len(tel))\n",
    "print(\"Keys:\", tel.keys())\n",
    "print(\"Values\", tel.values())\n",
    "print(\"Key,value:\", tel.items())"
   ]
  },
  {
   "cell_type": "markdown",
   "metadata": {},
   "source": [
    "**Loops**: We can loop over dictionaries as we know it from lists. \n",
    "\n",
    "*Historical note*\n",
    "\n",
    "Until Python version 3.6 (<=) the insertion order of the elements in a dictionary is [not guaranteed to be the iteration order](https://docs.python.org/3.6/library/stdtypes.html#mapping-types-dict). That means, you cannot rely on the order of the elements in a dictionary if you linearly iterate over it. However the output of `d.keys()` and `d.values()` has a consistent order. If you need to rely on the insertion order of a directory previous to Python version 3.7 use [OrderedDict](https://docs.python.org/3.7/library/collections.html#ordereddict-objects). Since Python 3.7 [the dictionary order is guaranteed to be the insertion order](https://docs.python.org/3.7/library/stdtypes.html#mapping-types-dict). However, [OrderedDict's are not redundant in Python 3.7](https://stackoverflow.com/questions/50872498/will-ordereddict-become-redundant-in-python-3-7)."
   ]
  },
  {
   "cell_type": "code",
   "execution_count": null,
   "metadata": {},
   "outputs": [],
   "source": [
    "# Iterate over keys\n",
    "for key in tel:  # equivalent: for key in tel.keys()\n",
    "    print(key)\n",
    "\n",
    "# Iterate over values\n",
    "for value in tel.values():\n",
    "    print(value)\n",
    "    \n",
    "# Iterate over key: value pairs\n",
    "for key, value in tel.items():\n",
    "    print(key, \":\", value)"
   ]
  },
  {
   "cell_type": "markdown",
   "metadata": {},
   "source": [
    "### Functions <a id='Functions'></a>\n",
    "Functions in Python are created using `def` statement. A functions uses a local symbole table, i.e. local variables can shadow global variables ([details on that](https://docs.python.org/3.7/tutorial/controlflow.html#defining-functions))."
   ]
  },
  {
   "cell_type": "code",
   "execution_count": null,
   "metadata": {},
   "outputs": [],
   "source": [
    "def sign(x):\n",
    "    \"\"\"Returns the sign of the number 'x' as string.\"\"\"  # <-- docstring\n",
    "    if x > 0:\n",
    "        return 'positive'\n",
    "    elif x < 0:\n",
    "        return 'negative'\n",
    "    else:\n",
    "        return 'zero'\n",
    "\n",
    "for x in [-1, 0, 1]:\n",
    "    print(sign(x))"
   ]
  },
  {
   "cell_type": "markdown",
   "metadata": {},
   "source": [
    "Functions can have *optional* (with default parameters) keyword arguments:"
   ]
  },
  {
   "cell_type": "code",
   "execution_count": null,
   "metadata": {},
   "outputs": [],
   "source": [
    "def hello(name, loud=False):\n",
    "    if loud:\n",
    "        print('HELLO, %s!' % name.upper())\n",
    "    else:\n",
    "        print('Hello, %s' % name)\n",
    "\n",
    "hello('Bob')\n",
    "hello('Fred', loud=True)"
   ]
  },
  {
   "cell_type": "markdown",
   "metadata": {},
   "source": [
    "### Classes <a id='Classes'></a>\n",
    "Python provides a straightforward syntax to define classes:"
   ]
  },
  {
   "cell_type": "code",
   "execution_count": null,
   "metadata": {},
   "outputs": [],
   "source": [
    "class Greeter:\n",
    "    # Constructor\n",
    "    def __init__(self, name):\n",
    "        self.name = name  # Create an instance variable\n",
    "\n",
    "    # Instance method\n",
    "    def greet(self, loud=False):\n",
    "        if loud:\n",
    "            print('HELLO, %s!' % self.name.upper())\n",
    "        else:\n",
    "            print('Hello, %s' % self.name)\n",
    "\n",
    "g = Greeter('Fred')  \n",
    "g.greet()           \n",
    "g.greet(loud=True)  "
   ]
  },
  {
   "cell_type": "markdown",
   "metadata": {},
   "source": [
    "Python allows classes to inherit from other classes or built-in types. "
   ]
  },
  {
   "cell_type": "code",
   "execution_count": null,
   "metadata": {},
   "outputs": [],
   "source": [
    "class CDict(dict):\n",
    "    \"\"\"\n",
    "    Dictionary overwriting the __missing__ function, so that\n",
    "    missing keys always return 0.\n",
    "    \"\"\"\n",
    "    def __missing__(self, key):\n",
    "        return 0"
   ]
  },
  {
   "cell_type": "code",
   "execution_count": null,
   "metadata": {},
   "outputs": [],
   "source": [
    "d = dict()  # empty dictionary\n",
    "\n",
    "for word in [\"house\", \"house\", \"car\", \"lamp\"]:\n",
    "    try:\n",
    "        d[word] += 1\n",
    "    except KeyError as err:\n",
    "        print(\"KeyError:\", err)\n",
    "        \n",
    "print(d)"
   ]
  },
  {
   "cell_type": "code",
   "execution_count": null,
   "metadata": {},
   "outputs": [],
   "source": [
    "d = CDict()  # empty dictionary\n",
    "\n",
    "for word in [\"house\", \"house\", \"car\", \"lamp\"]:\n",
    "    d[word] += 1\n",
    "    \n",
    "print(d)"
   ]
  },
  {
   "cell_type": "markdown",
   "metadata": {},
   "source": [
    "## Math using NumPy <a id='NumPy'></a>\n",
    "[NumPy](http://www.numpy.org/) is the fundamental library for scientific computing using Python. It provides a powerful interface to work with multidimensional array objects, and a large set of linear algebra functions useful for machine learning. For those familiar with MATLAB, you can find a translation of MATLAB syntax to NumPy syntax [here](https://docs.scipy.org/doc/numpy/user/numpy-for-matlab-users.html).\n",
    "\n",
    "### Mathematical Notation\n",
    "We will use the following notation for mathematical objects for the remaining part of the tutorial.\n",
    "\n",
    "#### Scalars, Matrices and Vectors\n",
    "| <div style=\"width:200px\">**Mathematical object**</div> | <div style=\"width:200px\">**Notation examples**</div> | \n",
    "| :---- | :---- |\n",
    "| **Scalars** (real-valued) | $\\alpha,\\beta,\\gamma,\\ldots,a,b,c\\in\\mathbb{R}$ | \n",
    "| **Vectors** of length $d$ (real-valued) |  $\\mathbf{x},\\mathbf{v},\\boldsymbol{\\alpha},\\ldots,\\mathbf{a},\\mathbf{b},\\mathbf{c}\\in\\mathbb{R}^d$ |\n",
    "| **Matrices** (real-valued) | $\\mathbf{X},\\mathbf{W}\\in\\mathbb{R}^{n\\times d}, \\mathbf{K}\\in\\mathbb{R}^{n\\times n} $ | \n",
    "\n",
    "#### Indexing\n",
    "When we index a vector we write: $x_i\\in\\mathbb{R}$ is the $i$'th element of $\\mathbf{x}$. Similar for matrices: $[\\mathbf{K}]_{ij}\\in\\mathbb{R}$ is the matrix entry at row $i$ and column $j$.\n",
    "\n",
    "#### Functions\n",
    "Functions are denoted with $f,g$, or $h$, e.g. $f(\\mathbf{x})=y$, with $\\mathbf{x}\\in\\mathbb{R}^d$ being a feature vector and $y\\in\\mathbb{R}$ being the function value. "
   ]
  },
  {
   "cell_type": "markdown",
   "metadata": {},
   "source": [
    "### Arrays <a id='Arrays'></a>\n",
    "NumPy's main object is the multi- or n-dimensional array. It holds a grid of same type values (mostly numbers), and is indexed by a tuple of positive integers. The dimensions of the array are called *axes*. The *shape* of an array is a tuple of integers giving the size of the array in each dimension. \n",
    "\n",
    "For example: A matrix $\\mathbf{K}\\in\\mathbb{R}^{n\\times m}$ is 2-dimensional array, with shape (n, m).\n",
    "\n",
    "The numpy package is commonly imported to python using: "
   ]
  },
  {
   "cell_type": "code",
   "execution_count": null,
   "metadata": {},
   "outputs": [],
   "source": [
    "import numpy as np"
   ]
  },
  {
   "cell_type": "markdown",
   "metadata": {},
   "source": [
    "An NumPy array can be initialzed from a nested Python list, and accessed using squared brackets. \n",
    "\n",
    "Let us **create a vector**:"
   ]
  },
  {
   "cell_type": "code",
   "execution_count": null,
   "metadata": {},
   "outputs": [],
   "source": [
    "v = np.array([3, 2, 1])\n",
    "print(\"Vector:\", v)\n",
    "print(\"Shape:\", v.shape)\n",
    "print(\"Number of axis (dimensions):\", len(v.shape))"
   ]
  },
  {
   "cell_type": "markdown",
   "metadata": {},
   "source": [
    "Let us **create a matrix**"
   ]
  },
  {
   "cell_type": "code",
   "execution_count": null,
   "metadata": {},
   "outputs": [],
   "source": [
    "M = np.array([[1, 2, 3], [4, 5, 6], [7, 8, 9]])\n",
    "print(\"Matrix:\")\n",
    "print(M)\n",
    "print(\"Shape:\", M.shape)\n",
    "print(\"Number of axis (dimension):\", len(M.shape))"
   ]
  },
  {
   "cell_type": "markdown",
   "metadata": {},
   "source": [
    "NumPy provides some **functions to create arrays**:"
   ]
  },
  {
   "cell_type": "code",
   "execution_count": null,
   "metadata": {},
   "outputs": [],
   "source": [
    "Z = np.zeros((2, 3))  # parameter here is the shape of the matrix\n",
    "print(\"Matrix:\")\n",
    "print(Z)"
   ]
  },
  {
   "cell_type": "code",
   "execution_count": null,
   "metadata": {},
   "outputs": [],
   "source": [
    "O = np.ones((3, 2))\n",
    "print(\"Matrix:\")\n",
    "print(O)\n",
    "print(type(O[0, 0]))"
   ]
  },
  {
   "cell_type": "code",
   "execution_count": null,
   "metadata": {},
   "outputs": [],
   "source": [
    "C = np.full((2, 3, 4), 99)  # Create a matrix with constant value. Alternative: np.ones() * 99\n",
    "print(\"Tensor:\") \n",
    "print(C)\n",
    "print(C.shape)"
   ]
  },
  {
   "cell_type": "code",
   "execution_count": null,
   "metadata": {},
   "outputs": [],
   "source": [
    "I = np.eye(3)  # Identity matrix (squared matrix)\n",
    "print(\"Matrix:\")\n",
    "print(I)"
   ]
  },
  {
   "cell_type": "code",
   "execution_count": null,
   "metadata": {},
   "outputs": [],
   "source": [
    "R = np.random.random((3, 2))  # Create a random matrix\n",
    "print(\"Matrix:\")\n",
    "print(R)"
   ]
  },
  {
   "cell_type": "markdown",
   "metadata": {},
   "source": [
    "### Array Indexing <a id='Array_Indexing'></a>\n",
    "\n",
    "#### Slicing\n",
    "Similar to Python lists you can use slicing to access the data in the Numpy arrays. For example: A 2-dimensional matrix is stored as a list of lists, where the rows are on first index and the columns on the second one.  "
   ]
  },
  {
   "cell_type": "code",
   "execution_count": null,
   "metadata": {},
   "outputs": [],
   "source": [
    "M = np.array([[1, 2, 3, 4], [2, 3, 4, 1], [3, 4, 1, 2]])\n",
    "print(\"Matrix M:\")\n",
    "print(M)\n",
    "print(\"Matrix M[:2, 1:3]:\")\n",
    "print(M[:2, 1:3])"
   ]
  },
  {
   "cell_type": "markdown",
   "metadata": {},
   "source": [
    "You can use slicing to get a view into the **same data**. Modifications of the view will lead to modifications in the original array."
   ]
  },
  {
   "cell_type": "code",
   "execution_count": null,
   "metadata": {},
   "outputs": [],
   "source": [
    "N = M[:2, 1:3]\n",
    "print(\"Matrix N:\")\n",
    "print(N)\n",
    "\n",
    "# Lets modify the view\n",
    "N[0, 0] = 99\n",
    "N[1, 0] = 66\n",
    "print(\"Matrix M\")\n",
    "print(M)"
   ]
  },
  {
   "cell_type": "markdown",
   "metadata": {},
   "source": [
    "You can mix integer and slice indexing. However, this leads to an array of lower dimension, than the original array. This is different from the way that MATLAB handles array slicing."
   ]
  },
  {
   "cell_type": "code",
   "execution_count": null,
   "metadata": {},
   "outputs": [],
   "source": [
    "M = np.array([[1, 2, 3, 4], [2, 3, 4, 1], [3, 4, 1, 2]])\n",
    "\n",
    "# Integer and slice indexing\n",
    "row_r1 = M[1, :]\n",
    "# Slice indexing only\n",
    "row_r2 = M[1:2, :]\n",
    "\n",
    "print(row_r1, row_r1.shape)  # 1-dimensional array (4,)\n",
    "print(row_r2, row_r2.shape)  # 2-dimensional array (1, 4)\n",
    "\n",
    "# Accessing columns follows the same principle."
   ]
  },
  {
   "cell_type": "markdown",
   "metadata": {},
   "source": [
    "#### Integer Array Indexing\n",
    "Remember, slicing always leads to an array view which is a subarray of the original array. In contrast, integer array indexing allows you to construct arbitrary 1-dimensional arrays using the data from another array. "
   ]
  },
  {
   "cell_type": "code",
   "execution_count": null,
   "metadata": {},
   "outputs": [],
   "source": [
    "M = np.array([[1, 2], [3, 4], [5, 6]])\n",
    "\n",
    "# An example of integer array indexing.\n",
    "# The returned array will have shape (3,) and\n",
    "v = M[[0, 1, 2], [0, 1, 0]] \n",
    "print(\"Vector:\", v, v.shape)\n",
    "\n",
    "# The above example of integer array indexing is equivalent to this:\n",
    "print(np.array([M[0, 0], M[1, 1], M[2, 0]]))\n",
    "\n",
    "# When using integer array indexing, you can reuse the same\n",
    "# element from the source array:\n",
    "print(M[[0, 0], [1, 1]])\n",
    "\n",
    "# Equivalent to the previous integer array indexing example\n",
    "print(np.array([M[0, 1], M[0, 1]]))"
   ]
  },
  {
   "cell_type": "markdown",
   "metadata": {},
   "source": [
    "If you want to get a subarray using integer indexing you can use the syntax for nested lists. Here a example of a 2-dimensional array."
   ]
  },
  {
   "cell_type": "code",
   "execution_count": null,
   "metadata": {},
   "outputs": [],
   "source": [
    "K = np.array([[\"00\", \"01\", \"02\", \"03\", \"04\"],\n",
    "              [\"10\", \"11\", \"12\", \"13\", \"14\"],\n",
    "              [\"20\", \"21\", \"22\", \"23\", \"24\"],\n",
    "              [\"30\", \"31\", \"32\", \"33\", \"34\"],\n",
    "              [\"40\", \"41\", \"42\", \"43\", \"44\"]])  # numpy-arrays can store strings as well ...\n",
    "print(\"Kernel matrix (5 x 5):\")\n",
    "print(K)\n",
    "\n",
    "train_set = [0, 2, 3] \n",
    "test_set = [1, 4]\n",
    "\n",
    "print(\"Training kernel sub-matrix:\")\n",
    "print(K[train_set][:, train_set])\n",
    "\n",
    "print(\"Test vs. training kernel sub-matrix:\")\n",
    "print(K[test_set][:, train_set])"
   ]
  },
  {
   "cell_type": "markdown",
   "metadata": {},
   "source": [
    "You can use the integer array indexing to modify specific elements in an array."
   ]
  },
  {
   "cell_type": "code",
   "execution_count": null,
   "metadata": {},
   "outputs": [],
   "source": [
    "M = np.ones((4, 4))\n",
    "print(\"Matrix:\")\n",
    "print(M)\n",
    "\n",
    "M[np.arange(4), [0, 2, 0, 2]] += 9  # np.arange(4) --> [0, 1, 2, 3]\n",
    "print(\"Matrix:\")\n",
    "print(M)"
   ]
  },
  {
   "cell_type": "markdown",
   "metadata": {},
   "source": [
    "#### Boolean Indexing\n",
    "You can use boolean indexing, to access or modify elements on an array satisfying a certain condition. "
   ]
  },
  {
   "cell_type": "code",
   "execution_count": null,
   "metadata": {},
   "outputs": [],
   "source": [
    "M = np.array([[1, 2], [3, 4], [5, 6]])\n",
    "\n",
    "idx = M > 3\n",
    "print(\"Boolean index matrix:\")\n",
    "print(idx)\n",
    "\n",
    "print(\"Elements satisfying the condition:\", M[idx])\n",
    "\n",
    "# Modify the elements\n",
    "M[idx] *= 100\n",
    "print(\"Matrix:\")\n",
    "print(M)"
   ]
  },
  {
   "cell_type": "markdown",
   "metadata": {},
   "source": [
    "#### Accessing the diagonal elements of a matrix\n",
    "\n",
    "The numpy function ```np.diag``` allows you access the diagonal elements of a Matrix. It returns the values as a 1D-array. [Starting from NumPy version 1.9](https://docs.scipy.org/doc/numpy/reference/generated/numpy.diagonal.html#numpy.diagonal), the returned array is read-only and an error is raised, if you try to change values in the returned array. This behavior might change in later releases."
   ]
  },
  {
   "cell_type": "code",
   "execution_count": null,
   "metadata": {},
   "outputs": [],
   "source": [
    "print(\"Kernel matrix:\\n\", K)\n",
    "\n",
    "K_diag = np.diag(K)\n",
    "print(\"Diagonal:\\n\", K_diag, \"shape =\", K_diag.shape)\n",
    "\n",
    "try:\n",
    "    K_diag[1] = 'bla'\n",
    "except ValueError as err:\n",
    "    print(\"\\nWriting error:\", err)\n",
    "    \n",
    "# You can take a copy of the resulting array\n",
    "K_diag_c = np.diag(K).copy()\n",
    "K_diag_c[1] = 'XX'\n",
    "print(\"\\nDiagonal (copy):\\n\", K_diag_c, \"shape =\", K_diag_c.shape)\n",
    "\n",
    "print(\"Kernel matrix did not change:\\n\", K)"
   ]
  },
  {
   "cell_type": "markdown",
   "metadata": {},
   "source": [
    "### Datatypes <a id='Datatypes'></a>\n",
    "Every numpy array is a grid of elements of the same type. Numpy provides a large set of numeric datatypes that you can use to construct arrays. Numpy tries to guess a datatype when you create an array, but functions that construct arrays usually also include an optional argument to explicitly specify the datatype."
   ]
  },
  {
   "cell_type": "code",
   "execution_count": null,
   "metadata": {},
   "outputs": [],
   "source": [
    "v = np.array([1, 2])  # Let numpy choose the datatype\n",
    "print(v.dtype)\n",
    "\n",
    "v = np.array([1.0, 2.0])  # Let numpy choose the datatype\n",
    "print(v.dtype)\n",
    "\n",
    "v = np.array([1.0, 2.0], dtype=np.int64)  # Force a particular datatype\n",
    "print(v.dtype)"
   ]
  },
  {
   "cell_type": "markdown",
   "metadata": {},
   "source": [
    "### Array Math <a id='Array_Math'></a>\n",
    "\n",
    "#### Elementwise Operations\n",
    "Basic mathematical functions operate elementwise on arrays. The functions are available both as operator overloads and as functions in the Numpy module.\n",
    "\n",
    "##### Mathematical Notation\n",
    "Let $\\mathbf{M}_1$ and $\\mathbf{M}_2$ be two $m\\times n$ matrices.\n",
    "- Elementwise sum: $\\mathbf{M}_1 + \\mathbf{M}_2$\n",
    "- Elementwise minus: $\\mathbf{M}_1 - \\mathbf{M}_2$\n",
    "- Hadamard (elementwise) product: $\\mathbf{M}_1\\circ\\mathbf{M}_2$"
   ]
  },
  {
   "cell_type": "code",
   "execution_count": null,
   "metadata": {},
   "outputs": [],
   "source": [
    "M1 = np.array([[1, 2],\n",
    "               [3, 4]])\n",
    "M2 = np.array([[5, 6], \n",
    "               [7, 8]])\n",
    "\n",
    "# Elementwise sum\n",
    "print(\"Sum:\")\n",
    "print(M1 + M2)  # equivalent: np.add(x, y)\n",
    "\n",
    "# Elementwise minus\n",
    "print(\"Minus:\")\n",
    "print(M1 - M2)  # equivalent: np.subtract(x, y)\n",
    "\n",
    "# Elementwise product\n",
    "print(\"Product:\")\n",
    "print(M1 * M2)  # equivalent: np.multiply(x, y)\n",
    "\n",
    "# Elementwise division\n",
    "print(\"Division:\")\n",
    "print(M1 / M2)  # implicit type conversion; equivalent: np.divide(x, y)\n",
    "\n",
    "# Elementwise squre root\n",
    "print(\"Square root:\")\n",
    "print(np.sqrt(M1))"
   ]
  },
  {
   "cell_type": "markdown",
   "metadata": {},
   "source": [
    "#### Matrix Multiplication \n",
    "\n",
    "##### 1) Infix Operator @\n",
    "\n",
    "Matrix multiplication infix operator @ introduced by [PEP 465](https://www.python.org/dev/peps/pep-0465/#semantics).\n",
    "\n",
    "- **Python:** >= 3.5\n",
    "- **Numpy:** >= 1.10\n",
    "\n",
    "##### 2) Numpy ```dot()``` Function\n",
    "\n",
    "Numpy provides a matrix multiplication function as well. It can be called as member function of a Numpy array or as function from the Numpy module. For matrix multiplication its use is discouraged.\n",
    "```python\n",
    "M1.dot(M2)\n",
    "# or \n",
    "np.dot(M1, M2)\n",
    "```\n",
    "\n",
    "##### Mathematical Notation \n",
    "Let $\\mathbf{M}_1$ be a $m\\times n$ matrix and $\\mathbf{M}_2$ be a $n\\times l$ matrix. Then $\\mathbf{M}_1\\mathbf{M}_2$ is a $m\\times l$ matrix."
   ]
  },
  {
   "cell_type": "code",
   "execution_count": null,
   "metadata": {},
   "outputs": [],
   "source": [
    "def arr(m, n=None):\n",
    "    if n is None:\n",
    "        return np.random.random((m,))\n",
    "    else:\n",
    "        return np.random.random((m, n))"
   ]
  },
  {
   "cell_type": "markdown",
   "metadata": {},
   "source": [
    "Matrix infix operator @:"
   ]
  },
  {
   "cell_type": "code",
   "execution_count": null,
   "metadata": {},
   "outputs": [],
   "source": [
    "print((arr(2, 3) @ arr(3, 1)).shape)\n",
    "print((arr(1, 3) @ arr(3, 2)).shape)\n",
    "print((arr(1, 3) @ arr(3, 1)).shape)\n",
    "\n",
    "# Multiplication with a 1d-array\n",
    "print((arr(3) @ arr(3, 2)).shape)  # 1d-array output\n",
    "print((arr(4, 3) @ arr(3)).shape)  # 1d-array output\n",
    "print((arr(3) @ arr(3)).shape)  # scalar"
   ]
  },
  {
   "cell_type": "markdown",
   "metadata": {},
   "source": [
    "Numpy function ```dot()```:"
   ]
  },
  {
   "cell_type": "code",
   "execution_count": null,
   "metadata": {},
   "outputs": [],
   "source": [
    "print((arr(2, 3).dot(arr(3, 1))).shape)\n",
    "print((arr(1, 3).dot(arr(3, 2))).shape)\n",
    "print((arr(1, 3).dot(arr(3, 1))).shape)\n",
    "\n",
    "# Multiplication with a 1d-array\n",
    "print((arr(3).dot(arr(3, 2))).shape)  # 1d-array output\n",
    "print((arr(4, 3).dot(arr(3))).shape)  # 1d-array output\n",
    "print((arr(3).dot(arr(3))).shape)  # scalar"
   ]
  },
  {
   "cell_type": "markdown",
   "metadata": {},
   "source": [
    "Matrix multiplication is not associative, when you use 1d-arrays:"
   ]
  },
  {
   "cell_type": "code",
   "execution_count": null,
   "metadata": {},
   "outputs": [],
   "source": [
    "# @ infix\n",
    "print(\"(M * v) * M:\", (arr(3, 3) @ arr(3)) @ arr(3, 3))\n",
    "print(\"M * (v * M):\", arr(3, 3) @ (arr(3) @ arr(3, 3)))\n",
    "\n",
    "# dot function\n",
    "print(\"(M * v) * M:\", (arr(3, 3).dot(arr(3))).dot(arr(3, 3)))\n",
    "print(\"M * (v * M):\", arr(3, 3).dot(arr(3).dot(arr(3, 3))))"
   ]
  },
  {
   "cell_type": "markdown",
   "metadata": {},
   "source": [
    "Therefore, we recommend to be explicit about the dimension of the column- ```(n, 1)``` or row-vector ```(1, n)```. [\"Explicit is better than implicit.\"](https://en.wikipedia.org/wiki/Zen_of_Python). This also raises an error, if the dimensions are not correct:"
   ]
  },
  {
   "cell_type": "code",
   "execution_count": null,
   "metadata": {},
   "outputs": [],
   "source": [
    "try:\n",
    "    arr(3, 3) @ arr(1, 3)  # or using dot()\n",
    "except ValueError as err:\n",
    "    print(\"Error:\", err)"
   ]
  },
  {
   "cell_type": "markdown",
   "metadata": {},
   "source": [
    "#### Matrix Transpose\n",
    "\n",
    "Notation: Let $\\mathbf{M}$ be a $m\\times n$-matrix, then $\\mathbf{M}^T$ is a $n\\times m$ matrix. A matrix can be transposed using the Numpy-array member function ```T```. "
   ]
  },
  {
   "cell_type": "code",
   "execution_count": null,
   "metadata": {},
   "outputs": [],
   "source": [
    "M = arr(3, 4)\n",
    "\n",
    "print(M.shape)\n",
    "print(M.T.shape)"
   ]
  },
  {
   "cell_type": "markdown",
   "metadata": {},
   "source": [
    "#### Matrix Inverse\n",
    "\n",
    "Notation: The inverse of a matrix $\\mathbf{M}$ is written as $\\mathbf{M}^{-1}$.\n",
    "\n",
    "Numpy provides a module function called ```numpy.linalg.inv()``` do directly calculate the inverse of a *squared* matrix. \n",
    "\n",
    "However, in practice it is numerically more stable to solve a system of linear equations, similar to the [backslash (```\\```) operator in MATLAB](https://www.mathworks.com/help/matlab/ref/mldivide.html). The Numpy module function is called ```numpy.linalg.solve()```.\n",
    "\n",
    "Let us look on an example forumla arising in Kernel Ridge Regression: \n",
    "$$\n",
    "    \\boldsymbol{\\alpha}^T = \\mathbf{y}^T(\\mathbf{K}+c\\mathbf{I})^{-1}\n",
    "$$\n",
    "$$ \\Leftrightarrow $$ \n",
    "$$\n",
    "    \\boldsymbol{\\alpha}^T(\\mathbf{K}+c\\mathbf{I}) = \\mathbf{y}^T\n",
    "$$\n",
    "$$ \\Leftrightarrow $$ \n",
    "$$\n",
    "    \\underbrace{(\\mathbf{K}+c\\mathbf{I})^T}_{a}\\underbrace{\\boldsymbol{\\alpha}}_{x} = \\underbrace{\\mathbf{y}}_{b}\n",
    "$$\n",
    "\n",
    "Another more numerically stable version, but considerably slower, is to use the [pseudo-inverse](https://numpy.org/doc/stable/reference/generated/numpy.linalg.pinv.html)."
   ]
  },
  {
   "cell_type": "code",
   "execution_count": null,
   "metadata": {},
   "outputs": [],
   "source": [
    "n_samples = 5\n",
    "\n",
    "y = arr(n_samples, 1)\n",
    "X = arr(n_samples, 10)\n",
    "K = X @ X.T\n",
    "c = 1.0\n",
    "\n",
    "# Using inverse function \n",
    "alpha = y.T @ np.linalg.inv(K + c * np.eye(n_samples))\n",
    "print(\"Alphas using 'inv()':\", alpha)\n",
    "\n",
    "# Using solve function\n",
    "alpha = np.linalg.solve(K + c * np.eye(n_samples), y)\n",
    "print(\"Alphas using 'solve()':\", alpha.T)\n",
    "\n",
    "# Using pseudo-inverse function\n",
    "alpha = y.T @ np.linalg.pinv(K + c * np.eye(n_samples))\n",
    "print(\"Alphas using 'pinv()':\", alpha)"
   ]
  },
  {
   "cell_type": "markdown",
   "metadata": {},
   "source": [
    "#### Averages and Sums\n",
    "NumPy supports the calculation of averages and sums across whole arrays or row- / column-wise. The notation is similar to the one in MATLAB. "
   ]
  },
  {
   "cell_type": "code",
   "execution_count": null,
   "metadata": {},
   "outputs": [],
   "source": [
    "M = np.array([[1, 2, 3], [1, 2, 3], [1, 2, 3]])\n",
    "print(M)\n",
    "\n",
    "# Calculate mean and sum of the matrix\n",
    "print(\"Mean of all entries:\", np.mean(M))\n",
    "print(\"Sum of all entries:\", np.sum(M))\n",
    "\n",
    "# Calculate the row means and row sums of the matri\n",
    "print(\"Mean of all entries:\", np.mean(M, axis=1), \"shape = \", np.mean(M, axis=1).shape)\n",
    "print(\"Sum of all entries:\", np.sum(M, axis=1), \"shape = \", np.sum(M, axis=1).shape)"
   ]
  },
  {
   "cell_type": "markdown",
   "metadata": {},
   "source": [
    "## Plotting using matplolib <a id='matplotlib'></a>\n",
    "\n",
    "[Matplotlib](https://matplotlib.org/) is a plotting library similar to the one of MATLAB. Here we will go through a brief introduction of the ```matplotlib.pyplot``` module. Further tutorials and examples can be found [here](https://matplotlib.org/tutorials/index.html)."
   ]
  },
  {
   "cell_type": "code",
   "execution_count": null,
   "metadata": {},
   "outputs": [],
   "source": [
    "import matplotlib.pyplot as plt"
   ]
  },
  {
   "cell_type": "markdown",
   "metadata": {},
   "source": [
    "### Simple Functions <a id='Simple_Functions'></a>"
   ]
  },
  {
   "cell_type": "code",
   "execution_count": null,
   "metadata": {},
   "outputs": [],
   "source": [
    "x = np.arange(0,3 * np.pi, 0.1)\n",
    "y_sin = np.sin(x)\n",
    "y_cos = np.cos(x)\n",
    "\n",
    "plt.plot(x, y_sin)\n",
    "plt.plot(x, y_cos)\n",
    "\n",
    "# Add axis labels and \n",
    "plt.xlabel(\"x space\")\n",
    "plt.ylabel(\"sin(x) / cos(x)\")\n",
    "plt.title(\"Title\")\n",
    "\n",
    "# Add legend\n",
    "plt.legend([\"Sine\", \"Cosine\"])"
   ]
  },
  {
   "cell_type": "markdown",
   "metadata": {},
   "source": [
    "### Scatter Plots <a id='Scatter_Plots'></a>"
   ]
  },
  {
   "cell_type": "code",
   "execution_count": null,
   "metadata": {},
   "outputs": [],
   "source": [
    "# Generate some 2D data\n",
    "np.random.seed(1)\n",
    "X = np.random.random((100, 2))\n",
    "cls = np.random.randint(0, 2, size=(100,))\n",
    "\n",
    "# Plot points of each class separetly \n",
    "zero_cls = plt.scatter(X[cls==0, 0], X[cls==0, 1], c = \"blue\")  # colored points\n",
    "one_cls = plt.scatter(X[cls==1, 0], X[cls==1, 1], c = \"red\")  # colored points\n",
    "\n",
    "# Axis labels, title, ...\n",
    "plt.xlabel(\"X_1\")\n",
    "plt.ylabel(\"X_2\")\n",
    "plt.title(\"Data points\")\n",
    "\n",
    "# Legend \n",
    "plt.legend([zero_cls, one_cls], [\"negative\", \"positive\"], title=\"Class\")"
   ]
  },
  {
   "cell_type": "markdown",
   "metadata": {},
   "source": [
    "### Subplots <a id='Subplots'></a>\n",
    "You can draw several plots into the same figure using ```subplots()```."
   ]
  },
  {
   "cell_type": "code",
   "execution_count": null,
   "metadata": {},
   "outputs": [],
   "source": [
    "fig, axrr = plt.subplots(1, 2, figsize=(14, 5))  # axrr gives access to the axis of each plot\n",
    "\n",
    "axrr[0].scatter(X[:, 0], X[:, 1])\n",
    "axrr[0].set_xlabel(\"X_1\")\n",
    "axrr[0].set_ylabel(\"X_2\")\n",
    "axrr[0].set_title(\"Data points\")\n",
    "\n",
    "axrr[1].hist(X[:, 0], 20)\n",
    "axrr[1].set_xlabel(\"X_1\")\n",
    "axrr[1].set_ylabel(\"Count\")\n",
    "axrr[1].set_title(\"Marginal distribution of X_1\")"
   ]
  },
  {
   "cell_type": "markdown",
   "metadata": {},
   "source": [
    "## Machine Learning using scikit-learn <a id='sklearn'></a>\n",
    "The [scikit-learn](https://scikit-learn.org/stable/index.html) (sklearn) package provides a simple and efficient tool for machine learning in Python. It is opensource and can serve as the basis for your machine learning pipeline. Sklearn includes several kernel based classification and regression algorithms, as well as kernel pre-processing functionality, e.g. [Support Vector Machines (SVM)](https://scikit-learn.org/stable/modules/generated/sklearn.svm.SVC.html#sklearn.svm.SVC), [Kernel Ridge Regression](https://scikit-learn.org/stable/modules/generated/sklearn.kernel_ridge.KernelRidge.html#sklearn.kernel_ridge.KernelRidge), etc. \n",
    "\n",
    "### Models Estimation and Prediction <a id='models'></a>\n",
    "Every sklearn model (or estimator), e.g. Support Vector Classifier (SVC), implements a simple workflow:\n",
    "```python\n",
    "est = SVC(param)  # Get model instance: Support Vector Classification\n",
    "est.fit(TrainData, TrainLabels)\n",
    "NewLabels = est.predict(NewData)\n",
    "```\n",
    "Depending on the model type a specific ```score``` function is implemented: \n",
    "- **Classification**: Mean prediction accuracy\n",
    "- **Regression**: [Coeffcient of determination $R^2$](https://en.wikipedia.org/wiki/Coefficient_of_determination)\n",
    "\n",
    "Example:\n",
    "```python\n",
    "est.score(TestData, TestLabels)  # mean prediction accuracy of the classifier\n",
    "```\n",
    "\n",
    "This workflow allows us to implement scikit-learn compatible own estimators. Those can be used with other scikit-learn functions, e.g. [model evaluation](https://scikit-learn.org/stable/modules/classes.html#module-sklearn.model_selection), [pipelines](https://scikit-learn.org/stable/modules/classes.html#module-sklearn.pipeline), etc. \n",
    "\n",
    "#### Classification Example"
   ]
  },
  {
   "cell_type": "code",
   "execution_count": null,
   "metadata": {},
   "outputs": [],
   "source": [
    "from sklearn.svm import SVC  # Import Suport Vector Regression\n",
    "from sklearn.datasets import make_moons\n",
    "from sklearn.model_selection import train_test_split"
   ]
  },
  {
   "cell_type": "code",
   "execution_count": null,
   "metadata": {},
   "outputs": [],
   "source": [
    "# Create some artifical data\n",
    "X, y = make_moons(n_samples=500, noise=0.3, random_state=787)\n",
    "X_train, X_test, y_train, y_test = train_test_split(X, y, random_state=747)\n",
    "\n",
    "# Train model\n",
    "est = SVC(gamma=0.01, C=1.)  # non-linear SVC with Gaussian Kernel\n",
    "est.fit(X_train, y_train)\n",
    "\n",
    "# Make Predictions\n",
    "y_test_pred = est.predict(X_test)\n",
    "\n",
    "# Get mean prediction accuracy\n",
    "print(\"SVC model score:\", est.score(X_test, y_test))"
   ]
  },
  {
   "cell_type": "markdown",
   "metadata": {},
   "source": [
    "### Model Hyper-parameter Selection <a id='model_selection'></a>\n",
    "In the classification example, our model (SVC) has two *hyper-parameters*. The regularization is controlled by $C$ and the Gaussian kernel scaling by $\\gamma$. Scikit-learn implements functions to support model hyper-parameter selection. A widely used approach is cross-validation (CV) with grid-search. Thereby for each hyper-parameter combination for a parameter grid a model is fitted using training data and scored on test data. Training and test splits are calculated using CV. \n",
    "\n",
    "#### Pseudo-code Grid-Search with Cross-validation\n",
    "```\n",
    "// FUNCTION: GridSearchCV\n",
    "\n",
    "// INPUT: \n",
    "//   Data: Features and labels of the dataset\n",
    "//   param_grid: List of parameter combinations\n",
    "\n",
    "scores <- array(num_of_param, num_of_splits)\n",
    "\n",
    "i_param <- 1\n",
    "for param in param_grid: \n",
    "    est <- Estimator(param)\n",
    "    \n",
    "    i_split <- 1\n",
    "    for DataTrain, DataTest in CVSplit(Data)\n",
    "        est.fit(DataTrain)\n",
    "        scores[i_param, i_split] <- est.score(DataTest)\n",
    "        i_split <- i_split + 1\n",
    "        \n",
    "    i_param <- i_param + 1\n",
    "        \n",
    "scores <- mean_param_score_across_splits(scores)   # output: array(num_of_params)\n",
    "best_param <- param_grid[argmin(scores)]\n",
    "\n",
    "// OUTPUT:\n",
    "//   best_param: param with the highest score\n",
    "```"
   ]
  },
  {
   "cell_type": "markdown",
   "metadata": {},
   "source": [
    "#### Example Grid-Search with Cross-validation"
   ]
  },
  {
   "cell_type": "code",
   "execution_count": null,
   "metadata": {},
   "outputs": [],
   "source": [
    "from sklearn.model_selection import GridSearchCV\n",
    "from sklearn.model_selection import KFold"
   ]
  },
  {
   "cell_type": "code",
   "execution_count": null,
   "metadata": {},
   "outputs": [],
   "source": [
    "# Set up grid-search with 5-fold CV\n",
    "param_grid = {\"gamma\": [0.01, 0.1, 1], \"C\": [0.5, 1, 4]}\n",
    "gscv = GridSearchCV(SVC(), param_grid=param_grid, cv=KFold(5, shuffle=True))\n",
    "\n",
    "# Search for best hyper-parameter\n",
    "gscv.fit(X_train, y_train)\n",
    "\n",
    "print(\"Best parameters:\", gscv.best_params_)\n",
    "print(\"Best score:\", gscv.best_score_)"
   ]
  },
  {
   "cell_type": "markdown",
   "metadata": {},
   "source": [
    "#### Different Cross-validation Splitting Classes <a id='splits'></a>\n",
    "\n",
    "[```KFold```](https://scikit-learn.org/stable/modules/generated/sklearn.model_selection.KFold.html#sklearn.model_selection.KFold) performance a k-fold CV. That means the dataset is split into, e.g., $k=5$ equal sized disjunct subsets. Each time, when the model is fitted, 4 subsets are used for the training and 1 for the test. Sklearn provides [further splitting classes](https://scikit-learn.org/stable/modules/classes.html#splitter-classes):\n",
    "- [```LeavePOut```](https://scikit-learn.org/stable/modules/generated/sklearn.model_selection.LeavePOut.html#sklearn.model_selection.LeavePOut): Split such that each subset contains $p$ samples.\n",
    "- [```StratifiedKFold```](https://scikit-learn.org/stable/modules/generated/sklearn.model_selection.StratifiedKFold.html#sklearn.model_selection.StratifiedKFold): KFold split, but class ratios are preserved.\n",
    "- [```GroupKFold```](https://scikit-learn.org/stable/modules/generated/sklearn.model_selection.GroupKFold.html#sklearn.model_selection.GroupKFold): Split such that the same group will not appear in two different folds.\n",
    "- [```ShuffleSplit```](https://scikit-learn.org/stable/modules/generated/sklearn.model_selection.ShuffleSplit.html#sklearn.model_selection.ShuffleSplit): Split data randomly into $n$ training and test subsets. **Note**: This function does not guarantees distinct training and test sets."
   ]
  }
 ],
 "metadata": {
  "kernelspec": {
   "display_name": "Python 3",
   "language": "python",
   "name": "python3"
  },
  "language_info": {
   "codemirror_mode": {
    "name": "ipython",
    "version": 3
   },
   "file_extension": ".py",
   "mimetype": "text/x-python",
   "name": "python",
   "nbconvert_exporter": "python",
   "pygments_lexer": "ipython3",
   "version": "3.9.5"
  },
  "varInspector": {
   "cols": {
    "lenName": 16,
    "lenType": 16,
    "lenVar": 40
   },
   "kernels_config": {
    "python": {
     "delete_cmd_postfix": "",
     "delete_cmd_prefix": "del ",
     "library": "var_list.py",
     "varRefreshCmd": "print(var_dic_list())"
    },
    "r": {
     "delete_cmd_postfix": ") ",
     "delete_cmd_prefix": "rm(",
     "library": "var_list.r",
     "varRefreshCmd": "cat(var_dic_list()) "
    }
   },
   "types_to_exclude": [
    "module",
    "function",
    "builtin_function_or_method",
    "instance",
    "_Feature"
   ],
   "window_display": false
  }
 },
 "nbformat": 4,
 "nbformat_minor": 2
}
