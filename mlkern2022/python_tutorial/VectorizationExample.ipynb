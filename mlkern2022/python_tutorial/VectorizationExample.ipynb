{
 "cells": [
  {
   "cell_type": "markdown",
   "metadata": {
    "deletable": false,
    "editable": false,
    "nbgrader": {
     "cell_type": "markdown",
     "checksum": "ee9670dbe454e8b0006f02dc5f11b77d",
     "grade": false,
     "grade_id": "cell-fcd94af9b15b21c6",
     "locked": true,
     "schema_version": 3,
     "solution": false,
     "task": false
    }
   },
   "source": [
    "## Vectorizing code ##\n",
    "\n",
    "It is important to make sure that the code is efficient. This means that operations should be vectorized where possible, instead of relying on `for` loops.\n",
    "\n",
    "This is particularly important when doing the exercises, as they are automatically graded. If the code is not efficient, some of the tests that are used to evaluate your solution might exceed time limits, such that you will not get full points.\n",
    "\n",
    "Here is an example: Given a matrix $K \\in \\mathbb R^{n \\times n}$ and a vector $\\mathbf a \\in \\mathbb R^n$ you should write code to calculate\n",
    "$$\n",
    "\\sum_{i=1}^n \\sum_{j=1}^n a_i a_j K_{ij}\n",
    "$$"
   ]
  },
  {
   "cell_type": "code",
   "execution_count": null,
   "metadata": {
    "deletable": false,
    "editable": false,
    "nbgrader": {
     "cell_type": "code",
     "checksum": "3b97c6062fd80a00f21f145d23e2be5b",
     "grade": false,
     "grade_id": "cell-1ced10755947f9fc",
     "locked": true,
     "schema_version": 3,
     "solution": false,
     "task": false
    }
   },
   "outputs": [],
   "source": [
    "def matrix_expectation_with_loops(a, K):\n",
    "    \"\"\"\n",
    "    Return the sum of a[i] * a[j] * K[i,j] for all i, j using two for loops.\n",
    "    \"\"\"\n",
    "    result = 0\n",
    "    for i in range(len(a)):\n",
    "        for j in range(len(a)):\n",
    "            result += a[i] * a[j] * K[i,j]\n",
    "    return result"
   ]
  },
  {
   "cell_type": "code",
   "execution_count": null,
   "metadata": {
    "deletable": false,
    "editable": false,
    "nbgrader": {
     "cell_type": "code",
     "checksum": "0540e61ff97b4dd6f72757c636eb5e88",
     "grade": false,
     "grade_id": "cell-c2146e1da37c47eb",
     "locked": true,
     "schema_version": 3,
     "solution": false,
     "task": false
    }
   },
   "outputs": [],
   "source": [
    "def matrix_expectation_vectorized(a, K):\n",
    "    \"\"\"\n",
    "    Return the sum of a[i] * a[j] * K[i,j] for all i, j using numpy's matrix multiplication.\n",
    "    \"\"\"\n",
    "    return a.T @ K @ a"
   ]
  },
  {
   "cell_type": "code",
   "execution_count": null,
   "metadata": {},
   "outputs": [],
   "source": [
    "import time\n",
    "import numpy as np\n",
    "np.random.seed(42)\n",
    "\n",
    "n = 2000\n",
    "a = np.random.randint(100, size=n)\n",
    "K = np.random.randint(100, size=(n,n))\n",
    "\n",
    "t0 = time.time()\n",
    "print(matrix_expectation_with_loops(a, K))\n",
    "t1 = time.time()\n",
    "print('Time for loops = {:.3f} seconds.'.format(t1-t0))  # This is too slow.\n",
    "\n",
    "t0 = time.time()\n",
    "print(matrix_expectation_vectorized(a, K))\n",
    "t1 = time.time()\n",
    "print('Time for vectorized = {:.3f} seconds.'.format(t1-t0))  # This is fast."
   ]
  },
  {
   "cell_type": "code",
   "execution_count": null,
   "metadata": {
    "deletable": false,
    "nbgrader": {
     "cell_type": "code",
     "checksum": "99dc9e717343b35681b23a62080a7038",
     "grade": false,
     "grade_id": "cell-9fcaf33641894961",
     "locked": false,
     "schema_version": 3,
     "solution": true,
     "task": false
    }
   },
   "outputs": [],
   "source": [
    "def my_solution(a, K):\n",
    "    \"\"\"Return the sum of a[i] * a[j] * K[i,j] for all i, j using vectorization.\n",
    "    \"\"\"\n",
    "    # YOUR CODE HERE\n",
    "    raise NotImplementedError()"
   ]
  },
  {
   "cell_type": "code",
   "execution_count": null,
   "metadata": {
    "deletable": false,
    "editable": false,
    "nbgrader": {
     "cell_type": "code",
     "checksum": "bf6bb39697ef6f2b01751141d56304f7",
     "grade": true,
     "grade_id": "tests_solution",
     "locked": true,
     "points": 1,
     "schema_version": 3,
     "solution": false,
     "task": false
    }
   },
   "outputs": [],
   "source": [
    "import time\n",
    "import numpy as np\n",
    "np.random.seed(42)\n",
    "\n",
    "n = 100\n",
    "a = np.random.randint(100, size=n)\n",
    "K = np.random.randint(100, size=(n,n))\n",
    "\n",
    "solution = 1261634040\n",
    "time_tolerance = 10  # in seconds\n",
    "\n",
    "t0 = time.time()\n",
    "np.testing.assert_equal(my_solution(a, K), solution)\n",
    "t1 = time.time()\n",
    "total = t1 - t0\n",
    "assert total < time_tolerance, 'Time limit exceeded: %f' % total\n",
    "\n",
    "n = 5000\n",
    "a = np.random.randint(100, size=n)\n",
    "K = np.random.randint(100, size=(n,n))\n",
    "\n",
    "solution = 3082209422285\n",
    "time_tolerance = 10  # in seconds\n",
    "\n",
    "t0 = time.time()\n",
    "np.testing.assert_equal(my_solution(a, K), solution)\n",
    "t1 = time.time()\n",
    "total = t1 - t0\n",
    "assert total < time_tolerance, 'Time limit exceeded: %f' % total"
   ]
  }
 ],
 "metadata": {
  "kernelspec": {
   "display_name": "Python 3",
   "language": "python",
   "name": "python3"
  },
  "language_info": {
   "codemirror_mode": {
    "name": "ipython",
    "version": 3
   },
   "file_extension": ".py",
   "mimetype": "text/x-python",
   "name": "python",
   "nbconvert_exporter": "python",
   "pygments_lexer": "ipython3",
   "version": "3.9.5"
  },
  "varInspector": {
   "cols": {
    "lenName": 16,
    "lenType": 16,
    "lenVar": 40
   },
   "kernels_config": {
    "python": {
     "delete_cmd_postfix": "",
     "delete_cmd_prefix": "del ",
     "library": "var_list.py",
     "varRefreshCmd": "print(var_dic_list())"
    },
    "r": {
     "delete_cmd_postfix": ") ",
     "delete_cmd_prefix": "rm(",
     "library": "var_list.r",
     "varRefreshCmd": "cat(var_dic_list()) "
    }
   },
   "types_to_exclude": [
    "module",
    "function",
    "builtin_function_or_method",
    "instance",
    "_Feature"
   ],
   "window_display": false
  }
 },
 "nbformat": 4,
 "nbformat_minor": 2
}
