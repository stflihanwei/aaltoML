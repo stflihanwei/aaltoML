{
 "cells": [
  {
   "cell_type": "code",
   "execution_count": null,
   "id": "87510961",
   "metadata": {
    "deletable": false,
    "editable": false,
    "nbgrader": {
     "cell_type": "code",
     "checksum": "882545516d12d8f51e234572dcb9dda8",
     "grade": false,
     "grade_id": "cell-cc0f9ba676d5dc5a",
     "locked": true,
     "schema_version": 3,
     "solution": false,
     "task": false
    }
   },
   "outputs": [],
   "source": [
    "from sklearn.preprocessing import PolynomialFeatures\n",
    "from sklearn.linear_model import LinearRegression\n",
    "from sklearn.pipeline import Pipeline\n",
    "from sklearn.model_selection import GridSearchCV\n",
    "from sklearn.datasets import make_regression\n",
    "import matplotlib.pyplot as plt\n",
    "import numpy as np"
   ]
  },
  {
   "cell_type": "markdown",
   "id": "626dbcb9",
   "metadata": {
    "deletable": false,
    "editable": false,
    "nbgrader": {
     "cell_type": "markdown",
     "checksum": "449b9e2ff0710955479f142f66a5148c",
     "grade": false,
     "grade_id": "cell-ff8695c89178e51e",
     "locked": true,
     "schema_version": 3,
     "solution": false,
     "task": false
    }
   },
   "source": [
    "<h1><center>Hypothesis space </center></h1>\n",
    "\n",
    "## $y = wx$\n",
    "\n",
    "##  $w$  - coefficient\n",
    "##  $x$  - feature\n",
    "##  $y$  - label"
   ]
  },
  {
   "cell_type": "code",
   "execution_count": null,
   "id": "28d9320e",
   "metadata": {
    "deletable": false,
    "editable": false,
    "nbgrader": {
     "cell_type": "code",
     "checksum": "9d73866a35adb7e858c8aaa2a1d1b7b7",
     "grade": false,
     "grade_id": "cell-b6af61229988e9e5",
     "locked": true,
     "schema_version": 3,
     "solution": false,
     "task": false
    }
   },
   "outputs": [],
   "source": [
    "x = np.linspace(-1, 10)\n",
    "n_lines = 7\n",
    "\n",
    "color_idx = np.linspace(0, 1, n_lines)\n",
    "for i, c in enumerate(color_idx):\n",
    "    w = np.random.normal(-0.6, 10, 1)\n",
    "    plt.plot(x, x*w, color=plt.cm.winter(c), lw=2)\n",
    "\n",
    "plt.axhline(y=0, color='k', linestyle=':')  \n",
    "plt.axvline(x=0, color='k', linestyle=':')  \n",
    "plt.show()"
   ]
  },
  {
   "cell_type": "markdown",
   "id": "1aea99bc",
   "metadata": {
    "deletable": false,
    "editable": false,
    "nbgrader": {
     "cell_type": "markdown",
     "checksum": "11bb53f711f78512c1aab6c7b8824292",
     "grade": false,
     "grade_id": "cell-d5a768a2716382e2",
     "locked": true,
     "schema_version": 3,
     "solution": false,
     "task": false
    }
   },
   "source": [
    "## $y = wx + b$"
   ]
  },
  {
   "cell_type": "code",
   "execution_count": null,
   "id": "38b71d4c",
   "metadata": {
    "deletable": false,
    "editable": false,
    "nbgrader": {
     "cell_type": "code",
     "checksum": "7611e5e6366ccfe283aed1cf0f66a925",
     "grade": false,
     "grade_id": "cell-37906e6890d3e8ea",
     "locked": true,
     "schema_version": 3,
     "solution": false,
     "task": false
    }
   },
   "outputs": [],
   "source": [
    "x = np.linspace(-1, 1)\n",
    "n_lines = 7\n",
    "\n",
    "color_idx = np.linspace(0, 1, n_lines)\n",
    "for i, c in enumerate(color_idx):\n",
    "    \n",
    "    w1 = np.random.normal(-0.6, 10, 1)\n",
    "    b = np.random.normal(5, 10, 1)\n",
    "    \n",
    "    y =  x*w1 + b\n",
    "    plt.plot(x,y, color=plt.cm.winter(c), lw=2)\n",
    "\n",
    "plt.axhline(y=0, color='k', linestyle=':')  \n",
    "plt.axvline(x=0, color='k', linestyle=':')  \n",
    "plt.show()"
   ]
  },
  {
   "cell_type": "markdown",
   "id": "a933801f",
   "metadata": {
    "deletable": false,
    "editable": false,
    "nbgrader": {
     "cell_type": "markdown",
     "checksum": "b52a4517f7a316f8cd9e6143e942e3bd",
     "grade": false,
     "grade_id": "cell-cc0c8f4129af135c",
     "locked": true,
     "schema_version": 3,
     "solution": false,
     "task": false
    }
   },
   "source": [
    "## $y = {w}_{1}x + {w}_{2}{x}^{2} + b$"
   ]
  },
  {
   "cell_type": "code",
   "execution_count": null,
   "id": "31b37706",
   "metadata": {
    "deletable": false,
    "editable": false,
    "nbgrader": {
     "cell_type": "code",
     "checksum": "d151ddf4514d83eb0a8300a781f1d0ae",
     "grade": false,
     "grade_id": "cell-9294c2ebf7426de0",
     "locked": true,
     "schema_version": 3,
     "solution": false,
     "task": false
    }
   },
   "outputs": [],
   "source": [
    "x = np.linspace(-1, 1)\n",
    "n_lines = 7\n",
    "\n",
    "color_idx = np.linspace(0, 1, n_lines)\n",
    "for i, c in enumerate(color_idx):\n",
    "    \n",
    "    w1 = np.random.normal(-0.6, 10, 1)\n",
    "    w2 = np.random.normal(20, 5, 1)\n",
    "    b = np.random.normal(0, 10, 1)\n",
    "    \n",
    "    y =  x*w1+ x**2*w2 + b\n",
    "    plt.plot(x,y, color=plt.cm.winter(c), lw=2)\n",
    "\n",
    "plt.axhline(y=0, color='k', linestyle=':')  \n",
    "plt.axvline(x=0, color='k', linestyle=':')  \n",
    "plt.show()"
   ]
  },
  {
   "cell_type": "markdown",
   "id": "e31b16e1",
   "metadata": {
    "deletable": false,
    "editable": false,
    "nbgrader": {
     "cell_type": "markdown",
     "checksum": "4b6c5d4d6b940e28a1b9a9cc397ea01d",
     "grade": false,
     "grade_id": "cell-81a00acbe8b92530",
     "locked": true,
     "schema_version": 3,
     "solution": false,
     "task": false
    }
   },
   "source": [
    "## $y = {w}_{1}x + {w}_{2}{x}^{2} + {w}_{3}{x}^{3} + b$"
   ]
  },
  {
   "cell_type": "code",
   "execution_count": null,
   "id": "044a914f",
   "metadata": {
    "deletable": false,
    "editable": false,
    "nbgrader": {
     "cell_type": "code",
     "checksum": "08fbde9a4d1a3994fac8b339c3a39e4b",
     "grade": false,
     "grade_id": "cell-d001a4d111caafd8",
     "locked": true,
     "schema_version": 3,
     "solution": false,
     "task": false
    }
   },
   "outputs": [],
   "source": [
    "x = np.linspace(-1, 1)\n",
    "n_lines = 7\n",
    "\n",
    "color_idx = np.linspace(0, 1, n_lines)\n",
    "for i, c in enumerate(color_idx):\n",
    "    \n",
    "    w1 = np.random.normal(-0.6, 10, 1)\n",
    "    w2 = np.random.normal(0, 5, 1)\n",
    "    w3 = np.random.normal(0.8, 5, 1)\n",
    "    b = np.random.normal(0, 10, 1)\n",
    "    \n",
    "    y =  x*w1+ x**2*w2 + x**3*w3 + b\n",
    "    plt.plot(x,y, color=plt.cm.winter(c), lw=2)\n",
    "\n",
    "plt.axhline(y=0, color='k', linestyle=':')  \n",
    "plt.axvline(x=0, color='k', linestyle=':')  \n",
    "plt.show()"
   ]
  },
  {
   "cell_type": "markdown",
   "id": "3ae5b45c",
   "metadata": {
    "deletable": false,
    "editable": false,
    "nbgrader": {
     "cell_type": "markdown",
     "checksum": "3a48e4c55fcf00892af88460bed32cc0",
     "grade": false,
     "grade_id": "cell-39f9e8a14676fb4c",
     "locked": true,
     "schema_version": 3,
     "solution": false,
     "task": false
    }
   },
   "source": [
    "## Decision Tree Regression\n",
    "\n",
    "https://scikit-learn.org/stable/auto_examples/tree/plot_tree_regression.html#sphx-glr-auto-examples-tree-plot-tree-regression-py"
   ]
  },
  {
   "cell_type": "code",
   "execution_count": null,
   "id": "fa0fdd78",
   "metadata": {
    "deletable": false,
    "editable": false,
    "nbgrader": {
     "cell_type": "code",
     "checksum": "7d10dbaefe8d250cbc73499fd9d01b18",
     "grade": false,
     "grade_id": "cell-8e8c9e2b6bf76ce4",
     "locked": true,
     "schema_version": 3,
     "solution": false,
     "task": false
    }
   },
   "outputs": [],
   "source": [
    "# Import the necessary modules and libraries\n",
    "import numpy as np\n",
    "from sklearn.tree import DecisionTreeRegressor\n",
    "import matplotlib.pyplot as plt\n",
    "\n",
    "# Create a random dataset\n",
    "rng = np.random.RandomState(1)\n",
    "X = np.sort(5 * rng.rand(80, 1), axis=0)\n",
    "y = np.sin(X).ravel()\n",
    "y[::5] += 3 * (0.5 - rng.rand(16))\n",
    "\n",
    "# Fit regression model\n",
    "regr_1 = DecisionTreeRegressor(max_depth=1).fit(X, y)\n",
    "regr_2 = DecisionTreeRegressor(max_depth=5).fit(X, y)\n",
    "regr_3 = DecisionTreeRegressor(max_depth=50).fit(X, y)\n",
    "\n",
    "# Predict\n",
    "X_test = np.arange(0.0, 5.0, 0.01)[:, np.newaxis]\n",
    "y_1 = regr_1.predict(X_test)\n",
    "y_2 = regr_2.predict(X_test)\n",
    "y_3 = regr_3.predict(X_test)\n",
    "\n",
    "ys = [y_1,y_2,y_3]\n",
    "\n",
    "# Plot the results\n",
    "plt.figure()\n",
    "color_idx = np.linspace(0, 1, len(ys))\n",
    "for i, c in enumerate(color_idx):\n",
    "    plt.plot(X_test, ys[i], lw=2)\n",
    "\n",
    "plt.show()"
   ]
  },
  {
   "cell_type": "markdown",
   "id": "9a60fcac",
   "metadata": {
    "deletable": false,
    "editable": false,
    "nbgrader": {
     "cell_type": "markdown",
     "checksum": "00b9fa868390d495405e78b23f5271f2",
     "grade": false,
     "grade_id": "cell-55fbbe199c9dc534",
     "locked": true,
     "schema_version": 3,
     "solution": false,
     "task": false
    }
   },
   "source": [
    "## Multi-layer Perceptron regressor.\n",
    "\n",
    "https://scikit-learn.org/stable/modules/generated/sklearn.neural_network.MLPRegressor.html"
   ]
  },
  {
   "cell_type": "code",
   "execution_count": null,
   "id": "e6a31d24",
   "metadata": {
    "deletable": false,
    "editable": false,
    "nbgrader": {
     "cell_type": "code",
     "checksum": "240231556a1d7cafb0e75b4b90198a44",
     "grade": false,
     "grade_id": "cell-e95e8b3bda1ca9bd",
     "locked": true,
     "schema_version": 3,
     "solution": false,
     "task": false
    }
   },
   "outputs": [],
   "source": [
    "from sklearn.neural_network import MLPRegressor\n",
    "                                                   \n",
    "# Fit regression model\n",
    "regr_1 = MLPRegressor(hidden_layer_sizes=1, max_iter=2000).fit(X, y)\n",
    "regr_2 = MLPRegressor(hidden_layer_sizes=100, max_iter=2000).fit(X, y)\n",
    "regr_3 = MLPRegressor(hidden_layer_sizes=1000, max_iter=2000).fit(X, y)\n",
    "\n",
    "# Predict\n",
    "X_test = np.arange(0.0, 5.0, 0.01)[:, np.newaxis]\n",
    "y_1 = regr_1.predict(X_test)\n",
    "y_2 = regr_2.predict(X_test)\n",
    "y_3 = regr_3.predict(X_test)\n",
    "\n",
    "ys = [y_1,y_2,y_3]\n",
    "\n",
    "# Plot the results\n",
    "plt.figure()\n",
    "color_idx = np.linspace(0, 1, len(ys))\n",
    "for i, c in enumerate(color_idx):\n",
    "    plt.plot(X_test, ys[i], lw=2)\n",
    "\n",
    "plt.show()"
   ]
  }
 ],
 "metadata": {
  "kernelspec": {
   "display_name": "Python 3",
   "language": "python",
   "name": "python3"
  },
  "language_info": {
   "codemirror_mode": {
    "name": "ipython",
    "version": 3
   },
   "file_extension": ".py",
   "mimetype": "text/x-python",
   "name": "python",
   "nbconvert_exporter": "python",
   "pygments_lexer": "ipython3",
   "version": "3.9.5"
  },
  "toc": {
   "base_numbering": 1,
   "nav_menu": {},
   "number_sections": false,
   "sideBar": true,
   "skip_h1_title": false,
   "title_cell": "Table of Contents",
   "title_sidebar": "Contents",
   "toc_cell": false,
   "toc_position": {},
   "toc_section_display": true,
   "toc_window_display": false
  },
  "varInspector": {
   "cols": {
    "lenName": 16,
    "lenType": 16,
    "lenVar": 40
   },
   "kernels_config": {
    "python": {
     "delete_cmd_postfix": "",
     "delete_cmd_prefix": "del ",
     "library": "var_list.py",
     "varRefreshCmd": "print(var_dic_list())"
    },
    "r": {
     "delete_cmd_postfix": ") ",
     "delete_cmd_prefix": "rm(",
     "library": "var_list.r",
     "varRefreshCmd": "cat(var_dic_list()) "
    }
   },
   "types_to_exclude": [
    "module",
    "function",
    "builtin_function_or_method",
    "instance",
    "_Feature"
   ],
   "window_display": false
  }
 },
 "nbformat": 4,
 "nbformat_minor": 5
}
