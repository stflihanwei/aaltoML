{
 "cells": [
  {
   "cell_type": "markdown",
   "metadata": {
    "deletable": false,
    "editable": false,
    "nbgrader": {
     "cell_type": "markdown",
     "checksum": "0f3b068845b60f6340a674f934a47371",
     "grade": false,
     "grade_id": "cell-058b7ccb6bc3c1df",
     "locked": true,
     "schema_version": 3,
     "solution": false,
     "task": false
    }
   },
   "source": [
    "<h2 align=\"center\">Round 4 - Classification.</h2>\n",
    "\n",
    "<br>\n",
    "<br>\n",
    "<center>CS-EJ3211 Machine Learning with Python 04.04.-04.07.2022</center>\n",
    "<center>Aalto University (Espoo, Finland)</center>\n",
    "<center>fitech.io (Finland)</center>"
   ]
  },
  {
   "cell_type": "markdown",
   "metadata": {
    "deletable": false,
    "editable": false,
    "nbgrader": {
     "cell_type": "markdown",
     "checksum": "4308a80783e117866b93aa5dd9126066",
     "grade": false,
     "grade_id": "cell-9d7b14515f624f0c",
     "locked": true,
     "schema_version": 3,
     "solution": false,
     "task": false
    }
   },
   "source": [
    "In this round, you will learn how to formulate and solve a **classification problem**. Recall that **regression problems** are machine learning problems that involve data points with a numeric label such as the grayscale level of a pixel. In contrast, **classification problems** arise from data points whose labels have only a finite number of different values. The most simple classification problem is a **binary classification problem** where the label can take on only two distinct values such as $y=0$ vs. $y=1$. For example, $y$=\"picture includes a pedestrian crossing\" vs. $y$=\"picture does not include pedestrian crossing\". The label $y$ of a data point indicates to which class (or category) the data point belongs. \n",
    "\n",
    "We consider two widely used methods for solving classification problems: **logistic regression** and **decision trees**. These two methods differ in the choice of hypothesis space, i.e., the set of predictor functions $h(\\mathbf{x})$ that map the features $\\mathbf{x}$ of a data point to a predicted label $\\hat{y}=h(\\mathbf{x})$, which is hopefully a good approximation of the true label $y$. \n",
    "\n",
    "We mainly consider binary classification problems with data points having labels from a set of size two such as $\\{0,1\\}$ or {\"image shows a crossing\", \"image shows no crossing\"}. However, we will also discuss a simple approach to upgrade any binary classification method to solve classification problems with more than two label values such as {\"image shows one crossing\", \"image shows more than one crossing\", \"image shows no crossing\"}. We refer to classification problems with more than two label values (or categories) as **multi-class classification problems**. "
   ]
  },
  {
   "cell_type": "markdown",
   "metadata": {
    "deletable": false,
    "editable": false,
    "nbgrader": {
     "cell_type": "markdown",
     "checksum": "ce6af4b794e227f7489f22bc6e1d5b2a",
     "grade": false,
     "grade_id": "cell-02d2af48a0fcd974",
     "locked": true,
     "schema_version": 3,
     "solution": false,
     "task": false
    }
   },
   "source": [
    "## Learning goals\n",
    "\n",
    "After this round, you should  \n",
    "\n",
    "- be able to model \"real-world\" applications as classification problems by identifying features and labels. \n",
    "- be able to solve classification problems using logistic regression or decision trees. \n",
    "- be able to assess the reliability of classifications provided by logistic regression. \n",
    "- know about the differences between decision trees and logistic regression. \n",
    "- know how to extend binary classification methods to multi-class problems where labels can take on more than two different values. \n",
    "\n",
    "\n",
    "## Reading Material \n",
    "\n",
    "* Chapter Chapter 3.6 & 3.10 of course book [Machine Learning: The basics.](https://github.com/alexjungaalto/MachineLearningTheBasics/blob/master/MLBasicsBook.pdf)  \n",
    "\n",
    "\n",
    "\n",
    "## Additional Material \n",
    "* [video-lecture](https://www.youtube.com/watch?v=-la3q9d7AKQ) of Prof. Andrew Ng on classification problems and logistic regression \n",
    "* [video-lecture](https://www.youtube.com/watch?v=ZvaELFv5IpM) of Prof. Andrew Ng on extending binary classification methods to multi-class problems "
   ]
  },
  {
   "cell_type": "markdown",
   "metadata": {
    "deletable": false,
    "editable": false,
    "nbgrader": {
     "cell_type": "markdown",
     "checksum": "405caedc3f2665e37cabf5fdc5b3b259",
     "grade": false,
     "grade_id": "cell-a5592b3f1c6bf91d",
     "locked": true,
     "schema_version": 3,
     "solution": false
    }
   },
   "source": [
    "## The Problem\n",
    "\n",
    "<img src=\"../../../coursedata/R4_Classification/CrossingDetection.png\" alt=\"Drawing\" style=\"width: 600px;\"/>\n",
    "\n",
    "The city planners of Helsinki are regularly sending small airplanes over Helsinki to take high-resolution aerial photographs of different city areas. These aerial photographs are available via the open data service at https://kartta.hel.fi. It is important to monitor the condition of pedestrian crossings to determine if a renewal is necessary. To this end, we want to find those areas which contain a pedestrian crossing. \n",
    "\n",
    "In this exercise, you will learn how to use classification methods to determine if a particular area contains a pedestrian (zebra) crossing or not. We model this pedestrian crossing detection as a machine learning problem. The problem amounts to learn a predictor (or classifier) map $h(\\mathbf{x})$ which delivers a predicted label $\\hat{y} = h(\\mathbf{x})$ which indicates if a certain area contains a pedestrian crossing or not. The classification is based on numeric features $\\mathbf{x}=\\big(x_{1},\\ldots,x_{n}\\big)^{T}$ that are computed from an aerial photograph of the area in question.  \n",
    "\n",
    "We will solve this binary classification problem using two different classification methods: logistic regression and decision trees. These two methods differ in the choice of hypothesis space. Decision tree classifiers use a flow-chart representation of the predictor function. In contrast, logistic regression uses the hypothesis space of linear predictor functions, which is also used in linear regression (see Round 2 - Regression). \n",
    "\n",
    "The difference between logistic and linear regression is the set of label values: the real numbers for linear regression and a set of size two {0,1} for logistic regression. Another difference between linear and logistic regression is the loss function. While linear regression is based on minimizing the squared error loss, logistic regression minimizes the logistic loss function, which is presented later. \n",
    "\n",
    "As you might already know, most machine learning problems (and methods) consist of three components: \n",
    "\n",
    "* some **data** (a bunch of data points, each of which is characterized by features and labels) \n",
    "* a **hypothesis space** (consisting of a set of predictor functions from features to labels)\n",
    "* a **loss function** which is used to assess the quality of a particular predictor function \n",
    "\n",
    "In what follows, we will discuss particular choices for these three components to solve the pedestrian crossing detection problem.  \n",
    "\n",
    "## The Data\n",
    "\n",
    "ML methods aim at finding a good predictor map (or classifier) $h(\\mathbf{x})$, which takes some features $\\mathbf{x}$ as input and outputs an estimate for the label $y$ of the data point (which represents an area of Helsinki in our application). To measure the quality of a particular predictor $h(\\mathbf{x})$, we apply it on data points for which we know the true label values $y$. The basic principle of classification methods is to find (or learn) the best predictor function out of a set of computationally feasible functions (the hypothesis space). \n",
    "\n",
    "We have access to a data set consisting of $m=178$ data points $\\big(\\mathbf{x}^{(i)},y^{(i)}\\big)$ for $i=1,\\ldots,m$. Each data point represents a particular city area, and is characterized by several features $\\mathbf{x}^{(i)}=\\big(x^{(i)}_{1},\\ldots,x^{(i)}_{n}\\big)^{T}$ that are computed from an aerial photograph of that area. Each data point is also characterized by a label $y^{(i)}$ which has been found out by a city planner who manually inspected the areal photograph. \n",
    "\n",
    "We can use the labeled data to find a good predictor $h(\\mathbf{x})$. In contrast to regression problems, where the ouput $h(\\mathbf{x})$ of a predictor map is a (real) number, the predicted label $h(\\mathbf{x})$ in a classification problem is a discrete value representing a particular class of data points. In this case it is customary to use the term **classifier** for the predictor $h(\\mathbf{x})$.\n",
    "\n",
    "A good classifier $h(\\mathbf{x})$ should at least agree well with similar human judgment,\n",
    "\n",
    "\\begin{equation} \n",
    "\\underbrace{y^{(i)}}_{\\mbox{label by human}} \\approx \\underbrace{h(\\mathbf{x}^{(i)})}_{\\mbox{predicted label } \\hat{y}^{(i)}}  \\mbox{ for all } i =1,\\ldots,m. \n",
    "\\end{equation}\n",
    "\n",
    "To sum up, \n",
    "* The dataset contains information about $m=178$ areas in the city of Helsinki.  \n",
    "* For each area, a feature vector $\\mathbf{x}^{(i)}$ containing $n=5$ features has been determined. \n",
    "* For each area, a city planner determined the class $y^{(i)}$ which is either \n",
    "     * $y^{(i)} = 0$ (area has no pedestrian crossing)\n",
    "     * $y^{(i)}=1$ (area has one pedestrian crossing) \n",
    "     * $y^{(i)}=2$ (area has more than one pedestrian crossing)"
   ]
  },
  {
   "cell_type": "markdown",
   "metadata": {
    "deletable": false,
    "editable": false,
    "nbgrader": {
     "cell_type": "markdown",
     "checksum": "081489a9d4850aae41147afeb4151c21",
     "grade": false,
     "grade_id": "cell-412f596e08777d50",
     "locked": true,
     "schema_version": 3,
     "solution": false
    }
   },
   "source": [
    "<a id='demoboundary'></a>\n",
    "<div class=\"alert alert-info\">\n",
    "    \n",
    "### Demo. Load Data.\n",
    "\n",
    "In the code below, we define a function `load_data` that loads the feature matrix $\\mathbf{X}$ and label vector $\\mathbf{y}$ of the zebra crossing dataset. The dataset has $m=178$ data points, and we load the five first features.\n",
    "    \n",
    "The parameter `binary_labels` defines whether we load three labels $\\mathbf{y}$ as defined above, or convert the problem into a binary classification task by defining new labels with $y^{(i)}=1$ for areas with no pedestrian crossings and $y^{(i)}=0$ for areas with one or more crossings. The default value is `binary_labels=False`, i.e, the function returns the original multiclass labels.\n",
    "</div>"
   ]
  },
  {
   "cell_type": "code",
   "execution_count": null,
   "metadata": {
    "deletable": false,
    "editable": false,
    "nbgrader": {
     "cell_type": "code",
     "checksum": "450fdb0e3c274a0c66320ffa80ce223c",
     "grade": false,
     "grade_id": "cell-76512dcd520fdc10",
     "locked": true,
     "schema_version": 3,
     "solution": false,
     "task": false
    }
   },
   "outputs": [],
   "source": [
    "%matplotlib inline\n",
    "import numpy as np\n",
    "import pandas as pd\n",
    "import matplotlib.pyplot as plt\n",
    "\n",
    "from sklearn import metrics\n",
    "from sklearn import datasets\n",
    "from sklearn import preprocessing\n",
    "from sklearn.tree import DecisionTreeClassifier\n",
    "from sklearn.linear_model import LogisticRegression"
   ]
  },
  {
   "cell_type": "code",
   "execution_count": null,
   "metadata": {
    "deletable": false,
    "editable": false,
    "nbgrader": {
     "cell_type": "code",
     "checksum": "1a02af47a3614e017caadc056a226f4d",
     "grade": false,
     "grade_id": "cell-771e4c105c4b50bb",
     "locked": true,
     "schema_version": 3,
     "solution": false,
     "task": false
    }
   },
   "outputs": [],
   "source": [
    "features_path = \"../../../coursedata/R4_Classification/image_data.csv\"\n",
    "labels_path = \"../../../coursedata/R4_Classification/image_labels.csv\"\n",
    "\n",
    "def load_data(binary_labels=False):\n",
    "    X = pd.read_csv(features_path, header=None).to_numpy()\n",
    "    y = pd.read_csv(labels_path, header=None).to_numpy().reshape(-1,)\n",
    "    \n",
    "    # select first 5 features\n",
    "    X = X[:,:5]\n",
    "    \n",
    "    # convert labels to (new) binary labels\n",
    "    # label for class 0 is y=1 and label for class 1 and class 2 is y=0.\n",
    "    if binary_labels:\n",
    "        y = (y == 0).astype(int)\n",
    "        \n",
    "    return X, y"
   ]
  },
  {
   "cell_type": "markdown",
   "metadata": {
    "deletable": false,
    "editable": false,
    "nbgrader": {
     "cell_type": "markdown",
     "checksum": "a67564de7299d660467e3746bd873f81",
     "grade": false,
     "grade_id": "cell-ed6446d17eb3dc58",
     "locked": true,
     "schema_version": 3,
     "solution": false,
     "task": false
    }
   },
   "source": [
    "After defining the function, we load the data and calculate the number of data points per class."
   ]
  },
  {
   "cell_type": "code",
   "execution_count": null,
   "metadata": {
    "deletable": false,
    "editable": false,
    "nbgrader": {
     "cell_type": "code",
     "checksum": "9011f100578b226e4871b6939634c46a",
     "grade": false,
     "grade_id": "cell-f5276acd5385a727",
     "locked": true,
     "schema_version": 3,
     "solution": false,
     "task": false
    }
   },
   "outputs": [],
   "source": [
    "# Load the data\n",
    "X, y = load_data()\n",
    "\n",
    "# Print information of dataset\n",
    "print(f\"Shape of feature matrix: {X.shape} \\nShape of label vector: {y.shape}\")\n",
    "print(f\"Number of samples from Class 0: {sum(y == 0)}\")\n",
    "print(f\"Number of samples from Class 1: {sum(y == 1)}\")\n",
    "print(f\"Number of samples from Class 2: {sum(y == 2)}\")"
   ]
  },
  {
   "cell_type": "markdown",
   "metadata": {
    "deletable": false,
    "editable": false,
    "nbgrader": {
     "cell_type": "markdown",
     "checksum": "bbc23eaf032986a186ab2b8eb108bb68",
     "grade": false,
     "grade_id": "cell-4a084869afc0c5ec",
     "locked": true,
     "schema_version": 3,
     "solution": false
    }
   },
   "source": [
    "### Features and Labels \n",
    "\n",
    "Our goal is to classify an area based on features of an aerial photograph of that area. The $i$-th area is characterized by the features $x^{(i)}_{1},\\ldots,x^{(i)}_{5}$ which we collect into the **feature vector** $\\mathbf{x}^{(i)} = \\big(x_{1}^{(i)},x_{2}^{(i)}, ... x_{5}^{(i)} \\big)^{T} \\in \\mathbb{R}^{5}$. It will be convenient to stack the feature vectors $\\mathbf{x}^{(i)} \\in \\mathbb{R}^{5}$, obtained for all data points $i=1,\\dots,m$, into the feature matrix \n",
    "\n",
    "<a id='xm'></a>\n",
    "\\begin{equation*}\n",
    "    \\mathbf{X} = \\big(\\mathbf{x}^{(1)},\\dots,\\mathbf{x}^{(178)}\\big)^T=\\begin{bmatrix}\n",
    "    x^{(1)}_{1}  & \\dots & x^{(1)}_{5} \\\\\n",
    "    \\vdots & \\ddots & \\vdots\\\\\n",
    "    x^{(178)}_{1} & \\dots & x^{(178)}_{5}\n",
    "    \\end{bmatrix},\\ \\mathbf{X} \\in \\mathbb{R}^{m \\times n},\\ \\text{where } m=178, n=5.\n",
    "    \\tag{1}\n",
    "\\end{equation*}\n",
    "\n",
    "Besides its features $\\mathbf{x}^{(i)}$, the $i$-th area is characterized by the category $y^{(i)} \\in \\{0,1,2\\}$ which has been determined by a human expert. In principle, we could directly use the category $y^{(i)}$ as the label or quantity of interest. However, we will first consider the simpler binary classification problem, in which we attempt to predict whether a certain area has no pedestrian crossings or one or more pedestrian crossings. To this end, we define new labels with $y^{(i)}=1$ for areas with **no pedestrian crossings** and $y^{(i)}=0$ for areas with **one or more crossings**.\n",
    "\n",
    "It will be convenient to collect the labels of all images into the label vector \n",
    "\n",
    "<a id='vy'></a>\n",
    "\\begin{equation*}\n",
    "    \\mathbf{y}=\\big(y^{(1)},y^{(2)},\\ldots,y^{(m)} \\big)^{T} = \\begin{bmatrix}\n",
    "    y^{(1)}\\\\\n",
    "    y^{(2)}\\\\\n",
    "    \\vdots\\\\\n",
    "    y^{(m)}\n",
    "    \\end{bmatrix} \\in \\mathbb{R}^{m}.\n",
    "    \\tag{2}\n",
    "\\end{equation*}\n"
   ]
  },
  {
   "cell_type": "markdown",
   "metadata": {
    "deletable": false,
    "editable": false,
    "nbgrader": {
     "cell_type": "markdown",
     "checksum": "f49f80dbb1da14e5188fc5cea2b28140",
     "grade": false,
     "grade_id": "cell-e6a842c140cb4d36",
     "locked": true,
     "schema_version": 3,
     "solution": false
    }
   },
   "source": [
    "<a id='demoboundary'></a>\n",
    "<div class=\"alert alert-info\">\n",
    "    \n",
    "### Demo. Visualize Data Points.\n",
    "\n",
    "The code snippet below loads the features $\\mathbf{X}$ and labels $\\mathbf{y}$ of the images and visualizes the data points on a scatter plot with respect to the first two features. The data points with no pedestrian crossings (new binary label is $y^{(i)} = 1$) are represented by circles and the data points with one or more crossings ($y^{(i)} = 0$) are represented by crosses.  \n",
    "</div>"
   ]
  },
  {
   "cell_type": "code",
   "execution_count": null,
   "metadata": {
    "deletable": false,
    "editable": false,
    "nbgrader": {
     "cell_type": "code",
     "checksum": "2db17f8b4ee37100e02df89bfc10c780",
     "grade": false,
     "grade_id": "cell-062120c0d0af4eb0",
     "locked": true,
     "schema_version": 3,
     "solution": false
    }
   },
   "outputs": [],
   "source": [
    "# Load data\n",
    "X, y = load_data(binary_labels=True)\n",
    "\n",
    "idx_1 = np.where(y == 1) # Indices of no pedestrian crossings images\n",
    "idx_2 = np.where(y == 0) # Indices of one or more crossings images\n",
    "\n",
    "# Plot scatterplot of dataset with different markings for classes\n",
    "fig, axes = plt.subplots(figsize=(10, 6))\n",
    "axes.scatter(X[idx_1, 0], X[idx_1, 1], c='green', marker ='o', label='y =1; No crossings')\n",
    "axes.scatter(X[idx_2, 0], X[idx_2, 1], c='brown', marker ='x', label='y =0; One or more crossings ')\n",
    "\n",
    "# Set axis labels and legend\n",
    "axes.legend(loc='upper left', fontsize=12)\n",
    "axes.set_xlabel('feature $x_1$', fontsize=16)\n",
    "axes.set_ylabel('feature $x_2$', fontsize=16)\n",
    "plt.show()"
   ]
  },
  {
   "cell_type": "markdown",
   "metadata": {
    "deletable": false,
    "editable": false,
    "nbgrader": {
     "cell_type": "markdown",
     "checksum": "50fa39a7f354c097b9ed33e569b62fbc",
     "grade": false,
     "grade_id": "cell-8501ddb2566fedac",
     "locked": true,
     "schema_version": 3,
     "solution": false,
     "task": false
    }
   },
   "source": [
    "## Logistic Regression\n",
    "\n",
    "<img src=\"../../../coursedata/R4_Classification/Log_Reg.png\" alt=\"Drawing\" style=\"width: 600px;\"/>\n",
    "\n",
    "\n",
    "Logistic regression is a classification algorithm that uses a linear function to classify data points into distinct categories. With simplicity in mind, we present the theory of  logistic regression in the case of a **binary** classification problem, in which the label only takes on values 0 or 1. Later in the notebook, we will consider extending the binary model to multiclass classification via a **one-versus-rest** scheme.\n",
    "\n",
    "Logistic regression is a **probabilistic model** in the sense that we do not assume that the label $y$ of a data point is deterministically defined by the features $\\mathbf{x}$. Instead, we assume that the features $\\mathbf{x}$ are related to the probabilities of the data point having the different labels. The fundamental assumption of (binary) logistic regression is that the log-odds of a data point $\\mathbf{x}$ having label $y=1$ are linearly related to the features of the data point:\n",
    "\n",
    "\n",
    "\\begin{equation}\n",
    "\\ln \\frac{P(y=1)}{P(y=0)} = \\ln \\frac{P(y=1)}{1-P(y=1)} = w_0 + \\mathbf{w}^T \\mathbf{x} = w_0 + \\sum_{i=1}^n w_i x_i\n",
    "\\tag{3}\n",
    "\\end{equation}\n",
    "\n",
    "Here, the coefficient vector $\\mathbf{w} = \\big(w_1, w_2, \\ldots, w_n \\big)^T$ and intercept $w_0$ fully define the linear relationship between the features and the log-odds.\n",
    "\n",
    "Observe that $w_0 + \\mathbf{w}^T\\mathbf{x} > 0$ when the data point is more likely to have the label $y=1$, and $w_0 + \\mathbf{w}^T\\mathbf{x} < 0$ when it is more likely that the label $y=0$. Consequently, the sign of the function $h(\\mathbf{x}) = w_0 + \\mathbf{w}^T \\mathbf{x}$ can be used to predict the label $y$ of data points. The predicted labels outputted by the logistic regression model are\n",
    "\n",
    "\\begin{equation}\n",
    " \\hat{y} = \\begin{cases} 1 & \\mbox{ for } w_0 + \\mathbf{w}^T\\mathbf{x} \\geq 0 \\\\ 0 & \\mbox{ for } w_0 + \\mathbf{w}^T\\mathbf{x} < 0 \\end{cases}\n",
    " \\tag{4}\n",
    "\\end{equation}\n",
    "\n",
    "Given the model parameters, it is also relatively straightforward to calculate the estimated probabilities of the data point $\\mathbf{x}$ belonging to each class. To calculate the probability of the data point having the label $y=1$ we solve for $P(y=1)$ in equation (3) to obtain\n",
    "\n",
    "\\begin{equation}\n",
    "P(y=1) = \\frac{1}{1 + \\exp(-w_0 -\\mathbf{w}^T \\mathbf{x})}\n",
    "\\tag{5}\n",
    "\\end{equation}\n",
    "\n",
    "Since the label can only take the values 0 and 1, we obtain $P(y=0)$ as the probability of the complement of $P(y=1)$:\n",
    "\n",
    "\\begin{equation}\n",
    "P(y=0) = 1 - P(y=1) = 1 - \\frac{1}{1 + \\exp(-w_0 -\\mathbf{w}^T \\mathbf{x})} = \\frac{1}{1 + \\exp(w_0 + \\mathbf{w}^T \\mathbf{x})}\n",
    "\\tag{6}\n",
    "\\end{equation}\n",
    "\n",
    "\n",
    "### Fitting a logistic regression model\n",
    "\n",
    "When fitting a classification model, the goal is to find the parametrization of the model that results in the best predictions on the training set on average, as measured by some **loss function**. In classification problems we wish to maximize the **accuracy** of the classifier - the fraction of correctly predicted labels out of all data points. A seemingly natural choice of loss function in this case is the 0-1 loss, which incurs a loss of 1 if the prediction does not match the true label of a data point and 0 otherwise. This is due to the fact that minimizing the average 0-1 loss on the training set is equivalent to maximizing the accuracy. However, the average 0-1 loss cannot be minimized efficiently and is thus unusable in many applications. Most classification models consequently use some alternative loss function to optimize the classifier with respect to the model parameters.\n",
    "\n",
    "A logistic regression model is fitted by minimizing the average **logistic loss**\n",
    "\n",
    "\\begin{equation}\n",
    "\\begin{aligned}\n",
    "\\mathcal{E}(\\mathbf{w}) &=(1/m) \\sum_{i=1}^{m}\\big[ -y^{(i)}\\ln\\big(P(y=1)\\big)-(1-y^{(i)})\\ln\\big(P(y=0)\\big) \\big] \\\\ &= (1/m) \\sum_{i=1}^{m}\\big[ -y^{(i)}\\ln\\big(\\sigma(w_0 + \\mathbf{w}^{T}\\mathbf{x}^{(i)})\\big)-(1-y^{(i)})\\ln\\big(1-\\sigma(w_0 + \\mathbf{w}^{T}\\mathbf{x}^{(i)})\\big) \\big]\n",
    "\\end{aligned}\n",
    "\\end{equation}\n",
    "\n",
    "with respect to $\\mathbf{w}$ and $w_0$. Here, the **logistic loss** of a single data point $\\mathbf{x}^{(i)}$ with label $y^{(i)}$ is \n",
    "\n",
    "\\begin{equation}\n",
    "    \\mathcal{L}(\\mathbf{x}^{(i)},y^{(i)}) = -y^{(i)} \\ln \\big(\\sigma(w_0 + \\mathbf{w}^{T}\\mathbf{x}^{(i)})\\big)-(1-y^{(i)})\\ln\\big(1-\\sigma(w_0 + \\mathbf{w}^{T}\\mathbf{x}^{(i)})\\big),\n",
    "\\end{equation}\n",
    "\n",
    "where $\\sigma(\\mathbf{z})$ is the **sigmoid function**\n",
    "\n",
    "\\begin{equation}\n",
    "\\sigma(\\mathbf{z}) = \\frac{1}{1 + \\exp{(\\mathbf{-z})}}.\n",
    "\\end{equation}\n",
    "\n",
    "A central feature of the binary logistic loss is that only one of the terms in the loss is non-zero for any data point. If $y=1$ the second term is multiplied by 0, and similarly, the first term is multiplied by zero if $y=0$. Hence, the shape of the loss function for a given data point is determined by its label.\n",
    "\n",
    "It turns out that the average logistic loss is differentiable and convex and can thus be efficiently minimized using gradient based optimization algorithms, the principles of which are outside the scope of this course."
   ]
  },
  {
   "cell_type": "markdown",
   "metadata": {
    "deletable": false,
    "editable": false,
    "nbgrader": {
     "cell_type": "markdown",
     "checksum": "b82e16372b84cb5185c710dfe091b553",
     "grade": false,
     "grade_id": "cell-3f26e27d536e5c4f",
     "locked": true,
     "schema_version": 3,
     "solution": false,
     "task": false
    }
   },
   "source": [
    "<b><font size=4>Summary. Logistic Regression</font></b>\n",
    "\n",
    "* Linear functions can be used in classification task\n",
    "* One of the popular linear classifier is logistic regression\n",
    "* For linear predictor $h(\\mathbf{x})= w_0 + \\mathbf{w}^{T} \\mathbf{x}$, we can assign a class label based on the sign of  $h(\\mathbf{x})$: if $h(\\mathbf{x})$ > 0 the assigned class is 1 and if $h(\\mathbf{x})$ < 0 the assigned class is 0.\n",
    "* We want to choose such a weight vector $\\mathbf{w}$ that maximizes the probability (or likelihood) of the labels belonging to a specific class\n",
    "* Maximizing this probability is similar to minimizing the logistic loss\n"
   ]
  },
  {
   "cell_type": "markdown",
   "metadata": {
    "deletable": false,
    "editable": false,
    "nbgrader": {
     "cell_type": "markdown",
     "checksum": "7921c14b739a89da75e03b18b493b98c",
     "grade": false,
     "grade_id": "cell-c7cdbcf0e4bd37f8",
     "locked": true,
     "schema_version": 3,
     "solution": false,
     "task": false
    }
   },
   "source": [
    "<img src=\"../../../coursedata/R4_Classification/logreg1.jpg\" alt=\"Drawing\" style=\"width: 500px;\"/>"
   ]
  },
  {
   "cell_type": "markdown",
   "metadata": {
    "deletable": false,
    "editable": false,
    "nbgrader": {
     "cell_type": "markdown",
     "checksum": "10a1da3b613af76888d350cdfd403524",
     "grade": false,
     "grade_id": "cell-9ae08df3ffd3299d",
     "locked": true,
     "schema_version": 3,
     "solution": false
    }
   },
   "source": [
    "<a id='demoboundary'></a>\n",
    "<div class=\" alert alert-info\">\n",
    "    \n",
    "### Demo. Logistic Loss.\n",
    "\n",
    "In this demo, we take a closer look at the logistic loss function and explore how its shape is affected by the label $y$ of a datapoint. To this end, we plot the logistic loss \n",
    "\n",
    "\\begin{equation}\n",
    "\\mathcal{L}\\big((\\mathbf{x},y);\\mathbf{w}\\big) = -y\\ln\\big(\\sigma\\big( \\mathbf{w}^{T} \\mathbf{x} \\big)\\big)-(1-y)\\ln\\big(1-\\sigma\\big(\\mathbf{w}^{T}\\mathbf{x}\\big) \\big)\n",
    "\\end{equation}\n",
    "      \n",
    "for both $y=1$ and $y=0$ as a function of the predictor value $h(\\mathbf{x}) = \\mathbf{w}^{T} \\mathbf{x}$. Recall that the value $\\mathbf{w}^{T} \\mathbf{x}$ gives the estimated log-odds of the true label $y$ being equal to $1$. Thus, large positive values of $\\mathbf{w}^T \\mathbf{x}$ represent a high degree of confidence in that $y=1$ and large negative values a high degree of confidence in that $y=0$.\n",
    "</div>"
   ]
  },
  {
   "cell_type": "code",
   "execution_count": null,
   "metadata": {
    "deletable": false,
    "editable": false,
    "nbgrader": {
     "cell_type": "code",
     "checksum": "a078c98ab28df33f7297296b5b23c499",
     "grade": false,
     "grade_id": "cell-75e9af43f11ba370",
     "locked": true,
     "schema_version": 3,
     "solution": false
    }
   },
   "outputs": [],
   "source": [
    "# Define sigmoid function according to formula (5)\n",
    "def sigmoid_func(x):\n",
    "    return 1/(1 + np.exp(-x))\n",
    "\n",
    "# Choose values (w^T*x) for calculating loss \n",
    "range_x = np.arange(-5 , 5 , 0.01)\n",
    "\n",
    "# Calculate logistic loss for y=1 and y=0\n",
    "logloss_y1 = -np.log(sigmoid_func(range_x))\n",
    "logloss_y0 = -np.log(1-sigmoid_func(range_x))\n",
    "\n",
    "# Set fontsizes for matplotlib\n",
    "plt.rc('legend', fontsize=16) \n",
    "plt.rc('axes', labelsize=16) \n",
    "plt.rc('xtick', labelsize=12) \n",
    "plt.rc('ytick', labelsize=12) \n",
    "     \n",
    "# Plot the results, using the plot function in matplotlib.pyplot.\n",
    "fig, axes = plt.subplots(1, 1, figsize=(10, 6)) \n",
    "axes.plot(range_x, logloss_y1, linestyle=':', label=r'$y=1$', linewidth=3.0)\n",
    "axes.plot(range_x, logloss_y0, label=r'$y=0$', linewidth=2.0)\n",
    "\n",
    "# Set axis labels and title\n",
    "axes.set_xlabel(r'$\\mathbf{w}^{T}\\mathbf{x}$')\n",
    "axes.set_ylabel(r'$\\mathcal{L}((y,\\mathbf{x});\\mathbf{w})$')\n",
    "axes.set_title(\"logistic loss\", fontsize=20)\n",
    "axes.legend()\n",
    "plt.show()"
   ]
  },
  {
   "cell_type": "markdown",
   "metadata": {
    "deletable": false,
    "editable": false,
    "nbgrader": {
     "cell_type": "markdown",
     "checksum": "2e6cfaac302873a3b9115fc79667eb37",
     "grade": false,
     "grade_id": "cell-02571ba51c2e57d6",
     "locked": true,
     "schema_version": 3,
     "solution": false,
     "task": false
    }
   },
   "source": [
    "We can see that the logistic loss for data points with the label $y=1$ (true label) is **decreasing** with respect to the predicted log-odds $\\mathbf{w}^{T}\\mathbf{x}$. This indicates that the loss is decreasing with an increasing confidence in $y=1$. In contrast, the loss for data points with the label $y=0$ is **increasing** with respect to the predicted log-odds, which means that lower log-odds are associated with a lower loss."
   ]
  },
  {
   "cell_type": "markdown",
   "metadata": {
    "deletable": false,
    "editable": false,
    "nbgrader": {
     "cell_type": "markdown",
     "checksum": "f7e5b26ee7ec1ea940d833bfd4eac091",
     "grade": false,
     "grade_id": "cell-d80dd30f4259cd13",
     "locked": true,
     "schema_version": 3,
     "solution": false,
     "task": false
    }
   },
   "source": [
    "### Standardizing data for logistic regression\n",
    "\n",
    "When the features $\\mathbf{x}_1,\\mathbf{x}_2,\\ldots,\\mathbf{x}_n$ of the dataset are of very different scales, the iterative optimization algorithms used for training the logistic regression model (and many other models) are often slow to find the optimal parameters, or at times, might even fail to do so.\n",
    "\n",
    "In order to avoid these issues, it is common practice to **standardize** the dataset before using it to train the model. The feature matrix $\\mathbf{X}$ is standardized feature-wise - that is, for all elements in each column, we subtract the column mean and divide by the standard deviation ($\\sigma$) of the column to obtain the standard score:\n",
    "\n",
    "\\begin{equation}\n",
    "    \\mathbf{z}_j^{(i)} = \\frac{\\mathbf{x}_j^{(i)} - \\bar{\\mathbf{x}}}{\\sigma(\\mathbf{x})}.\n",
    "\\end{equation}\n",
    "\n",
    "The result of this transformation is that the mean of each feature is 0, and the new values of the feature represent the deviation from the feature mean as measured by the number of standard deviations (+/-). Standardization can be performed in Scikit-learn in multiple ways, but the `StandardScaler` class is often convenient in practice.\n",
    "\n",
    "### Standardization and model validation\n",
    "\n",
    "When training models with the intention of validating them, it is a common pitfall to standardize the entire dataset before splitting the data or performing cross-validation. By doing this, the information in the validation set is used to transform the training and validation data. This is non-realistic since the validation set is supposed to represent real, new data. After all, you cannot use data you do not possess to calculate the means and standard deviations used to transform the training data!\n",
    "\n",
    "The correct approach is to split the data before standardizing the training set. After the model has been trained on the standardized training data, we validate the model by standardizing the validation set **using the feature means and standard deviations from the training set**, and then calculating the validation error based on the standardized validation set. In cross-validation, this process is repeated for each split of the data.\n",
    "\n",
    "Scikit-learn comes with a very useful tool for sequentially combining different estimators called a pipeline estimator. The pipeline estimator consists of multiple steps, of which all but the final one must be Scikit-learn transformers. The final step is typically a classifier or regressor. \n",
    "\n",
    "A pipeline is built by instantiating a `Pipeline` object with the command `Pipeline(steps)`, where `steps` is a list of tuples, whose first argument is the name (of your choice) of the step and the second is an instance of a Scikit-learn transformer/estimator. For example, we could build a model that standardizes the data before performing logistic regression by creating the object \n",
    "\n",
    "`pipe = Pipeline([('scaler', StandardScaler()), ('log_reg', LogisticRegression())])`\n",
    "\n",
    "Now, the object in `pipe` has a similar interface as the final estimator in the pipeline. By calling `pipe.fit(X_train,y_train)`, the model sequentially fits all its steps by utilizing the output of each step as the input for the next one. In our example, the model would first fit the `StandardScaler` on the feature matrix `X_train`, and then the logistic regression model using the standardized feature matrix outputted by `StandardScaler.transform(X_train)` and the label vector `y_train`. \n",
    "\n",
    "When later using the model to, e.g., make predictions using `pipe.predict(X_test)`, the data flows sequentially through the same steps. First, `X_test` is standardized using the mean and standard deviation of `X_train` that was used to fit the scaler, and then, the transformed data used to predict the labels of `X_test` by using `LogisticRegression.predict(X_test)`."
   ]
  },
  {
   "cell_type": "markdown",
   "metadata": {
    "deletable": false,
    "editable": false,
    "nbgrader": {
     "cell_type": "markdown",
     "checksum": "0e08b28490b55bdf777c4fd917b1ba13",
     "grade": false,
     "grade_id": "cell-4e550d3a580bea73",
     "locked": true,
     "schema_version": 3,
     "solution": false
    }
   },
   "source": [
    "<a id='logisticregression'></a>\n",
    "<div class=\" alert alert-warning\">\n",
    "    \n",
    "### Student Task. Logistic Regression. \n",
    "\n",
    "In this task, you will train and validate a logistic regression model using Scikit-Learn. Due to the issues regarding standardization discussed above, you will use a `Pipeline` model containing a `StandardScaler` and a `LogisticRegression` object for this.\n",
    "    \n",
    "In slightly more detail, the steps you need to take to solve this task are as follows:\n",
    "    \n",
    "- Create a `Standard_Scaler` and a `LogisticRegression` object. For the logistic regression, remember to define the parameter `C=1e6`. The parameter `C` represents the inverse regularization strength. By setting this to a very large value, we obtain a Logistic Regression model that is not regularized.\n",
    "\n",
    "    \n",
    "- Create the pipeline with `StandardScaler` and `LogisticRegression` as its steps using the previously created objects. \n",
    "\n",
    "    \n",
    "- Fit the `Pipeline` object to training set.\n",
    "    \n",
    "    \n",
    "- Use the function `Pipeline.score()` to calculate the training and test accuracy for your classification model and store these in `acc_train` and `acc_test` respectively.\n",
    "</div>"
   ]
  },
  {
   "cell_type": "code",
   "execution_count": null,
   "metadata": {
    "deletable": false,
    "nbgrader": {
     "cell_type": "code",
     "checksum": "ff1b6ec51f139e86982b3523b53b95a5",
     "grade": false,
     "grade_id": "cell-c2e7b88452b27df0",
     "locked": false,
     "schema_version": 3,
     "solution": true
    }
   },
   "outputs": [],
   "source": [
    "from sklearn.model_selection import train_test_split\n",
    "from sklearn.preprocessing import StandardScaler\n",
    "from sklearn.pipeline import Pipeline\n",
    "from sklearn.linear_model import LogisticRegression\n",
    "\n",
    "# Set random seed for reproducibility\n",
    "np.random.seed(0)\n",
    "\n",
    "# Load the features and labels\n",
    "X, y = load_data(binary_labels=True)\n",
    "\n",
    "# Split dataset into training and test sets\n",
    "X_train, X_test, y_train, y_test = train_test_split(X, y, test_size=0.2, shuffle=True, stratify=y, random_state=0)\n",
    "\n",
    "### BEGIN STUDENT TASK ###\n",
    "# scaler = ...\n",
    "# log_reg = ...\n",
    "# pipe = ...\n",
    "# pipe.xxx(...)\n",
    "# acc_train = ...\n",
    "# acc_test = ...\n",
    "# YOUR CODE HERE\n",
    "raise NotImplementedError()\n",
    "\n",
    "# Print training and validation errors\n",
    "print(f\"Training accuracy: {acc_train}\")\n",
    "print(f\"Test accuracy: {acc_test}\")"
   ]
  },
  {
   "cell_type": "code",
   "execution_count": null,
   "metadata": {
    "deletable": false,
    "editable": false,
    "nbgrader": {
     "cell_type": "code",
     "checksum": "de02348088c6ad2e64a844774a13dc45",
     "grade": true,
     "grade_id": "cell-510a06d027433f2c",
     "locked": true,
     "points": 2,
     "schema_version": 3,
     "solution": false
    }
   },
   "outputs": [],
   "source": [
    "# Perform some sanity checks on the results\n",
    "assert acc_train > 0.95, \"Training accuracy is too low!\"\n",
    "assert acc_test < 0.89, \"Test accuracy is too high!\"\n",
    "print('Sanity check tests passed!')\n"
   ]
  },
  {
   "cell_type": "markdown",
   "metadata": {
    "deletable": false,
    "editable": false,
    "nbgrader": {
     "cell_type": "markdown",
     "checksum": "25e36b24a0787e0b9f4f2be64842ccc4",
     "grade": false,
     "grade_id": "cell-126bd165b8adf399",
     "locked": true,
     "schema_version": 3,
     "solution": false,
     "task": false
    }
   },
   "source": [
    "Based on what we learned last week, we can say that the logistic regression mildly overfits the training data. This claim is based on the training accuracy being significantly higher than the test accuracy."
   ]
  },
  {
   "cell_type": "markdown",
   "metadata": {
    "deletable": false,
    "editable": false,
    "nbgrader": {
     "cell_type": "markdown",
     "checksum": "85794fe79703b00dfe921680f5c6e180",
     "grade": false,
     "grade_id": "cell-8cf1cfc46f52c114",
     "locked": true,
     "schema_version": 3,
     "solution": false,
     "task": false
    }
   },
   "source": [
    "### Decision Boundary of Logistic Regression \n",
    "\n",
    "After we have fitted the logistic regression model and found the optimal model parameters $\\mathbf{w}_{\\rm opt}$ and $w_0$, we can predict the label of any new image with the feature vector $\\mathbf{x} \\in \\mathbb{R}^n$ by\n",
    "\n",
    "\\begin{equation}\n",
    "    \\hat{y} = \\begin{cases} 1 & \\mbox{ for } w_0 + \\mathbf{w}_{\\rm opt}^T \\mathbf{x} \\geq 0 \\\\ 0 & \\mbox{ for } w_0 + \\mathbf{w}_{\\rm opt}^T \\mathbf{x} < 0 \\end{cases}.\n",
    "\\end{equation}\n",
    "\n",
    "The inequality $w_0 + \\mathbf{w}_{\\rm opt}^T \\mathbf{x} \\geq 0$ defines a closed half-space in $\\mathbb{R}^n$, and the inequality $w_0 + \\mathbf{w}_{\\rm opt}^T \\mathbf{x} < 0$ respectively defines an open half-space. These are separated by the hyperplane $w_0 + \\mathbf{w}_{\\rm opt}^T \\mathbf{x} = 0$ that is called the **decision boundary** of the logistic regression classifier. By recalling that $w_0 + \\mathbf{w}_{\\rm opt}^T \\mathbf{x}$ predicts the log-odds of the event $y=1$ in the logistic regression model, the decision boundary is naturally interpreted as the hyperplane on which the predicted odds for the labels are 1:1 - i.e. both labels are equally likely.\n",
    "\n",
    "In two-dimensional space (e.g., in $\\mathbb{R}^2$), the decision boundary is a line, whereas it is a plane in three-dimensional space. The hyperplane does not have an intuitive interpretation in higher dimensional space but still divides the entire space into two half-spaces.\n",
    "\n",
    "For most training data, the decision boundary determined by logistic regression will not perfectly separate the training data points according to $y^{(i)}=1$ and $y^{(i)}=0$. Thus, we typically have training samples with the same true label that are on opposite sides of the decision boundary. However, the decision boundary will be chosen such that one class dominates on each side.\n",
    "\n",
    "The decision boundary provides also a geometric interpretation of the magnitude $|w_0 + \\mathbf{w}_{\\rm opt}^{T} \\mathbf{x}|$ as the normal distance of a data point with features $\\mathbf{x}$ to the decision boundary. Thus, the larger $|w_0 + \\mathbf{w}_{\\rm opt}^{T} \\mathbf{x}|$, the farther away is the data point from the decision boundary and, in turn, the more reliable is the predicted label $\\hat{y}$ for this data point. On the other hand, if $|w_0 + \\mathbf{w}_{\\rm opt}^{T} \\mathbf{x}| \\approx 0$, then the data point with features $\\mathbf{x}$ is close to the decision boundary, i.e., it is a border case which cannot be classified reliably.\n"
   ]
  },
  {
   "cell_type": "markdown",
   "metadata": {
    "deletable": false,
    "editable": false,
    "nbgrader": {
     "cell_type": "markdown",
     "checksum": "c6f321ecb150181128886a38f5f1a9c3",
     "grade": false,
     "grade_id": "cell-72420c22ddf65bb7",
     "locked": true,
     "schema_version": 3,
     "solution": false
    }
   },
   "source": [
    "<a id='demoboundary'></a>\n",
    "<div class=\" alert alert-info\">\n",
    "    \n",
    "### Demo. Linear Decision Boundary.\n",
    "\n",
    "In the code snippet below, we train a logistic regression model using only the first two features $x_{1}$ and $x_{2}$ of the images in the dataset. We then create two scatterplots containing the true and predicted labels respectively, as well as the decision boundary of the logistic regression classifier.\n",
    "    \n",
    "We can observe from the figure that while the decision boundary does not perfectly separate the data points with different true labels, the predicted labels are different on each side of the decision boundary, which is to be expected since the model effectively uses the boundary to predict the labels. \n",
    "</div>"
   ]
  },
  {
   "cell_type": "code",
   "execution_count": null,
   "metadata": {
    "deletable": false,
    "editable": false,
    "nbgrader": {
     "cell_type": "code",
     "checksum": "1bd0c4e06bcca6f52f3c9805d615ebd7",
     "grade": false,
     "grade_id": "cell-999d7b972b0c0540",
     "locked": true,
     "schema_version": 3,
     "solution": false
    }
   },
   "outputs": [],
   "source": [
    "# Set random seed for reproducibility\n",
    "np.random.seed(0)\n",
    "\n",
    "# Load the features and labels\n",
    "X, y = load_data(binary_labels=True) \n",
    "\n",
    "# Use only the first two features\n",
    "X = X[:,:2]  \n",
    "\n",
    "# Create and fit logistic regression \n",
    "log_reg = LogisticRegression()\n",
    "log_reg.fit(X, y)\n",
    "\n",
    "# Get the weights of the fitted model\n",
    "w0 = log_reg.intercept_\n",
    "w = log_reg.coef_ \n",
    "w = w.reshape(-1)\n",
    "\n",
    "# Calculate predictions\n",
    "y_pred = log_reg.predict(X)\n",
    "\n",
    "# Calculate the accuracy of predictions\n",
    "accuracy = log_reg.score(X, y)\n",
    "print(f\"Accuracy of classification: {round(100*accuracy, 2)}%\")\n",
    "\n",
    "# Minimum and maximum values of features x1 and x2\n",
    "x1_min, x2_min = np.min(X, axis=0)\n",
    "x1_max, x2_max = np.max(X, axis=0)\n",
    "\n",
    "# Compute x1, x2 values to plot the decision boundary h(x) = 0\n",
    "# for data with 2 features this means w1x1 + w2x2 + bias = 0 --> x2 = (-1/w2)*(w1x1+bias)\n",
    "x1_boundary = np.linspace(x1_min, x1_max, 100)\n",
    "x2_boundary = (-1/w[1])*(x1_boundary*w[0] + w0)\n",
    "\n",
    "options = [(\"Decision boundary and true labels\", y), \n",
    "           (\"Decision boundary and predicted labels\", y_pred)]\n",
    "\n",
    "fig, axes = plt.subplots(2, 1, figsize=(8, 12))\n",
    "\n",
    "for i, (title, label) in enumerate(options):   \n",
    "    idx_1 = np.where(label == 1)[0] # index of each class 0 image (no crossings)\n",
    "    idx_2 = np.where(label == 0)[0] # index of each not class 0 image (one or two crossings)\n",
    "    # Plot datapoints\n",
    "    axes[i].scatter(X[idx_1, 0], X[idx_1, 1], marker='x', s=50, label=r'$c^{(i)}=0$')\n",
    "    axes[i].scatter(X[idx_2, 0], X[idx_2, 1], marker='o', s=50, label=r'$c^{(i)} \\in \\{1,2\\}$')\n",
    "    # Plot the decision boundary h(x) = 0\n",
    "    axes[i].plot(x1_boundary, x2_boundary, color='green', label=\"Decision boundary\")\n",
    "    # Set lables and axes' limits\n",
    "    axes[i].set_xlabel(r'$x_{1}$')\n",
    "    axes[i].set_ylabel(r'$x_{2}$')\n",
    "    axes[i].set_title(title, fontsize=16)\n",
    "    axes[i].set_xlim(x1_min-.5, x1_max+.5)\n",
    "    axes[i].set_ylim(x2_min-1, x2_max+1)\n",
    "    axes[i].legend()\n",
    "plt.show()"
   ]
  },
  {
   "cell_type": "markdown",
   "metadata": {
    "deletable": false,
    "editable": false,
    "nbgrader": {
     "cell_type": "markdown",
     "checksum": "0955f94aff99595b7fe2bf078a157550",
     "grade": false,
     "grade_id": "cell-7ffafb13858edab3",
     "locked": true,
     "schema_version": 3,
     "solution": false
    }
   },
   "source": [
    "## Multiclass Classification\n",
    "\n",
    "So far, we have considered the problem of classifying an image as $y=1$ if it belongs to \"class 0\" (no crossings) and as $y=0$ if not, i.e., if it belongs to \"class 1\" or \"class 2\" (one or two crossings). We have solved this binary classification problem using logistic regression. However, our ultimate goal is to classify an image according to all three categories of the images. \n",
    "\n",
    "There is a simple but useful trick for extending any binary classification method to handle more than two different label values or classes. The idea behind this trick, which is known as **one vs. rest**, is quite simple: just split the multiclass classification problem into several subproblems, each subproblem being one binary classification problem. We then apply a binary classification method (such as logistic regression) to each subproblem and combine their results to obtain a predicted label for the multiclass problem. \n",
    "\n",
    "For the image classification problem, using the three classes \"0\", \"1\" or \"2\", we obtain the following binary classification subproblems: \n",
    "\n",
    "- subproblem 0: classify samples into \"Class 0\" $(y=1)$ vs. \"not Class 0\" $(y=0)$  \n",
    "- subproblem 1: classify samples into \"Class 1\" $(y=1)$ vs. \"not Class 1\" $(y=0)$  \n",
    "- subproblem 2: classify samples into \"Class 2\" $(y=1)$ vs. \"not Class 2\" $(y=0)$\n",
    "\n",
    "Each subproblem amounts to testing if the image belongs to a particular class or not. The $k$th subproblem can be solved using logistic regression yielding a predictor $h^{(\\mathbf{w}_{k})}(\\mathbf{x})= (\\mathbf{w}_{k})^{T} \\mathbf{x}$. The predictor $h^{(\\mathbf{w}_{k})}(\\mathbf{x})= (\\mathbf{w}_{k})^{T} \\mathbf{x}$ indicates how likely the image belongs to the class $k$. We then assign the image to the class $k$ for which the confidence $h^{(\\mathbf{w}_{k})}(\\mathbf{x})$ is largest. \n",
    "\n",
    "### Example\n",
    "\n",
    "Assume we want to classify a new data point (which is different from the $m$ data points in our dataset). To this end, we compute the feature vector $\\mathbf{x}=(x_{1},x_{2},...,x_{5})^{T}$ of this new data point and apply the three subproblem predictors, yielding the following prediction values: \n",
    "\n",
    "* subproblem 0: $h^{(\\mathbf{w}_{0})}(\\mathbf{x}) = 0.1$ (\"Class 0 vs. not Class 0\")\n",
    "* subproblem 1: $h^{(\\mathbf{w}_{1})}(\\mathbf{x}) = 0.4$ (\"Class 1 vs. not Class 1\") \n",
    "* subproblem 2: $h^{(\\mathbf{w}_{2})}(\\mathbf{x}) = 0.8$ (\"Class 2 vs. not Class 2\")\n",
    "\n",
    "From these results, we can see that the predictor $h^{(\\mathbf{w}_{2})}(\\mathbf{x})$ for sub problem 3 (`Class 2` vs. `not Class 2`) yields the highest confidence. Hence, we classify this new data point as `Class 2`. \n",
    "\n",
    "<img src=\"../../../coursedata/R4_Classification/Regression_Zebra.png\" alt=\"Drawing\" style=\"width: 600px;\"/>"
   ]
  },
  {
   "cell_type": "markdown",
   "metadata": {
    "deletable": false,
    "editable": false,
    "nbgrader": {
     "cell_type": "markdown",
     "checksum": "7505d775d614c22ff5721464251c3b30",
     "grade": false,
     "grade_id": "cell-07f770c2370f39a3",
     "locked": true,
     "schema_version": 3,
     "solution": false
    }
   },
   "source": [
    "<a id='demoboundary'></a>\n",
    "<div class=\" alert alert-info\">\n",
    "    \n",
    "### Demo. Multiclass Classification.\n",
    "\n",
    "The code snippet below illustrates how multiclass classification via logistic regression can be applied using scikit-learn. By defining the parameter `multi_class='ovr'` when initializing the `LogisticRegression` model, we make the logistic regression model use the one vs. rest scheme described above to perform multiclass classification.\n",
    "\n",
    "We also use the function `LogisticRegression.predict_proba(X)` to obtain the predicted probabilities of the data points having each label. The function returns the probabilities in an array of shape `(m, n_labels)`, where `m` is the number of data points and `n_labels` the number of labels in the classification problem. That is, the $i$:th row of the array contains the predicted probabilities of the $i$:th data point having each label.\n",
    "\n",
    "</div>\n",
    "\n"
   ]
  },
  {
   "cell_type": "code",
   "execution_count": null,
   "metadata": {
    "deletable": false,
    "editable": false,
    "nbgrader": {
     "cell_type": "code",
     "checksum": "1422d26eeb75b10dfd7358aad7c39977",
     "grade": false,
     "grade_id": "cell-68c53dcd4442a408",
     "locked": true,
     "schema_version": 3,
     "solution": false
    }
   },
   "outputs": [],
   "source": [
    "# Set random seed for reproducibility\n",
    "np.random.seed(0)\n",
    "\n",
    "# Load features and labels with all labels\n",
    "X, y = load_data()\n",
    "\n",
    "# Fit logistic regression model\n",
    "log_reg = LogisticRegression(multi_class='ovr')\n",
    "log_reg.fit(X, y)\n",
    "\n",
    "# Predict labels and probabilities\n",
    "y_pred = log_reg.predict(X)\n",
    "pred_probabilities = log_reg.predict_proba(X)\n",
    "\n",
    "print(f\"Labels: {set(y_pred)}\")\n",
    "print(f\"Predicted probability of each label for the first data point: {pred_probabilities[0]}\")\n",
    "print(f\"Predicted label for the first data point: {y_pred[0]}\")\n",
    "print(f\"True label for the first data point: {y[0]}\")"
   ]
  },
  {
   "cell_type": "markdown",
   "metadata": {
    "deletable": false,
    "editable": false,
    "nbgrader": {
     "cell_type": "markdown",
     "checksum": "5b37644852e462c95d40fe5ecca02cc8",
     "grade": false,
     "grade_id": "cell-00afc504eb48a817",
     "locked": true,
     "schema_version": 3,
     "solution": false,
     "task": false
    }
   },
   "source": [
    "We can see from the output that, for the first datapoint, the probabilities for the labels $y=0,1,2$ are approximately $0.92$, $0.004$, and $0.08$ respectively. As such, the model predicts $y=0$ with high confidence.\n",
    "\n",
    "\n",
    "### Regularization in logistic regression\n",
    "\n",
    "Recall from the previous round that regularization is a technique with which we aim to improve the performance of our trained model on new data by minimizing a penalized average loss function. More specifically, we add a penalty term to the average loss that penalizes complex predictors more than simpler ones. The idea is that complex predictors are more likely to overfit the training data. \n",
    "\n",
    "In principle, regularization is performed the same way for logistic regression as in the Ridge and Lasso model considered last week. The difference is that the average logistic loss replaces the MSE in penalized loss function. A such, the function to minimize is \n",
    "\n",
    "\\begin{equation}\n",
    "\\begin{aligned}\n",
    "\\mathcal{E}(\\mathbf{w}) &= (1/m) \\sum_{i=1}^{m}\\big[ -y^{(i)}\\ln\\big(\\sigma(w_0 + \\mathbf{w}^{T}\\mathbf{x}^{(i)})\\big)-(1-y^{(i)})\\ln\\big(1-\\sigma(w_0 + \\mathbf{w}^{T}\\mathbf{x}^{(i)})\\big) \\big] + \\alpha \\mathcal{R}(\\mathbf{w}),\n",
    "\\end{aligned}\n",
    "\\end{equation}\n",
    "\n",
    "where $\\alpha \\mathcal{R}(\\mathbf{w})$ is the penalty term. The regularization terms are generally of the same form as those considered in round 3. For example, the default regularization term in Scikit-learn's logistic regression is $\\mathcal{R}(\\mathbf{w})=\\|\\mathbf{w}\\|_2^2$.\n",
    "\n",
    "In practice, the logistic regression model in Scikit-learn uses an inverse regularization coefficient $C$ instead of $\\alpha$. Whereas $\\alpha$ is used to control the magnitude of $\\mathcal{R}(\\mathbf{w})$ in the regularized loss function,  $C$ controls the weight of the average logistic loss instead:\n",
    "\n",
    "\\begin{equation}\n",
    "\\begin{aligned}\n",
    "\\mathcal{E}(\\mathbf{w}) &= (C/m) \\sum_{i=1}^{m}\\big[ -y^{(i)}\\ln\\big(\\sigma(w_0 + \\mathbf{w}^{T}\\mathbf{x}^{(i)})\\big)-(1-y^{(i)})\\ln\\big(1-\\sigma(w_0 + \\mathbf{w}^{T}\\mathbf{x}^{(i)})\\big) \\big] + \\mathcal{R}(\\mathbf{w}).\n",
    "\\end{aligned}\n",
    "\\end{equation}\n",
    "\n",
    "As such, small values of $C$ correspond to a heavily regularized model, while large values lead to weaker regularization. Next, we will attempt to find a good logistic regression model for the multiclass problem by tuning the inverse regularization strength $C$."
   ]
  },
  {
   "cell_type": "markdown",
   "metadata": {
    "deletable": false,
    "editable": false,
    "nbgrader": {
     "cell_type": "markdown",
     "checksum": "faf91417b2e6455f7d1554904f5bb32d",
     "grade": false,
     "grade_id": "cell-79974fff4be887ce",
     "locked": true,
     "schema_version": 3,
     "solution": false,
     "task": false
    }
   },
   "source": [
    "<a id='logisticregressiontuning'></a>\n",
    "<div class=\" alert alert-warning\">\n",
    "    \n",
    "### Student Task. Tuning a Logistic Regression model. \n",
    "\n",
    "In this task, you will tune the inverse regularization strength $C$ of the logistic regression model to find the value that minimizes the validation error on the multi-class classification problem. To this end, you will use the class `GridSearchCV`, with which you familiarized yourself in the previous round.\n",
    "    \n",
    "Recall that the `GridSearchCV` class takes as arguments the model to be tuned and a dictionary of key-value pairs, where the key is the name of a tunable parameter and the value a list of candidate values for that parameter.\n",
    "    \n",
    "In this task, the model is a `Pipeline` estimator similar to the one you have used in \"Student Task. Logistic Regression\". When the model in `GridSearchCV` is a `Pipeline` object, the parameters in the parameter dictionary are named as `{step_name}__{parameter_name}`, where `{step_name}` is the name of the pipeline step whose parameter is tuned and `{parameter_name}` is the name of the parameter. Note **double underscore** in `{step_name}__{parameter_name}`\n",
    "    \n",
    "For example, if the model is \n",
    "    \n",
    "`pipe = Pipeline([('scaler', StandardScaler()), ('log_reg', LogisticRegression(multi_class='ovr'))])`\n",
    "    \n",
    "the name of the parameter `C` in the parameter dictionary of `GridSearchCV` object is `log_reg__C`.\n",
    "    \n",
    "The steps you have to perform to solve this task are as follows:\n",
    "    \n",
    "- Create the `Pipeline` whose steps are standardization and logistic regression. The logistic regression model should utilize one-versus-rest for multiclass classification (`multi_class='ovr'`).\n",
    "    \n",
    "    \n",
    "- Create a parameter dictionary containing one key-value pair containing the name and candidate values `C_candidates` of the parameter `C` of the logistic regression model. See above how the parameter is named when the logistic regression model is part of a `Pipeline`.\n",
    "    \n",
    "    \n",
    "- Create a `GridSearchCV` object with the `Pipeline` and the parameter dictionary as inputs. Also, pass the parameters `refit=True`, `cv=5` and `return_train_score=True` to the constructor. Then, perform the 5-fold cross-validation by calling the `GridSeachCV.fit(X_trainval,y_trainval)` function of your `GridSearchCV` object.\n",
    "    \n",
    "  \n",
    "- Store the average training and validation accuracies in the variables `acc_train` and `acc_val` respectively. Remember that these can be retrieved from the dictionary `GridSearchCV.cv_results_` by using the keys `mean_train_score` and `mean_test_score`. \n",
    "\n",
    "\n",
    "- Store the best model (i.e. model with the optimal `C`) in the variable `best_model`. The best model can be obtained from the attribute `GridSearchCV.best_estimator_`.\n",
    "    \n",
    "**Hint:** See [here](https://scikit-learn.org/stable/tutorial/statistical_inference/putting_together.html) for an example on combining `Pipeline` and `GridSearchCV`.\n",
    "</div>"
   ]
  },
  {
   "cell_type": "code",
   "execution_count": null,
   "metadata": {
    "deletable": false,
    "nbgrader": {
     "cell_type": "code",
     "checksum": "48bd4aa0dfbbd312c066d79e1e872722",
     "grade": false,
     "grade_id": "cell-a4331c23dfb9b62c",
     "locked": false,
     "schema_version": 3,
     "solution": true,
     "task": false
    }
   },
   "outputs": [],
   "source": [
    "from sklearn.model_selection import GridSearchCV\n",
    "\n",
    "# Set random seed for reproducibility\n",
    "np.random.seed(0)\n",
    "\n",
    "# Split dataset into train-val and test sets\n",
    "X_trainval, X_test, y_trainval, y_test = train_test_split(X, y, test_size=0.3, shuffle=True, stratify=y, random_state=42)\n",
    "\n",
    "# Candidates for the inverse regularization strength\n",
    "C_candidates = [0.0001, 0.001, 0.01, 0.1, 1, 10, 100]\n",
    "\n",
    "### STUDENT TASK ###\n",
    "# YOUR CODE HERE\n",
    "raise NotImplementedError()\n",
    "\n",
    "# Print training and validation errors\n",
    "print(f\"Training accuracy: {acc_train}\")\n",
    "print(f\"Validation accuracy: {acc_val}\")\n",
    "print(f\"Best model: {best_model}\")"
   ]
  },
  {
   "cell_type": "code",
   "execution_count": null,
   "metadata": {
    "deletable": false,
    "editable": false,
    "nbgrader": {
     "cell_type": "code",
     "checksum": "ca3813cf6317eb1b7ce5e3cdadaa5243",
     "grade": true,
     "grade_id": "cell-522d4fa8d8da3278",
     "locked": true,
     "points": 3,
     "schema_version": 3,
     "solution": false,
     "task": false
    }
   },
   "outputs": [],
   "source": [
    "# Perform some sanity checks on the results\n",
    "assert len(acc_train) == len(C_candidates), \"acc_train is of the wrong size!\"\n",
    "assert len(acc_val) == len(C_candidates), \"acc_val is of the wrong size!\"\n",
    "assert best_model.get_params()['log_reg__C'] == 1, \"The optimal parameter value is wrong!\"\n",
    "print('Sanity check tests passed!')\n"
   ]
  },
  {
   "cell_type": "code",
   "execution_count": null,
   "metadata": {
    "deletable": false,
    "editable": false,
    "nbgrader": {
     "cell_type": "code",
     "checksum": "3ad1d870b60dc6a54f0339a219206db7",
     "grade": false,
     "grade_id": "cell-2c73673100cc19ff",
     "locked": true,
     "schema_version": 3,
     "solution": false,
     "task": false
    }
   },
   "outputs": [],
   "source": [
    "# Plot training and validation accuracies for the different values of C\n",
    "plt.figure(figsize=(8,5))\n",
    "plt.plot(C_candidates, acc_train, '-o', label='Training accuracy')\n",
    "plt.plot(C_candidates, acc_val, '-o',label='Validation accuracy')\n",
    "\n",
    "plt.xscale('log')\n",
    "plt.title(\"Accuracy vs. inverse regularization strength\")\n",
    "plt.xlabel('Inverse regularization strength C')\n",
    "plt.ylabel('Accuracy')\n",
    "plt.legend()\n",
    "plt.show()"
   ]
  },
  {
   "cell_type": "markdown",
   "metadata": {
    "deletable": false,
    "editable": false,
    "nbgrader": {
     "cell_type": "markdown",
     "checksum": "5822c70829599c9628fee3455396427c",
     "grade": false,
     "grade_id": "cell-fea35df1726fe3e6",
     "locked": true,
     "schema_version": 3,
     "solution": false,
     "task": false
    }
   },
   "source": [
    "If you have completed the task correctly, you should see plot similar to this one:\n",
    "\n",
    "<img src=\"../../../coursedata/R4_Classification/gridsearch.png\" alt=\"Drawing\" style=\"width: 500px;\"/>"
   ]
  },
  {
   "cell_type": "markdown",
   "metadata": {
    "deletable": false,
    "editable": false,
    "nbgrader": {
     "cell_type": "markdown",
     "checksum": "696950d616be0083b0c76a476deeee23",
     "grade": false,
     "grade_id": "cell-bd7b40d03f750e19",
     "locked": true,
     "schema_version": 3,
     "solution": false
    }
   },
   "source": [
    "### Confusion Matrix\n",
    "\n",
    "Computing the accuracy as the fraction of correctly classified data points for which $\\hat{y}^{(i)}=y^{(i)}$ is only one possible way to check how well you did. In some applications, the accuracy score is not a very useful quality measure. In particular, this is true for applications where the different classes occur with significantly different frequencies (\"imbalanced data\"). A more fine-grained assessment of a classification method is provided by computing a confusion matrix. \n",
    "\n",
    "A [**confusion matrix**](https://en.wikipedia.org/wiki/Confusion_matrix) is a matrix of shape `(n_labels, n_labels)`, in which the value of the element in row $i$ and column $j$ represents the number of data points with the true label corresponding to index $i$ that are predicted by the classifier as having the label corresponding to index $j$. As such, the elements along the diagonal ($i=j$) show the amount of correctly classified data points for each label.\n",
    "\n",
    "Using a confusion matrix, it is possible to analyze the classifier's performance for each possible value of the true label. For example, one might discover that the classifier performs particularly well or poorly on some specific classes.\n",
    "\n",
    "It is often convenient to calculate a so-called **normalized confusion matrix** instead of the standard one. In the normalized confusion matrix, the element in the $i$th row and $j$th column contains the proportion of data points with the true label corresponding to $i$ that are classified as having the label corresponding to $j$. The rows of this matrix sum up to 1. The normalization makes it easier to compare the classifier's performance for the different true labels when they occur with different frequencies."
   ]
  },
  {
   "cell_type": "markdown",
   "metadata": {
    "deletable": false,
    "editable": false,
    "nbgrader": {
     "cell_type": "markdown",
     "checksum": "20f7841939a317d08a941d014872f6b8",
     "grade": false,
     "grade_id": "cell-2ca0ad43155b3cf7",
     "locked": true,
     "schema_version": 3,
     "solution": false
    }
   },
   "source": [
    "<a id='logregconf'></a>\n",
    "<div class=\" alert alert-info\">\n",
    "    \n",
    "### Demo. Confusion Matrix. \n",
    "\n",
    "The confusion matrix is commonly visualized as an `n_labels x n_labels` grid of cells, where the cell colors are related to the number/proportion of data points in the corresponding element in the confusion matrix. This greatly enhances the confusion matrix's readability, especially when the number of labels (and the size of the matrix) is large.\n",
    "    \n",
    "In scikit-learn, a confusion matrix can be visualized using the function [`sklearn.metrics.plot_confusion_matrix`](https://scikit-learn.org/stable/modules/generated/sklearn.metrics.plot_confusion_matrix.html#sklearn-metrics-plot-confusion-matrix). The required inputs to the function are a fitted classifier, the feature matrix `X`, and the label vector `y`. One can also define other parameters for the function that control the appearance and type of the plotted confusion matrix. The function returns the object `display`, where the confusion matrix can be accessed with `display.confusion_matrix`. \n",
    "    \n",
    "In the code snippet below, we use the `plot_confusion_matrix()` function to plot both, standard and normalized confusion matrix, based on **test set** for the multi-class logistic regression classifier saved in the previous task in a variable `best_model`. In addition to the required input parameters, we pass the desired class names for the confusion matrix in the parameter `display_labels`, the desired color map in the parameter `cmap`, as well as the `axes` object we wish to plot the confusion matrix on in the parameter `ax`. Furthermore, we pass a value in the parameter `normalize`, which indicates whether or not the confusion matrix should be normalized or not.\n",
    "    \n",
    "</div> "
   ]
  },
  {
   "cell_type": "code",
   "execution_count": null,
   "metadata": {
    "deletable": false,
    "editable": false,
    "nbgrader": {
     "cell_type": "code",
     "checksum": "38019182dbcfd63819421ea75176cd52",
     "grade": false,
     "grade_id": "cell-0d31aa6b3a22ef15",
     "locked": true,
     "schema_version": 3,
     "solution": false,
     "task": false
    }
   },
   "outputs": [],
   "source": [
    "from sklearn.metrics import plot_confusion_matrix\n",
    "\n",
    "# Define class labels for confusion matrices\n",
    "classes = ['Class 0','Class 1','Class 2']\n",
    "\n",
    "# Define plotting options (title, normalization, axes index)\n",
    "options = [(\"Confusion matrix\", None, 0),\n",
    "           (\"Normalized confusion matrix\", 'true', 1)]\n",
    "\n",
    "# Plot confusion matrices\n",
    "fig, axes = plt.subplots(1, 2, figsize=(15, 5))  # Create subplots (1 row, 2 columns)\n",
    "plt.rc('font', size=14)  # Set fontsize\n",
    "for title, normalize, ax_idx in options:\n",
    "    # main parameters of function `plot_confusion_matrix` are:\n",
    "    # trained classifier (best_model), data (X_test, y_test)\n",
    "    disp = plot_confusion_matrix(best_model, X_test, y_test,\n",
    "                                 display_labels=classes,\n",
    "                                 cmap=plt.cm.Blues,\n",
    "                                 normalize=normalize, ax=axes[ax_idx])\n",
    "    disp.ax_.set_title(title)\n",
    "\n",
    "plt.show()"
   ]
  },
  {
   "cell_type": "markdown",
   "metadata": {
    "deletable": false,
    "editable": false,
    "nbgrader": {
     "cell_type": "markdown",
     "checksum": "78909c913e7c16eda8471bc383f52377",
     "grade": false,
     "grade_id": "cell-b7a67b15396e4b85",
     "locked": true,
     "schema_version": 3,
     "solution": false,
     "task": false
    }
   },
   "source": [
    "From the confusion matrices, we can see that our logistic regression model classifies data points with the true labels $y=0$ and $y=1$ pretty well, whereas accuracy for the last class is much lower. Observe that since the number of data points in each class is slightly different, the normalized confusion matrix makes it much easier to interpret the model's comparative performance on data points with different labels."
   ]
  },
  {
   "cell_type": "markdown",
   "metadata": {
    "deletable": false,
    "editable": false,
    "nbgrader": {
     "cell_type": "markdown",
     "checksum": "770baea4ed9f7e25f5d83f6f0cb45568",
     "grade": false,
     "grade_id": "cell-ed0fbfd2850ca1d9",
     "locked": true,
     "schema_version": 3,
     "solution": false
    }
   },
   "source": [
    "## Decision Trees\n",
    "\n",
    "We will learn another classification method that is referred to as **decision trees**. A decision tree is a flowchart-like representation of a predictor function $h(\\mathbf{x})$ that reads in the features $\\mathbf{x}$ of a data point and outputs a predicted label $\\hat{y}=h(\\mathbf{x})$. The decision tree consists of **nodes**, which represent certain tests, e.g., \"is the first feature $x_{1}$ larger than 10?\". The nodes are connected by **branches** that correspond to the result or outcome of a test (there is one outgoing branch for each possible answer of a test node). By following the branches, we end up at a leaf node (which has no further branches). Each leaf node is associated with a certain output value $h(\\mathbf{x})$. The picture below depicts a decision tree for wine classification with test nodes colored blue and leaf nodes colored orange and green. \n",
    "\n",
    "<img src=\"../../../coursedata/R4_Classification/Decision_Tree.png\" alt=\"Drawing\" style=\"width: 450px;\"/>\n",
    "\n",
    "Now, you might wonder how do we choose the test nodes? The basic idea is the same as in linear or logistic regression, we try out many different decision trees (using different choices of test nodes) and pick the one which results in the smallest average loss incurred on some labeled training data points $(\\mathbf{x}^{(i)},y^{(i)})$. However, in contrast to logistic regression, this learning or optimization problem involves searching over a discrete set of different configurations of test nodes instead of a continuous convex optimization of the model parameters. This makes training decision trees computationally more challenging than logistic regression that allows using efficient convex optimization methods (such as gradient-based methods). However, clever approaches to learning good decision trees with a reasonable amount of computational resources have been developed, although details of these are outside the scope of this course. \n",
    "\n",
    "Video on the basic concept of decision trees:\n",
    "\n",
    "- https://www.youtube.com/watch?v=9w16p4QmkAI\n",
    "\n",
    "If you want to learn more details about decision trees, beyond the requirements of this course, we refer you to: \n",
    "\n",
    "- https://en.wikipedia.org/wiki/Decision_tree_learning#Gini_impurity\n",
    "- https://en.wikipedia.org/wiki/Decision_tree_learning#Information_gain\n",
    "- https://sebastianraschka.com/faq/docs/decisiontree-error-vs-entropy.html"
   ]
  },
  {
   "cell_type": "markdown",
   "metadata": {
    "deletable": false,
    "editable": false,
    "nbgrader": {
     "cell_type": "markdown",
     "checksum": "d472cdc82caeb34a24955799c2f0326c",
     "grade": false,
     "grade_id": "cell-9970cfed7abbad39",
     "locked": true,
     "schema_version": 3,
     "solution": false
    }
   },
   "source": [
    "<a id='demotreeboundary'></a>\n",
    "<div class=\" alert alert-info\">\n",
    "\n",
    "### Demo. Decision Boundary of a Decision Tree.\n",
    "\n",
    "In the code below, we train a decision tree on the first two features of the dataset, and plot the decision boundary of the resulting classifier in a scatter plot along with the data. The data points with $y^{(i)} = 1$ are indicated by \"x\" while all samples with true label $y^{(i)} =0$ are indicated by \"o\".\n",
    "\n",
    "The algorithms that are used to train a decision tree are not affected by variables of different scales. As such, we do not need to standardize the data using pipelines when using decision tree models.\n",
    "\n",
    "</div>"
   ]
  },
  {
   "cell_type": "code",
   "execution_count": null,
   "metadata": {
    "deletable": false,
    "editable": false,
    "nbgrader": {
     "cell_type": "code",
     "checksum": "1ebea97d81fb70a7de16a57244539276",
     "grade": false,
     "grade_id": "cell-caff5f89492a2cc0",
     "locked": true,
     "schema_version": 3,
     "solution": false,
     "task": false
    }
   },
   "outputs": [],
   "source": [
    "def plot_decision_boundary(clf, X, Y, cmap='Paired_r'):\n",
    "    \n",
    "    \"\"\"\n",
    "    Function with which to plot decision boundary\n",
    "    \"\"\"\n",
    "    \n",
    "    # step size\n",
    "    h = 0.02\n",
    "    # min-max values of features x1 and x2\n",
    "    x1_min, x1_max = X[:,0].min() - 10*h, X[:,0].max() + 10*h\n",
    "    x2_min, x2_max = X[:,1].min() - 10*h, X[:,1].max() + 10*h\n",
    "    # x1, x2 values for plotting \n",
    "    x1 = np.arange(x1_min, x1_max, h)\n",
    "    x2 = np.arange(x2_min, x2_max, h)\n",
    "    # create grid of x1,x2 values (all possible combinations of x1 and x2 values)\n",
    "    x1x1, x2x2 = np.meshgrid(x1, x2)\n",
    "    # get predictions for each x1,x2 pair\n",
    "    Z = clf.predict(np.c_[x1x1.ravel(), x2x2.ravel()])\n",
    "    Z = Z.reshape(x1x1.shape)\n",
    "    \n",
    "    idx_1 = np.where(Y == 1)[0] # index of each class 0 iamge.\n",
    "    idx_2 = np.where(Y == 0)[0] # index of each not class 0 image\n",
    "    \n",
    "    plt.figure(figsize=(10,6))\n",
    "    plt.contourf(x1x1, x2x2, Z, cmap=cmap, alpha=0.25)\n",
    "    plt.contour(x1x1, x2x2, Z, colors='k', linewidths=0.5)\n",
    "    plt.scatter(X[idx_1, 0], X[idx_1, 1], marker='x', label='class 0')\n",
    "    plt.scatter(X[idx_2, 0], X[idx_2, 1], marker='o', label='class 1', edgecolors='k')\n",
    "    plt.xlabel(r'Feature 1')\n",
    "    plt.ylabel(r'Feature 2')"
   ]
  },
  {
   "cell_type": "code",
   "execution_count": null,
   "metadata": {
    "deletable": false,
    "editable": false,
    "nbgrader": {
     "cell_type": "code",
     "checksum": "e143741807c0e9a2d42093e9b7919c71",
     "grade": false,
     "grade_id": "cell-ec23f55820ad7734",
     "locked": true,
     "schema_version": 3,
     "solution": false
    }
   },
   "outputs": [],
   "source": [
    "# Set random seed\n",
    "np.random.seed(0)\n",
    "\n",
    "# Load data and select only the first two features\n",
    "X, y = load_data(binary_labels=True)\n",
    "X = X[:,:2]\n",
    "\n",
    "clf = DecisionTreeClassifier(criterion='entropy')   # define object \"clf\" which represents a decision tree\n",
    "clf.fit(X, y)                    # learn a decision tree that fits well the labeled images  \n",
    "y_pred = clf.predict(X)          # compute the predicted labels for the images\n",
    "\n",
    "# Calculate the accuracy score of the predictions\n",
    "accuracy = clf.score(X, y)\n",
    "print(f\"Accuracy: {round(100*accuracy, 2)}%\")\n",
    "\n",
    "# Plot decision boundary\n",
    "plot_decision_boundary(clf, X, y)\n",
    "plt.show()"
   ]
  },
  {
   "cell_type": "markdown",
   "metadata": {
    "deletable": false,
    "editable": false,
    "nbgrader": {
     "cell_type": "markdown",
     "checksum": "ffbcf3382d2410086c0ff63283bce530",
     "grade": false,
     "grade_id": "cell-f6ab3b10c44a41f2",
     "locked": true,
     "schema_version": 3,
     "solution": false,
     "task": false
    }
   },
   "source": [
    "The trained model is perfectly accurate, but the decision function looks quite peculiar. Do you think that this model would generalize well to new data?\n",
    "\n",
    "Next, you will train a decision tree and calculate the training and validation errors to assess the generalization capabilities of the model."
   ]
  },
  {
   "cell_type": "markdown",
   "metadata": {
    "deletable": false,
    "editable": false,
    "nbgrader": {
     "cell_type": "markdown",
     "checksum": "e4daf7bf16cda8c2af54929f0e1353e4",
     "grade": false,
     "grade_id": "cell-66550b25821ecf7d",
     "locked": true,
     "schema_version": 3,
     "solution": false
    }
   },
   "source": [
    "<a id='dtclassifier'></a>\n",
    "<div class=\" alert alert-warning\">\n",
    "    \n",
    "### Student Task. Decision Tree Classifier.\n",
    "    \n",
    "In this student task, you will train a decision tree classifier on a set of training data using Scikit-learn `DecisionTreeClassifier` class, and calculate the models training and test accuracies. The accuracies are stored in the variables `acc_train` and `acc_test` respectively. \\\n",
    "When creating the decision tree object you should set the parameter `criterion='entropy'`. The argument `criterion` corresponds to a particular choice for the loss function to be used. For background information consult the [documentation](https://scikit-learn.org/stable/modules/generated/sklearn.tree.DecisionTreeClassifier.html).\n",
    "    \n",
    "The process of training a decision tree model is similar to that of other classifiers (and regressors) in scikit-learn, so you will probably not need extra details this time! \n",
    "    \n",
    "**Hint**: the accuracy can by easily calculated by using the `.score` function of the decision tree object. \n",
    "</div>"
   ]
  },
  {
   "cell_type": "code",
   "execution_count": null,
   "metadata": {
    "deletable": false,
    "nbgrader": {
     "cell_type": "code",
     "checksum": "a6dfcb9277c6c51473bc0c9e44a99af0",
     "grade": false,
     "grade_id": "cell-53c7cbd776f98a85",
     "locked": false,
     "schema_version": 3,
     "solution": true
    }
   },
   "outputs": [],
   "source": [
    "# Set random seed\n",
    "np.random.seed(0)\n",
    "\n",
    "# Load data to feature matrix X and label vector y \n",
    "X, y = load_data(binary_labels=True)\n",
    "\n",
    "# Split dataset into training and test sets\n",
    "X_train, X_test, y_train, y_test = train_test_split(X, y, test_size=0.2, shuffle=True, stratify=y, random_state=0)\n",
    "\n",
    "### STUDENT TASK ###\n",
    "# clf = ...\n",
    "# clf. ...\n",
    "# acc_train = ...\n",
    "# acc_test = ...\n",
    "# YOUR CODE HERE\n",
    "raise NotImplementedError()\n",
    "\n",
    "# Print training and validation error\n",
    "print(f\"Training error: {acc_train}\")\n",
    "print(f\"Test error: {acc_test}\")"
   ]
  },
  {
   "cell_type": "code",
   "execution_count": null,
   "metadata": {
    "deletable": false,
    "editable": false,
    "nbgrader": {
     "cell_type": "code",
     "checksum": "c4b69f0146b5a9ed3d014e401feb9b59",
     "grade": true,
     "grade_id": "cell-785d28c1d47fecbf",
     "locked": true,
     "points": 2,
     "schema_version": 3,
     "solution": false
    }
   },
   "outputs": [],
   "source": [
    "# Perform some sanity checks on the outputs\n",
    "assert acc_train > 0.99, \"Training accuracy is too low.\"\n",
    "assert acc_test > 0.9, \"Test accuracy is too low.\"\n",
    "assert acc_test < 1, \"Test accuracy is too high.\"\n",
    "print('Sanity check tests passed!')\n"
   ]
  },
  {
   "cell_type": "markdown",
   "metadata": {
    "deletable": false,
    "editable": false,
    "nbgrader": {
     "cell_type": "markdown",
     "checksum": "f105f740962b74220897d756adaa43ab",
     "grade": false,
     "grade_id": "cell-f6f80f9439171122",
     "locked": true,
     "schema_version": 3,
     "solution": false,
     "task": false
    }
   },
   "source": [
    "We can see that the trained decision tree severely overfits the training data. While the accuracy of the model is perfect on the training data, it performs worse on the test set. This is in fact very common when using decision trees, and should be addressed by tuning some of the hyperparameters of the decision tree to obtain a model with better generalization capability. "
   ]
  },
  {
   "cell_type": "markdown",
   "metadata": {
    "deletable": false,
    "editable": false,
    "nbgrader": {
     "cell_type": "markdown",
     "checksum": "1fd8e21deb85870d311d744e71d5beea",
     "grade": false,
     "grade_id": "cell-77e3903a0aa76769",
     "locked": true,
     "schema_version": 3,
     "solution": false
    }
   },
   "source": [
    "<a id='dtvis'></a>\n",
    "<div class=\" alert alert-info\">\n",
    "    \n",
    "### Demo. Visualizing the decision tree. \n",
    "    \n",
    "One of the advantages of the decision tree classifier is its interpretability. In the code snippet below, we visualize the fitted decision tree using the `plot_tree()` function from the `tree` module in scikit-learn.\n",
    "    \n",
    "In each node of the tree, the top row describes the decision rule of the cell. For instance, the root node splits the dataset based on whether the value of the 1st feature is larger or smaller than $12.905$. The `samples` field indicates how many data points are allocated to that particular node, and the `value` field indicates how these are distributed with respect to the true labels. The `class` field specifies the class to which the data points in the node are classified at that level of the tree. The leaf nodes of the tree define the final labels of the data points.\n",
    "    \n",
    "</div>"
   ]
  },
  {
   "cell_type": "code",
   "execution_count": null,
   "metadata": {
    "deletable": false,
    "editable": false,
    "nbgrader": {
     "cell_type": "code",
     "checksum": "1b75e6a2924935e28a56f34e59e34d65",
     "grade": false,
     "grade_id": "cell-cb4bc6e0bf21e9a6",
     "locked": true,
     "schema_version": 3,
     "solution": false
    }
   },
   "outputs": [],
   "source": [
    "from sklearn.tree import plot_tree\n",
    "\n",
    "feature_cols = [\"x\" + str(i) for i in range(len(X[0,:]))] # needed for visualization\n",
    "label_names = ['0', '1']\n",
    "\n",
    "# Visualize the decision tree\n",
    "plt.figure(figsize=(16,14))\n",
    "plot_tree(clf, filled=True, rounded=True, feature_names=feature_cols, class_names=label_names)\n",
    "plt.show()"
   ]
  },
  {
   "cell_type": "markdown",
   "metadata": {
    "deletable": false,
    "editable": false,
    "nbgrader": {
     "cell_type": "markdown",
     "checksum": "8cbc4d701ee985b93e94967fedfa7e37",
     "grade": false,
     "grade_id": "cell-d5344511aa2b9686",
     "locked": true,
     "schema_version": 3,
     "solution": false
    }
   },
   "source": [
    "### Difference between logistic regression and decision trees\n",
    "\n",
    "The two classification methods, logistic regression and decision trees, both aim at learning a good predictor $h(\\mathbf{x})$ which allows determining the label $y$ of the data point based on some features $\\mathbf{x}$. A major difference of the two models is the form of the predictor function $h(\\mathbf{x})$ they use. Logistic regression uses linear predictor functions $h(\\mathbf{x})=w_0 + \\mathbf{w}^{T} \\mathbf{x}$ (which are thresholded to get discrete label predictions $\\hat{y}$). \n",
    "\n",
    "In contrast to the linear functions used in logistic regression, decision trees use predictor functions that are obtained from flow charts (decision trees) consisting of various tests on the features $\\mathbf{x}$. Using sufficiently large decision trees allows to represent highly non-linear functions $h(\\mathbf{x})$. In particular, decision trees can perfectly separate data points (according to their labels), which cannot be separated by any straight line (which are the only possible decision boundaries for logistic regression). \n",
    "\n",
    "<table><tr>\n",
    "    <td><img src='../../../coursedata/R4_Classification/lr1.png' style=\"width: 500px;\"></td>\n",
    "    <td><img src='../../../coursedata/R4_Classification/tree1.png' style=\"width: 500px;\"></td>\n",
    "</tr></table>"
   ]
  },
  {
   "cell_type": "markdown",
   "metadata": {
    "deletable": false,
    "editable": false,
    "nbgrader": {
     "cell_type": "markdown",
     "checksum": "51e1a1263b9f80d7c5d70892154cbff8",
     "grade": false,
     "grade_id": "cell-4eaf4268604df874",
     "locked": true,
     "schema_version": 3,
     "solution": false,
     "task": false
    }
   },
   "source": [
    "## Quiz questions"
   ]
  },
  {
   "cell_type": "markdown",
   "metadata": {
    "deletable": false,
    "editable": false,
    "nbgrader": {
     "cell_type": "markdown",
     "checksum": "02dfbd3cbb064eead1b3f799b6fba115",
     "grade": false,
     "grade_id": "cell-8d2da9dd065aa4d9",
     "locked": true,
     "schema_version": 3,
     "solution": false,
     "task": false
    }
   },
   "source": [
    "<a id='QuestionR4_1'></a>\n",
    "<div class=\" alert alert-warning\">\n",
    "<b>Student Task.</b> Question R4.1. \n",
    "\n",
    "<p>How many features can be used for logistic regression?</p>\n",
    "\n",
    "<ol>\n",
    "  <li>None</li>\n",
    "  <li>One (1)</li>\n",
    "  <li>Thirteen (13)</li>\n",
    "  <li>Any number of features (given enough computational resources)</li>\n",
    "</ol> \n",
    "\n",
    "</div>"
   ]
  },
  {
   "cell_type": "code",
   "execution_count": null,
   "metadata": {
    "deletable": false,
    "nbgrader": {
     "cell_type": "code",
     "checksum": "e9adcb99e50994e4d98bc3c95493b780",
     "grade": false,
     "grade_id": "cell-47882b62a76b53d6",
     "locked": false,
     "schema_version": 3,
     "solution": true,
     "task": false
    }
   },
   "outputs": [],
   "source": [
    "### STUDENT TASK ###\n",
    "# remove the line raise NotImplementedError() before testing your solution and submitting code\n",
    "# answer_R4_Q1  = ...\n",
    "\n",
    "# YOUR CODE HERE\n",
    "raise NotImplementedError()"
   ]
  },
  {
   "cell_type": "code",
   "execution_count": null,
   "metadata": {
    "deletable": false,
    "editable": false,
    "nbgrader": {
     "cell_type": "code",
     "checksum": "beb14c6da09170ac919d234eb2795c37",
     "grade": true,
     "grade_id": "cell-1078d6aad31104b9",
     "locked": true,
     "points": 1,
     "schema_version": 3,
     "solution": false,
     "task": false
    }
   },
   "outputs": [],
   "source": [
    "# This cell is for tests\n",
    "\n",
    "assert answer_R4_Q1 in [1,2,3,4], '\"answer_R4_Q1\" Value should be an integer between 1 and 4.'\n",
    "print('Sanity check tests passed!')\n"
   ]
  },
  {
   "cell_type": "markdown",
   "metadata": {
    "deletable": false,
    "editable": false,
    "nbgrader": {
     "cell_type": "markdown",
     "checksum": "cdf618165050becb4cd3481b7fcc38da",
     "grade": false,
     "grade_id": "cell-2405691c623a68c0",
     "locked": true,
     "schema_version": 3,
     "solution": false,
     "task": false
    }
   },
   "source": [
    "<a id='QuestionR4_2'></a>\n",
    "<div class=\" alert alert-warning\">\n",
    "<b>Student Task.</b> Question R4.2. \n",
    "\n",
    "<p>When performing logistic regression, we are trying to....</p>\n",
    "\n",
    "<ol>\n",
    "  <li>Solve a minimum likelihood problem.</li>\n",
    "  <li>Maximize the average logistic loss.</li>\n",
    "  <li>Minimize the average logistic loss.</li>\n",
    "</ol> \n",
    "\n",
    "</div>"
   ]
  },
  {
   "cell_type": "code",
   "execution_count": null,
   "metadata": {
    "deletable": false,
    "nbgrader": {
     "cell_type": "code",
     "checksum": "efdcd04d917dbce28a4d39d41335eec0",
     "grade": false,
     "grade_id": "cell-5f7744019dbedbbc",
     "locked": false,
     "schema_version": 3,
     "solution": true,
     "task": false
    }
   },
   "outputs": [],
   "source": [
    "### STUDENT TASK ###\n",
    "# remove the line raise NotImplementedError() before testing your solution and submitting code\n",
    "# answer_R4_Q2  = ...\n",
    "\n",
    "# YOUR CODE HERE\n",
    "raise NotImplementedError()"
   ]
  },
  {
   "cell_type": "code",
   "execution_count": null,
   "metadata": {
    "deletable": false,
    "editable": false,
    "nbgrader": {
     "cell_type": "code",
     "checksum": "7c65b301922b37b1810cda52060e8b7b",
     "grade": true,
     "grade_id": "cell-5a580c7df1d49460",
     "locked": true,
     "points": 1,
     "schema_version": 3,
     "solution": false,
     "task": false
    }
   },
   "outputs": [],
   "source": [
    "# This cell is for tests\n",
    "\n",
    "assert answer_R4_Q2 in [1,2,3], '\"answer_R4_Q2\" Value should be an integer between 1 and 3.'\n",
    "print('Sanity check tests passed!')\n"
   ]
  },
  {
   "cell_type": "markdown",
   "metadata": {
    "deletable": false,
    "editable": false,
    "nbgrader": {
     "cell_type": "markdown",
     "checksum": "178d5e276637eb7817c776664d393e90",
     "grade": false,
     "grade_id": "cell-7893a433054cd417",
     "locked": true,
     "schema_version": 3,
     "solution": false,
     "task": false
    }
   },
   "source": [
    "<a id='QuestionR4_3'></a>\n",
    "<div class=\" alert alert-warning\">\n",
    "<b>Student Task.</b> Question R4.3. \n",
    "\n",
    "<p>Consider an arbitrary set of $m$ labeled data points having two features $\\mathbf{x}^{(i)} \\in \\big(x^{(i)}_{1},x^{(i)}_{2}\\big)^{T}$ and a binary label $y^{(i)} \\in \\{0,1\\}$. How large can the sample size $m$ be such that we can for sure always find a straight line such that all points $\\mathbf{x}^{(i)}$ with the same label $y^{(i)}$ lie on the same side (but not on top) of the line. </p>\n",
    "\n",
    "<ol>\n",
    "  <li>$m \\leq 2$</li>\n",
    "  <li>$m = 3$</li>\n",
    "  <li>$m = 4$</li>\n",
    "  <li>$m = 6$</li>\n",
    "</ol> \n",
    "\n",
    "</div>"
   ]
  },
  {
   "cell_type": "code",
   "execution_count": null,
   "metadata": {
    "deletable": false,
    "nbgrader": {
     "cell_type": "code",
     "checksum": "699c808baf52d615e1c288949ca9c124",
     "grade": false,
     "grade_id": "cell-5eede5fd50140a1d",
     "locked": false,
     "schema_version": 3,
     "solution": true,
     "task": false
    }
   },
   "outputs": [],
   "source": [
    "### STUDENT TASK ###\n",
    "# remove the line raise NotImplementedError() before testing your solution and submitting code\n",
    "# answer_R4_Q3  = ...\n",
    "\n",
    "# YOUR CODE HERE\n",
    "raise NotImplementedError()"
   ]
  },
  {
   "cell_type": "code",
   "execution_count": null,
   "metadata": {
    "deletable": false,
    "editable": false,
    "nbgrader": {
     "cell_type": "code",
     "checksum": "41cad280835e8faadef48e05ab97c429",
     "grade": true,
     "grade_id": "cell-c5dc96da0cf04a58",
     "locked": true,
     "points": 1,
     "schema_version": 3,
     "solution": false,
     "task": false
    }
   },
   "outputs": [],
   "source": [
    "# This cell is for tests\n",
    "\n",
    "assert answer_R4_Q3 in [1,2,3,4], '\"answer_R4_Q3\" Value should be an integer between 1 and 4.'\n",
    "print('Sanity check tests passed!')\n"
   ]
  },
  {
   "cell_type": "code",
   "execution_count": null,
   "metadata": {},
   "outputs": [],
   "source": []
  }
 ],
 "metadata": {
  "kernelspec": {
   "display_name": "Python 3",
   "language": "python",
   "name": "python3"
  },
  "language_info": {
   "codemirror_mode": {
    "name": "ipython",
    "version": 3
   },
   "file_extension": ".py",
   "mimetype": "text/x-python",
   "name": "python",
   "nbconvert_exporter": "python",
   "pygments_lexer": "ipython3",
   "version": "3.9.5"
  },
  "toc": {
   "base_numbering": 1,
   "nav_menu": {},
   "number_sections": false,
   "sideBar": true,
   "skip_h1_title": false,
   "title_cell": "Table of Contents",
   "title_sidebar": "Contents",
   "toc_cell": false,
   "toc_position": {
    "height": "calc(100% - 180px)",
    "left": "10px",
    "top": "150px",
    "width": "304.8px"
   },
   "toc_section_display": true,
   "toc_window_display": false
  },
  "varInspector": {
   "cols": {
    "lenName": 16,
    "lenType": 16,
    "lenVar": 40
   },
   "kernels_config": {
    "python": {
     "delete_cmd_postfix": "",
     "delete_cmd_prefix": "del ",
     "library": "var_list.py",
     "varRefreshCmd": "print(var_dic_list())"
    },
    "r": {
     "delete_cmd_postfix": ") ",
     "delete_cmd_prefix": "rm(",
     "library": "var_list.r",
     "varRefreshCmd": "cat(var_dic_list()) "
    }
   },
   "types_to_exclude": [
    "module",
    "function",
    "builtin_function_or_method",
    "instance",
    "_Feature"
   ],
   "window_display": false
  }
 },
 "nbformat": 4,
 "nbformat_minor": 2
}
