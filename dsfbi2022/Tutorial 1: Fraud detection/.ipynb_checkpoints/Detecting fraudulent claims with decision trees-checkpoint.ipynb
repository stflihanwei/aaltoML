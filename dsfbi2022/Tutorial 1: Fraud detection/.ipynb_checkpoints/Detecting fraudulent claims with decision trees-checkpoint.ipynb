{
 "cells": [
  {
   "cell_type": "markdown",
   "metadata": {},
   "source": [
    "**30E03000 - Data Science for Business I (2022)**"
   ]
  },
  {
   "cell_type": "markdown",
   "metadata": {},
   "source": [
    "# Tutorial 1: Detecting fraudulent insurance claims with decision tree"
   ]
  },
  {
   "cell_type": "markdown",
   "metadata": {
    "slideshow": {
     "slide_type": "slide"
    }
   },
   "source": [
    "### Learning goals\n",
    "\n",
    "In this exercise, you will learn how to detect fraudulent insurance claims using decision trees in Python.\n",
    "\n",
    "### Business Problem\n",
    "\n",
    "1. Insurance claims are a major target for fraud, both opportunistic as well as planned/organized.\n",
    "2. The costs of fraudulent claims can be substantial.\n",
    "3. Manual examination of the claims is impractical and expensive due to large volume of insurance claims.\n",
    "\n",
    "**Thus, the goal is to identify and flag fraudulent claims early in their life cycle.**\n",
    "\n",
    "\n",
    "### Keywords\n",
    "`fraud detection`, `decision trees`, `exploratory data analysis (EDA)`, `data visualization`, `data preprocessing`\n",
    "\n",
    "### Tutorial structure\n",
    "\n",
    "<img src=\"Images/Flow.png\" width=\"1000\">"
   ]
  },
  {
   "cell_type": "markdown",
   "metadata": {},
   "source": [
    "## Import libraries"
   ]
  },
  {
   "cell_type": "code",
   "execution_count": 1,
   "metadata": {},
   "outputs": [
    {
     "name": "stderr",
     "output_type": "stream",
     "text": [
      "Fontconfig error: Cannot load default config file\n"
     ]
    }
   ],
   "source": [
    "import numpy as np #scientific computing\n",
    "import pandas as pd #data management\n",
    "import itertools\n",
    "\n",
    "#matplotlib for plotting\n",
    "import matplotlib.pyplot as plt\n",
    "from matplotlib import gridspec\n",
    "import matplotlib.ticker as mtick #for percentage ticks\n",
    "\n",
    "#sklearn for modeling\n",
    "from sklearn import tree\n",
    "from sklearn.tree import DecisionTreeClassifier #Decision Tree algorithm\n",
    "from sklearn.model_selection import train_test_split #Data split function\n",
    "from sklearn.preprocessing import LabelEncoder #OneHotEncoding\n",
    "from sklearn.metrics import classification_report \n",
    "from sklearn.metrics import accuracy_score\n",
    "from sklearn.metrics import confusion_matrix\n",
    "from sklearn.metrics import roc_curve, auc\n",
    "\n",
    "#Decision tree plot\n",
    "import pydotplus\n",
    "from IPython.display import Image"
   ]
  },
  {
   "cell_type": "markdown",
   "metadata": {},
   "source": [
    "## 1. Load data\n",
    "\n",
    "First, we load the data from a .txt file and store it in a Pandas data frame. A DataFrame is a 2-dimensional labeled data structure with columns of potentially different types. You can think of it like a spreadsheet (Excel) or SQL table. It is generally the most commonly used Pandas object [1]. "
   ]
  },
  {
   "cell_type": "code",
   "execution_count": 2,
   "metadata": {
    "slideshow": {
     "slide_type": "slide"
    }
   },
   "outputs": [
    {
     "data": {
      "text/html": [
       "<div>\n",
       "<style scoped>\n",
       "    .dataframe tbody tr th:only-of-type {\n",
       "        vertical-align: middle;\n",
       "    }\n",
       "\n",
       "    .dataframe tbody tr th {\n",
       "        vertical-align: top;\n",
       "    }\n",
       "\n",
       "    .dataframe thead th {\n",
       "        text-align: right;\n",
       "    }\n",
       "</style>\n",
       "<table border=\"1\" class=\"dataframe\">\n",
       "  <thead>\n",
       "    <tr style=\"text-align: right;\">\n",
       "      <th></th>\n",
       "      <th>claim_id</th>\n",
       "      <th>customer_id</th>\n",
       "      <th>age</th>\n",
       "      <th>gender</th>\n",
       "      <th>incident_cause</th>\n",
       "      <th>days_to_incident</th>\n",
       "      <th>claim_area</th>\n",
       "      <th>police_report</th>\n",
       "      <th>claim_type</th>\n",
       "      <th>claim_amount</th>\n",
       "      <th>total_policy_claims</th>\n",
       "      <th>fraudulent</th>\n",
       "    </tr>\n",
       "  </thead>\n",
       "  <tbody>\n",
       "    <tr>\n",
       "      <th>0</th>\n",
       "      <td>54004764</td>\n",
       "      <td>21868593</td>\n",
       "      <td>32</td>\n",
       "      <td>Female</td>\n",
       "      <td>Driver error</td>\n",
       "      <td>225</td>\n",
       "      <td>Auto</td>\n",
       "      <td>No</td>\n",
       "      <td>Material only</td>\n",
       "      <td>2980.0</td>\n",
       "      <td>1</td>\n",
       "      <td>No</td>\n",
       "    </tr>\n",
       "    <tr>\n",
       "      <th>1</th>\n",
       "      <td>33985796</td>\n",
       "      <td>75740424</td>\n",
       "      <td>60</td>\n",
       "      <td>Female</td>\n",
       "      <td>Crime</td>\n",
       "      <td>11874</td>\n",
       "      <td>Home</td>\n",
       "      <td>Unknown</td>\n",
       "      <td>Material only</td>\n",
       "      <td>2980.0</td>\n",
       "      <td>3</td>\n",
       "      <td>No</td>\n",
       "    </tr>\n",
       "    <tr>\n",
       "      <th>2</th>\n",
       "      <td>53522022</td>\n",
       "      <td>30308357</td>\n",
       "      <td>27</td>\n",
       "      <td>Female</td>\n",
       "      <td>Other driver error</td>\n",
       "      <td>4</td>\n",
       "      <td>Auto</td>\n",
       "      <td>No</td>\n",
       "      <td>Material only</td>\n",
       "      <td>3369.5</td>\n",
       "      <td>1</td>\n",
       "      <td>Yes</td>\n",
       "    </tr>\n",
       "    <tr>\n",
       "      <th>3</th>\n",
       "      <td>13015401</td>\n",
       "      <td>47830476</td>\n",
       "      <td>39</td>\n",
       "      <td>Female</td>\n",
       "      <td>Natural causes</td>\n",
       "      <td>5278</td>\n",
       "      <td>Auto</td>\n",
       "      <td>No</td>\n",
       "      <td>Material only</td>\n",
       "      <td>1680.0</td>\n",
       "      <td>1</td>\n",
       "      <td>No</td>\n",
       "    </tr>\n",
       "    <tr>\n",
       "      <th>4</th>\n",
       "      <td>22890252</td>\n",
       "      <td>19269962</td>\n",
       "      <td>47</td>\n",
       "      <td>Male</td>\n",
       "      <td>Crime</td>\n",
       "      <td>2335</td>\n",
       "      <td>Auto</td>\n",
       "      <td>No</td>\n",
       "      <td>Material only</td>\n",
       "      <td>2680.0</td>\n",
       "      <td>1</td>\n",
       "      <td>No</td>\n",
       "    </tr>\n",
       "  </tbody>\n",
       "</table>\n",
       "</div>"
      ],
      "text/plain": [
       "   claim_id  customer_id  age  gender      incident_cause  days_to_incident  \\\n",
       "0  54004764     21868593   32  Female        Driver error               225   \n",
       "1  33985796     75740424   60  Female               Crime             11874   \n",
       "2  53522022     30308357   27  Female  Other driver error                 4   \n",
       "3  13015401     47830476   39  Female      Natural causes              5278   \n",
       "4  22890252     19269962   47    Male               Crime              2335   \n",
       "\n",
       "  claim_area police_report     claim_type  claim_amount  total_policy_claims  \\\n",
       "0       Auto            No  Material only        2980.0                    1   \n",
       "1       Home       Unknown  Material only        2980.0                    3   \n",
       "2       Auto            No  Material only        3369.5                    1   \n",
       "3       Auto            No  Material only        1680.0                    1   \n",
       "4       Auto            No  Material only        2680.0                    1   \n",
       "\n",
       "  fraudulent  \n",
       "0         No  \n",
       "1         No  \n",
       "2        Yes  \n",
       "3         No  \n",
       "4         No  "
      ]
     },
     "execution_count": 2,
     "metadata": {},
     "output_type": "execute_result"
    }
   ],
   "source": [
    "data = pd.read_csv('insurance_fraud_data.txt') #ensure .ipynb notebook is in the same folder as the data set\n",
    "data.head() #returns the first 5 rows; remove .head() to see the entire dataset"
   ]
  },
  {
   "cell_type": "markdown",
   "metadata": {},
   "source": [
    "## 2. Exploratory data analysis (EDA)\n",
    "Second, we perform some exploratory data analysis (EDA) to better understand the structure, variables types, and values we are dealing with.\n",
    "\n",
    "1. Let's check the shape (rows and columns) of the dataset"
   ]
  },
  {
   "cell_type": "code",
   "execution_count": 3,
   "metadata": {},
   "outputs": [
    {
     "data": {
      "text/plain": [
       "(1100, 12)"
      ]
     },
     "execution_count": 3,
     "metadata": {},
     "output_type": "execute_result"
    }
   ],
   "source": [
    "data.shape"
   ]
  },
  {
   "cell_type": "markdown",
   "metadata": {},
   "source": [
    "The dataset has 1100 rows (entries/instances/observations) and 12 columns (features). \n",
    "\n",
    "2. Next we get some information about the dataset"
   ]
  },
  {
   "cell_type": "code",
   "execution_count": 4,
   "metadata": {},
   "outputs": [
    {
     "name": "stdout",
     "output_type": "stream",
     "text": [
      "<class 'pandas.core.frame.DataFrame'>\n",
      "RangeIndex: 1100 entries, 0 to 1099\n",
      "Data columns (total 12 columns):\n",
      " #   Column               Non-Null Count  Dtype  \n",
      "---  ------               --------------  -----  \n",
      " 0   claim_id             1100 non-null   int64  \n",
      " 1   customer_id          1100 non-null   int64  \n",
      " 2   age                  1100 non-null   int64  \n",
      " 3   gender               1100 non-null   object \n",
      " 4   incident_cause       1100 non-null   object \n",
      " 5   days_to_incident     1100 non-null   int64  \n",
      " 6   claim_area           1100 non-null   object \n",
      " 7   police_report        1100 non-null   object \n",
      " 8   claim_type           1100 non-null   object \n",
      " 9   claim_amount         1100 non-null   float64\n",
      " 10  total_policy_claims  1100 non-null   int64  \n",
      " 11  fraudulent           1100 non-null   object \n",
      "dtypes: float64(1), int64(5), object(6)\n",
      "memory usage: 103.2+ KB\n"
     ]
    }
   ],
   "source": [
    "data.info() #this command will reveal missing values, NaN values and variable types"
   ]
  },
  {
   "cell_type": "markdown",
   "metadata": {},
   "source": [
    "We observe:\n",
    "- No missing values (all variables show 1100 entries)\n",
    "- no NaN values \n",
    "- mostly int and float values, but also some object/strings (these require further attention)\n",
    "\n",
    "3. Finally we can output some descriptive statistics"
   ]
  },
  {
   "cell_type": "code",
   "execution_count": 5,
   "metadata": {},
   "outputs": [
    {
     "data": {
      "text/html": [
       "<div>\n",
       "<style scoped>\n",
       "    .dataframe tbody tr th:only-of-type {\n",
       "        vertical-align: middle;\n",
       "    }\n",
       "\n",
       "    .dataframe tbody tr th {\n",
       "        vertical-align: top;\n",
       "    }\n",
       "\n",
       "    .dataframe thead th {\n",
       "        text-align: right;\n",
       "    }\n",
       "</style>\n",
       "<table border=\"1\" class=\"dataframe\">\n",
       "  <thead>\n",
       "    <tr style=\"text-align: right;\">\n",
       "      <th></th>\n",
       "      <th>claim_id</th>\n",
       "      <th>customer_id</th>\n",
       "      <th>age</th>\n",
       "      <th>days_to_incident</th>\n",
       "      <th>claim_amount</th>\n",
       "      <th>total_policy_claims</th>\n",
       "    </tr>\n",
       "  </thead>\n",
       "  <tbody>\n",
       "    <tr>\n",
       "      <th>count</th>\n",
       "      <td>1100.0</td>\n",
       "      <td>1100.0</td>\n",
       "      <td>1100.0</td>\n",
       "      <td>1100.0</td>\n",
       "      <td>1100.0</td>\n",
       "      <td>1100.0</td>\n",
       "    </tr>\n",
       "    <tr>\n",
       "      <th>mean</th>\n",
       "      <td>48838190.0</td>\n",
       "      <td>50874698.0</td>\n",
       "      <td>48.0</td>\n",
       "      <td>2814.0</td>\n",
       "      <td>12318.0</td>\n",
       "      <td>2.0</td>\n",
       "    </tr>\n",
       "    <tr>\n",
       "      <th>std</th>\n",
       "      <td>29188060.0</td>\n",
       "      <td>28461020.0</td>\n",
       "      <td>18.0</td>\n",
       "      <td>2785.0</td>\n",
       "      <td>13688.0</td>\n",
       "      <td>1.0</td>\n",
       "    </tr>\n",
       "    <tr>\n",
       "      <th>min</th>\n",
       "      <td>26832.0</td>\n",
       "      <td>154557.0</td>\n",
       "      <td>18.0</td>\n",
       "      <td>2.0</td>\n",
       "      <td>1000.0</td>\n",
       "      <td>1.0</td>\n",
       "    </tr>\n",
       "    <tr>\n",
       "      <th>25%</th>\n",
       "      <td>23815805.0</td>\n",
       "      <td>26791756.0</td>\n",
       "      <td>33.0</td>\n",
       "      <td>636.0</td>\n",
       "      <td>1880.0</td>\n",
       "      <td>1.0</td>\n",
       "    </tr>\n",
       "    <tr>\n",
       "      <th>50%</th>\n",
       "      <td>48539331.0</td>\n",
       "      <td>49855152.0</td>\n",
       "      <td>47.0</td>\n",
       "      <td>2042.0</td>\n",
       "      <td>2750.0</td>\n",
       "      <td>1.0</td>\n",
       "    </tr>\n",
       "    <tr>\n",
       "      <th>75%</th>\n",
       "      <td>74074466.0</td>\n",
       "      <td>75949511.0</td>\n",
       "      <td>63.0</td>\n",
       "      <td>4154.0</td>\n",
       "      <td>23965.0</td>\n",
       "      <td>2.0</td>\n",
       "    </tr>\n",
       "    <tr>\n",
       "      <th>max</th>\n",
       "      <td>99775483.0</td>\n",
       "      <td>99961993.0</td>\n",
       "      <td>79.0</td>\n",
       "      <td>14991.0</td>\n",
       "      <td>48150.0</td>\n",
       "      <td>8.0</td>\n",
       "    </tr>\n",
       "  </tbody>\n",
       "</table>\n",
       "</div>"
      ],
      "text/plain": [
       "         claim_id  customer_id     age  days_to_incident  claim_amount  \\\n",
       "count      1100.0       1100.0  1100.0            1100.0        1100.0   \n",
       "mean   48838190.0   50874698.0    48.0            2814.0       12318.0   \n",
       "std    29188060.0   28461020.0    18.0            2785.0       13688.0   \n",
       "min       26832.0     154557.0    18.0               2.0        1000.0   \n",
       "25%    23815805.0   26791756.0    33.0             636.0        1880.0   \n",
       "50%    48539331.0   49855152.0    47.0            2042.0        2750.0   \n",
       "75%    74074466.0   75949511.0    63.0            4154.0       23965.0   \n",
       "max    99775483.0   99961993.0    79.0           14991.0       48150.0   \n",
       "\n",
       "       total_policy_claims  \n",
       "count               1100.0  \n",
       "mean                   2.0  \n",
       "std                    1.0  \n",
       "min                    1.0  \n",
       "25%                    1.0  \n",
       "50%                    1.0  \n",
       "75%                    2.0  \n",
       "max                    8.0  "
      ]
     },
     "execution_count": 5,
     "metadata": {},
     "output_type": "execute_result"
    }
   ],
   "source": [
    "data.describe().round() #this command will provide basic statistics for all numeric variables"
   ]
  },
  {
   "cell_type": "markdown",
   "metadata": {},
   "source": [
    "## 3. Data visualization\n",
    "\n",
    "We generate several plots to gain a better understanding of the data and its distribution. Note that there is no fixed guideline of what (or how) to plot. Think \"what would be interesting to see\" or \"what would help me to better understand the data\".\n",
    "\n",
    "#### Fraud vs. no fraud: absolute & relative distribution\n",
    "The first plot visually compares the absolute and relative distribution of fraudulent vs. non-fraudulent cases. "
   ]
  },
  {
   "cell_type": "markdown",
   "metadata": {},
   "source": [
    "#### Option 1: Standard pandas plotting"
   ]
  },
  {
   "cell_type": "code",
   "execution_count": 6,
   "metadata": {},
   "outputs": [
    {
     "data": {
      "image/png": "[encoded data removed]",
      "text/plain": [
       "<Figure size 432x288 with 1 Axes>"
      ]
     },
     "metadata": {
      "needs_background": "light"
     },
     "output_type": "display_data"
    }
   ],
   "source": [
    "ax = data['fraudulent'].value_counts().plot(kind='bar')\n",
    "\n",
    "#ax.set_xlabel('is fraud?')\n",
    "#ax.set_ylabel('Count')"
   ]
  },
  {
   "cell_type": "markdown",
   "metadata": {},
   "source": [
    "#### Option 2: Make it look nice for potential stakeholders, presentations, your online portfolio, etc."
   ]
  },
  {
   "cell_type": "code",
   "execution_count": 7,
   "metadata": {},
   "outputs": [
    {
     "data": {
      "image/png": "[encoded data removed]",
      "text/plain": [
       "<Figure size 576x360 with 2 Axes>"
      ]
     },
     "metadata": {
      "needs_background": "light"
     },
     "output_type": "display_data"
    }
   ],
   "source": [
    "# plot fraud vs. non-fraud \n",
    "keys, counts = np.unique(data.fraudulent, return_counts=True)\n",
    "counts_norm = counts/counts.sum()\n",
    "\n",
    "fig = plt.figure(figsize=(8, 5)) #specify figure size\n",
    "gs = gridspec.GridSpec(1, 2, width_ratios=[3,1]) #specify relative size of left and right plot\n",
    "\n",
    "#Absolute values\n",
    "ax0 = plt.subplot(gs[0])\n",
    "ax0 = plt.bar(['no fraud', 'fraud'], counts, color=['#1f77b4','#ff7f0e']) #left bar plot\n",
    "ax0 = plt.title('Fraud vs. no fraud:\\n Absolute distribution') \n",
    "ax0 = plt.ylabel('frequency')\n",
    "ax0 = plt.text(['no fraud'], counts[0]/2, counts[0]) #add text box with count of non-fraudulent cases\n",
    "ax0 = plt.text(['fraud'], counts[1]/2, counts[1]) #add text box with count of fraudulent cases\n",
    "\n",
    "#Normalized values\n",
    "ax1 = plt.subplot(gs[1])\n",
    "ax1 = plt.bar(['Data'], [counts_norm[0]], label='no fraud')\n",
    "ax1 = plt.bar(['Data'], [counts_norm[1]], bottom=counts_norm[0], label='fraud')\n",
    "ax1 = plt.legend(bbox_to_anchor=(1, 1))\n",
    "ax1 = plt.title('Fraud vs. no fraud:\\n Relative distribution')\n",
    "ax1 = plt.ylabel('frequency')\n",
    "ax1 = plt.text(['Data'],counts_norm[0]/2, '{}%'.format((counts_norm[0]*100).round(1)))\n",
    "ax1 = plt.text(['Data'],(counts_norm[1]/2)+counts_norm[0], '{}%'.format((counts_norm[1]*100).round(1)))\n",
    "\n",
    "plt.tight_layout()\n",
    "plt.show()"
   ]
  },
  {
   "cell_type": "markdown",
   "metadata": {},
   "source": [
    "We observe that the non-fraudulent cases account for about 77% of all observations. This <font color='red'>**imbalanced distribution**</font> of the response variable (`fraudulent`) occurs in many real-life Data Science problems and requires careful consideration when designing a classification model.\n",
    "\n",
    "\n",
    "<img src=\"Images/Thanos.png\" width=\"400\">\n",
    "\n",
    "Aaaah...nope..."
   ]
  },
  {
   "cell_type": "markdown",
   "metadata": {},
   "source": [
    "#### Fraudulent vs. non-fraudulent cases by incident cause\n",
    "\n",
    "Next, we plot the fraudulent vs. non-fraudulent cases and group them by the reported incident cause."
   ]
  },
  {
   "cell_type": "markdown",
   "metadata": {},
   "source": [
    "#### Option 1: Standard pandas plotting"
   ]
  },
  {
   "cell_type": "code",
   "execution_count": 8,
   "metadata": {},
   "outputs": [
    {
     "data": {
      "image/png": "[encoded data removed]",
      "text/plain": [
       "<Figure size 432x288 with 1 Axes>"
      ]
     },
     "metadata": {
      "needs_background": "light"
     },
     "output_type": "display_data"
    }
   ],
   "source": [
    "ax = data.groupby(['incident_cause', 'fraudulent'])['fraudulent'].count().unstack().plot.bar()"
   ]
  },
  {
   "cell_type": "markdown",
   "metadata": {},
   "source": [
    "#### Option 2: Make it look nice for potential stakeholders, presentations, your online portfolio, etc."
   ]
  },
  {
   "cell_type": "code",
   "execution_count": 9,
   "metadata": {},
   "outputs": [
    {
     "data": {
      "image/png": "[encoded data removed]",
      "text/plain": [
       "<Figure size 864x360 with 2 Axes>"
      ]
     },
     "metadata": {
      "needs_background": "light"
     },
     "output_type": "display_data"
    }
   ],
   "source": [
    "#frauds by incident cause\n",
    "fig = plt.figure(figsize=(12, 5)) #specify figure size\n",
    "\n",
    "#Absolute distribution\n",
    "plt.subplot(1, 2, 1)\n",
    "ax1 = data.groupby(['incident_cause', 'fraudulent'])['fraudulent'].count().unstack().plot.bar(rot=30, ax=plt.gca(), width=0.7)\n",
    "plt.title('Fraud vs. no fraud by incident cause:\\n Absolute distribution') \n",
    "#plot bar labels\n",
    "for p in ax1.patches:\n",
    "    ax1.annotate(str(p.get_height()), (p.get_x() * 1.005, p.get_height() * 0.605))\n",
    "\n",
    "#Relative distribution\n",
    "plt.subplot(1, 2, 2)\n",
    "ax2 = data.groupby(['incident_cause','fraudulent'])['fraudulent'].size().groupby(level=0).apply(\n",
    "    lambda x: 100 * x / x.sum()).unstack().plot(kind='bar',stacked=True, rot=30, ax=plt.gca())\n",
    "plt.gca().yaxis.set_major_formatter(mtick.PercentFormatter())\n",
    "plt.legend(bbox_to_anchor=(1, 1))\n",
    "plt.title('Fraud vs. no fraud by incident cause:\\n Relative distribution') \n",
    "#plot bar labels\n",
    "for p, q in zip(ax2.patches[0:5], ax2.patches[5:10]):\n",
    "    ax2.annotate(str(round(p.get_height(),1)) + '%', (p.get_x(), p.get_height()/2))\n",
    "    ax2.annotate(str(round(q.get_height(),1)) + '%', (q.get_x(), q.get_height()/2+p.get_height()))\n",
    "\n",
    "plt.tight_layout()\n",
    "plt.show()"
   ]
  },
  {
   "cell_type": "markdown",
   "metadata": {},
   "source": [
    "We observe an almost equal distribution of fraudulent vs. non-fraudulent cases amongst the 5 incident causes. Thus, the variable `incident_cause` is probably not a good predictor for the \"fraudulentness\" of a claim."
   ]
  },
  {
   "cell_type": "markdown",
   "metadata": {},
   "source": [
    "#### Days to incident distribution\n",
    "\n",
    "Next, we plot the relative distribution of days to incident (the time that has elapsed between signing the insurance policy and when the first claim was reported). "
   ]
  },
  {
   "cell_type": "code",
   "execution_count": 10,
   "metadata": {},
   "outputs": [
    {
     "data": {
      "image/png": "[encoded data removed]",
      "text/plain": [
       "<Figure size 720x360 with 1 Axes>"
      ]
     },
     "metadata": {
      "needs_background": "light"
     },
     "output_type": "display_data"
    }
   ],
   "source": [
    "ax = data['days_to_incident'].loc[data['fraudulent'] == 'No'].plot.hist(bins=10, label='no fraud', figsize = (10,5))\n",
    "ax = data['days_to_incident'].loc[data['fraudulent'] == 'Yes'].plot.hist(bins=10, label='fraud')\n",
    "ax.set_xlabel('Days to incident')\n",
    "ax.set_title('Relative days_to_incident distribution')\n",
    "ax.legend();"
   ]
  },
  {
   "cell_type": "markdown",
   "metadata": {},
   "source": [
    "Fraudulent cases appear to be reported closer to the signing day. "
   ]
  },
  {
   "cell_type": "markdown",
   "metadata": {},
   "source": [
    "#### Fraudulent vs. non-fraudulent cases by claim area\n",
    "\n",
    "Next, we plot the fraudulent vs. non-fraudulent cases and group them by the reported claim area (either *auto* or *home*)."
   ]
  },
  {
   "cell_type": "markdown",
   "metadata": {},
   "source": [
    "#### Option 1: Standard pandas plotting"
   ]
  },
  {
   "cell_type": "code",
   "execution_count": 11,
   "metadata": {},
   "outputs": [
    {
     "data": {
      "image/png": "[encoded data removed]",
      "text/plain": [
       "<Figure size 432x288 with 1 Axes>"
      ]
     },
     "metadata": {
      "needs_background": "light"
     },
     "output_type": "display_data"
    }
   ],
   "source": [
    "ax = data.groupby(['claim_area', 'fraudulent'])['fraudulent'].count().unstack().plot.bar()"
   ]
  },
  {
   "cell_type": "markdown",
   "metadata": {},
   "source": [
    "#### Option 2: Make it look nice for potential stakeholders, presentations, your online portfolio, etc."
   ]
  },
  {
   "cell_type": "code",
   "execution_count": 12,
   "metadata": {},
   "outputs": [
    {
     "data": {
      "image/png": "[encoded data removed]",
      "text/plain": [
       "<Figure size 864x360 with 2 Axes>"
      ]
     },
     "metadata": {
      "needs_background": "light"
     },
     "output_type": "display_data"
    }
   ],
   "source": [
    "#frauds by claim area\n",
    "fig = plt.figure(figsize=(12, 5)) #specify figure size\n",
    "\n",
    "#Absolute distribution\n",
    "plt.subplot(1, 2, 1)\n",
    "ax1 = data.groupby(['claim_area', 'fraudulent'])['fraudulent'].count().unstack().plot.bar(rot=0, ax=plt.gca(), width=0.7)\n",
    "plt.title('Fraud vs. no fraud by claim area:\\n Absolute distribution') \n",
    "#plot bar labels\n",
    "for p in ax1.patches:\n",
    "    ax1.annotate(str(p.get_height()), (p.get_x() +0.1, p.get_height() * 0.605))\n",
    "\n",
    "#Relative distribution\n",
    "plt.subplot(1, 2, 2)\n",
    "ax2 = data.groupby(['claim_area','fraudulent'])['fraudulent'].size().groupby(level=0).apply(\n",
    "    lambda x: 100 * x / x.sum()).unstack().plot(kind='bar',stacked=True, rot=0, ax=plt.gca())\n",
    "plt.gca().yaxis.set_major_formatter(mtick.PercentFormatter())\n",
    "plt.legend(bbox_to_anchor=(1, 1))\n",
    "plt.title('Fraud vs. no fraud by claim area:\\n Relative distribution') \n",
    "#plot bar labels\n",
    "for p, q in zip(ax2.patches[0:2], ax2.patches[2:4]):\n",
    "    ax2.annotate(str(round(p.get_height(),1)) + '%', (p.get_x()+0.1, p.get_height()/2))\n",
    "    ax2.annotate(str(round(q.get_height(),1)) + '%', (q.get_x()+0.1, q.get_height()/2+p.get_height()))\n",
    "\n",
    "plt.tight_layout()\n",
    "plt.show()"
   ]
  },
  {
   "cell_type": "markdown",
   "metadata": {},
   "source": [
    "Again, we observe an almost equal distribution of fraudulent vs. non-fraudulent cases amongst the 2 claim areas \"auto\" and \"car\". Thus, the variable `claim_area` is probably not a good predictor for the \"fraudulentness\" of a claim."
   ]
  },
  {
   "cell_type": "markdown",
   "metadata": {},
   "source": [
    "#### Fraudulent vs. non-fraudulent cases by claim type\n",
    "\n",
    "Next, we plot the fraudulent vs. non-fraudulent cases and group them by the reported claim type (*injury only*, *Material and injury* or *Material only*)."
   ]
  },
  {
   "cell_type": "markdown",
   "metadata": {},
   "source": [
    "#### Option 1: Standard pandas plotting"
   ]
  },
  {
   "cell_type": "code",
   "execution_count": 13,
   "metadata": {},
   "outputs": [
    {
     "data": {
      "image/png": "[encoded data removed]",
      "text/plain": [
       "<Figure size 432x288 with 1 Axes>"
      ]
     },
     "metadata": {
      "needs_background": "light"
     },
     "output_type": "display_data"
    }
   ],
   "source": [
    "ax = data.groupby(['claim_type', 'fraudulent'])['fraudulent'].count().unstack().plot.bar()"
   ]
  },
  {
   "cell_type": "markdown",
   "metadata": {},
   "source": [
    "#### Option 2: Make it look nice for potential stakeholders, presentations, your online portfolio, etc."
   ]
  },
  {
   "cell_type": "code",
   "execution_count": 14,
   "metadata": {},
   "outputs": [
    {
     "data": {
      "image/png": "[encoded data removed]",
      "text/plain": [
       "<Figure size 864x360 with 2 Axes>"
      ]
     },
     "metadata": {
      "needs_background": "light"
     },
     "output_type": "display_data"
    }
   ],
   "source": [
    "#frauds by claim area\n",
    "fig = plt.figure(figsize=(12, 5)) #specify figure size\n",
    "\n",
    "#Absolute distribution\n",
    "plt.subplot(1, 2, 1)\n",
    "ax1 = data.groupby(['claim_type', 'fraudulent'])['fraudulent'].count().unstack().plot.bar(rot=0, ax=plt.gca(), width=0.7)\n",
    "plt.title('Fraud vs. no fraud by claim type:\\n Absolute distribution') \n",
    "#plot bar labels\n",
    "for p in ax1.patches:\n",
    "    ax1.annotate(str(p.get_height()), (p.get_x() +0.1, p.get_height() * 0.605))\n",
    "\n",
    "#Relative distribution\n",
    "plt.subplot(1, 2, 2)\n",
    "ax2 = data.groupby(['claim_type','fraudulent'])['fraudulent'].size().groupby(level=0).apply(\n",
    "    lambda x: 100 * x / x.sum()).unstack().plot(kind='bar',stacked=True, rot=0, ax=plt.gca())\n",
    "plt.gca().yaxis.set_major_formatter(mtick.PercentFormatter())\n",
    "plt.legend(bbox_to_anchor=(1, 1))\n",
    "plt.title('Fraud vs. no fraud by claim type:\\n Relative distribution') \n",
    "#plot bar labels\n",
    "for p, q in zip(ax2.patches[0:3], ax2.patches[3:6]):\n",
    "    ax2.annotate(str(round(p.get_height(),1)) + '%', (p.get_x()+0.1, p.get_height()/2))\n",
    "    ax2.annotate(str(round(q.get_height(),1)) + '%', (q.get_x()+0.1, q.get_height()/2+p.get_height()))\n",
    "\n",
    "plt.tight_layout()\n",
    "plt.show()"
   ]
  },
  {
   "cell_type": "markdown",
   "metadata": {},
   "source": [
    "We observe a higher proportion of fraudulent claims in the \"Material and injury\" and \"Material only\" claim type. It appears that more people try to scam the insurance company with some sort of material-related claims. "
   ]
  },
  {
   "cell_type": "markdown",
   "metadata": {},
   "source": [
    "#### Claim amount distribution\n",
    "\n",
    "Lastly, we plot the relative claim amount distribution of fraudulent and non-fraudulent cases. "
   ]
  },
  {
   "cell_type": "markdown",
   "metadata": {},
   "source": [
    "#### Option 1: Standard pandas plotting"
   ]
  },
  {
   "cell_type": "code",
   "execution_count": 15,
   "metadata": {},
   "outputs": [
    {
     "data": {
      "image/png": "[encoded data removed]",
      "text/plain": [
       "<Figure size 720x360 with 1 Axes>"
      ]
     },
     "metadata": {
      "needs_background": "light"
     },
     "output_type": "display_data"
    }
   ],
   "source": [
    "ax = data['claim_amount'].loc[data['fraudulent'] == 'No'].plot.hist(bins=10, alpha=0.7, label='no fraud', figsize = (10,5))\n",
    "ax = data['claim_amount'].loc[data['fraudulent'] == 'Yes'].plot.hist(bins=10, alpha=0.7, label='fraud')\n",
    "ax.set_xlabel('Claim amount')\n",
    "ax.set_title('Claim amount distribution')\n",
    "ax.legend();"
   ]
  },
  {
   "cell_type": "markdown",
   "metadata": {},
   "source": [
    "We observe a slightly higher proportion of fraudulent cases in the first bin of up to ca. 4100€. Moreover, we see that fraudulent claims account for most of the highest claims. Above 40,000€, there are only frauds. The plot suggests that `claim amount` might be an important variable in predicting fraudulent cases."
   ]
  },
  {
   "cell_type": "markdown",
   "metadata": {},
   "source": [
    "## 4. Data cleaning & pre-processing\n",
    "\n",
    "The data cannot be passed to the Decision Tree classifier in its current state. It requires some preprocessing."
   ]
  },
  {
   "cell_type": "code",
   "execution_count": 16,
   "metadata": {},
   "outputs": [
    {
     "data": {
      "text/html": [
       "<div>\n",
       "<style scoped>\n",
       "    .dataframe tbody tr th:only-of-type {\n",
       "        vertical-align: middle;\n",
       "    }\n",
       "\n",
       "    .dataframe tbody tr th {\n",
       "        vertical-align: top;\n",
       "    }\n",
       "\n",
       "    .dataframe thead th {\n",
       "        text-align: right;\n",
       "    }\n",
       "</style>\n",
       "<table border=\"1\" class=\"dataframe\">\n",
       "  <thead>\n",
       "    <tr style=\"text-align: right;\">\n",
       "      <th></th>\n",
       "      <th>claim_id</th>\n",
       "      <th>customer_id</th>\n",
       "      <th>age</th>\n",
       "      <th>gender</th>\n",
       "      <th>incident_cause</th>\n",
       "      <th>days_to_incident</th>\n",
       "      <th>claim_area</th>\n",
       "      <th>police_report</th>\n",
       "      <th>claim_type</th>\n",
       "      <th>claim_amount</th>\n",
       "      <th>total_policy_claims</th>\n",
       "      <th>fraudulent</th>\n",
       "    </tr>\n",
       "  </thead>\n",
       "  <tbody>\n",
       "    <tr>\n",
       "      <th>0</th>\n",
       "      <td>54004764</td>\n",
       "      <td>21868593</td>\n",
       "      <td>32</td>\n",
       "      <td>Female</td>\n",
       "      <td>Driver error</td>\n",
       "      <td>225</td>\n",
       "      <td>Auto</td>\n",
       "      <td>No</td>\n",
       "      <td>Material only</td>\n",
       "      <td>2980.0</td>\n",
       "      <td>1</td>\n",
       "      <td>No</td>\n",
       "    </tr>\n",
       "    <tr>\n",
       "      <th>1</th>\n",
       "      <td>33985796</td>\n",
       "      <td>75740424</td>\n",
       "      <td>60</td>\n",
       "      <td>Female</td>\n",
       "      <td>Crime</td>\n",
       "      <td>11874</td>\n",
       "      <td>Home</td>\n",
       "      <td>Unknown</td>\n",
       "      <td>Material only</td>\n",
       "      <td>2980.0</td>\n",
       "      <td>3</td>\n",
       "      <td>No</td>\n",
       "    </tr>\n",
       "    <tr>\n",
       "      <th>2</th>\n",
       "      <td>53522022</td>\n",
       "      <td>30308357</td>\n",
       "      <td>27</td>\n",
       "      <td>Female</td>\n",
       "      <td>Other driver error</td>\n",
       "      <td>4</td>\n",
       "      <td>Auto</td>\n",
       "      <td>No</td>\n",
       "      <td>Material only</td>\n",
       "      <td>3369.5</td>\n",
       "      <td>1</td>\n",
       "      <td>Yes</td>\n",
       "    </tr>\n",
       "    <tr>\n",
       "      <th>3</th>\n",
       "      <td>13015401</td>\n",
       "      <td>47830476</td>\n",
       "      <td>39</td>\n",
       "      <td>Female</td>\n",
       "      <td>Natural causes</td>\n",
       "      <td>5278</td>\n",
       "      <td>Auto</td>\n",
       "      <td>No</td>\n",
       "      <td>Material only</td>\n",
       "      <td>1680.0</td>\n",
       "      <td>1</td>\n",
       "      <td>No</td>\n",
       "    </tr>\n",
       "    <tr>\n",
       "      <th>4</th>\n",
       "      <td>22890252</td>\n",
       "      <td>19269962</td>\n",
       "      <td>47</td>\n",
       "      <td>Male</td>\n",
       "      <td>Crime</td>\n",
       "      <td>2335</td>\n",
       "      <td>Auto</td>\n",
       "      <td>No</td>\n",
       "      <td>Material only</td>\n",
       "      <td>2680.0</td>\n",
       "      <td>1</td>\n",
       "      <td>No</td>\n",
       "    </tr>\n",
       "  </tbody>\n",
       "</table>\n",
       "</div>"
      ],
      "text/plain": [
       "   claim_id  customer_id  age  gender      incident_cause  days_to_incident  \\\n",
       "0  54004764     21868593   32  Female        Driver error               225   \n",
       "1  33985796     75740424   60  Female               Crime             11874   \n",
       "2  53522022     30308357   27  Female  Other driver error                 4   \n",
       "3  13015401     47830476   39  Female      Natural causes              5278   \n",
       "4  22890252     19269962   47    Male               Crime              2335   \n",
       "\n",
       "  claim_area police_report     claim_type  claim_amount  total_policy_claims  \\\n",
       "0       Auto            No  Material only        2980.0                    1   \n",
       "1       Home       Unknown  Material only        2980.0                    3   \n",
       "2       Auto            No  Material only        3369.5                    1   \n",
       "3       Auto            No  Material only        1680.0                    1   \n",
       "4       Auto            No  Material only        2680.0                    1   \n",
       "\n",
       "  fraudulent  \n",
       "0         No  \n",
       "1         No  \n",
       "2        Yes  \n",
       "3         No  \n",
       "4         No  "
      ]
     },
     "execution_count": 16,
     "metadata": {},
     "output_type": "execute_result"
    }
   ],
   "source": [
    "data.head()"
   ]
  },
  {
   "cell_type": "markdown",
   "metadata": {},
   "source": [
    "### Remove variables that have no explanatory power\n",
    "\n",
    "The variables `claim_id` and `customer_id` are used by the insurance company as identifiers. They have no explantory power and might actually mislead the Decision Tree algorithm. We remove the variables to keep the data sparse:"
   ]
  },
  {
   "cell_type": "code",
   "execution_count": 17,
   "metadata": {},
   "outputs": [
    {
     "data": {
      "text/html": [
       "<div>\n",
       "<style scoped>\n",
       "    .dataframe tbody tr th:only-of-type {\n",
       "        vertical-align: middle;\n",
       "    }\n",
       "\n",
       "    .dataframe tbody tr th {\n",
       "        vertical-align: top;\n",
       "    }\n",
       "\n",
       "    .dataframe thead th {\n",
       "        text-align: right;\n",
       "    }\n",
       "</style>\n",
       "<table border=\"1\" class=\"dataframe\">\n",
       "  <thead>\n",
       "    <tr style=\"text-align: right;\">\n",
       "      <th></th>\n",
       "      <th>age</th>\n",
       "      <th>gender</th>\n",
       "      <th>incident_cause</th>\n",
       "      <th>days_to_incident</th>\n",
       "      <th>claim_area</th>\n",
       "      <th>police_report</th>\n",
       "      <th>claim_type</th>\n",
       "      <th>claim_amount</th>\n",
       "      <th>total_policy_claims</th>\n",
       "      <th>fraudulent</th>\n",
       "    </tr>\n",
       "  </thead>\n",
       "  <tbody>\n",
       "    <tr>\n",
       "      <th>0</th>\n",
       "      <td>32</td>\n",
       "      <td>Female</td>\n",
       "      <td>Driver error</td>\n",
       "      <td>225</td>\n",
       "      <td>Auto</td>\n",
       "      <td>No</td>\n",
       "      <td>Material only</td>\n",
       "      <td>2980.0</td>\n",
       "      <td>1</td>\n",
       "      <td>No</td>\n",
       "    </tr>\n",
       "    <tr>\n",
       "      <th>1</th>\n",
       "      <td>60</td>\n",
       "      <td>Female</td>\n",
       "      <td>Crime</td>\n",
       "      <td>11874</td>\n",
       "      <td>Home</td>\n",
       "      <td>Unknown</td>\n",
       "      <td>Material only</td>\n",
       "      <td>2980.0</td>\n",
       "      <td>3</td>\n",
       "      <td>No</td>\n",
       "    </tr>\n",
       "    <tr>\n",
       "      <th>2</th>\n",
       "      <td>27</td>\n",
       "      <td>Female</td>\n",
       "      <td>Other driver error</td>\n",
       "      <td>4</td>\n",
       "      <td>Auto</td>\n",
       "      <td>No</td>\n",
       "      <td>Material only</td>\n",
       "      <td>3369.5</td>\n",
       "      <td>1</td>\n",
       "      <td>Yes</td>\n",
       "    </tr>\n",
       "    <tr>\n",
       "      <th>3</th>\n",
       "      <td>39</td>\n",
       "      <td>Female</td>\n",
       "      <td>Natural causes</td>\n",
       "      <td>5278</td>\n",
       "      <td>Auto</td>\n",
       "      <td>No</td>\n",
       "      <td>Material only</td>\n",
       "      <td>1680.0</td>\n",
       "      <td>1</td>\n",
       "      <td>No</td>\n",
       "    </tr>\n",
       "    <tr>\n",
       "      <th>4</th>\n",
       "      <td>47</td>\n",
       "      <td>Male</td>\n",
       "      <td>Crime</td>\n",
       "      <td>2335</td>\n",
       "      <td>Auto</td>\n",
       "      <td>No</td>\n",
       "      <td>Material only</td>\n",
       "      <td>2680.0</td>\n",
       "      <td>1</td>\n",
       "      <td>No</td>\n",
       "    </tr>\n",
       "  </tbody>\n",
       "</table>\n",
       "</div>"
      ],
      "text/plain": [
       "   age  gender      incident_cause  days_to_incident claim_area police_report  \\\n",
       "0   32  Female        Driver error               225       Auto            No   \n",
       "1   60  Female               Crime             11874       Home       Unknown   \n",
       "2   27  Female  Other driver error                 4       Auto            No   \n",
       "3   39  Female      Natural causes              5278       Auto            No   \n",
       "4   47    Male               Crime              2335       Auto            No   \n",
       "\n",
       "      claim_type  claim_amount  total_policy_claims fraudulent  \n",
       "0  Material only        2980.0                    1         No  \n",
       "1  Material only        2980.0                    3         No  \n",
       "2  Material only        3369.5                    1        Yes  \n",
       "3  Material only        1680.0                    1         No  \n",
       "4  Material only        2680.0                    1         No  "
      ]
     },
     "execution_count": 17,
     "metadata": {},
     "output_type": "execute_result"
    }
   ],
   "source": [
    "data = data.drop(['claim_id', 'customer_id'], axis=1) #axis=1 drops a column (axis=0 drops a row)\n",
    "data.head()"
   ]
  },
  {
   "cell_type": "code",
   "execution_count": 18,
   "metadata": {},
   "outputs": [
    {
     "data": {
      "text/plain": [
       "(1100, 10)"
      ]
     },
     "execution_count": 18,
     "metadata": {},
     "output_type": "execute_result"
    }
   ],
   "source": [
    "data.shape #note that we now have 10 instead of 12 columns"
   ]
  },
  {
   "cell_type": "markdown",
   "metadata": {},
   "source": [
    "### Encode categorical variables\n",
    "\n",
    "The scikit-learn Decision Tree algorithm uses only numerical features, which are always interpreted as *continuous numeric variables*. We print the variable types and see that `gender`, `incident_cause`, `claim_area`, `police_report`, `claim_type`, and `fraudulent` are of type object (they are strings). Thus, we have to encode the strings to make them readable for the Decision Tree model."
   ]
  },
  {
   "cell_type": "code",
   "execution_count": 19,
   "metadata": {},
   "outputs": [
    {
     "name": "stdout",
     "output_type": "stream",
     "text": [
      "<class 'pandas.core.frame.DataFrame'>\n",
      "RangeIndex: 1100 entries, 0 to 1099\n",
      "Data columns (total 10 columns):\n",
      " #   Column               Non-Null Count  Dtype  \n",
      "---  ------               --------------  -----  \n",
      " 0   age                  1100 non-null   int64  \n",
      " 1   gender               1100 non-null   object \n",
      " 2   incident_cause       1100 non-null   object \n",
      " 3   days_to_incident     1100 non-null   int64  \n",
      " 4   claim_area           1100 non-null   object \n",
      " 5   police_report        1100 non-null   object \n",
      " 6   claim_type           1100 non-null   object \n",
      " 7   claim_amount         1100 non-null   float64\n",
      " 8   total_policy_claims  1100 non-null   int64  \n",
      " 9   fraudulent           1100 non-null   object \n",
      "dtypes: float64(1), int64(3), object(6)\n",
      "memory usage: 86.1+ KB\n"
     ]
    }
   ],
   "source": [
    "data.info() "
   ]
  },
  {
   "cell_type": "markdown",
   "metadata": {},
   "source": [
    "One approach to encoding categorical values is to use a technique called **label encoding**. Label encoding is simply converting each value in a column to a number. For example, the `fraudulent` column contains 2 different values that can be encoded as:\n",
    "- No -> 0\n",
    "- Yes -> 1\n",
    "\n",
    "This technqiue works well for the target variable."
   ]
  },
  {
   "cell_type": "code",
   "execution_count": 20,
   "metadata": {},
   "outputs": [
    {
     "data": {
      "text/html": [
       "<div>\n",
       "<style scoped>\n",
       "    .dataframe tbody tr th:only-of-type {\n",
       "        vertical-align: middle;\n",
       "    }\n",
       "\n",
       "    .dataframe tbody tr th {\n",
       "        vertical-align: top;\n",
       "    }\n",
       "\n",
       "    .dataframe thead th {\n",
       "        text-align: right;\n",
       "    }\n",
       "</style>\n",
       "<table border=\"1\" class=\"dataframe\">\n",
       "  <thead>\n",
       "    <tr style=\"text-align: right;\">\n",
       "      <th></th>\n",
       "      <th>age</th>\n",
       "      <th>gender</th>\n",
       "      <th>incident_cause</th>\n",
       "      <th>days_to_incident</th>\n",
       "      <th>claim_area</th>\n",
       "      <th>police_report</th>\n",
       "      <th>claim_type</th>\n",
       "      <th>claim_amount</th>\n",
       "      <th>total_policy_claims</th>\n",
       "      <th>fraudulent</th>\n",
       "    </tr>\n",
       "  </thead>\n",
       "  <tbody>\n",
       "    <tr>\n",
       "      <th>0</th>\n",
       "      <td>32</td>\n",
       "      <td>Female</td>\n",
       "      <td>Driver error</td>\n",
       "      <td>225</td>\n",
       "      <td>Auto</td>\n",
       "      <td>No</td>\n",
       "      <td>Material only</td>\n",
       "      <td>2980.0</td>\n",
       "      <td>1</td>\n",
       "      <td>0</td>\n",
       "    </tr>\n",
       "    <tr>\n",
       "      <th>1</th>\n",
       "      <td>60</td>\n",
       "      <td>Female</td>\n",
       "      <td>Crime</td>\n",
       "      <td>11874</td>\n",
       "      <td>Home</td>\n",
       "      <td>Unknown</td>\n",
       "      <td>Material only</td>\n",
       "      <td>2980.0</td>\n",
       "      <td>3</td>\n",
       "      <td>0</td>\n",
       "    </tr>\n",
       "    <tr>\n",
       "      <th>2</th>\n",
       "      <td>27</td>\n",
       "      <td>Female</td>\n",
       "      <td>Other driver error</td>\n",
       "      <td>4</td>\n",
       "      <td>Auto</td>\n",
       "      <td>No</td>\n",
       "      <td>Material only</td>\n",
       "      <td>3369.5</td>\n",
       "      <td>1</td>\n",
       "      <td>1</td>\n",
       "    </tr>\n",
       "    <tr>\n",
       "      <th>3</th>\n",
       "      <td>39</td>\n",
       "      <td>Female</td>\n",
       "      <td>Natural causes</td>\n",
       "      <td>5278</td>\n",
       "      <td>Auto</td>\n",
       "      <td>No</td>\n",
       "      <td>Material only</td>\n",
       "      <td>1680.0</td>\n",
       "      <td>1</td>\n",
       "      <td>0</td>\n",
       "    </tr>\n",
       "    <tr>\n",
       "      <th>4</th>\n",
       "      <td>47</td>\n",
       "      <td>Male</td>\n",
       "      <td>Crime</td>\n",
       "      <td>2335</td>\n",
       "      <td>Auto</td>\n",
       "      <td>No</td>\n",
       "      <td>Material only</td>\n",
       "      <td>2680.0</td>\n",
       "      <td>1</td>\n",
       "      <td>0</td>\n",
       "    </tr>\n",
       "  </tbody>\n",
       "</table>\n",
       "</div>"
      ],
      "text/plain": [
       "   age  gender      incident_cause  days_to_incident claim_area police_report  \\\n",
       "0   32  Female        Driver error               225       Auto            No   \n",
       "1   60  Female               Crime             11874       Home       Unknown   \n",
       "2   27  Female  Other driver error                 4       Auto            No   \n",
       "3   39  Female      Natural causes              5278       Auto            No   \n",
       "4   47    Male               Crime              2335       Auto            No   \n",
       "\n",
       "      claim_type  claim_amount  total_policy_claims  fraudulent  \n",
       "0  Material only        2980.0                    1           0  \n",
       "1  Material only        2980.0                    3           0  \n",
       "2  Material only        3369.5                    1           1  \n",
       "3  Material only        1680.0                    1           0  \n",
       "4  Material only        2680.0                    1           0  "
      ]
     },
     "execution_count": 20,
     "metadata": {},
     "output_type": "execute_result"
    }
   ],
   "source": [
    "cleanup_nums = {\"fraudulent\": {\"No\": 0, \"Yes\": 1}}\n",
    "data.replace(cleanup_nums, inplace=True)\n",
    "data.head() #note how the fraudulent "
   ]
  },
  {
   "cell_type": "code",
   "execution_count": 21,
   "metadata": {},
   "outputs": [
    {
     "data": {
      "text/html": [
       "<div>\n",
       "<style scoped>\n",
       "    .dataframe tbody tr th:only-of-type {\n",
       "        vertical-align: middle;\n",
       "    }\n",
       "\n",
       "    .dataframe tbody tr th {\n",
       "        vertical-align: top;\n",
       "    }\n",
       "\n",
       "    .dataframe thead th {\n",
       "        text-align: right;\n",
       "    }\n",
       "</style>\n",
       "<table border=\"1\" class=\"dataframe\">\n",
       "  <thead>\n",
       "    <tr style=\"text-align: right;\">\n",
       "      <th></th>\n",
       "      <th>age</th>\n",
       "      <th>days_to_incident</th>\n",
       "      <th>claim_amount</th>\n",
       "      <th>total_policy_claims</th>\n",
       "      <th>fraudulent</th>\n",
       "    </tr>\n",
       "  </thead>\n",
       "  <tbody>\n",
       "    <tr>\n",
       "      <th>age</th>\n",
       "      <td>1.000000</td>\n",
       "      <td>0.640207</td>\n",
       "      <td>-0.005397</td>\n",
       "      <td>0.063930</td>\n",
       "      <td>-0.112574</td>\n",
       "    </tr>\n",
       "    <tr>\n",
       "      <th>days_to_incident</th>\n",
       "      <td>0.640207</td>\n",
       "      <td>1.000000</td>\n",
       "      <td>-0.045448</td>\n",
       "      <td>0.016872</td>\n",
       "      <td>-0.123528</td>\n",
       "    </tr>\n",
       "    <tr>\n",
       "      <th>claim_amount</th>\n",
       "      <td>-0.005397</td>\n",
       "      <td>-0.045448</td>\n",
       "      <td>1.000000</td>\n",
       "      <td>-0.012472</td>\n",
       "      <td>0.022501</td>\n",
       "    </tr>\n",
       "    <tr>\n",
       "      <th>total_policy_claims</th>\n",
       "      <td>0.063930</td>\n",
       "      <td>0.016872</td>\n",
       "      <td>-0.012472</td>\n",
       "      <td>1.000000</td>\n",
       "      <td>0.077838</td>\n",
       "    </tr>\n",
       "    <tr>\n",
       "      <th>fraudulent</th>\n",
       "      <td>-0.112574</td>\n",
       "      <td>-0.123528</td>\n",
       "      <td>0.022501</td>\n",
       "      <td>0.077838</td>\n",
       "      <td>1.000000</td>\n",
       "    </tr>\n",
       "  </tbody>\n",
       "</table>\n",
       "</div>"
      ],
      "text/plain": [
       "                          age  days_to_incident  claim_amount  \\\n",
       "age                  1.000000          0.640207     -0.005397   \n",
       "days_to_incident     0.640207          1.000000     -0.045448   \n",
       "claim_amount        -0.005397         -0.045448      1.000000   \n",
       "total_policy_claims  0.063930          0.016872     -0.012472   \n",
       "fraudulent          -0.112574         -0.123528      0.022501   \n",
       "\n",
       "                     total_policy_claims  fraudulent  \n",
       "age                             0.063930   -0.112574  \n",
       "days_to_incident                0.016872   -0.123528  \n",
       "claim_amount                   -0.012472    0.022501  \n",
       "total_policy_claims             1.000000    0.077838  \n",
       "fraudulent                      0.077838    1.000000  "
      ]
     },
     "execution_count": 21,
     "metadata": {},
     "output_type": "execute_result"
    }
   ],
   "source": [
    "data.corr()"
   ]
  },
  {
   "cell_type": "markdown",
   "metadata": {},
   "source": [
    "<font color='red'>**However, this naive technique of replacing strings with a hash code should be avoided for the explanatory variables!**</font>\n",
    "\n",
    "Because the Decision Tree interprets numbers as continuous numerical features, any coding you will use will induce an order which simply does not exist in the data. One example is to code ['red','green','blue'] with [1,2,3], would produce weird things like 'red' is lower than 'blue', and if you average a 'red' and a 'blue' you will get a 'green'. \n",
    "\n",
    "A common alternative approach is called **one hot encoding**. The basic strategy is to convert each category value into a new column and assigns a 1 or 0 (True/False) value to the column. This has the benefit of not weighting a value improperly but does have the downside of adding more columns to the data set.\n",
    "\n",
    "Pandas supports this feature using `get_dummies`. This function is named this way because it creates dummy/indicator variables (aka 1 or 0).\n",
    "\n",
    "Hopefully a simple example will make this more clear. We can look at the column `incident_cause` where we have values of \"driver error\", \"Crime\", \"Other driver error\", \"Natural causes\", and \"Other cuases\". By using `get_dummies` we can convert this to 5 columns with a 1 or 0 corresponding to the correct value:"
   ]
  },
  {
   "cell_type": "code",
   "execution_count": 22,
   "metadata": {},
   "outputs": [
    {
     "data": {
      "text/html": [
       "<style type=\"text/css\">\n",
       "</style>\n",
       "<table id=\"T_08f39_\">\n",
       "  <thead>\n",
       "    <tr>\n",
       "      <th class=\"blank level0\" >&nbsp;</th>\n",
       "      <th class=\"col_heading level0 col0\" >age</th>\n",
       "      <th class=\"col_heading level0 col1\" >days_to_incident</th>\n",
       "      <th class=\"col_heading level0 col2\" >claim_amount</th>\n",
       "      <th class=\"col_heading level0 col3\" >total_policy_claims</th>\n",
       "      <th class=\"col_heading level0 col4\" >fraudulent</th>\n",
       "      <th class=\"col_heading level0 col5\" >gender_Female</th>\n",
       "      <th class=\"col_heading level0 col6\" >gender_Male</th>\n",
       "      <th class=\"col_heading level0 col7\" >cause_Crime</th>\n",
       "      <th class=\"col_heading level0 col8\" >cause_Driver error</th>\n",
       "      <th class=\"col_heading level0 col9\" >cause_Natural causes</th>\n",
       "      <th class=\"col_heading level0 col10\" >cause_Other causes</th>\n",
       "      <th class=\"col_heading level0 col11\" >cause_Other driver error</th>\n",
       "      <th class=\"col_heading level0 col12\" >area_Auto</th>\n",
       "      <th class=\"col_heading level0 col13\" >area_Home</th>\n",
       "      <th class=\"col_heading level0 col14\" >report_No</th>\n",
       "      <th class=\"col_heading level0 col15\" >report_Unknown</th>\n",
       "      <th class=\"col_heading level0 col16\" >report_Yes</th>\n",
       "      <th class=\"col_heading level0 col17\" >type_Injury only</th>\n",
       "      <th class=\"col_heading level0 col18\" >type_Material and injury</th>\n",
       "      <th class=\"col_heading level0 col19\" >type_Material only</th>\n",
       "    </tr>\n",
       "  </thead>\n",
       "  <tbody>\n",
       "    <tr>\n",
       "      <th id=\"T_08f39_level0_row0\" class=\"row_heading level0 row0\" >0</th>\n",
       "      <td id=\"T_08f39_row0_col0\" class=\"data row0 col0\" >32</td>\n",
       "      <td id=\"T_08f39_row0_col1\" class=\"data row0 col1\" >225</td>\n",
       "      <td id=\"T_08f39_row0_col2\" class=\"data row0 col2\" >2980.000000</td>\n",
       "      <td id=\"T_08f39_row0_col3\" class=\"data row0 col3\" >1</td>\n",
       "      <td id=\"T_08f39_row0_col4\" class=\"data row0 col4\" >0</td>\n",
       "      <td id=\"T_08f39_row0_col5\" class=\"data row0 col5\" >1</td>\n",
       "      <td id=\"T_08f39_row0_col6\" class=\"data row0 col6\" >0</td>\n",
       "      <td id=\"T_08f39_row0_col7\" class=\"data row0 col7\" >0</td>\n",
       "      <td id=\"T_08f39_row0_col8\" class=\"data row0 col8\" >1</td>\n",
       "      <td id=\"T_08f39_row0_col9\" class=\"data row0 col9\" >0</td>\n",
       "      <td id=\"T_08f39_row0_col10\" class=\"data row0 col10\" >0</td>\n",
       "      <td id=\"T_08f39_row0_col11\" class=\"data row0 col11\" >0</td>\n",
       "      <td id=\"T_08f39_row0_col12\" class=\"data row0 col12\" >1</td>\n",
       "      <td id=\"T_08f39_row0_col13\" class=\"data row0 col13\" >0</td>\n",
       "      <td id=\"T_08f39_row0_col14\" class=\"data row0 col14\" >1</td>\n",
       "      <td id=\"T_08f39_row0_col15\" class=\"data row0 col15\" >0</td>\n",
       "      <td id=\"T_08f39_row0_col16\" class=\"data row0 col16\" >0</td>\n",
       "      <td id=\"T_08f39_row0_col17\" class=\"data row0 col17\" >0</td>\n",
       "      <td id=\"T_08f39_row0_col18\" class=\"data row0 col18\" >0</td>\n",
       "      <td id=\"T_08f39_row0_col19\" class=\"data row0 col19\" >1</td>\n",
       "    </tr>\n",
       "    <tr>\n",
       "      <th id=\"T_08f39_level0_row1\" class=\"row_heading level0 row1\" >1</th>\n",
       "      <td id=\"T_08f39_row1_col0\" class=\"data row1 col0\" >60</td>\n",
       "      <td id=\"T_08f39_row1_col1\" class=\"data row1 col1\" >11874</td>\n",
       "      <td id=\"T_08f39_row1_col2\" class=\"data row1 col2\" >2980.000000</td>\n",
       "      <td id=\"T_08f39_row1_col3\" class=\"data row1 col3\" >3</td>\n",
       "      <td id=\"T_08f39_row1_col4\" class=\"data row1 col4\" >0</td>\n",
       "      <td id=\"T_08f39_row1_col5\" class=\"data row1 col5\" >1</td>\n",
       "      <td id=\"T_08f39_row1_col6\" class=\"data row1 col6\" >0</td>\n",
       "      <td id=\"T_08f39_row1_col7\" class=\"data row1 col7\" >1</td>\n",
       "      <td id=\"T_08f39_row1_col8\" class=\"data row1 col8\" >0</td>\n",
       "      <td id=\"T_08f39_row1_col9\" class=\"data row1 col9\" >0</td>\n",
       "      <td id=\"T_08f39_row1_col10\" class=\"data row1 col10\" >0</td>\n",
       "      <td id=\"T_08f39_row1_col11\" class=\"data row1 col11\" >0</td>\n",
       "      <td id=\"T_08f39_row1_col12\" class=\"data row1 col12\" >0</td>\n",
       "      <td id=\"T_08f39_row1_col13\" class=\"data row1 col13\" >1</td>\n",
       "      <td id=\"T_08f39_row1_col14\" class=\"data row1 col14\" >0</td>\n",
       "      <td id=\"T_08f39_row1_col15\" class=\"data row1 col15\" >1</td>\n",
       "      <td id=\"T_08f39_row1_col16\" class=\"data row1 col16\" >0</td>\n",
       "      <td id=\"T_08f39_row1_col17\" class=\"data row1 col17\" >0</td>\n",
       "      <td id=\"T_08f39_row1_col18\" class=\"data row1 col18\" >0</td>\n",
       "      <td id=\"T_08f39_row1_col19\" class=\"data row1 col19\" >1</td>\n",
       "    </tr>\n",
       "    <tr>\n",
       "      <th id=\"T_08f39_level0_row2\" class=\"row_heading level0 row2\" >2</th>\n",
       "      <td id=\"T_08f39_row2_col0\" class=\"data row2 col0\" >27</td>\n",
       "      <td id=\"T_08f39_row2_col1\" class=\"data row2 col1\" >4</td>\n",
       "      <td id=\"T_08f39_row2_col2\" class=\"data row2 col2\" >3369.500000</td>\n",
       "      <td id=\"T_08f39_row2_col3\" class=\"data row2 col3\" >1</td>\n",
       "      <td id=\"T_08f39_row2_col4\" class=\"data row2 col4\" >1</td>\n",
       "      <td id=\"T_08f39_row2_col5\" class=\"data row2 col5\" >1</td>\n",
       "      <td id=\"T_08f39_row2_col6\" class=\"data row2 col6\" >0</td>\n",
       "      <td id=\"T_08f39_row2_col7\" class=\"data row2 col7\" >0</td>\n",
       "      <td id=\"T_08f39_row2_col8\" class=\"data row2 col8\" >0</td>\n",
       "      <td id=\"T_08f39_row2_col9\" class=\"data row2 col9\" >0</td>\n",
       "      <td id=\"T_08f39_row2_col10\" class=\"data row2 col10\" >0</td>\n",
       "      <td id=\"T_08f39_row2_col11\" class=\"data row2 col11\" >1</td>\n",
       "      <td id=\"T_08f39_row2_col12\" class=\"data row2 col12\" >1</td>\n",
       "      <td id=\"T_08f39_row2_col13\" class=\"data row2 col13\" >0</td>\n",
       "      <td id=\"T_08f39_row2_col14\" class=\"data row2 col14\" >1</td>\n",
       "      <td id=\"T_08f39_row2_col15\" class=\"data row2 col15\" >0</td>\n",
       "      <td id=\"T_08f39_row2_col16\" class=\"data row2 col16\" >0</td>\n",
       "      <td id=\"T_08f39_row2_col17\" class=\"data row2 col17\" >0</td>\n",
       "      <td id=\"T_08f39_row2_col18\" class=\"data row2 col18\" >0</td>\n",
       "      <td id=\"T_08f39_row2_col19\" class=\"data row2 col19\" >1</td>\n",
       "    </tr>\n",
       "    <tr>\n",
       "      <th id=\"T_08f39_level0_row3\" class=\"row_heading level0 row3\" >3</th>\n",
       "      <td id=\"T_08f39_row3_col0\" class=\"data row3 col0\" >39</td>\n",
       "      <td id=\"T_08f39_row3_col1\" class=\"data row3 col1\" >5278</td>\n",
       "      <td id=\"T_08f39_row3_col2\" class=\"data row3 col2\" >1680.000000</td>\n",
       "      <td id=\"T_08f39_row3_col3\" class=\"data row3 col3\" >1</td>\n",
       "      <td id=\"T_08f39_row3_col4\" class=\"data row3 col4\" >0</td>\n",
       "      <td id=\"T_08f39_row3_col5\" class=\"data row3 col5\" >1</td>\n",
       "      <td id=\"T_08f39_row3_col6\" class=\"data row3 col6\" >0</td>\n",
       "      <td id=\"T_08f39_row3_col7\" class=\"data row3 col7\" >0</td>\n",
       "      <td id=\"T_08f39_row3_col8\" class=\"data row3 col8\" >0</td>\n",
       "      <td id=\"T_08f39_row3_col9\" class=\"data row3 col9\" >1</td>\n",
       "      <td id=\"T_08f39_row3_col10\" class=\"data row3 col10\" >0</td>\n",
       "      <td id=\"T_08f39_row3_col11\" class=\"data row3 col11\" >0</td>\n",
       "      <td id=\"T_08f39_row3_col12\" class=\"data row3 col12\" >1</td>\n",
       "      <td id=\"T_08f39_row3_col13\" class=\"data row3 col13\" >0</td>\n",
       "      <td id=\"T_08f39_row3_col14\" class=\"data row3 col14\" >1</td>\n",
       "      <td id=\"T_08f39_row3_col15\" class=\"data row3 col15\" >0</td>\n",
       "      <td id=\"T_08f39_row3_col16\" class=\"data row3 col16\" >0</td>\n",
       "      <td id=\"T_08f39_row3_col17\" class=\"data row3 col17\" >0</td>\n",
       "      <td id=\"T_08f39_row3_col18\" class=\"data row3 col18\" >0</td>\n",
       "      <td id=\"T_08f39_row3_col19\" class=\"data row3 col19\" >1</td>\n",
       "    </tr>\n",
       "    <tr>\n",
       "      <th id=\"T_08f39_level0_row4\" class=\"row_heading level0 row4\" >4</th>\n",
       "      <td id=\"T_08f39_row4_col0\" class=\"data row4 col0\" >47</td>\n",
       "      <td id=\"T_08f39_row4_col1\" class=\"data row4 col1\" >2335</td>\n",
       "      <td id=\"T_08f39_row4_col2\" class=\"data row4 col2\" >2680.000000</td>\n",
       "      <td id=\"T_08f39_row4_col3\" class=\"data row4 col3\" >1</td>\n",
       "      <td id=\"T_08f39_row4_col4\" class=\"data row4 col4\" >0</td>\n",
       "      <td id=\"T_08f39_row4_col5\" class=\"data row4 col5\" >0</td>\n",
       "      <td id=\"T_08f39_row4_col6\" class=\"data row4 col6\" >1</td>\n",
       "      <td id=\"T_08f39_row4_col7\" class=\"data row4 col7\" >1</td>\n",
       "      <td id=\"T_08f39_row4_col8\" class=\"data row4 col8\" >0</td>\n",
       "      <td id=\"T_08f39_row4_col9\" class=\"data row4 col9\" >0</td>\n",
       "      <td id=\"T_08f39_row4_col10\" class=\"data row4 col10\" >0</td>\n",
       "      <td id=\"T_08f39_row4_col11\" class=\"data row4 col11\" >0</td>\n",
       "      <td id=\"T_08f39_row4_col12\" class=\"data row4 col12\" >1</td>\n",
       "      <td id=\"T_08f39_row4_col13\" class=\"data row4 col13\" >0</td>\n",
       "      <td id=\"T_08f39_row4_col14\" class=\"data row4 col14\" >1</td>\n",
       "      <td id=\"T_08f39_row4_col15\" class=\"data row4 col15\" >0</td>\n",
       "      <td id=\"T_08f39_row4_col16\" class=\"data row4 col16\" >0</td>\n",
       "      <td id=\"T_08f39_row4_col17\" class=\"data row4 col17\" >0</td>\n",
       "      <td id=\"T_08f39_row4_col18\" class=\"data row4 col18\" >0</td>\n",
       "      <td id=\"T_08f39_row4_col19\" class=\"data row4 col19\" >1</td>\n",
       "    </tr>\n",
       "  </tbody>\n",
       "</table>\n"
      ],
      "text/plain": [
       "<pandas.io.formats.style.Styler at 0x7f7ffed86f10>"
      ]
     },
     "execution_count": 22,
     "metadata": {},
     "output_type": "execute_result"
    }
   ],
   "source": [
    "data = pd.get_dummies(data, columns=[\"gender\", \"incident_cause\", \"claim_area\", \"police_report\", \"claim_type\"], \n",
    "                      prefix=[\"gender\", \"cause\", \"area\", \"report\", \"type\"]) #we add a prefix for easier identification\n",
    "\n",
    "data.head().style"
   ]
  },
  {
   "cell_type": "markdown",
   "metadata": {},
   "source": [
    "## 5. Data split\n",
    "\n",
    "In general, we want our Decision Tree classification model to perform well on new, unseen data; not just on the dataset we have available. To simulate this, we split our dataset into two subsets: **training** and **testing**. We use the training partition to build the model and the testing partition to evaluate the model performance. \n",
    "\n",
    "Ideally, the model performance should not be too different between the training and testing splits. A model that shows similiar performance on the training and testing split generalizes well to new data. A model that performans significantly worse on testing is likely subject to overfitting. \n",
    "\n",
    "<img src=\"Images/Split.jpg\" width=\"300\">\n",
    "\n",
    "\n",
    " "
   ]
  },
  {
   "cell_type": "markdown",
   "metadata": {},
   "source": [
    "We split the data 70:30 into a training (`data_train`) and a testing (`data_test`) partition. Furthermore, we split the dataset into a feature **matrix X** (all columns, except the target fraudulent column) and a **label vector y** (only the fraudulent column)."
   ]
  },
  {
   "cell_type": "code",
   "execution_count": 23,
   "metadata": {},
   "outputs": [],
   "source": [
    "X, y = data.loc[:, data.columns != 'fraudulent'], data['fraudulent'] #define feature matrix X and labels y\n",
    "X_train, X_test, y_train, y_test = train_test_split(X, y, test_size = 0.3, random_state = 12345) #split data 70:30"
   ]
  },
  {
   "cell_type": "markdown",
   "metadata": {},
   "source": [
    "We visualize the split to ensure that the distribution of fraudulent to non-fraudulent cases matches the distribution in the full dataset."
   ]
  },
  {
   "cell_type": "code",
   "execution_count": 24,
   "metadata": {},
   "outputs": [
    {
     "data": {
      "image/png": "[encoded data removed]",
      "text/plain": [
       "<Figure size 432x288 with 1 Axes>"
      ]
     },
     "metadata": {
      "needs_background": "light"
     },
     "output_type": "display_data"
    }
   ],
   "source": [
    "train_dist = y_train.value_counts() / len(y_train) #normalize absolute count values for plotting\n",
    "test_dist = y_test.value_counts() / len(y_test)\n",
    "data_dist = data['fraudulent'].value_counts() / len(data)\n",
    "\n",
    "fig, ax = plt.subplots()\n",
    "\n",
    "ax.barh(['Test','Train','Data'], [test_dist[0], train_dist[0], data_dist[0]], color='#1f77b4', label='no fraud')\n",
    "ax.barh(['Test','Train','Data'], [test_dist[1], train_dist[1], data_dist[1]], left=[test_dist[0], train_dist[0], data_dist[0]], color='#ff7f0e', label='fraud')\n",
    "ax.set_title('Split visualization')\n",
    "ax.legend(loc='upper left')\n",
    "plt.xlabel('Proportion')\n",
    "plt.ylabel('Partition')\n",
    "\n",
    "#plot bar values\n",
    "for part, a, b in zip(['Test', 'Train','Data'], [test_dist[0], train_dist[0], data_dist[0]], [test_dist[1], train_dist[1], data_dist[1]]):\n",
    "    plt.text(a/2, part, str(np.round(a, 2)))\n",
    "    plt.text(b/2+a, part, str(np.round(b, 2)));"
   ]
  },
  {
   "cell_type": "markdown",
   "metadata": {},
   "source": [
    "The distribution of fraudulent to non-fraudulent cases is almost equal to the distribution of the original, whole data set (there will always be a slight deviation). We conclude that the split was succesful and move on to building a model."
   ]
  },
  {
   "cell_type": "markdown",
   "metadata": {},
   "source": [
    "## 6. Model building\n",
    "\n",
    "We define a new Decision Tree classifier `clf` and set some basic default settings:\n",
    "- The function to measure the quality of a split (either “gini” for the Gini impurity and “entropy” for the information gain). We set `criterion = 'gini'` \n",
    "- The maximum depth of the tree `max_depth=3`\n",
    "- The minimum number of samples required to split an internal node `min_samples_leaf=3`\n",
    "\n",
    "Then, we fit the classifier to the data.\n"
   ]
  },
  {
   "cell_type": "code",
   "execution_count": 25,
   "metadata": {},
   "outputs": [
    {
     "ename": "SyntaxError",
     "evalue": "invalid syntax (1570756915.py, line 6)",
     "output_type": "error",
     "traceback": [
      "\u001b[0;36m  File \u001b[0;32m\"/tmp/ipykernel_118/1570756915.py\"\u001b[0;36m, line \u001b[0;32m6\u001b[0m\n\u001b[0;31m    clf.fit(?????) #what do we need here?\u001b[0m\n\u001b[0m            ^\u001b[0m\n\u001b[0;31mSyntaxError\u001b[0m\u001b[0;31m:\u001b[0m invalid syntax\n"
     ]
    }
   ],
   "source": [
    "#Define Decision tree classifier with some default parameters\n",
    "clf = tree.DecisionTreeClassifier(criterion = \"gini\", random_state = 100,\n",
    "                               max_depth=3, min_samples_leaf=3)\n",
    "\n",
    "#Fit the training data \n",
    "clf.fit(?????) #what do we need here?"
   ]
  },
  {
   "cell_type": "markdown",
   "metadata": {},
   "source": [
    "After the classifier `clf` has been trained on the training data (`X_train`, `y_train`), we make predictions by using the unseen test data `X_test`."
   ]
  },
  {
   "cell_type": "code",
   "execution_count": null,
   "metadata": {},
   "outputs": [],
   "source": [
    "#Use classifier to predict labels\n",
    "y_pred = clf.predict(?????) #what do we need here?"
   ]
  },
  {
   "cell_type": "code",
   "execution_count": null,
   "metadata": {},
   "outputs": [],
   "source": [
    "#probabilities\n",
    "y_pred_probs = clf.predict_proba(?????)"
   ]
  },
  {
   "cell_type": "code",
   "execution_count": null,
   "metadata": {},
   "outputs": [],
   "source": [
    "'''\n",
    "The graphviz library is used to visualize the tree. \n",
    "'''\n",
    "\n",
    "#Decision tree plot\n",
    "import pydotplus\n",
    "from IPython.display import Image \n",
    "\n",
    "# Create DOT data\n",
    "dot_data = tree.export_graphviz(clf, out_file=None, \n",
    "                                feature_names=X_train.columns, \n",
    "                                class_names=['no fraud', 'fraud'], filled=True) #or use y_train.unique()\n",
    "\n",
    "# Draw graph\n",
    "graph = pydotplus.graph_from_dot_data(dot_data)  \n",
    "\n",
    "# Show graph\n",
    "Image(graph.create_png())\n",
    "\n",
    "# Create PNG \n",
    "#graph.write_png(\"clf.png\") #uncomment this line to save the plot as a .png file"
   ]
  },
  {
   "cell_type": "markdown",
   "metadata": {
    "pycharm": {
     "name": "#%% md\n"
    }
   },
   "source": [
    "We do some magic to visualize the relative importance of the different features. "
   ]
  },
  {
   "cell_type": "code",
   "execution_count": null,
   "metadata": {
    "pycharm": {
     "name": "#%%\n"
    }
   },
   "outputs": [],
   "source": [
    "importances = clf.feature_importances_\n",
    "indices = np.argsort(importances)[::-1]\n",
    "feature_order = np.array([X.columns.values])\n",
    "i = np.argsort(importances)[::-1]\n",
    "feature_order = feature_order[:,i]"
   ]
  },
  {
   "cell_type": "code",
   "execution_count": null,
   "metadata": {},
   "outputs": [],
   "source": [
    "# Print the feature ranking\n",
    "#print(\"Feature ranking:\")\n",
    "\n",
    "#for f in range(X.shape[1]):\n",
    "#    print(\"%d. feature %d (%f)\" % (f + 1, indices[f], importances[indices[f]]))\n",
    "    \n",
    "# Plot the feature importances of the forest\n",
    "plt.figure()\n",
    "plt.title(\"Relative feature importances\")\n",
    "plt.bar(range(X.shape[1]), importances[indices],\n",
    "       color=\"b\",  align=\"center\")\n",
    "plt.xticks(range(X.shape[1]), feature_order[0], rotation=90)\n",
    "plt.xlim([-1, X.shape[1]])\n",
    "plt.show()"
   ]
  },
  {
   "cell_type": "markdown",
   "metadata": {
    "pycharm": {
     "name": "#%% md\n"
    }
   },
   "source": [
    "## 7. Model evaluation"
   ]
  },
  {
   "cell_type": "markdown",
   "metadata": {},
   "source": [
    "### Accuracy score\n",
    "\n",
    "In order to assess how well our model works, we calculate the accuracy achieved by the classifier. We do this by computing the fraction of correctly labeled cases, i.e., for which the true label $y^{(i)}$ is equal to the predicted label $\\hat{y}^{(i)}$:\n",
    "\\begin{equation*}\n",
    "    \\text{Accuracy} =\\dfrac{1}{N} \\sum_{i=1}^{N} \\mathcal{I}(\\hat{y}^{(i)} = y^{(i)})\n",
    "    \\label{acc}\n",
    "    \\tag{1}\n",
    "\\end{equation*}\n",
    "\n",
    "The scikit-learn package comes with a ready method `accuracy_score` that takes as input the true label `y_test` and the predicted label `y_pred` and outputs fraction of correctly labeled cases (aka accuracy)."
   ]
  },
  {
   "cell_type": "code",
   "execution_count": null,
   "metadata": {
    "pycharm": {
     "name": "#%%\n"
    }
   },
   "outputs": [],
   "source": [
    "print (\"Accuracy is: \", (accuracy_score(y_test,y_pred)*100).round(2))"
   ]
  },
  {
   "cell_type": "markdown",
   "metadata": {
    "pycharm": {
     "name": "#%% md\n"
    }
   },
   "source": [
    "We conclude that our classifier correctly identifies the \"fraudulentness\" of 76% of claims. Sounds good...or is? "
   ]
  },
  {
   "cell_type": "code",
   "execution_count": null,
   "metadata": {
    "pycharm": {
     "name": "#%%\n"
    }
   },
   "outputs": [],
   "source": [
    "#print(classification_report(y_test, y_pred))  "
   ]
  },
  {
   "cell_type": "markdown",
   "metadata": {
    "pycharm": {
     "name": "#%% md\n"
    }
   },
   "source": [
    "### Confusion matrix\n",
    "\n",
    "Next, we plot a confusion matrix to visualize the correctly labeled cases, as well as the the false-postives and false-negatives.\n"
   ]
  },
  {
   "cell_type": "code",
   "execution_count": null,
   "metadata": {
    "pycharm": {
     "name": "#%%\n"
    }
   },
   "outputs": [],
   "source": [
    "def plot_confusion_matrix(cm, classes,\n",
    "                          normalize=False,\n",
    "                          title='Confusion matrix',\n",
    "                          cmap=plt.cm.Blues):\n",
    "    \"\"\"\n",
    "    This function prints and plots the confusion matrix.\n",
    "    Normalization can be applied by setting `normalize=True`.\n",
    "    \"\"\"\n",
    "    if normalize:\n",
    "        cm = cm.astype('float') / cm.sum(axis=1)[:, np.newaxis]\n",
    "        #print(\"Normalized confusion matrix\")\n",
    "    #else:\n",
    "    #    print('Confusion matrix, without normalization')\n",
    "\n",
    "    #print(cm)\n",
    "\n",
    "    plt.imshow(cm, interpolation='nearest', cmap=cmap)\n",
    "    plt.title(title)\n",
    "    plt.colorbar()\n",
    "    tick_marks = np.arange(len(classes))\n",
    "    plt.xticks(tick_marks, classes, rotation=45)\n",
    "    plt.yticks(tick_marks, classes)\n",
    "\n",
    "    fmt = '.2f' if normalize else 'd'\n",
    "    thresh = cm.max() / 2.\n",
    "    for i, j in itertools.product(range(cm.shape[0]), range(cm.shape[1])):\n",
    "        plt.text(j, i, format(cm[i, j], fmt),\n",
    "                 horizontalalignment=\"center\",\n",
    "                 color=\"white\" if cm[i, j] > thresh else \"black\")\n",
    "\n",
    "    plt.tight_layout()\n",
    "    plt.ylim([1.5, -0.5]) #added to fix a bug that causes the matrix to be squished\n",
    "    plt.ylabel('True label')\n",
    "    plt.xlabel('Predicted label')"
   ]
  },
  {
   "cell_type": "code",
   "execution_count": null,
   "metadata": {},
   "outputs": [],
   "source": [
    "# Compute confusion matrix\n",
    "class_names = ['no fraud', 'fraud']\n",
    "cnf_matrix = confusion_matrix(y_test, y_pred)\n",
    "np.set_printoptions(precision=2)\n",
    "\n",
    "# Plot non-normalized confusion matrix\n",
    "plt.figure(figsize=(13, 5))\n",
    "plt.subplot(121) \n",
    "plot_confusion_matrix(cnf_matrix, classes=class_names,\n",
    "                      title='Confusion matrix, without normalization')\n",
    "\n",
    "# Plot normalized confusion matrix\n",
    "plt.subplot(122) \n",
    "plot_confusion_matrix(cnf_matrix, classes=class_names, normalize=True,\n",
    "                      title='Normalized confusion matrix')\n",
    "\n",
    "\n",
    "plt.show()"
   ]
  },
  {
   "cell_type": "markdown",
   "metadata": {
    "pycharm": {
     "name": "#%% md\n"
    }
   },
   "source": [
    "<font color='red'>**The confusion matrix highlights how the accuracy score can be misleading!**</font>\n",
    "\n",
    "While our classifier labels 98% of cases correctly as non-fraudulent, it only labels 10% correctly as fraud. It seems that the classifier predicts \"non-fraudulent\" most of the time. On a balanced data set, this would lead to a low acccuracy score. But since the data is imbalanced (77% non-fraudulent vs. 23% fraudulent), guessing \"non-fraudulent\" still means labeling a high proportion of claims correctly. "
   ]
  },
  {
   "cell_type": "markdown",
   "metadata": {},
   "source": [
    "### Area under the curve (AUC)"
   ]
  },
  {
   "cell_type": "markdown",
   "metadata": {},
   "source": [
    "A better way of judging model performance is by calculating the Area Under the Curve (AUC) and plotting a ROC curve (Receiver Operating Characteristic). \n",
    "\n",
    "In order to obtain the AUC, we calculate the False Positive Rate (fpr), the True Positive Rate (tpr) and the treshhold. With these values, we can calcualte the AUC score:"
   ]
  },
  {
   "cell_type": "code",
   "execution_count": null,
   "metadata": {
    "pycharm": {
     "name": "#%%\n"
    }
   },
   "outputs": [],
   "source": [
    "fpr, tpr, thresholds = roc_curve(y_test, y_pred_probs[:,1])\n",
    "roc_auc = auc(fpr, tpr)\n",
    "print(\"AUC score on Testing: \" + str(roc_auc))"
   ]
  },
  {
   "cell_type": "markdown",
   "metadata": {
    "pycharm": {
     "name": "#%% md\n"
    }
   },
   "source": [
    "### ROC curve\n",
    "\n",
    "We plot the ROC curve. The black dotted line represents the performance of a random pick (flipping a coin). Our model (blue line) runs above this base line, but only slightly. Using the model is better than flipping a coin, but there is still room for improvement."
   ]
  },
  {
   "cell_type": "code",
   "execution_count": null,
   "metadata": {
    "pycharm": {
     "name": "#%%\n"
    }
   },
   "outputs": [],
   "source": [
    "fig, axs = plt.subplots(1,1, figsize=(10,8))\n",
    "\n",
    "plt.title('ROC (Receiver Operating Characteristic)')\n",
    "plt.plot(fpr, tpr, 'b', label='AUC = %0.4f'% roc_auc)\n",
    "plt.legend(loc='best')\n",
    "plt.plot([0,1],[0,1],color='black', linestyle='--')\n",
    "plt.xlim([0,1])\n",
    "plt.ylim([0,1])\n",
    "plt.ylabel('True Positive Rate (TPR)')\n",
    "plt.xlabel('False Positive Rate (FPR)');"
   ]
  },
  {
   "cell_type": "markdown",
   "metadata": {
    "pycharm": {
     "name": "#%% md\n"
    }
   },
   "source": [
    "## Summary\n",
    "\n",
    "In this tutorial we learned how to:\n",
    "- import data\n",
    "- visualize data to gain a more intuitive understanding of it \n",
    "- clean/pre-process data (remove unnecessary features, one-hot encoding)\n",
    "- split data into training and testing\n",
    "- build a simple decision tree model \n",
    "- evaluate model performance\n",
    "\n",
    "However, we skipped some important steps that will be covered in the next lectures and tutorials:\n",
    "- the issue of class imbalances and how to address them (rebalancing)\n",
    "- different classification algorithms (SVM, Logistic Regression, etc.)\n",
    "- additional model evaluation tools to decide which model should be deployed in practice"
   ]
  }
 ],
 "metadata": {
  "kernelspec": {
   "display_name": "Python 3",
   "language": "python",
   "name": "python3"
  },
  "language_info": {
   "codemirror_mode": {
    "name": "ipython",
    "version": 3
   },
   "file_extension": ".py",
   "mimetype": "text/x-python",
   "name": "python",
   "nbconvert_exporter": "python",
   "pygments_lexer": "ipython3",
   "version": "3.9.5"
  },
  "varInspector": {
   "cols": {
    "lenName": 16,
    "lenType": 16,
    "lenVar": 40
   },
   "kernels_config": {
    "python": {
     "delete_cmd_postfix": "",
     "delete_cmd_prefix": "del ",
     "library": "var_list.py",
     "varRefreshCmd": "print(var_dic_list())"
    },
    "r": {
     "delete_cmd_postfix": ") ",
     "delete_cmd_prefix": "rm(",
     "library": "var_list.r",
     "varRefreshCmd": "cat(var_dic_list()) "
    }
   },
   "types_to_exclude": [
    "module",
    "function",
    "builtin_function_or_method",
    "instance",
    "_Feature"
   ],
   "window_display": false
  }
 },
 "nbformat": 4,
 "nbformat_minor": 2
}
