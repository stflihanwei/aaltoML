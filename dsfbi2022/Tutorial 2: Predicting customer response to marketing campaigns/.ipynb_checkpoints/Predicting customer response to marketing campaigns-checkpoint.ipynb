{
 "cells": [
  {
   "cell_type": "markdown",
   "metadata": {},
   "source": [
    "**30E03000 - Data Science for Business I (2022)**"
   ]
  },
  {
   "cell_type": "markdown",
   "metadata": {},
   "source": [
    "# Tutorial 2: Predicting customer response to marketing campaigns"
   ]
  },
  {
   "cell_type": "markdown",
   "metadata": {},
   "source": [
    "<img src=\"Images/quote2.png\" width=\"500\">\n",
    "\n",
    "\n",
    "### Business Problem\n",
    "\n",
    "Our company is running several advertising campaigns. While the marketing department is happily spending money, our team of business analysts has been asked whether a data-driven model could help to target customers more efficiently and reduce wasteful advertising spending. \n",
    "Sure we can: **our goal is to build a classification model that can predict a customer's response to a specific advertising campaign based on basic customer information (gender, age, income, etc.).** Ideally, our model would be able to state for example \"do not target customers with an income below 50,000 with ad campaign 2\". \n",
    "\n",
    "### Learning goals\n",
    "\n",
    "In this exercise, you will learn how to predict customer responses to marketing compaigns. Specifically, we will cover:\n",
    "- Building **logistic regression** and Support Vector Machine (**SVM**) models\n",
    "- **Rebalancing** imbalanced data \n",
    "- Evaluating and visualizing model performance through different measures\n",
    "- Using performance metrices to compare alternative models\n",
    "\n",
    "\n",
    "### Keywords\n",
    "\n",
    "`classification`, `logistic regression`, `SVM`, `rebalancing`, `model evaluation`"
   ]
  },
  {
   "cell_type": "markdown",
   "metadata": {},
   "source": [
    "## Import libraries "
   ]
  },
  {
   "cell_type": "code",
   "execution_count": 1,
   "metadata": {},
   "outputs": [
    {
     "name": "stderr",
     "output_type": "stream",
     "text": [
      "Fontconfig error: Cannot load default config file\n"
     ]
    }
   ],
   "source": [
    "import pandas as pd #data frames (for storing data)\n",
    "import numpy as np #scientific computing\n",
    "import itertools\n",
    "\n",
    "#matplotlib for plotting\n",
    "import matplotlib.pyplot as plt\n",
    "from matplotlib import gridspec\n",
    "import matplotlib.ticker as mtick #for percentage ticks\n",
    "import scikitplot as skplt \n",
    "\n",
    "from sklearn.svm import SVC\n",
    "from sklearn.linear_model import LogisticRegression\n",
    "\n",
    "from sklearn.model_selection import train_test_split #Data split function\n",
    "from imblearn.over_sampling import SMOTE\n",
    "from sklearn.decomposition import PCA\n",
    "\n",
    "from sklearn.metrics import accuracy_score\n",
    "from sklearn.metrics import confusion_matrix\n",
    "from sklearn.metrics import roc_curve, auc\n",
    "\n",
    "from collections import Counter"
   ]
  },
  {
   "cell_type": "markdown",
   "metadata": {},
   "source": [
    "## 1. Load data"
   ]
  },
  {
   "cell_type": "code",
   "execution_count": 2,
   "metadata": {},
   "outputs": [
    {
     "data": {
      "text/html": [
       "<style type=\"text/css\">\n",
       "</style>\n",
       "<table id=\"T_f94c4_\">\n",
       "  <thead>\n",
       "    <tr>\n",
       "      <th class=\"blank level0\" >&nbsp;</th>\n",
       "      <th class=\"col_heading level0 col0\" >customer_id</th>\n",
       "      <th class=\"col_heading level0 col1\" >campaign</th>\n",
       "      <th class=\"col_heading level0 col2\" >response</th>\n",
       "      <th class=\"col_heading level0 col3\" >response_date</th>\n",
       "      <th class=\"col_heading level0 col4\" >purchase</th>\n",
       "      <th class=\"col_heading level0 col5\" >purchase_date</th>\n",
       "      <th class=\"col_heading level0 col6\" >product_id</th>\n",
       "      <th class=\"col_heading level0 col7\" >Rowid</th>\n",
       "      <th class=\"col_heading level0 col8\" >age</th>\n",
       "      <th class=\"col_heading level0 col9\" >age_youngest_child</th>\n",
       "      <th class=\"col_heading level0 col10\" >average#balance#feed#index</th>\n",
       "      <th class=\"col_heading level0 col11\" >branch</th>\n",
       "      <th class=\"col_heading level0 col12\" >debt_equity</th>\n",
       "      <th class=\"col_heading level0 col13\" >gender</th>\n",
       "      <th class=\"col_heading level0 col14\" >bad_payment</th>\n",
       "      <th class=\"col_heading level0 col15\" >gold_card</th>\n",
       "      <th class=\"col_heading level0 col16\" >pension_plan</th>\n",
       "      <th class=\"col_heading level0 col17\" >household_debt_to_equity_ratio</th>\n",
       "      <th class=\"col_heading level0 col18\" >income</th>\n",
       "      <th class=\"col_heading level0 col19\" >marital</th>\n",
       "      <th class=\"col_heading level0 col20\" >members_in_household</th>\n",
       "      <th class=\"col_heading level0 col21\" >months_current_account</th>\n",
       "      <th class=\"col_heading level0 col22\" >months_customer</th>\n",
       "      <th class=\"col_heading level0 col23\" >call_center_contacts</th>\n",
       "      <th class=\"col_heading level0 col24\" >loan_accounts</th>\n",
       "      <th class=\"col_heading level0 col25\" >number_products</th>\n",
       "      <th class=\"col_heading level0 col26\" >number_transactions</th>\n",
       "      <th class=\"col_heading level0 col27\" >non_worker_percentage</th>\n",
       "      <th class=\"col_heading level0 col28\" >white_collar_percentage</th>\n",
       "      <th class=\"col_heading level0 col29\" >rfm_score</th>\n",
       "      <th class=\"col_heading level0 col30\" >X_random</th>\n",
       "    </tr>\n",
       "  </thead>\n",
       "  <tbody>\n",
       "    <tr>\n",
       "      <th id=\"T_f94c4_level0_row0\" class=\"row_heading level0 row0\" >0</th>\n",
       "      <td id=\"T_f94c4_row0_col0\" class=\"data row0 col0\" >7</td>\n",
       "      <td id=\"T_f94c4_row0_col1\" class=\"data row0 col1\" >2</td>\n",
       "      <td id=\"T_f94c4_row0_col2\" class=\"data row0 col2\" >0</td>\n",
       "      <td id=\"T_f94c4_row0_col3\" class=\"data row0 col3\" > </td>\n",
       "      <td id=\"T_f94c4_row0_col4\" class=\"data row0 col4\" >0</td>\n",
       "      <td id=\"T_f94c4_row0_col5\" class=\"data row0 col5\" > </td>\n",
       "      <td id=\"T_f94c4_row0_col6\" class=\"data row0 col6\" > </td>\n",
       "      <td id=\"T_f94c4_row0_col7\" class=\"data row0 col7\" >1</td>\n",
       "      <td id=\"T_f94c4_row0_col8\" class=\"data row0 col8\" >19</td>\n",
       "      <td id=\"T_f94c4_row0_col9\" class=\"data row0 col9\" >0</td>\n",
       "      <td id=\"T_f94c4_row0_col10\" class=\"data row0 col10\" >0</td>\n",
       "      <td id=\"T_f94c4_row0_col11\" class=\"data row0 col11\" >Ravensville</td>\n",
       "      <td id=\"T_f94c4_row0_col12\" class=\"data row0 col12\" >19</td>\n",
       "      <td id=\"T_f94c4_row0_col13\" class=\"data row0 col13\" >M</td>\n",
       "      <td id=\"T_f94c4_row0_col14\" class=\"data row0 col14\" >0</td>\n",
       "      <td id=\"T_f94c4_row0_col15\" class=\"data row0 col15\" >0</td>\n",
       "      <td id=\"T_f94c4_row0_col16\" class=\"data row0 col16\" >0</td>\n",
       "      <td id=\"T_f94c4_row0_col17\" class=\"data row0 col17\" >64</td>\n",
       "      <td id=\"T_f94c4_row0_col18\" class=\"data row0 col18\" >13362</td>\n",
       "      <td id=\"T_f94c4_row0_col19\" class=\"data row0 col19\" >S</td>\n",
       "      <td id=\"T_f94c4_row0_col20\" class=\"data row0 col20\" >2</td>\n",
       "      <td id=\"T_f94c4_row0_col21\" class=\"data row0 col21\" >-4</td>\n",
       "      <td id=\"T_f94c4_row0_col22\" class=\"data row0 col22\" >0</td>\n",
       "      <td id=\"T_f94c4_row0_col23\" class=\"data row0 col23\" >1</td>\n",
       "      <td id=\"T_f94c4_row0_col24\" class=\"data row0 col24\" >1</td>\n",
       "      <td id=\"T_f94c4_row0_col25\" class=\"data row0 col25\" >1</td>\n",
       "      <td id=\"T_f94c4_row0_col26\" class=\"data row0 col26\" >0</td>\n",
       "      <td id=\"T_f94c4_row0_col27\" class=\"data row0 col27\" >9</td>\n",
       "      <td id=\"T_f94c4_row0_col28\" class=\"data row0 col28\" >26</td>\n",
       "      <td id=\"T_f94c4_row0_col29\" class=\"data row0 col29\" >0.000000</td>\n",
       "      <td id=\"T_f94c4_row0_col30\" class=\"data row0 col30\" >3</td>\n",
       "    </tr>\n",
       "    <tr>\n",
       "      <th id=\"T_f94c4_level0_row1\" class=\"row_heading level0 row1\" >1</th>\n",
       "      <td id=\"T_f94c4_row1_col0\" class=\"data row1 col0\" >13</td>\n",
       "      <td id=\"T_f94c4_row1_col1\" class=\"data row1 col1\" >2</td>\n",
       "      <td id=\"T_f94c4_row1_col2\" class=\"data row1 col2\" >0</td>\n",
       "      <td id=\"T_f94c4_row1_col3\" class=\"data row1 col3\" > </td>\n",
       "      <td id=\"T_f94c4_row1_col4\" class=\"data row1 col4\" >0</td>\n",
       "      <td id=\"T_f94c4_row1_col5\" class=\"data row1 col5\" > </td>\n",
       "      <td id=\"T_f94c4_row1_col6\" class=\"data row1 col6\" > </td>\n",
       "      <td id=\"T_f94c4_row1_col7\" class=\"data row1 col7\" >2</td>\n",
       "      <td id=\"T_f94c4_row1_col8\" class=\"data row1 col8\" >44</td>\n",
       "      <td id=\"T_f94c4_row1_col9\" class=\"data row1 col9\" >12</td>\n",
       "      <td id=\"T_f94c4_row1_col10\" class=\"data row1 col10\" >0</td>\n",
       "      <td id=\"T_f94c4_row1_col11\" class=\"data row1 col11\" >Catburg</td>\n",
       "      <td id=\"T_f94c4_row1_col12\" class=\"data row1 col12\" >44</td>\n",
       "      <td id=\"T_f94c4_row1_col13\" class=\"data row1 col13\" >M</td>\n",
       "      <td id=\"T_f94c4_row1_col14\" class=\"data row1 col14\" >0</td>\n",
       "      <td id=\"T_f94c4_row1_col15\" class=\"data row1 col15\" >0</td>\n",
       "      <td id=\"T_f94c4_row1_col16\" class=\"data row1 col16\" >0</td>\n",
       "      <td id=\"T_f94c4_row1_col17\" class=\"data row1 col17\" >65</td>\n",
       "      <td id=\"T_f94c4_row1_col18\" class=\"data row1 col18\" >13453</td>\n",
       "      <td id=\"T_f94c4_row1_col19\" class=\"data row1 col19\" >S</td>\n",
       "      <td id=\"T_f94c4_row1_col20\" class=\"data row1 col20\" >2</td>\n",
       "      <td id=\"T_f94c4_row1_col21\" class=\"data row1 col21\" >17</td>\n",
       "      <td id=\"T_f94c4_row1_col22\" class=\"data row1 col22\" >24</td>\n",
       "      <td id=\"T_f94c4_row1_col23\" class=\"data row1 col23\" >0</td>\n",
       "      <td id=\"T_f94c4_row1_col24\" class=\"data row1 col24\" >0</td>\n",
       "      <td id=\"T_f94c4_row1_col25\" class=\"data row1 col25\" >0</td>\n",
       "      <td id=\"T_f94c4_row1_col26\" class=\"data row1 col26\" >0</td>\n",
       "      <td id=\"T_f94c4_row1_col27\" class=\"data row1 col27\" >14</td>\n",
       "      <td id=\"T_f94c4_row1_col28\" class=\"data row1 col28\" >19</td>\n",
       "      <td id=\"T_f94c4_row1_col29\" class=\"data row1 col29\" >0.000000</td>\n",
       "      <td id=\"T_f94c4_row1_col30\" class=\"data row1 col30\" >1</td>\n",
       "    </tr>\n",
       "    <tr>\n",
       "      <th id=\"T_f94c4_level0_row2\" class=\"row_heading level0 row2\" >2</th>\n",
       "      <td id=\"T_f94c4_row2_col0\" class=\"data row2 col0\" >15</td>\n",
       "      <td id=\"T_f94c4_row2_col1\" class=\"data row2 col1\" >2</td>\n",
       "      <td id=\"T_f94c4_row2_col2\" class=\"data row2 col2\" >0</td>\n",
       "      <td id=\"T_f94c4_row2_col3\" class=\"data row2 col3\" > </td>\n",
       "      <td id=\"T_f94c4_row2_col4\" class=\"data row2 col4\" >0</td>\n",
       "      <td id=\"T_f94c4_row2_col5\" class=\"data row2 col5\" > </td>\n",
       "      <td id=\"T_f94c4_row2_col6\" class=\"data row2 col6\" > </td>\n",
       "      <td id=\"T_f94c4_row2_col7\" class=\"data row2 col7\" >3</td>\n",
       "      <td id=\"T_f94c4_row2_col8\" class=\"data row2 col8\" >45</td>\n",
       "      <td id=\"T_f94c4_row2_col9\" class=\"data row2 col9\" >12</td>\n",
       "      <td id=\"T_f94c4_row2_col10\" class=\"data row2 col10\" >75</td>\n",
       "      <td id=\"T_f94c4_row2_col11\" class=\"data row2 col11\" >Ravensville</td>\n",
       "      <td id=\"T_f94c4_row2_col12\" class=\"data row2 col12\" >45</td>\n",
       "      <td id=\"T_f94c4_row2_col13\" class=\"data row2 col13\" >F</td>\n",
       "      <td id=\"T_f94c4_row2_col14\" class=\"data row2 col14\" >0</td>\n",
       "      <td id=\"T_f94c4_row2_col15\" class=\"data row2 col15\" >0</td>\n",
       "      <td id=\"T_f94c4_row2_col16\" class=\"data row2 col16\" >0</td>\n",
       "      <td id=\"T_f94c4_row2_col17\" class=\"data row2 col17\" >65</td>\n",
       "      <td id=\"T_f94c4_row2_col18\" class=\"data row2 col18\" >13453</td>\n",
       "      <td id=\"T_f94c4_row2_col19\" class=\"data row2 col19\" >U</td>\n",
       "      <td id=\"T_f94c4_row2_col20\" class=\"data row2 col20\" >2</td>\n",
       "      <td id=\"T_f94c4_row2_col21\" class=\"data row2 col21\" >33</td>\n",
       "      <td id=\"T_f94c4_row2_col22\" class=\"data row2 col22\" >36</td>\n",
       "      <td id=\"T_f94c4_row2_col23\" class=\"data row2 col23\" >0</td>\n",
       "      <td id=\"T_f94c4_row2_col24\" class=\"data row2 col24\" >4</td>\n",
       "      <td id=\"T_f94c4_row2_col25\" class=\"data row2 col25\" >2</td>\n",
       "      <td id=\"T_f94c4_row2_col26\" class=\"data row2 col26\" >1</td>\n",
       "      <td id=\"T_f94c4_row2_col27\" class=\"data row2 col27\" >14</td>\n",
       "      <td id=\"T_f94c4_row2_col28\" class=\"data row2 col28\" >19</td>\n",
       "      <td id=\"T_f94c4_row2_col29\" class=\"data row2 col29\" >7.602330</td>\n",
       "      <td id=\"T_f94c4_row2_col30\" class=\"data row2 col30\" >1</td>\n",
       "    </tr>\n",
       "    <tr>\n",
       "      <th id=\"T_f94c4_level0_row3\" class=\"row_heading level0 row3\" >3</th>\n",
       "      <td id=\"T_f94c4_row3_col0\" class=\"data row3 col0\" >16</td>\n",
       "      <td id=\"T_f94c4_row3_col1\" class=\"data row3 col1\" >2</td>\n",
       "      <td id=\"T_f94c4_row3_col2\" class=\"data row3 col2\" >1</td>\n",
       "      <td id=\"T_f94c4_row3_col3\" class=\"data row3 col3\" >7/5/2006 0:00:00</td>\n",
       "      <td id=\"T_f94c4_row3_col4\" class=\"data row3 col4\" >0</td>\n",
       "      <td id=\"T_f94c4_row3_col5\" class=\"data row3 col5\" > </td>\n",
       "      <td id=\"T_f94c4_row3_col6\" class=\"data row3 col6\" >183</td>\n",
       "      <td id=\"T_f94c4_row3_col7\" class=\"data row3 col7\" >761</td>\n",
       "      <td id=\"T_f94c4_row3_col8\" class=\"data row3 col8\" >43</td>\n",
       "      <td id=\"T_f94c4_row3_col9\" class=\"data row3 col9\" >12</td>\n",
       "      <td id=\"T_f94c4_row3_col10\" class=\"data row3 col10\" >161</td>\n",
       "      <td id=\"T_f94c4_row3_col11\" class=\"data row3 col11\" >Catburg</td>\n",
       "      <td id=\"T_f94c4_row3_col12\" class=\"data row3 col12\" >43</td>\n",
       "      <td id=\"T_f94c4_row3_col13\" class=\"data row3 col13\" >F</td>\n",
       "      <td id=\"T_f94c4_row3_col14\" class=\"data row3 col14\" >0</td>\n",
       "      <td id=\"T_f94c4_row3_col15\" class=\"data row3 col15\" >0</td>\n",
       "      <td id=\"T_f94c4_row3_col16\" class=\"data row3 col16\" >0</td>\n",
       "      <td id=\"T_f94c4_row3_col17\" class=\"data row3 col17\" >65</td>\n",
       "      <td id=\"T_f94c4_row3_col18\" class=\"data row3 col18\" >13453</td>\n",
       "      <td id=\"T_f94c4_row3_col19\" class=\"data row3 col19\" >U</td>\n",
       "      <td id=\"T_f94c4_row3_col20\" class=\"data row3 col20\" >2</td>\n",
       "      <td id=\"T_f94c4_row3_col21\" class=\"data row3 col21\" >34</td>\n",
       "      <td id=\"T_f94c4_row3_col22\" class=\"data row3 col22\" >36</td>\n",
       "      <td id=\"T_f94c4_row3_col23\" class=\"data row3 col23\" >0</td>\n",
       "      <td id=\"T_f94c4_row3_col24\" class=\"data row3 col24\" >0</td>\n",
       "      <td id=\"T_f94c4_row3_col25\" class=\"data row3 col25\" >3</td>\n",
       "      <td id=\"T_f94c4_row3_col26\" class=\"data row3 col26\" >2</td>\n",
       "      <td id=\"T_f94c4_row3_col27\" class=\"data row3 col27\" >14</td>\n",
       "      <td id=\"T_f94c4_row3_col28\" class=\"data row3 col28\" >19</td>\n",
       "      <td id=\"T_f94c4_row3_col29\" class=\"data row3 col29\" >10.143000</td>\n",
       "      <td id=\"T_f94c4_row3_col30\" class=\"data row3 col30\" >1</td>\n",
       "    </tr>\n",
       "    <tr>\n",
       "      <th id=\"T_f94c4_level0_row4\" class=\"row_heading level0 row4\" >4</th>\n",
       "      <td id=\"T_f94c4_row4_col0\" class=\"data row4 col0\" >23</td>\n",
       "      <td id=\"T_f94c4_row4_col1\" class=\"data row4 col1\" >2</td>\n",
       "      <td id=\"T_f94c4_row4_col2\" class=\"data row4 col2\" >0</td>\n",
       "      <td id=\"T_f94c4_row4_col3\" class=\"data row4 col3\" > </td>\n",
       "      <td id=\"T_f94c4_row4_col4\" class=\"data row4 col4\" >0</td>\n",
       "      <td id=\"T_f94c4_row4_col5\" class=\"data row4 col5\" > </td>\n",
       "      <td id=\"T_f94c4_row4_col6\" class=\"data row4 col6\" > </td>\n",
       "      <td id=\"T_f94c4_row4_col7\" class=\"data row4 col7\" >4</td>\n",
       "      <td id=\"T_f94c4_row4_col8\" class=\"data row4 col8\" >42</td>\n",
       "      <td id=\"T_f94c4_row4_col9\" class=\"data row4 col9\" >11</td>\n",
       "      <td id=\"T_f94c4_row4_col10\" class=\"data row4 col10\" >0</td>\n",
       "      <td id=\"T_f94c4_row4_col11\" class=\"data row4 col11\" >Kingsville</td>\n",
       "      <td id=\"T_f94c4_row4_col12\" class=\"data row4 col12\" >42</td>\n",
       "      <td id=\"T_f94c4_row4_col13\" class=\"data row4 col13\" >F</td>\n",
       "      <td id=\"T_f94c4_row4_col14\" class=\"data row4 col14\" >0</td>\n",
       "      <td id=\"T_f94c4_row4_col15\" class=\"data row4 col15\" >0</td>\n",
       "      <td id=\"T_f94c4_row4_col16\" class=\"data row4 col16\" >0</td>\n",
       "      <td id=\"T_f94c4_row4_col17\" class=\"data row4 col17\" >65</td>\n",
       "      <td id=\"T_f94c4_row4_col18\" class=\"data row4 col18\" >13453</td>\n",
       "      <td id=\"T_f94c4_row4_col19\" class=\"data row4 col19\" >M</td>\n",
       "      <td id=\"T_f94c4_row4_col20\" class=\"data row4 col20\" >2</td>\n",
       "      <td id=\"T_f94c4_row4_col21\" class=\"data row4 col21\" >22</td>\n",
       "      <td id=\"T_f94c4_row4_col22\" class=\"data row4 col22\" >24</td>\n",
       "      <td id=\"T_f94c4_row4_col23\" class=\"data row4 col23\" >0</td>\n",
       "      <td id=\"T_f94c4_row4_col24\" class=\"data row4 col24\" >0</td>\n",
       "      <td id=\"T_f94c4_row4_col25\" class=\"data row4 col25\" >0</td>\n",
       "      <td id=\"T_f94c4_row4_col26\" class=\"data row4 col26\" >0</td>\n",
       "      <td id=\"T_f94c4_row4_col27\" class=\"data row4 col27\" >14</td>\n",
       "      <td id=\"T_f94c4_row4_col28\" class=\"data row4 col28\" >19</td>\n",
       "      <td id=\"T_f94c4_row4_col29\" class=\"data row4 col29\" >0.000000</td>\n",
       "      <td id=\"T_f94c4_row4_col30\" class=\"data row4 col30\" >3</td>\n",
       "    </tr>\n",
       "    <tr>\n",
       "      <th id=\"T_f94c4_level0_row5\" class=\"row_heading level0 row5\" >5</th>\n",
       "      <td id=\"T_f94c4_row5_col0\" class=\"data row5 col0\" >24</td>\n",
       "      <td id=\"T_f94c4_row5_col1\" class=\"data row5 col1\" >2</td>\n",
       "      <td id=\"T_f94c4_row5_col2\" class=\"data row5 col2\" >0</td>\n",
       "      <td id=\"T_f94c4_row5_col3\" class=\"data row5 col3\" > </td>\n",
       "      <td id=\"T_f94c4_row5_col4\" class=\"data row5 col4\" >0</td>\n",
       "      <td id=\"T_f94c4_row5_col5\" class=\"data row5 col5\" > </td>\n",
       "      <td id=\"T_f94c4_row5_col6\" class=\"data row5 col6\" > </td>\n",
       "      <td id=\"T_f94c4_row5_col7\" class=\"data row5 col7\" >5</td>\n",
       "      <td id=\"T_f94c4_row5_col8\" class=\"data row5 col8\" >39</td>\n",
       "      <td id=\"T_f94c4_row5_col9\" class=\"data row5 col9\" >7</td>\n",
       "      <td id=\"T_f94c4_row5_col10\" class=\"data row5 col10\" >521</td>\n",
       "      <td id=\"T_f94c4_row5_col11\" class=\"data row5 col11\" >Princeton</td>\n",
       "      <td id=\"T_f94c4_row5_col12\" class=\"data row5 col12\" >39</td>\n",
       "      <td id=\"T_f94c4_row5_col13\" class=\"data row5 col13\" >F</td>\n",
       "      <td id=\"T_f94c4_row5_col14\" class=\"data row5 col14\" >0</td>\n",
       "      <td id=\"T_f94c4_row5_col15\" class=\"data row5 col15\" >0</td>\n",
       "      <td id=\"T_f94c4_row5_col16\" class=\"data row5 col16\" >0</td>\n",
       "      <td id=\"T_f94c4_row5_col17\" class=\"data row5 col17\" >65</td>\n",
       "      <td id=\"T_f94c4_row5_col18\" class=\"data row5 col18\" >13453</td>\n",
       "      <td id=\"T_f94c4_row5_col19\" class=\"data row5 col19\" >S</td>\n",
       "      <td id=\"T_f94c4_row5_col20\" class=\"data row5 col20\" >2</td>\n",
       "      <td id=\"T_f94c4_row5_col21\" class=\"data row5 col21\" >26</td>\n",
       "      <td id=\"T_f94c4_row5_col22\" class=\"data row5 col22\" >36</td>\n",
       "      <td id=\"T_f94c4_row5_col23\" class=\"data row5 col23\" >0</td>\n",
       "      <td id=\"T_f94c4_row5_col24\" class=\"data row5 col24\" >0</td>\n",
       "      <td id=\"T_f94c4_row5_col25\" class=\"data row5 col25\" >0</td>\n",
       "      <td id=\"T_f94c4_row5_col26\" class=\"data row5 col26\" >3</td>\n",
       "      <td id=\"T_f94c4_row5_col27\" class=\"data row5 col27\" >14</td>\n",
       "      <td id=\"T_f94c4_row5_col28\" class=\"data row5 col28\" >19</td>\n",
       "      <td id=\"T_f94c4_row5_col29\" class=\"data row5 col29\" >9.854320</td>\n",
       "      <td id=\"T_f94c4_row5_col30\" class=\"data row5 col30\" >2</td>\n",
       "    </tr>\n",
       "    <tr>\n",
       "      <th id=\"T_f94c4_level0_row6\" class=\"row_heading level0 row6\" >6</th>\n",
       "      <td id=\"T_f94c4_row6_col0\" class=\"data row6 col0\" >30</td>\n",
       "      <td id=\"T_f94c4_row6_col1\" class=\"data row6 col1\" >2</td>\n",
       "      <td id=\"T_f94c4_row6_col2\" class=\"data row6 col2\" >0</td>\n",
       "      <td id=\"T_f94c4_row6_col3\" class=\"data row6 col3\" > </td>\n",
       "      <td id=\"T_f94c4_row6_col4\" class=\"data row6 col4\" >0</td>\n",
       "      <td id=\"T_f94c4_row6_col5\" class=\"data row6 col5\" > </td>\n",
       "      <td id=\"T_f94c4_row6_col6\" class=\"data row6 col6\" > </td>\n",
       "      <td id=\"T_f94c4_row6_col7\" class=\"data row6 col7\" >6</td>\n",
       "      <td id=\"T_f94c4_row6_col8\" class=\"data row6 col8\" >23</td>\n",
       "      <td id=\"T_f94c4_row6_col9\" class=\"data row6 col9\" >0</td>\n",
       "      <td id=\"T_f94c4_row6_col10\" class=\"data row6 col10\" >0</td>\n",
       "      <td id=\"T_f94c4_row6_col11\" class=\"data row6 col11\" >Princeton</td>\n",
       "      <td id=\"T_f94c4_row6_col12\" class=\"data row6 col12\" >23</td>\n",
       "      <td id=\"T_f94c4_row6_col13\" class=\"data row6 col13\" >F</td>\n",
       "      <td id=\"T_f94c4_row6_col14\" class=\"data row6 col14\" >0</td>\n",
       "      <td id=\"T_f94c4_row6_col15\" class=\"data row6 col15\" >0</td>\n",
       "      <td id=\"T_f94c4_row6_col16\" class=\"data row6 col16\" >0</td>\n",
       "      <td id=\"T_f94c4_row6_col17\" class=\"data row6 col17\" >65</td>\n",
       "      <td id=\"T_f94c4_row6_col18\" class=\"data row6 col18\" >13453</td>\n",
       "      <td id=\"T_f94c4_row6_col19\" class=\"data row6 col19\" >S</td>\n",
       "      <td id=\"T_f94c4_row6_col20\" class=\"data row6 col20\" >2</td>\n",
       "      <td id=\"T_f94c4_row6_col21\" class=\"data row6 col21\" >30</td>\n",
       "      <td id=\"T_f94c4_row6_col22\" class=\"data row6 col22\" >36</td>\n",
       "      <td id=\"T_f94c4_row6_col23\" class=\"data row6 col23\" >0</td>\n",
       "      <td id=\"T_f94c4_row6_col24\" class=\"data row6 col24\" >1</td>\n",
       "      <td id=\"T_f94c4_row6_col25\" class=\"data row6 col25\" >0</td>\n",
       "      <td id=\"T_f94c4_row6_col26\" class=\"data row6 col26\" >0</td>\n",
       "      <td id=\"T_f94c4_row6_col27\" class=\"data row6 col27\" >14</td>\n",
       "      <td id=\"T_f94c4_row6_col28\" class=\"data row6 col28\" >19</td>\n",
       "      <td id=\"T_f94c4_row6_col29\" class=\"data row6 col29\" >0.000000</td>\n",
       "      <td id=\"T_f94c4_row6_col30\" class=\"data row6 col30\" >1</td>\n",
       "    </tr>\n",
       "    <tr>\n",
       "      <th id=\"T_f94c4_level0_row7\" class=\"row_heading level0 row7\" >7</th>\n",
       "      <td id=\"T_f94c4_row7_col0\" class=\"data row7 col0\" >30</td>\n",
       "      <td id=\"T_f94c4_row7_col1\" class=\"data row7 col1\" >3</td>\n",
       "      <td id=\"T_f94c4_row7_col2\" class=\"data row7 col2\" >0</td>\n",
       "      <td id=\"T_f94c4_row7_col3\" class=\"data row7 col3\" > </td>\n",
       "      <td id=\"T_f94c4_row7_col4\" class=\"data row7 col4\" >0</td>\n",
       "      <td id=\"T_f94c4_row7_col5\" class=\"data row7 col5\" > </td>\n",
       "      <td id=\"T_f94c4_row7_col6\" class=\"data row7 col6\" > </td>\n",
       "      <td id=\"T_f94c4_row7_col7\" class=\"data row7 col7\" >7</td>\n",
       "      <td id=\"T_f94c4_row7_col8\" class=\"data row7 col8\" >23</td>\n",
       "      <td id=\"T_f94c4_row7_col9\" class=\"data row7 col9\" >0</td>\n",
       "      <td id=\"T_f94c4_row7_col10\" class=\"data row7 col10\" >0</td>\n",
       "      <td id=\"T_f94c4_row7_col11\" class=\"data row7 col11\" >Princeton</td>\n",
       "      <td id=\"T_f94c4_row7_col12\" class=\"data row7 col12\" >23</td>\n",
       "      <td id=\"T_f94c4_row7_col13\" class=\"data row7 col13\" >F</td>\n",
       "      <td id=\"T_f94c4_row7_col14\" class=\"data row7 col14\" >0</td>\n",
       "      <td id=\"T_f94c4_row7_col15\" class=\"data row7 col15\" >0</td>\n",
       "      <td id=\"T_f94c4_row7_col16\" class=\"data row7 col16\" >0</td>\n",
       "      <td id=\"T_f94c4_row7_col17\" class=\"data row7 col17\" >65</td>\n",
       "      <td id=\"T_f94c4_row7_col18\" class=\"data row7 col18\" >13453</td>\n",
       "      <td id=\"T_f94c4_row7_col19\" class=\"data row7 col19\" >S</td>\n",
       "      <td id=\"T_f94c4_row7_col20\" class=\"data row7 col20\" >2</td>\n",
       "      <td id=\"T_f94c4_row7_col21\" class=\"data row7 col21\" >30</td>\n",
       "      <td id=\"T_f94c4_row7_col22\" class=\"data row7 col22\" >36</td>\n",
       "      <td id=\"T_f94c4_row7_col23\" class=\"data row7 col23\" >0</td>\n",
       "      <td id=\"T_f94c4_row7_col24\" class=\"data row7 col24\" >1</td>\n",
       "      <td id=\"T_f94c4_row7_col25\" class=\"data row7 col25\" >0</td>\n",
       "      <td id=\"T_f94c4_row7_col26\" class=\"data row7 col26\" >0</td>\n",
       "      <td id=\"T_f94c4_row7_col27\" class=\"data row7 col27\" >14</td>\n",
       "      <td id=\"T_f94c4_row7_col28\" class=\"data row7 col28\" >19</td>\n",
       "      <td id=\"T_f94c4_row7_col29\" class=\"data row7 col29\" >0.000000</td>\n",
       "      <td id=\"T_f94c4_row7_col30\" class=\"data row7 col30\" >1</td>\n",
       "    </tr>\n",
       "    <tr>\n",
       "      <th id=\"T_f94c4_level0_row8\" class=\"row_heading level0 row8\" >8</th>\n",
       "      <td id=\"T_f94c4_row8_col0\" class=\"data row8 col0\" >33</td>\n",
       "      <td id=\"T_f94c4_row8_col1\" class=\"data row8 col1\" >2</td>\n",
       "      <td id=\"T_f94c4_row8_col2\" class=\"data row8 col2\" >0</td>\n",
       "      <td id=\"T_f94c4_row8_col3\" class=\"data row8 col3\" > </td>\n",
       "      <td id=\"T_f94c4_row8_col4\" class=\"data row8 col4\" >0</td>\n",
       "      <td id=\"T_f94c4_row8_col5\" class=\"data row8 col5\" > </td>\n",
       "      <td id=\"T_f94c4_row8_col6\" class=\"data row8 col6\" > </td>\n",
       "      <td id=\"T_f94c4_row8_col7\" class=\"data row8 col7\" >8</td>\n",
       "      <td id=\"T_f94c4_row8_col8\" class=\"data row8 col8\" >24</td>\n",
       "      <td id=\"T_f94c4_row8_col9\" class=\"data row8 col9\" >0</td>\n",
       "      <td id=\"T_f94c4_row8_col10\" class=\"data row8 col10\" >0</td>\n",
       "      <td id=\"T_f94c4_row8_col11\" class=\"data row8 col11\" >Foxton</td>\n",
       "      <td id=\"T_f94c4_row8_col12\" class=\"data row8 col12\" >24</td>\n",
       "      <td id=\"T_f94c4_row8_col13\" class=\"data row8 col13\" >M</td>\n",
       "      <td id=\"T_f94c4_row8_col14\" class=\"data row8 col14\" >0</td>\n",
       "      <td id=\"T_f94c4_row8_col15\" class=\"data row8 col15\" >0</td>\n",
       "      <td id=\"T_f94c4_row8_col16\" class=\"data row8 col16\" >0</td>\n",
       "      <td id=\"T_f94c4_row8_col17\" class=\"data row8 col17\" >65</td>\n",
       "      <td id=\"T_f94c4_row8_col18\" class=\"data row8 col18\" >13453</td>\n",
       "      <td id=\"T_f94c4_row8_col19\" class=\"data row8 col19\" >S</td>\n",
       "      <td id=\"T_f94c4_row8_col20\" class=\"data row8 col20\" >2</td>\n",
       "      <td id=\"T_f94c4_row8_col21\" class=\"data row8 col21\" >-2</td>\n",
       "      <td id=\"T_f94c4_row8_col22\" class=\"data row8 col22\" >0</td>\n",
       "      <td id=\"T_f94c4_row8_col23\" class=\"data row8 col23\" >0</td>\n",
       "      <td id=\"T_f94c4_row8_col24\" class=\"data row8 col24\" >0</td>\n",
       "      <td id=\"T_f94c4_row8_col25\" class=\"data row8 col25\" >0</td>\n",
       "      <td id=\"T_f94c4_row8_col26\" class=\"data row8 col26\" >0</td>\n",
       "      <td id=\"T_f94c4_row8_col27\" class=\"data row8 col27\" >14</td>\n",
       "      <td id=\"T_f94c4_row8_col28\" class=\"data row8 col28\" >19</td>\n",
       "      <td id=\"T_f94c4_row8_col29\" class=\"data row8 col29\" >0.000000</td>\n",
       "      <td id=\"T_f94c4_row8_col30\" class=\"data row8 col30\" >1</td>\n",
       "    </tr>\n",
       "    <tr>\n",
       "      <th id=\"T_f94c4_level0_row9\" class=\"row_heading level0 row9\" >9</th>\n",
       "      <td id=\"T_f94c4_row9_col0\" class=\"data row9 col0\" >42</td>\n",
       "      <td id=\"T_f94c4_row9_col1\" class=\"data row9 col1\" >3</td>\n",
       "      <td id=\"T_f94c4_row9_col2\" class=\"data row9 col2\" >0</td>\n",
       "      <td id=\"T_f94c4_row9_col3\" class=\"data row9 col3\" > </td>\n",
       "      <td id=\"T_f94c4_row9_col4\" class=\"data row9 col4\" >0</td>\n",
       "      <td id=\"T_f94c4_row9_col5\" class=\"data row9 col5\" > </td>\n",
       "      <td id=\"T_f94c4_row9_col6\" class=\"data row9 col6\" > </td>\n",
       "      <td id=\"T_f94c4_row9_col7\" class=\"data row9 col7\" >9</td>\n",
       "      <td id=\"T_f94c4_row9_col8\" class=\"data row9 col8\" >35</td>\n",
       "      <td id=\"T_f94c4_row9_col9\" class=\"data row9 col9\" >8</td>\n",
       "      <td id=\"T_f94c4_row9_col10\" class=\"data row9 col10\" >0</td>\n",
       "      <td id=\"T_f94c4_row9_col11\" class=\"data row9 col11\" >Queensbury</td>\n",
       "      <td id=\"T_f94c4_row9_col12\" class=\"data row9 col12\" >35</td>\n",
       "      <td id=\"T_f94c4_row9_col13\" class=\"data row9 col13\" >M</td>\n",
       "      <td id=\"T_f94c4_row9_col14\" class=\"data row9 col14\" >0</td>\n",
       "      <td id=\"T_f94c4_row9_col15\" class=\"data row9 col15\" >0</td>\n",
       "      <td id=\"T_f94c4_row9_col16\" class=\"data row9 col16\" >0</td>\n",
       "      <td id=\"T_f94c4_row9_col17\" class=\"data row9 col17\" >65</td>\n",
       "      <td id=\"T_f94c4_row9_col18\" class=\"data row9 col18\" >13453</td>\n",
       "      <td id=\"T_f94c4_row9_col19\" class=\"data row9 col19\" >M</td>\n",
       "      <td id=\"T_f94c4_row9_col20\" class=\"data row9 col20\" >2</td>\n",
       "      <td id=\"T_f94c4_row9_col21\" class=\"data row9 col21\" >22</td>\n",
       "      <td id=\"T_f94c4_row9_col22\" class=\"data row9 col22\" >24</td>\n",
       "      <td id=\"T_f94c4_row9_col23\" class=\"data row9 col23\" >0</td>\n",
       "      <td id=\"T_f94c4_row9_col24\" class=\"data row9 col24\" >1</td>\n",
       "      <td id=\"T_f94c4_row9_col25\" class=\"data row9 col25\" >0</td>\n",
       "      <td id=\"T_f94c4_row9_col26\" class=\"data row9 col26\" >0</td>\n",
       "      <td id=\"T_f94c4_row9_col27\" class=\"data row9 col27\" >14</td>\n",
       "      <td id=\"T_f94c4_row9_col28\" class=\"data row9 col28\" >19</td>\n",
       "      <td id=\"T_f94c4_row9_col29\" class=\"data row9 col29\" >0.000000</td>\n",
       "      <td id=\"T_f94c4_row9_col30\" class=\"data row9 col30\" >3</td>\n",
       "    </tr>\n",
       "  </tbody>\n",
       "</table>\n"
      ],
      "text/plain": [
       "<pandas.io.formats.style.Styler at 0x7f5a36bb2c70>"
      ]
     },
     "execution_count": 2,
     "metadata": {},
     "output_type": "execute_result"
    }
   ],
   "source": [
    "data = pd.read_csv('CustomerResponseData.csv')\n",
    "data.head(10).style #add .style to show all columns (otherwise some columns will be hidden with \"...\")"
   ]
  },
  {
   "cell_type": "code",
   "execution_count": 3,
   "metadata": {},
   "outputs": [
    {
     "data": {
      "text/plain": [
       "(21927, 31)"
      ]
     },
     "execution_count": 3,
     "metadata": {},
     "output_type": "execute_result"
    }
   ],
   "source": [
    "data.shape"
   ]
  },
  {
   "cell_type": "markdown",
   "metadata": {},
   "source": [
    "**In this exercise, we choose `response` as the target variable that indicates whether the customer has picked up an offer (0 = \"no\", 1 = \"yes).** The data set contains information for 4 different marketing campaigns, indicated by the `campaign` variable. We print the number of observations (rows) for each campaign:"
   ]
  },
  {
   "cell_type": "code",
   "execution_count": 4,
   "metadata": {},
   "outputs": [
    {
     "name": "stdout",
     "output_type": "stream",
     "text": [
      "campaign: 1 count: 1747\n",
      "campaign: 2 count: 13504\n",
      "campaign: 3 count: 5285\n",
      "campaign: 4 count: 1391\n"
     ]
    }
   ],
   "source": [
    "keys, counts = np.unique(data.campaign, return_counts=True)\n",
    "for k, c in zip(keys, counts): \n",
    "    print(\"campaign: \" + str(k) + \" count: \" + str(c))"
   ]
  },
  {
   "cell_type": "markdown",
   "metadata": {},
   "source": [
    "## Select data subset\n",
    "\n",
    "Silly marketing department handed us one file with information on all campaigns. For a meaningful analysis, we would like to isolate a single campaign. For this example, let's assume that our task is to analyse campaign 2. We select all entries where `campaign` is 2 and store this subset in a new Pandas dataframe `data2`:"
   ]
  },
  {
   "cell_type": "code",
   "execution_count": 5,
   "metadata": {},
   "outputs": [
    {
     "data": {
      "text/plain": [
       "(13504, 31)"
      ]
     },
     "execution_count": 5,
     "metadata": {},
     "output_type": "execute_result"
    }
   ],
   "source": [
    "data2 = data[data['campaign']==2]\n",
    "data2.shape #we plot the shape (rows, columns) and notice that the row count is correct."
   ]
  },
  {
   "cell_type": "markdown",
   "metadata": {},
   "source": [
    "## 2. Exploratory data analysis (EDA)\n",
    "\n",
    "We run a short EDA and observe:\n",
    "+ no missing values\n",
    "+ no NaN values \n",
    "- some obviously redundant variables (e.g. `customer_id`)\n",
    "- some unclear variables (who knows what `X_random` is supposed to be?)"
   ]
  },
  {
   "cell_type": "code",
   "execution_count": 6,
   "metadata": {},
   "outputs": [
    {
     "name": "stdout",
     "output_type": "stream",
     "text": [
      "<class 'pandas.core.frame.DataFrame'>\n",
      "Int64Index: 13504 entries, 0 to 21926\n",
      "Data columns (total 31 columns):\n",
      " #   Column                          Non-Null Count  Dtype  \n",
      "---  ------                          --------------  -----  \n",
      " 0   customer_id                     13504 non-null  int64  \n",
      " 1   campaign                        13504 non-null  int64  \n",
      " 2   response                        13504 non-null  int64  \n",
      " 3   response_date                   13504 non-null  object \n",
      " 4   purchase                        13504 non-null  int64  \n",
      " 5   purchase_date                   13504 non-null  object \n",
      " 6   product_id                      13504 non-null  object \n",
      " 7   Rowid                           13504 non-null  int64  \n",
      " 8   age                             13504 non-null  int64  \n",
      " 9   age_youngest_child              13504 non-null  int64  \n",
      " 10  average#balance#feed#index      13504 non-null  int64  \n",
      " 11  branch                          13504 non-null  object \n",
      " 12  debt_equity                     13504 non-null  int64  \n",
      " 13  gender                          13504 non-null  object \n",
      " 14  bad_payment                     13504 non-null  int64  \n",
      " 15  gold_card                       13504 non-null  int64  \n",
      " 16  pension_plan                    13504 non-null  int64  \n",
      " 17  household_debt_to_equity_ratio  13504 non-null  int64  \n",
      " 18  income                          13504 non-null  int64  \n",
      " 19  marital                         13504 non-null  object \n",
      " 20  members_in_household            13504 non-null  int64  \n",
      " 21  months_current_account          13504 non-null  int64  \n",
      " 22  months_customer                 13504 non-null  int64  \n",
      " 23  call_center_contacts            13504 non-null  int64  \n",
      " 24  loan_accounts                   13504 non-null  int64  \n",
      " 25  number_products                 13504 non-null  int64  \n",
      " 26  number_transactions             13504 non-null  int64  \n",
      " 27  non_worker_percentage           13504 non-null  int64  \n",
      " 28  white_collar_percentage         13504 non-null  int64  \n",
      " 29  rfm_score                       13504 non-null  float64\n",
      " 30  X_random                        13504 non-null  int64  \n",
      "dtypes: float64(1), int64(24), object(6)\n",
      "memory usage: 3.3+ MB\n"
     ]
    }
   ],
   "source": [
    "data2.info()"
   ]
  },
  {
   "cell_type": "code",
   "execution_count": 7,
   "metadata": {},
   "outputs": [
    {
     "data": {
      "text/html": [
       "<style type=\"text/css\">\n",
       "</style>\n",
       "<table id=\"T_2dc77_\">\n",
       "  <thead>\n",
       "    <tr>\n",
       "      <th class=\"blank level0\" >&nbsp;</th>\n",
       "      <th class=\"col_heading level0 col0\" >customer_id</th>\n",
       "      <th class=\"col_heading level0 col1\" >campaign</th>\n",
       "      <th class=\"col_heading level0 col2\" >response</th>\n",
       "      <th class=\"col_heading level0 col3\" >purchase</th>\n",
       "      <th class=\"col_heading level0 col4\" >Rowid</th>\n",
       "      <th class=\"col_heading level0 col5\" >age</th>\n",
       "      <th class=\"col_heading level0 col6\" >age_youngest_child</th>\n",
       "      <th class=\"col_heading level0 col7\" >average#balance#feed#index</th>\n",
       "      <th class=\"col_heading level0 col8\" >debt_equity</th>\n",
       "      <th class=\"col_heading level0 col9\" >bad_payment</th>\n",
       "      <th class=\"col_heading level0 col10\" >gold_card</th>\n",
       "      <th class=\"col_heading level0 col11\" >pension_plan</th>\n",
       "      <th class=\"col_heading level0 col12\" >household_debt_to_equity_ratio</th>\n",
       "      <th class=\"col_heading level0 col13\" >income</th>\n",
       "      <th class=\"col_heading level0 col14\" >members_in_household</th>\n",
       "      <th class=\"col_heading level0 col15\" >months_current_account</th>\n",
       "      <th class=\"col_heading level0 col16\" >months_customer</th>\n",
       "      <th class=\"col_heading level0 col17\" >call_center_contacts</th>\n",
       "      <th class=\"col_heading level0 col18\" >loan_accounts</th>\n",
       "      <th class=\"col_heading level0 col19\" >number_products</th>\n",
       "      <th class=\"col_heading level0 col20\" >number_transactions</th>\n",
       "      <th class=\"col_heading level0 col21\" >non_worker_percentage</th>\n",
       "      <th class=\"col_heading level0 col22\" >white_collar_percentage</th>\n",
       "      <th class=\"col_heading level0 col23\" >rfm_score</th>\n",
       "      <th class=\"col_heading level0 col24\" >X_random</th>\n",
       "    </tr>\n",
       "  </thead>\n",
       "  <tbody>\n",
       "    <tr>\n",
       "      <th id=\"T_2dc77_level0_row0\" class=\"row_heading level0 row0\" >customer_id</th>\n",
       "      <td id=\"T_2dc77_row0_col0\" class=\"data row0 col0\" >1.000000</td>\n",
       "      <td id=\"T_2dc77_row0_col1\" class=\"data row0 col1\" >nan</td>\n",
       "      <td id=\"T_2dc77_row0_col2\" class=\"data row0 col2\" >0.425413</td>\n",
       "      <td id=\"T_2dc77_row0_col3\" class=\"data row0 col3\" >0.351198</td>\n",
       "      <td id=\"T_2dc77_row0_col4\" class=\"data row0 col4\" >0.431025</td>\n",
       "      <td id=\"T_2dc77_row0_col5\" class=\"data row0 col5\" >0.001793</td>\n",
       "      <td id=\"T_2dc77_row0_col6\" class=\"data row0 col6\" >-0.000971</td>\n",
       "      <td id=\"T_2dc77_row0_col7\" class=\"data row0 col7\" >0.190307</td>\n",
       "      <td id=\"T_2dc77_row0_col8\" class=\"data row0 col8\" >0.001793</td>\n",
       "      <td id=\"T_2dc77_row0_col9\" class=\"data row0 col9\" >0.008817</td>\n",
       "      <td id=\"T_2dc77_row0_col10\" class=\"data row0 col10\" >-0.059883</td>\n",
       "      <td id=\"T_2dc77_row0_col11\" class=\"data row0 col11\" >0.059189</td>\n",
       "      <td id=\"T_2dc77_row0_col12\" class=\"data row0 col12\" >-0.009421</td>\n",
       "      <td id=\"T_2dc77_row0_col13\" class=\"data row0 col13\" >0.987156</td>\n",
       "      <td id=\"T_2dc77_row0_col14\" class=\"data row0 col14\" >0.004988</td>\n",
       "      <td id=\"T_2dc77_row0_col15\" class=\"data row0 col15\" >0.044771</td>\n",
       "      <td id=\"T_2dc77_row0_col16\" class=\"data row0 col16\" >0.041399</td>\n",
       "      <td id=\"T_2dc77_row0_col17\" class=\"data row0 col17\" >0.009578</td>\n",
       "      <td id=\"T_2dc77_row0_col18\" class=\"data row0 col18\" >0.006799</td>\n",
       "      <td id=\"T_2dc77_row0_col19\" class=\"data row0 col19\" >0.158520</td>\n",
       "      <td id=\"T_2dc77_row0_col20\" class=\"data row0 col20\" >0.265199</td>\n",
       "      <td id=\"T_2dc77_row0_col21\" class=\"data row0 col21\" >0.011481</td>\n",
       "      <td id=\"T_2dc77_row0_col22\" class=\"data row0 col22\" >0.004253</td>\n",
       "      <td id=\"T_2dc77_row0_col23\" class=\"data row0 col23\" >0.275153</td>\n",
       "      <td id=\"T_2dc77_row0_col24\" class=\"data row0 col24\" >-0.000005</td>\n",
       "    </tr>\n",
       "    <tr>\n",
       "      <th id=\"T_2dc77_level0_row1\" class=\"row_heading level0 row1\" >campaign</th>\n",
       "      <td id=\"T_2dc77_row1_col0\" class=\"data row1 col0\" >nan</td>\n",
       "      <td id=\"T_2dc77_row1_col1\" class=\"data row1 col1\" >nan</td>\n",
       "      <td id=\"T_2dc77_row1_col2\" class=\"data row1 col2\" >nan</td>\n",
       "      <td id=\"T_2dc77_row1_col3\" class=\"data row1 col3\" >nan</td>\n",
       "      <td id=\"T_2dc77_row1_col4\" class=\"data row1 col4\" >nan</td>\n",
       "      <td id=\"T_2dc77_row1_col5\" class=\"data row1 col5\" >nan</td>\n",
       "      <td id=\"T_2dc77_row1_col6\" class=\"data row1 col6\" >nan</td>\n",
       "      <td id=\"T_2dc77_row1_col7\" class=\"data row1 col7\" >nan</td>\n",
       "      <td id=\"T_2dc77_row1_col8\" class=\"data row1 col8\" >nan</td>\n",
       "      <td id=\"T_2dc77_row1_col9\" class=\"data row1 col9\" >nan</td>\n",
       "      <td id=\"T_2dc77_row1_col10\" class=\"data row1 col10\" >nan</td>\n",
       "      <td id=\"T_2dc77_row1_col11\" class=\"data row1 col11\" >nan</td>\n",
       "      <td id=\"T_2dc77_row1_col12\" class=\"data row1 col12\" >nan</td>\n",
       "      <td id=\"T_2dc77_row1_col13\" class=\"data row1 col13\" >nan</td>\n",
       "      <td id=\"T_2dc77_row1_col14\" class=\"data row1 col14\" >nan</td>\n",
       "      <td id=\"T_2dc77_row1_col15\" class=\"data row1 col15\" >nan</td>\n",
       "      <td id=\"T_2dc77_row1_col16\" class=\"data row1 col16\" >nan</td>\n",
       "      <td id=\"T_2dc77_row1_col17\" class=\"data row1 col17\" >nan</td>\n",
       "      <td id=\"T_2dc77_row1_col18\" class=\"data row1 col18\" >nan</td>\n",
       "      <td id=\"T_2dc77_row1_col19\" class=\"data row1 col19\" >nan</td>\n",
       "      <td id=\"T_2dc77_row1_col20\" class=\"data row1 col20\" >nan</td>\n",
       "      <td id=\"T_2dc77_row1_col21\" class=\"data row1 col21\" >nan</td>\n",
       "      <td id=\"T_2dc77_row1_col22\" class=\"data row1 col22\" >nan</td>\n",
       "      <td id=\"T_2dc77_row1_col23\" class=\"data row1 col23\" >nan</td>\n",
       "      <td id=\"T_2dc77_row1_col24\" class=\"data row1 col24\" >nan</td>\n",
       "    </tr>\n",
       "    <tr>\n",
       "      <th id=\"T_2dc77_level0_row2\" class=\"row_heading level0 row2\" >response</th>\n",
       "      <td id=\"T_2dc77_row2_col0\" class=\"data row2 col0\" >0.425413</td>\n",
       "      <td id=\"T_2dc77_row2_col1\" class=\"data row2 col1\" >nan</td>\n",
       "      <td id=\"T_2dc77_row2_col2\" class=\"data row2 col2\" >1.000000</td>\n",
       "      <td id=\"T_2dc77_row2_col3\" class=\"data row2 col3\" >0.768723</td>\n",
       "      <td id=\"T_2dc77_row2_col4\" class=\"data row2 col4\" >-0.474980</td>\n",
       "      <td id=\"T_2dc77_row2_col5\" class=\"data row2 col5\" >0.002331</td>\n",
       "      <td id=\"T_2dc77_row2_col6\" class=\"data row2 col6\" >-0.002049</td>\n",
       "      <td id=\"T_2dc77_row2_col7\" class=\"data row2 col7\" >0.402851</td>\n",
       "      <td id=\"T_2dc77_row2_col8\" class=\"data row2 col8\" >0.002331</td>\n",
       "      <td id=\"T_2dc77_row2_col9\" class=\"data row2 col9\" >-0.005432</td>\n",
       "      <td id=\"T_2dc77_row2_col10\" class=\"data row2 col10\" >-0.003581</td>\n",
       "      <td id=\"T_2dc77_row2_col11\" class=\"data row2 col11\" >0.066253</td>\n",
       "      <td id=\"T_2dc77_row2_col12\" class=\"data row2 col12\" >-0.002758</td>\n",
       "      <td id=\"T_2dc77_row2_col13\" class=\"data row2 col13\" >0.374858</td>\n",
       "      <td id=\"T_2dc77_row2_col14\" class=\"data row2 col14\" >-0.003489</td>\n",
       "      <td id=\"T_2dc77_row2_col15\" class=\"data row2 col15\" >0.118431</td>\n",
       "      <td id=\"T_2dc77_row2_col16\" class=\"data row2 col16\" >0.117062</td>\n",
       "      <td id=\"T_2dc77_row2_col17\" class=\"data row2 col17\" >0.000766</td>\n",
       "      <td id=\"T_2dc77_row2_col18\" class=\"data row2 col18\" >0.011002</td>\n",
       "      <td id=\"T_2dc77_row2_col19\" class=\"data row2 col19\" >0.382030</td>\n",
       "      <td id=\"T_2dc77_row2_col20\" class=\"data row2 col20\" >0.423677</td>\n",
       "      <td id=\"T_2dc77_row2_col21\" class=\"data row2 col21\" >-0.000515</td>\n",
       "      <td id=\"T_2dc77_row2_col22\" class=\"data row2 col22\" >0.002844</td>\n",
       "      <td id=\"T_2dc77_row2_col23\" class=\"data row2 col23\" >0.535865</td>\n",
       "      <td id=\"T_2dc77_row2_col24\" class=\"data row2 col24\" >0.008987</td>\n",
       "    </tr>\n",
       "    <tr>\n",
       "      <th id=\"T_2dc77_level0_row3\" class=\"row_heading level0 row3\" >purchase</th>\n",
       "      <td id=\"T_2dc77_row3_col0\" class=\"data row3 col0\" >0.351198</td>\n",
       "      <td id=\"T_2dc77_row3_col1\" class=\"data row3 col1\" >nan</td>\n",
       "      <td id=\"T_2dc77_row3_col2\" class=\"data row3 col2\" >0.768723</td>\n",
       "      <td id=\"T_2dc77_row3_col3\" class=\"data row3 col3\" >1.000000</td>\n",
       "      <td id=\"T_2dc77_row3_col4\" class=\"data row3 col4\" >-0.366278</td>\n",
       "      <td id=\"T_2dc77_row3_col5\" class=\"data row3 col5\" >-0.100168</td>\n",
       "      <td id=\"T_2dc77_row3_col6\" class=\"data row3 col6\" >-0.099683</td>\n",
       "      <td id=\"T_2dc77_row3_col7\" class=\"data row3 col7\" >0.393068</td>\n",
       "      <td id=\"T_2dc77_row3_col8\" class=\"data row3 col8\" >-0.100168</td>\n",
       "      <td id=\"T_2dc77_row3_col9\" class=\"data row3 col9\" >-0.006702</td>\n",
       "      <td id=\"T_2dc77_row3_col10\" class=\"data row3 col10\" >-0.010235</td>\n",
       "      <td id=\"T_2dc77_row3_col11\" class=\"data row3 col11\" >0.088096</td>\n",
       "      <td id=\"T_2dc77_row3_col12\" class=\"data row3 col12\" >-0.059401</td>\n",
       "      <td id=\"T_2dc77_row3_col13\" class=\"data row3 col13\" >0.311923</td>\n",
       "      <td id=\"T_2dc77_row3_col14\" class=\"data row3 col14\" >0.015940</td>\n",
       "      <td id=\"T_2dc77_row3_col15\" class=\"data row3 col15\" >0.091220</td>\n",
       "      <td id=\"T_2dc77_row3_col16\" class=\"data row3 col16\" >0.090688</td>\n",
       "      <td id=\"T_2dc77_row3_col17\" class=\"data row3 col17\" >0.056314</td>\n",
       "      <td id=\"T_2dc77_row3_col18\" class=\"data row3 col18\" >-0.014700</td>\n",
       "      <td id=\"T_2dc77_row3_col19\" class=\"data row3 col19\" >0.285770</td>\n",
       "      <td id=\"T_2dc77_row3_col20\" class=\"data row3 col20\" >0.516961</td>\n",
       "      <td id=\"T_2dc77_row3_col21\" class=\"data row3 col21\" >-0.007094</td>\n",
       "      <td id=\"T_2dc77_row3_col22\" class=\"data row3 col22\" >0.067600</td>\n",
       "      <td id=\"T_2dc77_row3_col23\" class=\"data row3 col23\" >0.519853</td>\n",
       "      <td id=\"T_2dc77_row3_col24\" class=\"data row3 col24\" >0.014963</td>\n",
       "    </tr>\n",
       "    <tr>\n",
       "      <th id=\"T_2dc77_level0_row4\" class=\"row_heading level0 row4\" >Rowid</th>\n",
       "      <td id=\"T_2dc77_row4_col0\" class=\"data row4 col0\" >0.431025</td>\n",
       "      <td id=\"T_2dc77_row4_col1\" class=\"data row4 col1\" >nan</td>\n",
       "      <td id=\"T_2dc77_row4_col2\" class=\"data row4 col2\" >-0.474980</td>\n",
       "      <td id=\"T_2dc77_row4_col3\" class=\"data row4 col3\" >-0.366278</td>\n",
       "      <td id=\"T_2dc77_row4_col4\" class=\"data row4 col4\" >1.000000</td>\n",
       "      <td id=\"T_2dc77_row4_col5\" class=\"data row4 col5\" >-0.004178</td>\n",
       "      <td id=\"T_2dc77_row4_col6\" class=\"data row4 col6\" >-0.002651</td>\n",
       "      <td id=\"T_2dc77_row4_col7\" class=\"data row4 col7\" >-0.196626</td>\n",
       "      <td id=\"T_2dc77_row4_col8\" class=\"data row4 col8\" >-0.004178</td>\n",
       "      <td id=\"T_2dc77_row4_col9\" class=\"data row4 col9\" >0.013368</td>\n",
       "      <td id=\"T_2dc77_row4_col10\" class=\"data row4 col10\" >-0.022751</td>\n",
       "      <td id=\"T_2dc77_row4_col11\" class=\"data row4 col11\" >-0.012727</td>\n",
       "      <td id=\"T_2dc77_row4_col12\" class=\"data row4 col12\" >-0.010437</td>\n",
       "      <td id=\"T_2dc77_row4_col13\" class=\"data row4 col13\" >0.500930</td>\n",
       "      <td id=\"T_2dc77_row4_col14\" class=\"data row4 col14\" >0.003751</td>\n",
       "      <td id=\"T_2dc77_row4_col15\" class=\"data row4 col15\" >-0.062246</td>\n",
       "      <td id=\"T_2dc77_row4_col16\" class=\"data row4 col16\" >-0.061732</td>\n",
       "      <td id=\"T_2dc77_row4_col17\" class=\"data row4 col17\" >0.013370</td>\n",
       "      <td id=\"T_2dc77_row4_col18\" class=\"data row4 col18\" >-0.007355</td>\n",
       "      <td id=\"T_2dc77_row4_col19\" class=\"data row4 col19\" >-0.187090</td>\n",
       "      <td id=\"T_2dc77_row4_col20\" class=\"data row4 col20\" >-0.174646</td>\n",
       "      <td id=\"T_2dc77_row4_col21\" class=\"data row4 col21\" >0.013819</td>\n",
       "      <td id=\"T_2dc77_row4_col22\" class=\"data row4 col22\" >0.004970</td>\n",
       "      <td id=\"T_2dc77_row4_col23\" class=\"data row4 col23\" >-0.242424</td>\n",
       "      <td id=\"T_2dc77_row4_col24\" class=\"data row4 col24\" >-0.017121</td>\n",
       "    </tr>\n",
       "    <tr>\n",
       "      <th id=\"T_2dc77_level0_row5\" class=\"row_heading level0 row5\" >age</th>\n",
       "      <td id=\"T_2dc77_row5_col0\" class=\"data row5 col0\" >0.001793</td>\n",
       "      <td id=\"T_2dc77_row5_col1\" class=\"data row5 col1\" >nan</td>\n",
       "      <td id=\"T_2dc77_row5_col2\" class=\"data row5 col2\" >0.002331</td>\n",
       "      <td id=\"T_2dc77_row5_col3\" class=\"data row5 col3\" >-0.100168</td>\n",
       "      <td id=\"T_2dc77_row5_col4\" class=\"data row5 col4\" >-0.004178</td>\n",
       "      <td id=\"T_2dc77_row5_col5\" class=\"data row5 col5\" >1.000000</td>\n",
       "      <td id=\"T_2dc77_row5_col6\" class=\"data row5 col6\" >0.953575</td>\n",
       "      <td id=\"T_2dc77_row5_col7\" class=\"data row5 col7\" >0.001993</td>\n",
       "      <td id=\"T_2dc77_row5_col8\" class=\"data row5 col8\" >1.000000</td>\n",
       "      <td id=\"T_2dc77_row5_col9\" class=\"data row5 col9\" >0.005727</td>\n",
       "      <td id=\"T_2dc77_row5_col10\" class=\"data row5 col10\" >0.030240</td>\n",
       "      <td id=\"T_2dc77_row5_col11\" class=\"data row5 col11\" >0.005431</td>\n",
       "      <td id=\"T_2dc77_row5_col12\" class=\"data row5 col12\" >0.002905</td>\n",
       "      <td id=\"T_2dc77_row5_col13\" class=\"data row5 col13\" >-0.001505</td>\n",
       "      <td id=\"T_2dc77_row5_col14\" class=\"data row5 col14\" >-0.178299</td>\n",
       "      <td id=\"T_2dc77_row5_col15\" class=\"data row5 col15\" >-0.008683</td>\n",
       "      <td id=\"T_2dc77_row5_col16\" class=\"data row5 col16\" >-0.008154</td>\n",
       "      <td id=\"T_2dc77_row5_col17\" class=\"data row5 col17\" >-0.004324</td>\n",
       "      <td id=\"T_2dc77_row5_col18\" class=\"data row5 col18\" >-0.015589</td>\n",
       "      <td id=\"T_2dc77_row5_col19\" class=\"data row5 col19\" >-0.009992</td>\n",
       "      <td id=\"T_2dc77_row5_col20\" class=\"data row5 col20\" >0.005572</td>\n",
       "      <td id=\"T_2dc77_row5_col21\" class=\"data row5 col21\" >0.001513</td>\n",
       "      <td id=\"T_2dc77_row5_col22\" class=\"data row5 col22\" >-0.004340</td>\n",
       "      <td id=\"T_2dc77_row5_col23\" class=\"data row5 col23\" >0.000603</td>\n",
       "      <td id=\"T_2dc77_row5_col24\" class=\"data row5 col24\" >-0.007622</td>\n",
       "    </tr>\n",
       "    <tr>\n",
       "      <th id=\"T_2dc77_level0_row6\" class=\"row_heading level0 row6\" >age_youngest_child</th>\n",
       "      <td id=\"T_2dc77_row6_col0\" class=\"data row6 col0\" >-0.000971</td>\n",
       "      <td id=\"T_2dc77_row6_col1\" class=\"data row6 col1\" >nan</td>\n",
       "      <td id=\"T_2dc77_row6_col2\" class=\"data row6 col2\" >-0.002049</td>\n",
       "      <td id=\"T_2dc77_row6_col3\" class=\"data row6 col3\" >-0.099683</td>\n",
       "      <td id=\"T_2dc77_row6_col4\" class=\"data row6 col4\" >-0.002651</td>\n",
       "      <td id=\"T_2dc77_row6_col5\" class=\"data row6 col5\" >0.953575</td>\n",
       "      <td id=\"T_2dc77_row6_col6\" class=\"data row6 col6\" >1.000000</td>\n",
       "      <td id=\"T_2dc77_row6_col7\" class=\"data row6 col7\" >-0.002602</td>\n",
       "      <td id=\"T_2dc77_row6_col8\" class=\"data row6 col8\" >0.953575</td>\n",
       "      <td id=\"T_2dc77_row6_col9\" class=\"data row6 col9\" >0.004402</td>\n",
       "      <td id=\"T_2dc77_row6_col10\" class=\"data row6 col10\" >0.037333</td>\n",
       "      <td id=\"T_2dc77_row6_col11\" class=\"data row6 col11\" >0.007208</td>\n",
       "      <td id=\"T_2dc77_row6_col12\" class=\"data row6 col12\" >0.003539</td>\n",
       "      <td id=\"T_2dc77_row6_col13\" class=\"data row6 col13\" >-0.003918</td>\n",
       "      <td id=\"T_2dc77_row6_col14\" class=\"data row6 col14\" >-0.191152</td>\n",
       "      <td id=\"T_2dc77_row6_col15\" class=\"data row6 col15\" >-0.003667</td>\n",
       "      <td id=\"T_2dc77_row6_col16\" class=\"data row6 col16\" >-0.003540</td>\n",
       "      <td id=\"T_2dc77_row6_col17\" class=\"data row6 col17\" >-0.004128</td>\n",
       "      <td id=\"T_2dc77_row6_col18\" class=\"data row6 col18\" >-0.015429</td>\n",
       "      <td id=\"T_2dc77_row6_col19\" class=\"data row6 col19\" >-0.011814</td>\n",
       "      <td id=\"T_2dc77_row6_col20\" class=\"data row6 col20\" >0.006422</td>\n",
       "      <td id=\"T_2dc77_row6_col21\" class=\"data row6 col21\" >-0.003997</td>\n",
       "      <td id=\"T_2dc77_row6_col22\" class=\"data row6 col22\" >-0.002685</td>\n",
       "      <td id=\"T_2dc77_row6_col23\" class=\"data row6 col23\" >0.000364</td>\n",
       "      <td id=\"T_2dc77_row6_col24\" class=\"data row6 col24\" >-0.006393</td>\n",
       "    </tr>\n",
       "    <tr>\n",
       "      <th id=\"T_2dc77_level0_row7\" class=\"row_heading level0 row7\" >average#balance#feed#index</th>\n",
       "      <td id=\"T_2dc77_row7_col0\" class=\"data row7 col0\" >0.190307</td>\n",
       "      <td id=\"T_2dc77_row7_col1\" class=\"data row7 col1\" >nan</td>\n",
       "      <td id=\"T_2dc77_row7_col2\" class=\"data row7 col2\" >0.402851</td>\n",
       "      <td id=\"T_2dc77_row7_col3\" class=\"data row7 col3\" >0.393068</td>\n",
       "      <td id=\"T_2dc77_row7_col4\" class=\"data row7 col4\" >-0.196626</td>\n",
       "      <td id=\"T_2dc77_row7_col5\" class=\"data row7 col5\" >0.001993</td>\n",
       "      <td id=\"T_2dc77_row7_col6\" class=\"data row7 col6\" >-0.002602</td>\n",
       "      <td id=\"T_2dc77_row7_col7\" class=\"data row7 col7\" >1.000000</td>\n",
       "      <td id=\"T_2dc77_row7_col8\" class=\"data row7 col8\" >0.001993</td>\n",
       "      <td id=\"T_2dc77_row7_col9\" class=\"data row7 col9\" >-0.002436</td>\n",
       "      <td id=\"T_2dc77_row7_col10\" class=\"data row7 col10\" >0.021040</td>\n",
       "      <td id=\"T_2dc77_row7_col11\" class=\"data row7 col11\" >0.125625</td>\n",
       "      <td id=\"T_2dc77_row7_col12\" class=\"data row7 col12\" >-0.013884</td>\n",
       "      <td id=\"T_2dc77_row7_col13\" class=\"data row7 col13\" >0.165025</td>\n",
       "      <td id=\"T_2dc77_row7_col14\" class=\"data row7 col14\" >-0.008589</td>\n",
       "      <td id=\"T_2dc77_row7_col15\" class=\"data row7 col15\" >0.154326</td>\n",
       "      <td id=\"T_2dc77_row7_col16\" class=\"data row7 col16\" >0.150724</td>\n",
       "      <td id=\"T_2dc77_row7_col17\" class=\"data row7 col17\" >0.012481</td>\n",
       "      <td id=\"T_2dc77_row7_col18\" class=\"data row7 col18\" >0.023558</td>\n",
       "      <td id=\"T_2dc77_row7_col19\" class=\"data row7 col19\" >0.567033</td>\n",
       "      <td id=\"T_2dc77_row7_col20\" class=\"data row7 col20\" >0.616354</td>\n",
       "      <td id=\"T_2dc77_row7_col21\" class=\"data row7 col21\" >0.009754</td>\n",
       "      <td id=\"T_2dc77_row7_col22\" class=\"data row7 col22\" >0.010797</td>\n",
       "      <td id=\"T_2dc77_row7_col23\" class=\"data row7 col23\" >0.757542</td>\n",
       "      <td id=\"T_2dc77_row7_col24\" class=\"data row7 col24\" >0.011616</td>\n",
       "    </tr>\n",
       "    <tr>\n",
       "      <th id=\"T_2dc77_level0_row8\" class=\"row_heading level0 row8\" >debt_equity</th>\n",
       "      <td id=\"T_2dc77_row8_col0\" class=\"data row8 col0\" >0.001793</td>\n",
       "      <td id=\"T_2dc77_row8_col1\" class=\"data row8 col1\" >nan</td>\n",
       "      <td id=\"T_2dc77_row8_col2\" class=\"data row8 col2\" >0.002331</td>\n",
       "      <td id=\"T_2dc77_row8_col3\" class=\"data row8 col3\" >-0.100168</td>\n",
       "      <td id=\"T_2dc77_row8_col4\" class=\"data row8 col4\" >-0.004178</td>\n",
       "      <td id=\"T_2dc77_row8_col5\" class=\"data row8 col5\" >1.000000</td>\n",
       "      <td id=\"T_2dc77_row8_col6\" class=\"data row8 col6\" >0.953575</td>\n",
       "      <td id=\"T_2dc77_row8_col7\" class=\"data row8 col7\" >0.001993</td>\n",
       "      <td id=\"T_2dc77_row8_col8\" class=\"data row8 col8\" >1.000000</td>\n",
       "      <td id=\"T_2dc77_row8_col9\" class=\"data row8 col9\" >0.005727</td>\n",
       "      <td id=\"T_2dc77_row8_col10\" class=\"data row8 col10\" >0.030240</td>\n",
       "      <td id=\"T_2dc77_row8_col11\" class=\"data row8 col11\" >0.005431</td>\n",
       "      <td id=\"T_2dc77_row8_col12\" class=\"data row8 col12\" >0.002905</td>\n",
       "      <td id=\"T_2dc77_row8_col13\" class=\"data row8 col13\" >-0.001505</td>\n",
       "      <td id=\"T_2dc77_row8_col14\" class=\"data row8 col14\" >-0.178299</td>\n",
       "      <td id=\"T_2dc77_row8_col15\" class=\"data row8 col15\" >-0.008683</td>\n",
       "      <td id=\"T_2dc77_row8_col16\" class=\"data row8 col16\" >-0.008154</td>\n",
       "      <td id=\"T_2dc77_row8_col17\" class=\"data row8 col17\" >-0.004324</td>\n",
       "      <td id=\"T_2dc77_row8_col18\" class=\"data row8 col18\" >-0.015589</td>\n",
       "      <td id=\"T_2dc77_row8_col19\" class=\"data row8 col19\" >-0.009992</td>\n",
       "      <td id=\"T_2dc77_row8_col20\" class=\"data row8 col20\" >0.005572</td>\n",
       "      <td id=\"T_2dc77_row8_col21\" class=\"data row8 col21\" >0.001513</td>\n",
       "      <td id=\"T_2dc77_row8_col22\" class=\"data row8 col22\" >-0.004340</td>\n",
       "      <td id=\"T_2dc77_row8_col23\" class=\"data row8 col23\" >0.000603</td>\n",
       "      <td id=\"T_2dc77_row8_col24\" class=\"data row8 col24\" >-0.007622</td>\n",
       "    </tr>\n",
       "    <tr>\n",
       "      <th id=\"T_2dc77_level0_row9\" class=\"row_heading level0 row9\" >bad_payment</th>\n",
       "      <td id=\"T_2dc77_row9_col0\" class=\"data row9 col0\" >0.008817</td>\n",
       "      <td id=\"T_2dc77_row9_col1\" class=\"data row9 col1\" >nan</td>\n",
       "      <td id=\"T_2dc77_row9_col2\" class=\"data row9 col2\" >-0.005432</td>\n",
       "      <td id=\"T_2dc77_row9_col3\" class=\"data row9 col3\" >-0.006702</td>\n",
       "      <td id=\"T_2dc77_row9_col4\" class=\"data row9 col4\" >0.013368</td>\n",
       "      <td id=\"T_2dc77_row9_col5\" class=\"data row9 col5\" >0.005727</td>\n",
       "      <td id=\"T_2dc77_row9_col6\" class=\"data row9 col6\" >0.004402</td>\n",
       "      <td id=\"T_2dc77_row9_col7\" class=\"data row9 col7\" >-0.002436</td>\n",
       "      <td id=\"T_2dc77_row9_col8\" class=\"data row9 col8\" >0.005727</td>\n",
       "      <td id=\"T_2dc77_row9_col9\" class=\"data row9 col9\" >1.000000</td>\n",
       "      <td id=\"T_2dc77_row9_col10\" class=\"data row9 col10\" >0.010730</td>\n",
       "      <td id=\"T_2dc77_row9_col11\" class=\"data row9 col11\" >0.020397</td>\n",
       "      <td id=\"T_2dc77_row9_col12\" class=\"data row9 col12\" >0.123574</td>\n",
       "      <td id=\"T_2dc77_row9_col13\" class=\"data row9 col13\" >0.009401</td>\n",
       "      <td id=\"T_2dc77_row9_col14\" class=\"data row9 col14\" >0.003449</td>\n",
       "      <td id=\"T_2dc77_row9_col15\" class=\"data row9 col15\" >0.007362</td>\n",
       "      <td id=\"T_2dc77_row9_col16\" class=\"data row9 col16\" >0.008193</td>\n",
       "      <td id=\"T_2dc77_row9_col17\" class=\"data row9 col17\" >-0.051953</td>\n",
       "      <td id=\"T_2dc77_row9_col18\" class=\"data row9 col18\" >0.000935</td>\n",
       "      <td id=\"T_2dc77_row9_col19\" class=\"data row9 col19\" >0.003931</td>\n",
       "      <td id=\"T_2dc77_row9_col20\" class=\"data row9 col20\" >0.004613</td>\n",
       "      <td id=\"T_2dc77_row9_col21\" class=\"data row9 col21\" >0.024316</td>\n",
       "      <td id=\"T_2dc77_row9_col22\" class=\"data row9 col22\" >-0.145752</td>\n",
       "      <td id=\"T_2dc77_row9_col23\" class=\"data row9 col23\" >0.003642</td>\n",
       "      <td id=\"T_2dc77_row9_col24\" class=\"data row9 col24\" >0.009768</td>\n",
       "    </tr>\n",
       "    <tr>\n",
       "      <th id=\"T_2dc77_level0_row10\" class=\"row_heading level0 row10\" >gold_card</th>\n",
       "      <td id=\"T_2dc77_row10_col0\" class=\"data row10 col0\" >-0.059883</td>\n",
       "      <td id=\"T_2dc77_row10_col1\" class=\"data row10 col1\" >nan</td>\n",
       "      <td id=\"T_2dc77_row10_col2\" class=\"data row10 col2\" >-0.003581</td>\n",
       "      <td id=\"T_2dc77_row10_col3\" class=\"data row10 col3\" >-0.010235</td>\n",
       "      <td id=\"T_2dc77_row10_col4\" class=\"data row10 col4\" >-0.022751</td>\n",
       "      <td id=\"T_2dc77_row10_col5\" class=\"data row10 col5\" >0.030240</td>\n",
       "      <td id=\"T_2dc77_row10_col6\" class=\"data row10 col6\" >0.037333</td>\n",
       "      <td id=\"T_2dc77_row10_col7\" class=\"data row10 col7\" >0.021040</td>\n",
       "      <td id=\"T_2dc77_row10_col8\" class=\"data row10 col8\" >0.030240</td>\n",
       "      <td id=\"T_2dc77_row10_col9\" class=\"data row10 col9\" >0.010730</td>\n",
       "      <td id=\"T_2dc77_row10_col10\" class=\"data row10 col10\" >1.000000</td>\n",
       "      <td id=\"T_2dc77_row10_col11\" class=\"data row10 col11\" >0.000049</td>\n",
       "      <td id=\"T_2dc77_row10_col12\" class=\"data row10 col12\" >0.004024</td>\n",
       "      <td id=\"T_2dc77_row10_col13\" class=\"data row10 col13\" >-0.056551</td>\n",
       "      <td id=\"T_2dc77_row10_col14\" class=\"data row10 col14\" >-0.007098</td>\n",
       "      <td id=\"T_2dc77_row10_col15\" class=\"data row10 col15\" >0.053891</td>\n",
       "      <td id=\"T_2dc77_row10_col16\" class=\"data row10 col16\" >0.053946</td>\n",
       "      <td id=\"T_2dc77_row10_col17\" class=\"data row10 col17\" >-0.002579</td>\n",
       "      <td id=\"T_2dc77_row10_col18\" class=\"data row10 col18\" >0.108288</td>\n",
       "      <td id=\"T_2dc77_row10_col19\" class=\"data row10 col19\" >0.040632</td>\n",
       "      <td id=\"T_2dc77_row10_col20\" class=\"data row10 col20\" >0.006089</td>\n",
       "      <td id=\"T_2dc77_row10_col21\" class=\"data row10 col21\" >-0.030887</td>\n",
       "      <td id=\"T_2dc77_row10_col22\" class=\"data row10 col22\" >0.009170</td>\n",
       "      <td id=\"T_2dc77_row10_col23\" class=\"data row10 col23\" >0.028318</td>\n",
       "      <td id=\"T_2dc77_row10_col24\" class=\"data row10 col24\" >0.007047</td>\n",
       "    </tr>\n",
       "    <tr>\n",
       "      <th id=\"T_2dc77_level0_row11\" class=\"row_heading level0 row11\" >pension_plan</th>\n",
       "      <td id=\"T_2dc77_row11_col0\" class=\"data row11 col0\" >0.059189</td>\n",
       "      <td id=\"T_2dc77_row11_col1\" class=\"data row11 col1\" >nan</td>\n",
       "      <td id=\"T_2dc77_row11_col2\" class=\"data row11 col2\" >0.066253</td>\n",
       "      <td id=\"T_2dc77_row11_col3\" class=\"data row11 col3\" >0.088096</td>\n",
       "      <td id=\"T_2dc77_row11_col4\" class=\"data row11 col4\" >-0.012727</td>\n",
       "      <td id=\"T_2dc77_row11_col5\" class=\"data row11 col5\" >0.005431</td>\n",
       "      <td id=\"T_2dc77_row11_col6\" class=\"data row11 col6\" >0.007208</td>\n",
       "      <td id=\"T_2dc77_row11_col7\" class=\"data row11 col7\" >0.125625</td>\n",
       "      <td id=\"T_2dc77_row11_col8\" class=\"data row11 col8\" >0.005431</td>\n",
       "      <td id=\"T_2dc77_row11_col9\" class=\"data row11 col9\" >0.020397</td>\n",
       "      <td id=\"T_2dc77_row11_col10\" class=\"data row11 col10\" >0.000049</td>\n",
       "      <td id=\"T_2dc77_row11_col11\" class=\"data row11 col11\" >1.000000</td>\n",
       "      <td id=\"T_2dc77_row11_col12\" class=\"data row11 col12\" >-0.004998</td>\n",
       "      <td id=\"T_2dc77_row11_col13\" class=\"data row11 col13\" >0.056560</td>\n",
       "      <td id=\"T_2dc77_row11_col14\" class=\"data row11 col14\" >-0.000147</td>\n",
       "      <td id=\"T_2dc77_row11_col15\" class=\"data row11 col15\" >0.021114</td>\n",
       "      <td id=\"T_2dc77_row11_col16\" class=\"data row11 col16\" >0.021281</td>\n",
       "      <td id=\"T_2dc77_row11_col17\" class=\"data row11 col17\" >0.006111</td>\n",
       "      <td id=\"T_2dc77_row11_col18\" class=\"data row11 col18\" >-0.009220</td>\n",
       "      <td id=\"T_2dc77_row11_col19\" class=\"data row11 col19\" >0.052055</td>\n",
       "      <td id=\"T_2dc77_row11_col20\" class=\"data row11 col20\" >0.173762</td>\n",
       "      <td id=\"T_2dc77_row11_col21\" class=\"data row11 col21\" >0.008619</td>\n",
       "      <td id=\"T_2dc77_row11_col22\" class=\"data row11 col22\" >0.001763</td>\n",
       "      <td id=\"T_2dc77_row11_col23\" class=\"data row11 col23\" >0.142220</td>\n",
       "      <td id=\"T_2dc77_row11_col24\" class=\"data row11 col24\" >-0.009839</td>\n",
       "    </tr>\n",
       "    <tr>\n",
       "      <th id=\"T_2dc77_level0_row12\" class=\"row_heading level0 row12\" >household_debt_to_equity_ratio</th>\n",
       "      <td id=\"T_2dc77_row12_col0\" class=\"data row12 col0\" >-0.009421</td>\n",
       "      <td id=\"T_2dc77_row12_col1\" class=\"data row12 col1\" >nan</td>\n",
       "      <td id=\"T_2dc77_row12_col2\" class=\"data row12 col2\" >-0.002758</td>\n",
       "      <td id=\"T_2dc77_row12_col3\" class=\"data row12 col3\" >-0.059401</td>\n",
       "      <td id=\"T_2dc77_row12_col4\" class=\"data row12 col4\" >-0.010437</td>\n",
       "      <td id=\"T_2dc77_row12_col5\" class=\"data row12 col5\" >0.002905</td>\n",
       "      <td id=\"T_2dc77_row12_col6\" class=\"data row12 col6\" >0.003539</td>\n",
       "      <td id=\"T_2dc77_row12_col7\" class=\"data row12 col7\" >-0.013884</td>\n",
       "      <td id=\"T_2dc77_row12_col8\" class=\"data row12 col8\" >0.002905</td>\n",
       "      <td id=\"T_2dc77_row12_col9\" class=\"data row12 col9\" >0.123574</td>\n",
       "      <td id=\"T_2dc77_row12_col10\" class=\"data row12 col10\" >0.004024</td>\n",
       "      <td id=\"T_2dc77_row12_col11\" class=\"data row12 col11\" >-0.004998</td>\n",
       "      <td id=\"T_2dc77_row12_col12\" class=\"data row12 col12\" >1.000000</td>\n",
       "      <td id=\"T_2dc77_row12_col13\" class=\"data row12 col13\" >-0.011614</td>\n",
       "      <td id=\"T_2dc77_row12_col14\" class=\"data row12 col14\" >0.013003</td>\n",
       "      <td id=\"T_2dc77_row12_col15\" class=\"data row12 col15\" >-0.001383</td>\n",
       "      <td id=\"T_2dc77_row12_col16\" class=\"data row12 col16\" >-0.001596</td>\n",
       "      <td id=\"T_2dc77_row12_col17\" class=\"data row12 col17\" >-0.968753</td>\n",
       "      <td id=\"T_2dc77_row12_col18\" class=\"data row12 col18\" >0.007622</td>\n",
       "      <td id=\"T_2dc77_row12_col19\" class=\"data row12 col19\" >-0.003985</td>\n",
       "      <td id=\"T_2dc77_row12_col20\" class=\"data row12 col20\" >-0.006651</td>\n",
       "      <td id=\"T_2dc77_row12_col21\" class=\"data row12 col21\" >-0.404918</td>\n",
       "      <td id=\"T_2dc77_row12_col22\" class=\"data row12 col22\" >-0.917310</td>\n",
       "      <td id=\"T_2dc77_row12_col23\" class=\"data row12 col23\" >-0.006578</td>\n",
       "      <td id=\"T_2dc77_row12_col24\" class=\"data row12 col24\" >0.010350</td>\n",
       "    </tr>\n",
       "    <tr>\n",
       "      <th id=\"T_2dc77_level0_row13\" class=\"row_heading level0 row13\" >income</th>\n",
       "      <td id=\"T_2dc77_row13_col0\" class=\"data row13 col0\" >0.987156</td>\n",
       "      <td id=\"T_2dc77_row13_col1\" class=\"data row13 col1\" >nan</td>\n",
       "      <td id=\"T_2dc77_row13_col2\" class=\"data row13 col2\" >0.374858</td>\n",
       "      <td id=\"T_2dc77_row13_col3\" class=\"data row13 col3\" >0.311923</td>\n",
       "      <td id=\"T_2dc77_row13_col4\" class=\"data row13 col4\" >0.500930</td>\n",
       "      <td id=\"T_2dc77_row13_col5\" class=\"data row13 col5\" >-0.001505</td>\n",
       "      <td id=\"T_2dc77_row13_col6\" class=\"data row13 col6\" >-0.003918</td>\n",
       "      <td id=\"T_2dc77_row13_col7\" class=\"data row13 col7\" >0.165025</td>\n",
       "      <td id=\"T_2dc77_row13_col8\" class=\"data row13 col8\" >-0.001505</td>\n",
       "      <td id=\"T_2dc77_row13_col9\" class=\"data row13 col9\" >0.009401</td>\n",
       "      <td id=\"T_2dc77_row13_col10\" class=\"data row13 col10\" >-0.056551</td>\n",
       "      <td id=\"T_2dc77_row13_col11\" class=\"data row13 col11\" >0.056560</td>\n",
       "      <td id=\"T_2dc77_row13_col12\" class=\"data row13 col12\" >-0.011614</td>\n",
       "      <td id=\"T_2dc77_row13_col13\" class=\"data row13 col13\" >1.000000</td>\n",
       "      <td id=\"T_2dc77_row13_col14\" class=\"data row13 col14\" >0.008707</td>\n",
       "      <td id=\"T_2dc77_row13_col15\" class=\"data row13 col15\" >0.038450</td>\n",
       "      <td id=\"T_2dc77_row13_col16\" class=\"data row13 col16\" >0.035507</td>\n",
       "      <td id=\"T_2dc77_row13_col17\" class=\"data row13 col17\" >0.012408</td>\n",
       "      <td id=\"T_2dc77_row13_col18\" class=\"data row13 col18\" >0.004865</td>\n",
       "      <td id=\"T_2dc77_row13_col19\" class=\"data row13 col19\" >0.137298</td>\n",
       "      <td id=\"T_2dc77_row13_col20\" class=\"data row13 col20\" >0.242953</td>\n",
       "      <td id=\"T_2dc77_row13_col21\" class=\"data row13 col21\" >0.010366</td>\n",
       "      <td id=\"T_2dc77_row13_col22\" class=\"data row13 col22\" >0.007029</td>\n",
       "      <td id=\"T_2dc77_row13_col23\" class=\"data row13 col23\" >0.246239</td>\n",
       "      <td id=\"T_2dc77_row13_col24\" class=\"data row13 col24\" >-0.000907</td>\n",
       "    </tr>\n",
       "    <tr>\n",
       "      <th id=\"T_2dc77_level0_row14\" class=\"row_heading level0 row14\" >members_in_household</th>\n",
       "      <td id=\"T_2dc77_row14_col0\" class=\"data row14 col0\" >0.004988</td>\n",
       "      <td id=\"T_2dc77_row14_col1\" class=\"data row14 col1\" >nan</td>\n",
       "      <td id=\"T_2dc77_row14_col2\" class=\"data row14 col2\" >-0.003489</td>\n",
       "      <td id=\"T_2dc77_row14_col3\" class=\"data row14 col3\" >0.015940</td>\n",
       "      <td id=\"T_2dc77_row14_col4\" class=\"data row14 col4\" >0.003751</td>\n",
       "      <td id=\"T_2dc77_row14_col5\" class=\"data row14 col5\" >-0.178299</td>\n",
       "      <td id=\"T_2dc77_row14_col6\" class=\"data row14 col6\" >-0.191152</td>\n",
       "      <td id=\"T_2dc77_row14_col7\" class=\"data row14 col7\" >-0.008589</td>\n",
       "      <td id=\"T_2dc77_row14_col8\" class=\"data row14 col8\" >-0.178299</td>\n",
       "      <td id=\"T_2dc77_row14_col9\" class=\"data row14 col9\" >0.003449</td>\n",
       "      <td id=\"T_2dc77_row14_col10\" class=\"data row14 col10\" >-0.007098</td>\n",
       "      <td id=\"T_2dc77_row14_col11\" class=\"data row14 col11\" >-0.000147</td>\n",
       "      <td id=\"T_2dc77_row14_col12\" class=\"data row14 col12\" >0.013003</td>\n",
       "      <td id=\"T_2dc77_row14_col13\" class=\"data row14 col13\" >0.008707</td>\n",
       "      <td id=\"T_2dc77_row14_col14\" class=\"data row14 col14\" >1.000000</td>\n",
       "      <td id=\"T_2dc77_row14_col15\" class=\"data row14 col15\" >0.001013</td>\n",
       "      <td id=\"T_2dc77_row14_col16\" class=\"data row14 col16\" >-0.000658</td>\n",
       "      <td id=\"T_2dc77_row14_col17\" class=\"data row14 col17\" >-0.012071</td>\n",
       "      <td id=\"T_2dc77_row14_col18\" class=\"data row14 col18\" >0.016976</td>\n",
       "      <td id=\"T_2dc77_row14_col19\" class=\"data row14 col19\" >-0.001503</td>\n",
       "      <td id=\"T_2dc77_row14_col20\" class=\"data row14 col20\" >-0.009055</td>\n",
       "      <td id=\"T_2dc77_row14_col21\" class=\"data row14 col21\" >-0.007359</td>\n",
       "      <td id=\"T_2dc77_row14_col22\" class=\"data row14 col22\" >-0.011835</td>\n",
       "      <td id=\"T_2dc77_row14_col23\" class=\"data row14 col23\" >-0.008012</td>\n",
       "      <td id=\"T_2dc77_row14_col24\" class=\"data row14 col24\" >0.015673</td>\n",
       "    </tr>\n",
       "    <tr>\n",
       "      <th id=\"T_2dc77_level0_row15\" class=\"row_heading level0 row15\" >months_current_account</th>\n",
       "      <td id=\"T_2dc77_row15_col0\" class=\"data row15 col0\" >0.044771</td>\n",
       "      <td id=\"T_2dc77_row15_col1\" class=\"data row15 col1\" >nan</td>\n",
       "      <td id=\"T_2dc77_row15_col2\" class=\"data row15 col2\" >0.118431</td>\n",
       "      <td id=\"T_2dc77_row15_col3\" class=\"data row15 col3\" >0.091220</td>\n",
       "      <td id=\"T_2dc77_row15_col4\" class=\"data row15 col4\" >-0.062246</td>\n",
       "      <td id=\"T_2dc77_row15_col5\" class=\"data row15 col5\" >-0.008683</td>\n",
       "      <td id=\"T_2dc77_row15_col6\" class=\"data row15 col6\" >-0.003667</td>\n",
       "      <td id=\"T_2dc77_row15_col7\" class=\"data row15 col7\" >0.154326</td>\n",
       "      <td id=\"T_2dc77_row15_col8\" class=\"data row15 col8\" >-0.008683</td>\n",
       "      <td id=\"T_2dc77_row15_col9\" class=\"data row15 col9\" >0.007362</td>\n",
       "      <td id=\"T_2dc77_row15_col10\" class=\"data row15 col10\" >0.053891</td>\n",
       "      <td id=\"T_2dc77_row15_col11\" class=\"data row15 col11\" >0.021114</td>\n",
       "      <td id=\"T_2dc77_row15_col12\" class=\"data row15 col12\" >-0.001383</td>\n",
       "      <td id=\"T_2dc77_row15_col13\" class=\"data row15 col13\" >0.038450</td>\n",
       "      <td id=\"T_2dc77_row15_col14\" class=\"data row15 col14\" >0.001013</td>\n",
       "      <td id=\"T_2dc77_row15_col15\" class=\"data row15 col15\" >1.000000</td>\n",
       "      <td id=\"T_2dc77_row15_col16\" class=\"data row15 col16\" >0.972306</td>\n",
       "      <td id=\"T_2dc77_row15_col17\" class=\"data row15 col17\" >0.000249</td>\n",
       "      <td id=\"T_2dc77_row15_col18\" class=\"data row15 col18\" >-0.001058</td>\n",
       "      <td id=\"T_2dc77_row15_col19\" class=\"data row15 col19\" >0.146925</td>\n",
       "      <td id=\"T_2dc77_row15_col20\" class=\"data row15 col20\" >0.106065</td>\n",
       "      <td id=\"T_2dc77_row15_col21\" class=\"data row15 col21\" >0.014343</td>\n",
       "      <td id=\"T_2dc77_row15_col22\" class=\"data row15 col22\" >-0.004615</td>\n",
       "      <td id=\"T_2dc77_row15_col23\" class=\"data row15 col23\" >0.198820</td>\n",
       "      <td id=\"T_2dc77_row15_col24\" class=\"data row15 col24\" >0.004883</td>\n",
       "    </tr>\n",
       "    <tr>\n",
       "      <th id=\"T_2dc77_level0_row16\" class=\"row_heading level0 row16\" >months_customer</th>\n",
       "      <td id=\"T_2dc77_row16_col0\" class=\"data row16 col0\" >0.041399</td>\n",
       "      <td id=\"T_2dc77_row16_col1\" class=\"data row16 col1\" >nan</td>\n",
       "      <td id=\"T_2dc77_row16_col2\" class=\"data row16 col2\" >0.117062</td>\n",
       "      <td id=\"T_2dc77_row16_col3\" class=\"data row16 col3\" >0.090688</td>\n",
       "      <td id=\"T_2dc77_row16_col4\" class=\"data row16 col4\" >-0.061732</td>\n",
       "      <td id=\"T_2dc77_row16_col5\" class=\"data row16 col5\" >-0.008154</td>\n",
       "      <td id=\"T_2dc77_row16_col6\" class=\"data row16 col6\" >-0.003540</td>\n",
       "      <td id=\"T_2dc77_row16_col7\" class=\"data row16 col7\" >0.150724</td>\n",
       "      <td id=\"T_2dc77_row16_col8\" class=\"data row16 col8\" >-0.008154</td>\n",
       "      <td id=\"T_2dc77_row16_col9\" class=\"data row16 col9\" >0.008193</td>\n",
       "      <td id=\"T_2dc77_row16_col10\" class=\"data row16 col10\" >0.053946</td>\n",
       "      <td id=\"T_2dc77_row16_col11\" class=\"data row16 col11\" >0.021281</td>\n",
       "      <td id=\"T_2dc77_row16_col12\" class=\"data row16 col12\" >-0.001596</td>\n",
       "      <td id=\"T_2dc77_row16_col13\" class=\"data row16 col13\" >0.035507</td>\n",
       "      <td id=\"T_2dc77_row16_col14\" class=\"data row16 col14\" >-0.000658</td>\n",
       "      <td id=\"T_2dc77_row16_col15\" class=\"data row16 col15\" >0.972306</td>\n",
       "      <td id=\"T_2dc77_row16_col16\" class=\"data row16 col16\" >1.000000</td>\n",
       "      <td id=\"T_2dc77_row16_col17\" class=\"data row16 col17\" >0.000706</td>\n",
       "      <td id=\"T_2dc77_row16_col18\" class=\"data row16 col18\" >-0.002750</td>\n",
       "      <td id=\"T_2dc77_row16_col19\" class=\"data row16 col19\" >0.142750</td>\n",
       "      <td id=\"T_2dc77_row16_col20\" class=\"data row16 col20\" >0.103216</td>\n",
       "      <td id=\"T_2dc77_row16_col21\" class=\"data row16 col21\" >0.012294</td>\n",
       "      <td id=\"T_2dc77_row16_col22\" class=\"data row16 col22\" >-0.003636</td>\n",
       "      <td id=\"T_2dc77_row16_col23\" class=\"data row16 col23\" >0.196785</td>\n",
       "      <td id=\"T_2dc77_row16_col24\" class=\"data row16 col24\" >0.005464</td>\n",
       "    </tr>\n",
       "    <tr>\n",
       "      <th id=\"T_2dc77_level0_row17\" class=\"row_heading level0 row17\" >call_center_contacts</th>\n",
       "      <td id=\"T_2dc77_row17_col0\" class=\"data row17 col0\" >0.009578</td>\n",
       "      <td id=\"T_2dc77_row17_col1\" class=\"data row17 col1\" >nan</td>\n",
       "      <td id=\"T_2dc77_row17_col2\" class=\"data row17 col2\" >0.000766</td>\n",
       "      <td id=\"T_2dc77_row17_col3\" class=\"data row17 col3\" >0.056314</td>\n",
       "      <td id=\"T_2dc77_row17_col4\" class=\"data row17 col4\" >0.013370</td>\n",
       "      <td id=\"T_2dc77_row17_col5\" class=\"data row17 col5\" >-0.004324</td>\n",
       "      <td id=\"T_2dc77_row17_col6\" class=\"data row17 col6\" >-0.004128</td>\n",
       "      <td id=\"T_2dc77_row17_col7\" class=\"data row17 col7\" >0.012481</td>\n",
       "      <td id=\"T_2dc77_row17_col8\" class=\"data row17 col8\" >-0.004324</td>\n",
       "      <td id=\"T_2dc77_row17_col9\" class=\"data row17 col9\" >-0.051953</td>\n",
       "      <td id=\"T_2dc77_row17_col10\" class=\"data row17 col10\" >-0.002579</td>\n",
       "      <td id=\"T_2dc77_row17_col11\" class=\"data row17 col11\" >0.006111</td>\n",
       "      <td id=\"T_2dc77_row17_col12\" class=\"data row17 col12\" >-0.968753</td>\n",
       "      <td id=\"T_2dc77_row17_col13\" class=\"data row17 col13\" >0.012408</td>\n",
       "      <td id=\"T_2dc77_row17_col14\" class=\"data row17 col14\" >-0.012071</td>\n",
       "      <td id=\"T_2dc77_row17_col15\" class=\"data row17 col15\" >0.000249</td>\n",
       "      <td id=\"T_2dc77_row17_col16\" class=\"data row17 col16\" >0.000706</td>\n",
       "      <td id=\"T_2dc77_row17_col17\" class=\"data row17 col17\" >1.000000</td>\n",
       "      <td id=\"T_2dc77_row17_col18\" class=\"data row17 col18\" >-0.006243</td>\n",
       "      <td id=\"T_2dc77_row17_col19\" class=\"data row17 col19\" >0.004740</td>\n",
       "      <td id=\"T_2dc77_row17_col20\" class=\"data row17 col20\" >0.004284</td>\n",
       "      <td id=\"T_2dc77_row17_col21\" class=\"data row17 col21\" >0.397079</td>\n",
       "      <td id=\"T_2dc77_row17_col22\" class=\"data row17 col22\" >0.887675</td>\n",
       "      <td id=\"T_2dc77_row17_col23\" class=\"data row17 col23\" >0.005840</td>\n",
       "      <td id=\"T_2dc77_row17_col24\" class=\"data row17 col24\" >-0.004280</td>\n",
       "    </tr>\n",
       "    <tr>\n",
       "      <th id=\"T_2dc77_level0_row18\" class=\"row_heading level0 row18\" >loan_accounts</th>\n",
       "      <td id=\"T_2dc77_row18_col0\" class=\"data row18 col0\" >0.006799</td>\n",
       "      <td id=\"T_2dc77_row18_col1\" class=\"data row18 col1\" >nan</td>\n",
       "      <td id=\"T_2dc77_row18_col2\" class=\"data row18 col2\" >0.011002</td>\n",
       "      <td id=\"T_2dc77_row18_col3\" class=\"data row18 col3\" >-0.014700</td>\n",
       "      <td id=\"T_2dc77_row18_col4\" class=\"data row18 col4\" >-0.007355</td>\n",
       "      <td id=\"T_2dc77_row18_col5\" class=\"data row18 col5\" >-0.015589</td>\n",
       "      <td id=\"T_2dc77_row18_col6\" class=\"data row18 col6\" >-0.015429</td>\n",
       "      <td id=\"T_2dc77_row18_col7\" class=\"data row18 col7\" >0.023558</td>\n",
       "      <td id=\"T_2dc77_row18_col8\" class=\"data row18 col8\" >-0.015589</td>\n",
       "      <td id=\"T_2dc77_row18_col9\" class=\"data row18 col9\" >0.000935</td>\n",
       "      <td id=\"T_2dc77_row18_col10\" class=\"data row18 col10\" >0.108288</td>\n",
       "      <td id=\"T_2dc77_row18_col11\" class=\"data row18 col11\" >-0.009220</td>\n",
       "      <td id=\"T_2dc77_row18_col12\" class=\"data row18 col12\" >0.007622</td>\n",
       "      <td id=\"T_2dc77_row18_col13\" class=\"data row18 col13\" >0.004865</td>\n",
       "      <td id=\"T_2dc77_row18_col14\" class=\"data row18 col14\" >0.016976</td>\n",
       "      <td id=\"T_2dc77_row18_col15\" class=\"data row18 col15\" >-0.001058</td>\n",
       "      <td id=\"T_2dc77_row18_col16\" class=\"data row18 col16\" >-0.002750</td>\n",
       "      <td id=\"T_2dc77_row18_col17\" class=\"data row18 col17\" >-0.006243</td>\n",
       "      <td id=\"T_2dc77_row18_col18\" class=\"data row18 col18\" >1.000000</td>\n",
       "      <td id=\"T_2dc77_row18_col19\" class=\"data row18 col19\" >0.029869</td>\n",
       "      <td id=\"T_2dc77_row18_col20\" class=\"data row18 col20\" >0.018979</td>\n",
       "      <td id=\"T_2dc77_row18_col21\" class=\"data row18 col21\" >-0.006290</td>\n",
       "      <td id=\"T_2dc77_row18_col22\" class=\"data row18 col22\" >-0.005665</td>\n",
       "      <td id=\"T_2dc77_row18_col23\" class=\"data row18 col23\" >0.022197</td>\n",
       "      <td id=\"T_2dc77_row18_col24\" class=\"data row18 col24\" >-0.017491</td>\n",
       "    </tr>\n",
       "    <tr>\n",
       "      <th id=\"T_2dc77_level0_row19\" class=\"row_heading level0 row19\" >number_products</th>\n",
       "      <td id=\"T_2dc77_row19_col0\" class=\"data row19 col0\" >0.158520</td>\n",
       "      <td id=\"T_2dc77_row19_col1\" class=\"data row19 col1\" >nan</td>\n",
       "      <td id=\"T_2dc77_row19_col2\" class=\"data row19 col2\" >0.382030</td>\n",
       "      <td id=\"T_2dc77_row19_col3\" class=\"data row19 col3\" >0.285770</td>\n",
       "      <td id=\"T_2dc77_row19_col4\" class=\"data row19 col4\" >-0.187090</td>\n",
       "      <td id=\"T_2dc77_row19_col5\" class=\"data row19 col5\" >-0.009992</td>\n",
       "      <td id=\"T_2dc77_row19_col6\" class=\"data row19 col6\" >-0.011814</td>\n",
       "      <td id=\"T_2dc77_row19_col7\" class=\"data row19 col7\" >0.567033</td>\n",
       "      <td id=\"T_2dc77_row19_col8\" class=\"data row19 col8\" >-0.009992</td>\n",
       "      <td id=\"T_2dc77_row19_col9\" class=\"data row19 col9\" >0.003931</td>\n",
       "      <td id=\"T_2dc77_row19_col10\" class=\"data row19 col10\" >0.040632</td>\n",
       "      <td id=\"T_2dc77_row19_col11\" class=\"data row19 col11\" >0.052055</td>\n",
       "      <td id=\"T_2dc77_row19_col12\" class=\"data row19 col12\" >-0.003985</td>\n",
       "      <td id=\"T_2dc77_row19_col13\" class=\"data row19 col13\" >0.137298</td>\n",
       "      <td id=\"T_2dc77_row19_col14\" class=\"data row19 col14\" >-0.001503</td>\n",
       "      <td id=\"T_2dc77_row19_col15\" class=\"data row19 col15\" >0.146925</td>\n",
       "      <td id=\"T_2dc77_row19_col16\" class=\"data row19 col16\" >0.142750</td>\n",
       "      <td id=\"T_2dc77_row19_col17\" class=\"data row19 col17\" >0.004740</td>\n",
       "      <td id=\"T_2dc77_row19_col18\" class=\"data row19 col18\" >0.029869</td>\n",
       "      <td id=\"T_2dc77_row19_col19\" class=\"data row19 col19\" >1.000000</td>\n",
       "      <td id=\"T_2dc77_row19_col20\" class=\"data row19 col20\" >0.364626</td>\n",
       "      <td id=\"T_2dc77_row19_col21\" class=\"data row19 col21\" >0.004324</td>\n",
       "      <td id=\"T_2dc77_row19_col22\" class=\"data row19 col22\" >0.002742</td>\n",
       "      <td id=\"T_2dc77_row19_col23\" class=\"data row19 col23\" >0.689242</td>\n",
       "      <td id=\"T_2dc77_row19_col24\" class=\"data row19 col24\" >0.004051</td>\n",
       "    </tr>\n",
       "    <tr>\n",
       "      <th id=\"T_2dc77_level0_row20\" class=\"row_heading level0 row20\" >number_transactions</th>\n",
       "      <td id=\"T_2dc77_row20_col0\" class=\"data row20 col0\" >0.265199</td>\n",
       "      <td id=\"T_2dc77_row20_col1\" class=\"data row20 col1\" >nan</td>\n",
       "      <td id=\"T_2dc77_row20_col2\" class=\"data row20 col2\" >0.423677</td>\n",
       "      <td id=\"T_2dc77_row20_col3\" class=\"data row20 col3\" >0.516961</td>\n",
       "      <td id=\"T_2dc77_row20_col4\" class=\"data row20 col4\" >-0.174646</td>\n",
       "      <td id=\"T_2dc77_row20_col5\" class=\"data row20 col5\" >0.005572</td>\n",
       "      <td id=\"T_2dc77_row20_col6\" class=\"data row20 col6\" >0.006422</td>\n",
       "      <td id=\"T_2dc77_row20_col7\" class=\"data row20 col7\" >0.616354</td>\n",
       "      <td id=\"T_2dc77_row20_col8\" class=\"data row20 col8\" >0.005572</td>\n",
       "      <td id=\"T_2dc77_row20_col9\" class=\"data row20 col9\" >0.004613</td>\n",
       "      <td id=\"T_2dc77_row20_col10\" class=\"data row20 col10\" >0.006089</td>\n",
       "      <td id=\"T_2dc77_row20_col11\" class=\"data row20 col11\" >0.173762</td>\n",
       "      <td id=\"T_2dc77_row20_col12\" class=\"data row20 col12\" >-0.006651</td>\n",
       "      <td id=\"T_2dc77_row20_col13\" class=\"data row20 col13\" >0.242953</td>\n",
       "      <td id=\"T_2dc77_row20_col14\" class=\"data row20 col14\" >-0.009055</td>\n",
       "      <td id=\"T_2dc77_row20_col15\" class=\"data row20 col15\" >0.106065</td>\n",
       "      <td id=\"T_2dc77_row20_col16\" class=\"data row20 col16\" >0.103216</td>\n",
       "      <td id=\"T_2dc77_row20_col17\" class=\"data row20 col17\" >0.004284</td>\n",
       "      <td id=\"T_2dc77_row20_col18\" class=\"data row20 col18\" >0.018979</td>\n",
       "      <td id=\"T_2dc77_row20_col19\" class=\"data row20 col19\" >0.364626</td>\n",
       "      <td id=\"T_2dc77_row20_col20\" class=\"data row20 col20\" >1.000000</td>\n",
       "      <td id=\"T_2dc77_row20_col21\" class=\"data row20 col21\" >0.004819</td>\n",
       "      <td id=\"T_2dc77_row20_col22\" class=\"data row20 col22\" >0.004662</td>\n",
       "      <td id=\"T_2dc77_row20_col23\" class=\"data row20 col23\" >0.842225</td>\n",
       "      <td id=\"T_2dc77_row20_col24\" class=\"data row20 col24\" >0.019737</td>\n",
       "    </tr>\n",
       "    <tr>\n",
       "      <th id=\"T_2dc77_level0_row21\" class=\"row_heading level0 row21\" >non_worker_percentage</th>\n",
       "      <td id=\"T_2dc77_row21_col0\" class=\"data row21 col0\" >0.011481</td>\n",
       "      <td id=\"T_2dc77_row21_col1\" class=\"data row21 col1\" >nan</td>\n",
       "      <td id=\"T_2dc77_row21_col2\" class=\"data row21 col2\" >-0.000515</td>\n",
       "      <td id=\"T_2dc77_row21_col3\" class=\"data row21 col3\" >-0.007094</td>\n",
       "      <td id=\"T_2dc77_row21_col4\" class=\"data row21 col4\" >0.013819</td>\n",
       "      <td id=\"T_2dc77_row21_col5\" class=\"data row21 col5\" >0.001513</td>\n",
       "      <td id=\"T_2dc77_row21_col6\" class=\"data row21 col6\" >-0.003997</td>\n",
       "      <td id=\"T_2dc77_row21_col7\" class=\"data row21 col7\" >0.009754</td>\n",
       "      <td id=\"T_2dc77_row21_col8\" class=\"data row21 col8\" >0.001513</td>\n",
       "      <td id=\"T_2dc77_row21_col9\" class=\"data row21 col9\" >0.024316</td>\n",
       "      <td id=\"T_2dc77_row21_col10\" class=\"data row21 col10\" >-0.030887</td>\n",
       "      <td id=\"T_2dc77_row21_col11\" class=\"data row21 col11\" >0.008619</td>\n",
       "      <td id=\"T_2dc77_row21_col12\" class=\"data row21 col12\" >-0.404918</td>\n",
       "      <td id=\"T_2dc77_row21_col13\" class=\"data row21 col13\" >0.010366</td>\n",
       "      <td id=\"T_2dc77_row21_col14\" class=\"data row21 col14\" >-0.007359</td>\n",
       "      <td id=\"T_2dc77_row21_col15\" class=\"data row21 col15\" >0.014343</td>\n",
       "      <td id=\"T_2dc77_row21_col16\" class=\"data row21 col16\" >0.012294</td>\n",
       "      <td id=\"T_2dc77_row21_col17\" class=\"data row21 col17\" >0.397079</td>\n",
       "      <td id=\"T_2dc77_row21_col18\" class=\"data row21 col18\" >-0.006290</td>\n",
       "      <td id=\"T_2dc77_row21_col19\" class=\"data row21 col19\" >0.004324</td>\n",
       "      <td id=\"T_2dc77_row21_col20\" class=\"data row21 col20\" >0.004819</td>\n",
       "      <td id=\"T_2dc77_row21_col21\" class=\"data row21 col21\" >1.000000</td>\n",
       "      <td id=\"T_2dc77_row21_col22\" class=\"data row21 col22\" >0.011008</td>\n",
       "      <td id=\"T_2dc77_row21_col23\" class=\"data row21 col23\" >0.005290</td>\n",
       "      <td id=\"T_2dc77_row21_col24\" class=\"data row21 col24\" >0.000462</td>\n",
       "    </tr>\n",
       "    <tr>\n",
       "      <th id=\"T_2dc77_level0_row22\" class=\"row_heading level0 row22\" >white_collar_percentage</th>\n",
       "      <td id=\"T_2dc77_row22_col0\" class=\"data row22 col0\" >0.004253</td>\n",
       "      <td id=\"T_2dc77_row22_col1\" class=\"data row22 col1\" >nan</td>\n",
       "      <td id=\"T_2dc77_row22_col2\" class=\"data row22 col2\" >0.002844</td>\n",
       "      <td id=\"T_2dc77_row22_col3\" class=\"data row22 col3\" >0.067600</td>\n",
       "      <td id=\"T_2dc77_row22_col4\" class=\"data row22 col4\" >0.004970</td>\n",
       "      <td id=\"T_2dc77_row22_col5\" class=\"data row22 col5\" >-0.004340</td>\n",
       "      <td id=\"T_2dc77_row22_col6\" class=\"data row22 col6\" >-0.002685</td>\n",
       "      <td id=\"T_2dc77_row22_col7\" class=\"data row22 col7\" >0.010797</td>\n",
       "      <td id=\"T_2dc77_row22_col8\" class=\"data row22 col8\" >-0.004340</td>\n",
       "      <td id=\"T_2dc77_row22_col9\" class=\"data row22 col9\" >-0.145752</td>\n",
       "      <td id=\"T_2dc77_row22_col10\" class=\"data row22 col10\" >0.009170</td>\n",
       "      <td id=\"T_2dc77_row22_col11\" class=\"data row22 col11\" >0.001763</td>\n",
       "      <td id=\"T_2dc77_row22_col12\" class=\"data row22 col12\" >-0.917310</td>\n",
       "      <td id=\"T_2dc77_row22_col13\" class=\"data row22 col13\" >0.007029</td>\n",
       "      <td id=\"T_2dc77_row22_col14\" class=\"data row22 col14\" >-0.011835</td>\n",
       "      <td id=\"T_2dc77_row22_col15\" class=\"data row22 col15\" >-0.004615</td>\n",
       "      <td id=\"T_2dc77_row22_col16\" class=\"data row22 col16\" >-0.003636</td>\n",
       "      <td id=\"T_2dc77_row22_col17\" class=\"data row22 col17\" >0.887675</td>\n",
       "      <td id=\"T_2dc77_row22_col18\" class=\"data row22 col18\" >-0.005665</td>\n",
       "      <td id=\"T_2dc77_row22_col19\" class=\"data row22 col19\" >0.002742</td>\n",
       "      <td id=\"T_2dc77_row22_col20\" class=\"data row22 col20\" >0.004662</td>\n",
       "      <td id=\"T_2dc77_row22_col21\" class=\"data row22 col21\" >0.011008</td>\n",
       "      <td id=\"T_2dc77_row22_col22\" class=\"data row22 col22\" >1.000000</td>\n",
       "      <td id=\"T_2dc77_row22_col23\" class=\"data row22 col23\" >0.004583</td>\n",
       "      <td id=\"T_2dc77_row22_col24\" class=\"data row22 col24\" >-0.011093</td>\n",
       "    </tr>\n",
       "    <tr>\n",
       "      <th id=\"T_2dc77_level0_row23\" class=\"row_heading level0 row23\" >rfm_score</th>\n",
       "      <td id=\"T_2dc77_row23_col0\" class=\"data row23 col0\" >0.275153</td>\n",
       "      <td id=\"T_2dc77_row23_col1\" class=\"data row23 col1\" >nan</td>\n",
       "      <td id=\"T_2dc77_row23_col2\" class=\"data row23 col2\" >0.535865</td>\n",
       "      <td id=\"T_2dc77_row23_col3\" class=\"data row23 col3\" >0.519853</td>\n",
       "      <td id=\"T_2dc77_row23_col4\" class=\"data row23 col4\" >-0.242424</td>\n",
       "      <td id=\"T_2dc77_row23_col5\" class=\"data row23 col5\" >0.000603</td>\n",
       "      <td id=\"T_2dc77_row23_col6\" class=\"data row23 col6\" >0.000364</td>\n",
       "      <td id=\"T_2dc77_row23_col7\" class=\"data row23 col7\" >0.757542</td>\n",
       "      <td id=\"T_2dc77_row23_col8\" class=\"data row23 col8\" >0.000603</td>\n",
       "      <td id=\"T_2dc77_row23_col9\" class=\"data row23 col9\" >0.003642</td>\n",
       "      <td id=\"T_2dc77_row23_col10\" class=\"data row23 col10\" >0.028318</td>\n",
       "      <td id=\"T_2dc77_row23_col11\" class=\"data row23 col11\" >0.142220</td>\n",
       "      <td id=\"T_2dc77_row23_col12\" class=\"data row23 col12\" >-0.006578</td>\n",
       "      <td id=\"T_2dc77_row23_col13\" class=\"data row23 col13\" >0.246239</td>\n",
       "      <td id=\"T_2dc77_row23_col14\" class=\"data row23 col14\" >-0.008012</td>\n",
       "      <td id=\"T_2dc77_row23_col15\" class=\"data row23 col15\" >0.198820</td>\n",
       "      <td id=\"T_2dc77_row23_col16\" class=\"data row23 col16\" >0.196785</td>\n",
       "      <td id=\"T_2dc77_row23_col17\" class=\"data row23 col17\" >0.005840</td>\n",
       "      <td id=\"T_2dc77_row23_col18\" class=\"data row23 col18\" >0.022197</td>\n",
       "      <td id=\"T_2dc77_row23_col19\" class=\"data row23 col19\" >0.689242</td>\n",
       "      <td id=\"T_2dc77_row23_col20\" class=\"data row23 col20\" >0.842225</td>\n",
       "      <td id=\"T_2dc77_row23_col21\" class=\"data row23 col21\" >0.005290</td>\n",
       "      <td id=\"T_2dc77_row23_col22\" class=\"data row23 col22\" >0.004583</td>\n",
       "      <td id=\"T_2dc77_row23_col23\" class=\"data row23 col23\" >1.000000</td>\n",
       "      <td id=\"T_2dc77_row23_col24\" class=\"data row23 col24\" >0.012175</td>\n",
       "    </tr>\n",
       "    <tr>\n",
       "      <th id=\"T_2dc77_level0_row24\" class=\"row_heading level0 row24\" >X_random</th>\n",
       "      <td id=\"T_2dc77_row24_col0\" class=\"data row24 col0\" >-0.000005</td>\n",
       "      <td id=\"T_2dc77_row24_col1\" class=\"data row24 col1\" >nan</td>\n",
       "      <td id=\"T_2dc77_row24_col2\" class=\"data row24 col2\" >0.008987</td>\n",
       "      <td id=\"T_2dc77_row24_col3\" class=\"data row24 col3\" >0.014963</td>\n",
       "      <td id=\"T_2dc77_row24_col4\" class=\"data row24 col4\" >-0.017121</td>\n",
       "      <td id=\"T_2dc77_row24_col5\" class=\"data row24 col5\" >-0.007622</td>\n",
       "      <td id=\"T_2dc77_row24_col6\" class=\"data row24 col6\" >-0.006393</td>\n",
       "      <td id=\"T_2dc77_row24_col7\" class=\"data row24 col7\" >0.011616</td>\n",
       "      <td id=\"T_2dc77_row24_col8\" class=\"data row24 col8\" >-0.007622</td>\n",
       "      <td id=\"T_2dc77_row24_col9\" class=\"data row24 col9\" >0.009768</td>\n",
       "      <td id=\"T_2dc77_row24_col10\" class=\"data row24 col10\" >0.007047</td>\n",
       "      <td id=\"T_2dc77_row24_col11\" class=\"data row24 col11\" >-0.009839</td>\n",
       "      <td id=\"T_2dc77_row24_col12\" class=\"data row24 col12\" >0.010350</td>\n",
       "      <td id=\"T_2dc77_row24_col13\" class=\"data row24 col13\" >-0.000907</td>\n",
       "      <td id=\"T_2dc77_row24_col14\" class=\"data row24 col14\" >0.015673</td>\n",
       "      <td id=\"T_2dc77_row24_col15\" class=\"data row24 col15\" >0.004883</td>\n",
       "      <td id=\"T_2dc77_row24_col16\" class=\"data row24 col16\" >0.005464</td>\n",
       "      <td id=\"T_2dc77_row24_col17\" class=\"data row24 col17\" >-0.004280</td>\n",
       "      <td id=\"T_2dc77_row24_col18\" class=\"data row24 col18\" >-0.017491</td>\n",
       "      <td id=\"T_2dc77_row24_col19\" class=\"data row24 col19\" >0.004051</td>\n",
       "      <td id=\"T_2dc77_row24_col20\" class=\"data row24 col20\" >0.019737</td>\n",
       "      <td id=\"T_2dc77_row24_col21\" class=\"data row24 col21\" >0.000462</td>\n",
       "      <td id=\"T_2dc77_row24_col22\" class=\"data row24 col22\" >-0.011093</td>\n",
       "      <td id=\"T_2dc77_row24_col23\" class=\"data row24 col23\" >0.012175</td>\n",
       "      <td id=\"T_2dc77_row24_col24\" class=\"data row24 col24\" >1.000000</td>\n",
       "    </tr>\n",
       "  </tbody>\n",
       "</table>\n"
      ],
      "text/plain": [
       "<pandas.io.formats.style.Styler at 0x7f59ed22ebe0>"
      ]
     },
     "execution_count": 7,
     "metadata": {},
     "output_type": "execute_result"
    }
   ],
   "source": [
    "data2.corr().style"
   ]
  },
  {
   "cell_type": "markdown",
   "metadata": {},
   "source": [
    "For a start, we decide to select the following features:\n",
    "- `gender`\n",
    "- `income`\n",
    "- `marital`\n",
    "- `rfm_score`\n",
    "\n",
    "And (of course) the target variable (= label) `response`.\n",
    "\n",
    "Note that the feature selection happened based on some **gut feeling** of what _might_ affect the response variable. We will discuss more scientific methods for feature subset selection in week 4."
   ]
  },
  {
   "cell_type": "markdown",
   "metadata": {},
   "source": [
    "## 3. Data visualization\n",
    "\n",
    "Next, we plot the previously selected features and label.\n",
    "\n",
    "#### Response vs. no response: absolute & relative distribution\n",
    "\n"
   ]
  },
  {
   "cell_type": "markdown",
   "metadata": {},
   "source": [
    "Option 1: simple plot"
   ]
  },
  {
   "cell_type": "code",
   "execution_count": 8,
   "metadata": {},
   "outputs": [
    {
     "data": {
      "image/png": "[encoded data removed]",
      "text/plain": [
       "<Figure size 432x288 with 1 Axes>"
      ]
     },
     "metadata": {
      "needs_background": "light"
     },
     "output_type": "display_data"
    }
   ],
   "source": [
    "ax = data2['response'].value_counts().plot(kind='bar')"
   ]
  },
  {
   "cell_type": "markdown",
   "metadata": {},
   "source": [
    "Option 2: fancy plot"
   ]
  },
  {
   "cell_type": "code",
   "execution_count": 9,
   "metadata": {},
   "outputs": [
    {
     "data": {
      "image/png": "[encoded data removed]",
      "text/plain": [
       "<Figure size 576x360 with 2 Axes>"
      ]
     },
     "metadata": {
      "needs_background": "light"
     },
     "output_type": "display_data"
    }
   ],
   "source": [
    "# plot response\n",
    "keys, counts = np.unique(data2.response, return_counts=True)\n",
    "counts_norm = counts/counts.sum()\n",
    "\n",
    "fig = plt.figure(figsize=(8, 5)) #specify figure size\n",
    "gs = gridspec.GridSpec(1, 2, width_ratios=[2,1]) #specify relative size of left and right plot\n",
    "\n",
    "#Absolute values\n",
    "ax0 = plt.subplot(gs[0])\n",
    "ax0 = plt.bar(['No response', 'Response'], counts, color=['#1f77b4','#ff7f0e']) #left bar plot\n",
    "ax0 = plt.title('Absolute response distribution') \n",
    "ax0 = plt.ylabel('count')\n",
    "ax0 = plt.text(keys[0], counts[0]/2, counts[0]) #add text box with count of non-fraudulent cases\n",
    "ax0 = plt.text(keys[1], counts[1]/2, counts[1]) #add text box with count of fraudulent cases\n",
    "\n",
    "#Normalized values\n",
    "ax1 = plt.subplot(gs[1])\n",
    "ax1 = plt.bar(['Response type'], [counts_norm[0]], label='0 (no)')\n",
    "ax1 = plt.bar(['Response type'], [counts_norm[1]], bottom=counts_norm[0], label='1 (yes)')\n",
    "ax1 = plt.legend(bbox_to_anchor=(1, 1))\n",
    "ax1 = plt.title('Relative response distribution')\n",
    "ax1 = plt.ylabel('frequency')\n",
    "ax1 = plt.text(['Response type'],counts_norm[0]/2, '{}%'.format((counts_norm[0]*100).round(1)))\n",
    "ax1 = plt.text(['Response type'],(counts_norm[1]/2)+counts_norm[0], '{}%'.format((counts_norm[1]*100).round(1)))\n",
    "\n",
    "plt.tight_layout()\n",
    "plt.show()"
   ]
  },
  {
   "cell_type": "markdown",
   "metadata": {},
   "source": [
    "We observe that the \"no response\" cases account for 85.5% of all observations. As in Tutorial 1, we are faced with a highly imbalanced data set. This week, however, we will introduce some tools to counter the class imbalance!"
   ]
  },
  {
   "cell_type": "markdown",
   "metadata": {},
   "source": [
    "#### Response type by gender"
   ]
  },
  {
   "cell_type": "markdown",
   "metadata": {},
   "source": [
    "Option 1: simple Pandas plot"
   ]
  },
  {
   "cell_type": "code",
   "execution_count": 10,
   "metadata": {},
   "outputs": [
    {
     "data": {
      "image/png": "[encoded data removed]",
      "text/plain": [
       "<Figure size 432x288 with 1 Axes>"
      ]
     },
     "metadata": {
      "needs_background": "light"
     },
     "output_type": "display_data"
    }
   ],
   "source": [
    "ax = data2.groupby(['response', 'gender'])['gender'].count().unstack().plot.bar()"
   ]
  },
  {
   "cell_type": "markdown",
   "metadata": {},
   "source": [
    "Option 2: fancy plot"
   ]
  },
  {
   "cell_type": "code",
   "execution_count": 11,
   "metadata": {},
   "outputs": [
    {
     "data": {
      "image/png": "[encoded data removed]",
      "text/plain": [
       "<Figure size 864x360 with 2 Axes>"
      ]
     },
     "metadata": {
      "needs_background": "light"
     },
     "output_type": "display_data"
    }
   ],
   "source": [
    "#Response type by gender\n",
    "fig = plt.figure(figsize=(12, 5)) #specify figure size\n",
    "\n",
    "#Absolute distribution\n",
    "plt.subplot(1, 2, 1)\n",
    "ax1 = data2.groupby(['response', 'gender'])['gender'].count().unstack().plot.bar(rot=0, ax=plt.gca(), width=0.7)\n",
    "plt.title('Response by gender:\\n Absolute distribution') \n",
    "#plot bar labels\n",
    "for p in ax1.patches:\n",
    "    ax1.annotate(str(p.get_height()), (p.get_x() + 0.1, p.get_height()/2))\n",
    "\n",
    "#Relative distribution\n",
    "plt.subplot(1, 2, 2)\n",
    "ax2 = data2.groupby(['response','gender'])['gender'].size().groupby(level=0).apply(\n",
    "    lambda x: 100 * x / x.sum()).unstack().plot(kind='bar',stacked=True, rot=0, ax=plt.gca())\n",
    "plt.gca().yaxis.set_major_formatter(mtick.PercentFormatter())\n",
    "plt.legend(bbox_to_anchor=(1, 1))\n",
    "plt.title('Response by gender:\\n Relative distribution') \n",
    "#plot bar labels\n",
    "for p, q in zip(ax2.patches[0:2], ax2.patches[2:4]):\n",
    "    ax2.annotate(str(round(p.get_height(),1)) + '%', (p.get_x()+0.2, p.get_height()/2))\n",
    "    ax2.annotate(str(round(q.get_height(),1)) + '%', (q.get_x()+0.2, q.get_height()/2+p.get_height()))\n",
    "\n",
    "plt.tight_layout()\n",
    "plt.show()"
   ]
  },
  {
   "cell_type": "markdown",
   "metadata": {},
   "source": [
    "We observe an equal distribution in the response behavior amongst women and men."
   ]
  },
  {
   "cell_type": "markdown",
   "metadata": {},
   "source": [
    "#### Relative income distribution\n",
    "\n",
    "Next, we plot the relative income distribution. Below an income level of 55000, we observe a relatively equal distribution of \"yes\" to \"no\" responses. **However, *all* customers with an income of 55000 or higher seem to respond to our marketing campaign!** The campaign appears to be highy affective amongst this group."
   ]
  },
  {
   "cell_type": "code",
   "execution_count": 12,
   "metadata": {},
   "outputs": [
    {
     "data": {
      "image/png": "[encoded data removed]",
      "text/plain": [
       "<Figure size 720x360 with 1 Axes>"
      ]
     },
     "metadata": {
      "needs_background": "light"
     },
     "output_type": "display_data"
    }
   ],
   "source": [
    "ax = data2['income'].loc[data2['response'] == 0].plot.hist(bins=15, density = True, alpha=0.8, label='0 (no response)', figsize = (10,5))\n",
    "ax = data2['income'].loc[data2['response'] == 1].plot.hist(bins=15, density = True, alpha=0.8, label='1 (response)', figsize = (10,5))\n",
    "ax.set_xlabel('income')\n",
    "ax.set_title('Relative customer income distribution by response (0/1)')\n",
    "ax.legend();"
   ]
  },
  {
   "cell_type": "markdown",
   "metadata": {},
   "source": [
    "#### Response type by relationship status\n",
    "\n",
    "Next, we plot the absolute and normalized responses by relationship status. We observe an equal response distribution amongst married customers (\"M\"), singles (\"S\"), and unknow (\"U\" aka. \"it's complicated\")"
   ]
  },
  {
   "cell_type": "code",
   "execution_count": 13,
   "metadata": {},
   "outputs": [
    {
     "data": {
      "image/png": "[encoded data removed]",
      "text/plain": [
       "<Figure size 864x360 with 2 Axes>"
      ]
     },
     "metadata": {
      "needs_background": "light"
     },
     "output_type": "display_data"
    }
   ],
   "source": [
    "#Response type by gender\n",
    "fig = plt.figure(figsize=(12, 5)) #specify figure size\n",
    "\n",
    "#Absolute distribution\n",
    "plt.subplot(1, 2, 1)\n",
    "ax1 = data2.groupby(['marital', 'response'])['response'].count().unstack().plot.bar(rot=0, ax=plt.gca(), width=0.7)\n",
    "plt.title('Response by relationship status:\\n Absolute distribution') \n",
    "#plot bar labels\n",
    "for p in ax1.patches:\n",
    "    ax1.annotate(str(p.get_height()), (p.get_x() + 0.1, p.get_height()/2))\n",
    "\n",
    "#Relative distribution\n",
    "plt.subplot(1, 2, 2)\n",
    "ax2 = data2.groupby(['marital','response'])['response'].size().groupby(level=0).apply(\n",
    "    lambda x: 100 * x / x.sum()).unstack().plot(kind='bar',stacked=True, rot=0, ax=plt.gca())\n",
    "plt.gca().yaxis.set_major_formatter(mtick.PercentFormatter())\n",
    "plt.legend(bbox_to_anchor=(1, 1))\n",
    "plt.title('Response by relationship status:\\n Relative distribution') \n",
    "#plot bar labels\n",
    "for p, q in zip(ax2.patches[0:3], ax2.patches[3:6]):\n",
    "    ax2.annotate(str(round(p.get_height(),1)) + '%', (p.get_x()+0.2, p.get_height()/2))\n",
    "    ax2.annotate(str(round(q.get_height(),1)) + '%', (q.get_x()+0.2, q.get_height()/2+p.get_height()))\n",
    "\n",
    "plt.tight_layout()\n",
    "plt.show()"
   ]
  },
  {
   "cell_type": "markdown",
   "metadata": {},
   "source": [
    "#### Responses by relative RFM score\n",
    "\n",
    "Last, we plot the reponses by the customer's relative [RFM score](https://en.wikipedia.org/wiki/RFM_(customer_value)). (From Wiki:) RFM is a method used for analyzing customer value and describes three dimensions:\n",
    "\n",
    "- Recency – How recently did the customer purchase?\n",
    "- Frequency – How often do they purchase?\n",
    "- Monetary Value – How much do they spend?\n",
    "\n",
    "Plotting the RFM score as a histogram reveals how customers with a low RFM score do not respond to the campaign. Customers with a high RFM score seem to always respond. "
   ]
  },
  {
   "cell_type": "code",
   "execution_count": 14,
   "metadata": {},
   "outputs": [
    {
     "data": {
      "image/png": "[encoded data removed]",
      "text/plain": [
       "<Figure size 720x360 with 1 Axes>"
      ]
     },
     "metadata": {
      "needs_background": "light"
     },
     "output_type": "display_data"
    }
   ],
   "source": [
    "ax = data2['rfm_score'].loc[data2['response'] == 1].plot.hist(bins=15, density = True, alpha=0.8, label='1 (response)', figsize = (10,5))\n",
    "ax = data2['rfm_score'].loc[data2['response'] == 0].plot.hist(bins=15, density = True, alpha=0.8, label='0 (no response)', figsize = (10,5))\n",
    "ax.set_xlabel('RFM score')\n",
    "ax.set_title('Relative RFM score distribution by response (0/1)')\n",
    "ax.legend();"
   ]
  },
  {
   "cell_type": "markdown",
   "metadata": {},
   "source": [
    "## 4. Data pre-processing\n",
    "\n",
    "#### Select features and label\n",
    "\n",
    "We store the 4 explanatory variables (`gender`, `income`, `marital` and `rfm_score`) in a new feature data frame `X`. Moreover, we store the label (`response`) in a label vector `y`:"
   ]
  },
  {
   "cell_type": "code",
   "execution_count": 15,
   "metadata": {},
   "outputs": [
    {
     "data": {
      "text/html": [
       "<div>\n",
       "<style scoped>\n",
       "    .dataframe tbody tr th:only-of-type {\n",
       "        vertical-align: middle;\n",
       "    }\n",
       "\n",
       "    .dataframe tbody tr th {\n",
       "        vertical-align: top;\n",
       "    }\n",
       "\n",
       "    .dataframe thead th {\n",
       "        text-align: right;\n",
       "    }\n",
       "</style>\n",
       "<table border=\"1\" class=\"dataframe\">\n",
       "  <thead>\n",
       "    <tr style=\"text-align: right;\">\n",
       "      <th></th>\n",
       "      <th>gender</th>\n",
       "      <th>income</th>\n",
       "      <th>marital</th>\n",
       "      <th>rfm_score</th>\n",
       "    </tr>\n",
       "  </thead>\n",
       "  <tbody>\n",
       "    <tr>\n",
       "      <th>0</th>\n",
       "      <td>M</td>\n",
       "      <td>13362</td>\n",
       "      <td>S</td>\n",
       "      <td>0.00000</td>\n",
       "    </tr>\n",
       "    <tr>\n",
       "      <th>1</th>\n",
       "      <td>M</td>\n",
       "      <td>13453</td>\n",
       "      <td>S</td>\n",
       "      <td>0.00000</td>\n",
       "    </tr>\n",
       "    <tr>\n",
       "      <th>2</th>\n",
       "      <td>F</td>\n",
       "      <td>13453</td>\n",
       "      <td>U</td>\n",
       "      <td>7.60233</td>\n",
       "    </tr>\n",
       "    <tr>\n",
       "      <th>3</th>\n",
       "      <td>F</td>\n",
       "      <td>13453</td>\n",
       "      <td>U</td>\n",
       "      <td>10.14300</td>\n",
       "    </tr>\n",
       "    <tr>\n",
       "      <th>4</th>\n",
       "      <td>F</td>\n",
       "      <td>13453</td>\n",
       "      <td>M</td>\n",
       "      <td>0.00000</td>\n",
       "    </tr>\n",
       "  </tbody>\n",
       "</table>\n",
       "</div>"
      ],
      "text/plain": [
       "  gender  income marital  rfm_score\n",
       "0      M   13362       S    0.00000\n",
       "1      M   13453       S    0.00000\n",
       "2      F   13453       U    7.60233\n",
       "3      F   13453       U   10.14300\n",
       "4      F   13453       M    0.00000"
      ]
     },
     "execution_count": 15,
     "metadata": {},
     "output_type": "execute_result"
    }
   ],
   "source": [
    "X, y = data2[['gender', 'income', 'marital', 'rfm_score']], data2['response'] #define feature matrix X and labels y\n",
    "X.head()"
   ]
  },
  {
   "cell_type": "markdown",
   "metadata": {},
   "source": [
    "#### Encode categorical variables\n",
    "\n",
    "The variables `gender` and `marital` are categorical and require label encoding so that the models can use them. We perform one-hot-encoding using Panda's \"get_dummeies()\" function."
   ]
  },
  {
   "cell_type": "code",
   "execution_count": 16,
   "metadata": {},
   "outputs": [
    {
     "data": {
      "text/html": [
       "<div>\n",
       "<style scoped>\n",
       "    .dataframe tbody tr th:only-of-type {\n",
       "        vertical-align: middle;\n",
       "    }\n",
       "\n",
       "    .dataframe tbody tr th {\n",
       "        vertical-align: top;\n",
       "    }\n",
       "\n",
       "    .dataframe thead th {\n",
       "        text-align: right;\n",
       "    }\n",
       "</style>\n",
       "<table border=\"1\" class=\"dataframe\">\n",
       "  <thead>\n",
       "    <tr style=\"text-align: right;\">\n",
       "      <th></th>\n",
       "      <th>income</th>\n",
       "      <th>rfm_score</th>\n",
       "      <th>gender_M</th>\n",
       "      <th>marital_S</th>\n",
       "      <th>marital_U</th>\n",
       "    </tr>\n",
       "  </thead>\n",
       "  <tbody>\n",
       "    <tr>\n",
       "      <th>0</th>\n",
       "      <td>13362</td>\n",
       "      <td>0.00000</td>\n",
       "      <td>1</td>\n",
       "      <td>1</td>\n",
       "      <td>0</td>\n",
       "    </tr>\n",
       "    <tr>\n",
       "      <th>1</th>\n",
       "      <td>13453</td>\n",
       "      <td>0.00000</td>\n",
       "      <td>1</td>\n",
       "      <td>1</td>\n",
       "      <td>0</td>\n",
       "    </tr>\n",
       "    <tr>\n",
       "      <th>2</th>\n",
       "      <td>13453</td>\n",
       "      <td>7.60233</td>\n",
       "      <td>0</td>\n",
       "      <td>0</td>\n",
       "      <td>1</td>\n",
       "    </tr>\n",
       "    <tr>\n",
       "      <th>3</th>\n",
       "      <td>13453</td>\n",
       "      <td>10.14300</td>\n",
       "      <td>0</td>\n",
       "      <td>0</td>\n",
       "      <td>1</td>\n",
       "    </tr>\n",
       "    <tr>\n",
       "      <th>4</th>\n",
       "      <td>13453</td>\n",
       "      <td>0.00000</td>\n",
       "      <td>0</td>\n",
       "      <td>0</td>\n",
       "      <td>0</td>\n",
       "    </tr>\n",
       "  </tbody>\n",
       "</table>\n",
       "</div>"
      ],
      "text/plain": [
       "   income  rfm_score  gender_M  marital_S  marital_U\n",
       "0   13362    0.00000         1          1          0\n",
       "1   13453    0.00000         1          1          0\n",
       "2   13453    7.60233         0          0          1\n",
       "3   13453   10.14300         0          0          1\n",
       "4   13453    0.00000         0          0          0"
      ]
     },
     "execution_count": 16,
     "metadata": {},
     "output_type": "execute_result"
    }
   ],
   "source": [
    "X = pd.get_dummies(X, columns=[\"gender\", \"marital\"], prefix=[\"gender\", \"marital\"], drop_first=True) #we add a prefix for easier identification\n",
    "X.head()"
   ]
  },
  {
   "cell_type": "markdown",
   "metadata": {},
   "source": [
    "## 5. Data split\n",
    "\n",
    "We split the data 70:30 into a training (`data_train`) and a testing (`data_test`) partition. "
   ]
  },
  {
   "cell_type": "code",
   "execution_count": 17,
   "metadata": {},
   "outputs": [],
   "source": [
    "X_train, X_test, y_train, y_test = train_test_split(X, y, test_size = 0.3, random_state = 42) #split data 70:30"
   ]
  },
  {
   "cell_type": "markdown",
   "metadata": {},
   "source": [
    "We visualize the split to ensure that the distribution of \"yes\" to \"no\" responses matches the distribution in the full dataset."
   ]
  },
  {
   "cell_type": "code",
   "execution_count": 18,
   "metadata": {},
   "outputs": [
    {
     "data": {
      "image/png": "[encoded data removed]",
      "text/plain": [
       "<Figure size 432x288 with 1 Axes>"
      ]
     },
     "metadata": {
      "needs_background": "light"
     },
     "output_type": "display_data"
    }
   ],
   "source": [
    "train_dist = y_train.value_counts() / len(y_train) #normalize absolute count values for plotting\n",
    "test_dist = y_test.value_counts() / len(y_test)\n",
    "data_dist = y.value_counts() / len(y)\n",
    "\n",
    "fig, ax = plt.subplots()\n",
    "\n",
    "ax.barh(['Test','Train','Data'], [test_dist[0], train_dist[0], data_dist[0]], color='#1f77b4', label='0 (no)')\n",
    "ax.barh(['Test','Train','Data'], [test_dist[1], train_dist[1], data_dist[1]], left=[test_dist[0], train_dist[0], data_dist[0]], color='#ff7f0e', label='1 (yes)')\n",
    "ax.set_title('Split visualization')\n",
    "ax.legend(loc='upper left')\n",
    "plt.xlabel('Proportion')\n",
    "plt.ylabel('Partition')\n",
    "\n",
    "#plot bar values\n",
    "for part, a, b in zip(['Test', 'Train','Data'], [test_dist[0], train_dist[0], data_dist[0]], [test_dist[1], train_dist[1], data_dist[1]]):\n",
    "    plt.text(a/2, part, str(np.round(a, 2)))\n",
    "    plt.text(b/2+a, part, str(np.round(b, 2)));"
   ]
  },
  {
   "cell_type": "markdown",
   "metadata": {},
   "source": [
    "## 6. Data balancing\n",
    "\n",
    "A widely adopted technique for dealing with highly unbalanced datasets is called **resampling**. It consists of removing samples from the majority class (under-sampling) and / or adding more examples from the minority class (over-sampling).\n",
    "\n",
    "<img src=\"Images/resampling.png\" width=\"800\">\n",
    "\n",
    "Despite the advantage of balancing classes, these techniques also have their weaknesses (there is no free lunch). The simplest implementation of over-sampling is to duplicate random records from the minority class, which can cause overfitting. In under-sampling, the simplest technique involves removing random records from the majority class, which can cause loss of information.\n",
    "\n",
    "There are many techniques for resampling data. In this tutorial, we will use **SMOTE** (Synthetic Minority Oversampling TEchnique). It consists of synthesizing elements for the minority class, based on those that already exist. It works by randomly picking a point from the minority class and computing the k-nearest neighbors for this point. The synthetic points are added between the chosen point and its neighbors.\n",
    "\n",
    "<img src=\"Images/smote.png\" width=\"800\">\n",
    "\n",
    "We'll use `ratio='minority'` to resample the minority class (1 \"yes\")."
   ]
  },
  {
   "cell_type": "markdown",
   "metadata": {},
   "source": [
    "### Data rebalancing with SMOTE\n",
    "\n",
    "<font color='red'>**We only rebalance the training data!**</font> The true (real-life) distribution of \"no\" to \"yes\" responses is imbalanced. The testing data has to capture the true distribution, thus it would be wrong to rebalance it. "
   ]
  },
  {
   "cell_type": "code",
   "execution_count": 19,
   "metadata": {},
   "outputs": [],
   "source": [
    "smote = SMOTE(sampling_strategy='minority')\n",
    "X_sm, y_sm = smote.fit_resample(X_train, y_train) #ONLY APPLIED TO TRAINING!!!"
   ]
  },
  {
   "cell_type": "markdown",
   "metadata": {},
   "source": [
    "Because the dataset has many dimensions (features) and our graphs will be 2D, we will only choose the first two features (`income` and `rfm_score`) for the plots. Below we specify a generic 2D plotting function that we can call later."
   ]
  },
  {
   "cell_type": "code",
   "execution_count": 20,
   "metadata": {},
   "outputs": [],
   "source": [
    "def plot_2d_space(X, y, label='Classes', title='x', xlabel='x', ylabel='y'):   \n",
    "    colors = ['#1F77B4', '#FF7F0E']\n",
    "    markers = ['o', 's']\n",
    "    for l, c, m in zip(np.unique(y), colors, markers):\n",
    "        plt.scatter(\n",
    "            X[y==l, 0],\n",
    "            X[y==l, 1],\n",
    "            c=c, label=l, marker=m, s=2\n",
    "        )\n",
    "    plt.title(title)\n",
    "    plt.xlabel(xlabel)\n",
    "    plt.ylabel(ylabel)\n",
    "    plt.legend(loc='upper right')"
   ]
  },
  {
   "cell_type": "markdown",
   "metadata": {},
   "source": [
    "Then we plot the counts of \"no\" and \"yes\" responses in the original data and after applying SMOTE rebalancing. "
   ]
  },
  {
   "cell_type": "code",
   "execution_count": 21,
   "metadata": {},
   "outputs": [
    {
     "name": "stdout",
     "output_type": "stream",
     "text": [
      "Original label Counter({0: 8063, 1: 1389})\n",
      "SMOTE label Counter({0: 8063, 1: 8063})\n"
     ]
    },
    {
     "data": {
      "image/png": "[encoded data removed]",
      "text/plain": [
       "<Figure size 1080x360 with 2 Axes>"
      ]
     },
     "metadata": {
      "needs_background": "light"
     },
     "output_type": "display_data"
    }
   ],
   "source": [
    "print('Original label %s' % Counter(y_train))\n",
    "print('SMOTE label %s' % Counter(y_sm))\n",
    "\n",
    "fig = plt.figure(figsize=(15, 5)) #specify figure size\n",
    "\n",
    "ax0 = plt.subplot(121)\n",
    "ax0 = plot_2d_space(np.array(X_train), y_train, title='Imbalanced data', xlabel='income', ylabel='rfm_score')\n",
    "\n",
    "ax1 = plt.subplot(122)\n",
    "ax1 = plot_2d_space(np.array(X_sm), y_sm, title='Rebalanced data (SMOTE)', xlabel='income', ylabel='rfm_score')"
   ]
  },
  {
   "cell_type": "markdown",
   "metadata": {},
   "source": [
    "The number of `response` = 1 observations has significantly increased. We plot the data set distribution again to further visualize the effect of SMOTE rebalancing:"
   ]
  },
  {
   "cell_type": "code",
   "execution_count": 22,
   "metadata": {},
   "outputs": [
    {
     "data": {
      "image/png": "[encoded data removed]",
      "text/plain": [
       "<Figure size 432x288 with 1 Axes>"
      ]
     },
     "metadata": {
      "needs_background": "light"
     },
     "output_type": "display_data"
    }
   ],
   "source": [
    "train_dist = y_train.value_counts() / len(y_train) #normalize absolute count values for plotting\n",
    "test_dist = y_test.value_counts() / len(y_test)\n",
    "data_dist = y.value_counts() / len(y)\n",
    "smote_dist = pd.Series(y_sm).value_counts() / len(pd.Series(y_sm))\n",
    "\n",
    "fig, ax = plt.subplots()\n",
    "\n",
    "ax.barh(['X_train (SMOTE)','Test','Train','Data'], [smote_dist[0], test_dist[0], train_dist[0], data_dist[0]], color='#1f77b4', label='0 (no)')\n",
    "ax.barh(['X_train (SMOTE)','Test','Train','Data'], [smote_dist[1], test_dist[1], train_dist[1], data_dist[1]], left=[smote_dist[0], test_dist[0], train_dist[0], data_dist[0]], color='#ff7f0e', label='1 (yes)')\n",
    "ax.set_title('Split visualization')\n",
    "ax.legend(loc='upper left')\n",
    "plt.xlabel('Proportion')\n",
    "plt.ylabel('Partition')\n",
    "\n",
    "#plot bar values\n",
    "for part, a, b in zip(['X_train (SMOTE)', 'Test', 'Train','Data'], [smote_dist[0], test_dist[0], train_dist[0], data_dist[0]], [smote_dist[1], test_dist[1], train_dist[1], data_dist[1]]):\n",
    "    plt.text(a/2, part, str(np.round(a, 2)))\n",
    "    plt.text(b/2+a, part, str(np.round(b, 2)));"
   ]
  },
  {
   "cell_type": "markdown",
   "metadata": {},
   "source": [
    "<font color='red'>**Note how the testing partition remains imbalanced!**</font> "
   ]
  },
  {
   "cell_type": "markdown",
   "metadata": {},
   "source": [
    "## 7. Model building\n",
    "\n",
    "### 7.1 Logistic Regression\n",
    "\n",
    "#### 7.1.1 Imbalanced data\n",
    "To highlight the positive effect of rebalancing, we first train a model on the original, unbalanced data set. Note that this is purely for illustrative purposes and would not be done in an actual assignment."
   ]
  },
  {
   "cell_type": "code",
   "execution_count": 23,
   "metadata": {},
   "outputs": [],
   "source": [
    "lr_imb = LogisticRegression().fit(X_train, y_train) #define Logistic Regression classifier"
   ]
  },
  {
   "cell_type": "code",
   "execution_count": 24,
   "metadata": {},
   "outputs": [
    {
     "name": "stdout",
     "output_type": "stream",
     "text": [
      "Accuracy is:  85.14\n"
     ]
    }
   ],
   "source": [
    "y_pred_lr_imb = lr_imb.predict(X_test)\n",
    "y_predProba_lr_imb = lr_imb.predict_proba(X_test)\n",
    "print (\"Accuracy is: \", (accuracy_score(y_test, y_pred_lr_imb)*100).round(2))"
   ]
  },
  {
   "cell_type": "markdown",
   "metadata": {},
   "source": [
    "#### 7.1.2 Balanced data (SMOTE)\n",
    "\n",
    "Next, we train the actual Logistic Regression model (that we expect to perform somewhat well) using the rebalanced data."
   ]
  },
  {
   "cell_type": "code",
   "execution_count": 25,
   "metadata": {},
   "outputs": [],
   "source": [
    "lr_bal = LogisticRegression().fit(X_sm, y_sm) #define Logistic Regression classifier"
   ]
  },
  {
   "cell_type": "code",
   "execution_count": 26,
   "metadata": {},
   "outputs": [
    {
     "name": "stdout",
     "output_type": "stream",
     "text": [
      "Accuracy is:  69.64\n"
     ]
    }
   ],
   "source": [
    "y_pred_lr_bal = lr_bal.predict(X_test)\n",
    "y_predProba_lr_bal = lr_bal.predict_proba(X_test)\n",
    "print (\"Accuracy is: \", (accuracy_score(y_test, y_pred_lr_bal)*100).round(2))"
   ]
  },
  {
   "cell_type": "markdown",
   "metadata": {},
   "source": [
    "Note how the rebalanced data leads to a *decreased* accuracy."
   ]
  },
  {
   "cell_type": "markdown",
   "metadata": {},
   "source": [
    "### 7.2 SVM\n",
    "\n",
    "In order to compare models, we also train another classifier using SVM."
   ]
  },
  {
   "cell_type": "code",
   "execution_count": null,
   "metadata": {},
   "outputs": [],
   "source": [
    "svm_bal = SVC(probability=True).fit(X_sm, y_sm)"
   ]
  },
  {
   "cell_type": "code",
   "execution_count": null,
   "metadata": {},
   "outputs": [],
   "source": [
    "y_pred_svm_bal = svm_bal.predict(X_test)\n",
    "y_predProba_svm_bal = svm_bal.predict_proba(X_test)\n",
    "print (\"Accuracy is: \", (accuracy_score(y_test, y_pred_svm_bal)*100).round(2))"
   ]
  },
  {
   "cell_type": "markdown",
   "metadata": {},
   "source": [
    "#### unbalanced (for bonus section)"
   ]
  },
  {
   "cell_type": "code",
   "execution_count": null,
   "metadata": {},
   "outputs": [],
   "source": [
    "svm_imb = SVC(probability=True).fit(X_train, y_train)"
   ]
  },
  {
   "cell_type": "code",
   "execution_count": null,
   "metadata": {},
   "outputs": [],
   "source": [
    "y_pred_svm_imb = svm_imb.predict(X_test)\n",
    "y_predProba_svm_imb = svm_imb.predict_proba(X_test)\n",
    "print (\"Accuracy is: \", (accuracy_score(y_test, y_pred_svm_imb)*100).round(2))"
   ]
  },
  {
   "cell_type": "markdown",
   "metadata": {},
   "source": [
    "## Model evaluation\n",
    "\n",
    "In this tutorial, we will use the following evaluation methods:\n",
    "- Confusion matrix\n",
    "- AUC (Area Under the Curve) and ROC curve\n",
    "- Gains chart"
   ]
  },
  {
   "cell_type": "markdown",
   "metadata": {},
   "source": [
    "### Confusion matrix\n",
    "\n",
    "(Reminder that the code below is entirely taken from sklearn)."
   ]
  },
  {
   "cell_type": "code",
   "execution_count": null,
   "metadata": {},
   "outputs": [],
   "source": [
    "def plot_confusion_matrix(cm, classes,\n",
    "                          normalize=False,\n",
    "                          title='Confusion matrix',\n",
    "                          cmap=plt.cm.Blues):\n",
    "    \"\"\"\n",
    "    This function prints and plots the confusion matrix.\n",
    "    Normalization can be applied by setting `normalize=True`.\n",
    "    \"\"\"\n",
    "    if normalize:\n",
    "        cm = cm.astype('float') / cm.sum(axis=1)[:, np.newaxis]\n",
    "        #print(\"Normalized confusion matrix\")\n",
    "    #else:\n",
    "    #    print('Confusion matrix, without normalization')\n",
    "\n",
    "    #print(cm)\n",
    "\n",
    "    plt.imshow(cm, interpolation='nearest', cmap=cmap)\n",
    "    plt.title(title)\n",
    "    plt.colorbar()\n",
    "    tick_marks = np.arange(len(classes))\n",
    "    plt.xticks(tick_marks, classes, rotation=45)\n",
    "    plt.yticks(tick_marks, classes)\n",
    "\n",
    "    fmt = '.2f' if normalize else 'd'\n",
    "    thresh = cm.max() / 2.\n",
    "    for i, j in itertools.product(range(cm.shape[0]), range(cm.shape[1])):\n",
    "        plt.text(j, i, format(cm[i, j], fmt),\n",
    "                 horizontalalignment=\"center\",\n",
    "                 color=\"white\" if cm[i, j] > thresh else \"black\")\n",
    "\n",
    "    plt.tight_layout()\n",
    "    plt.ylim([1.5, -0.5]) #added to fix a bug that causes the matrix to be squished\n",
    "    plt.ylabel('True label')\n",
    "    plt.xlabel('Predicted label')"
   ]
  },
  {
   "cell_type": "code",
   "execution_count": null,
   "metadata": {},
   "outputs": [],
   "source": [
    "# Compute confusion matrix\n",
    "class_names = ['no', 'yes']\n",
    "cnf_matrix_lr_imb = confusion_matrix(y_test, y_pred_lr_imb)\n",
    "cnf_matrix_lr_bal = confusion_matrix(y_test, y_pred_lr_bal)\n",
    "cnf_matrix_svm = confusion_matrix(y_test, y_pred_svm_bal)\n",
    "\n",
    "np.set_printoptions(precision=2)\n",
    "\n",
    "plt.figure(figsize=(20, 15))\n",
    "\n",
    "#Plot Logistic Regression (imbalanced) confusion matrix\n",
    "plt.subplot(321) \n",
    "plot_confusion_matrix(cnf_matrix_lr_imb, classes=class_names,\n",
    "                      title='Logistic Regression imbalanced data:\\n Confusion matrix without normalization')\n",
    "\n",
    "#Plot Logistic Regression (imbalanced) normalized confusion matrix\n",
    "plt.subplot(322) \n",
    "plot_confusion_matrix(cnf_matrix_lr_imb, classes=class_names, normalize=True,\n",
    "                      title='Logistic Regression imbalanced data:\\n normalized confusion matrix')\n",
    "\n",
    "\n",
    "#Plot Logistic Regression (balanced) confusion matrix\n",
    "plt.subplot(323) \n",
    "plot_confusion_matrix(cnf_matrix_lr_bal, classes=class_names,\n",
    "                      title='Logistic Regression balanced data:\\n Confusion matrix without normalization')\n",
    "\n",
    "#Plot Logistic Regression (balanced) normalized onfusion matrix\n",
    "plt.subplot(324) \n",
    "plot_confusion_matrix(cnf_matrix_lr_bal, classes=class_names, normalize=True,\n",
    "                      title='Logistic Regression balanced data:\\n normalized confusion matrix')\n",
    "\n",
    "\n",
    "#Plot SVM balanced confusion matrix\n",
    "plt.subplot(325) \n",
    "plot_confusion_matrix(cnf_matrix_svm, classes=class_names,\n",
    "                      title='SVM balanced data:\\n Confusion matrix without normalization')\n",
    "\n",
    "#Plot SVM balanced normalized confusion matrix\n",
    "plt.subplot(326) \n",
    "plot_confusion_matrix(cnf_matrix_svm, classes=class_names, normalize=True,\n",
    "                      title='SVM balanced data:\\n normalized confusion matrix')\n",
    "\n",
    "plt.show()"
   ]
  },
  {
   "cell_type": "markdown",
   "metadata": {},
   "source": [
    "Observations:\n",
    "1. The confusion matrix reveals how the unbalanced Logistic Regression classifier is essentially always predicting the majority class \"0, no\". Due to the highly imbalanced class distribution, this strategy results in a high testing accuracy of 85%. In simply terms: if the data has >85% \"no\" observations then always predicting \"no\" will result in about 85% correct \"predictions\". However, such a classifier has clearly not learned anything and is utterly useless in practice.\n",
    "2. In contrast, the balanced Logistic Regression classifier performs much better: while it \"only\" identifies 67% of the \"no\" cases correctly, it is able to get 85% of the \"yes\" cases right. \n",
    "3. Lastly, the balanced SVM classifier gets 94% \"no\" and 51% \"yes\" cases right.\n",
    "\n",
    "Which model would you pick?"
   ]
  },
  {
   "cell_type": "markdown",
   "metadata": {},
   "source": [
    "### AUC and ROC\n",
    "\n",
    "The area under the curve (often referred to as simply the AUC) is equal to the probability that a classifier will rank a randomly chosen positive instance higher than a randomly chosen negative one. "
   ]
  },
  {
   "cell_type": "code",
   "execution_count": null,
   "metadata": {},
   "outputs": [],
   "source": [
    "plt.figure(figsize=(12,10))\n",
    "\n",
    "for test, pred, name in zip([y_test, y_test, y_test], [y_predProba_svm_bal[:,1], y_predProba_lr_imb[:,1], y_predProba_lr_bal[:,1]], ['SVM balanced (SMOTE)', 'Logistic Regression unbalanced','Logistic Regression balanced (SMOTE)']):\n",
    "    fpr, tpr, _ = roc_curve(test, pred)\n",
    "    roc_auc = auc(fpr, tpr)\n",
    "    plt.plot(fpr, tpr, label='{}: AUC = {}'.format(name, round(roc_auc, 3)))\n",
    "    plt.legend(loc='best')\n",
    "    plt.plot([0,1],[0,1],color='black', linestyle='--')\n",
    "\n",
    "plt.title('ROC curve (Receiver Operating Characteristic)')    \n",
    "plt.ylabel('True Positive Rate (TPR)')\n",
    "plt.xlabel('False Positive Rate (FPR)')\n",
    "\n",
    "plt.show()"
   ]
  },
  {
   "cell_type": "markdown",
   "metadata": {},
   "source": [
    "### Cumulative Response Curve, aka. Gains chart\n",
    "\n",
    "From DSB1 slides:\n",
    "- A Gain chart plots the **gain** (percentage of positives correctly classified by model; tp rate; hit rate) as a function of the **percentage of the population** that is targeted (decreasing by score)\n",
    "- The diagonal x=y represents a random classifier; any classifier that is above the diagonal is providing some advantage\n",
    "\n",
    "A wide gap between a random classifier (baseline) and a model indicates a high performance advantage in using said model. \n",
    "\n",
    "From Datacamp:\n",
    "The cumulative gains graph can be used to estimate how many customers one should address to make a certain profit. Indeed, the cumulative gains graph shows which percentage of all targets is reached when addressing a certain percentage of the population."
   ]
  },
  {
   "cell_type": "code",
   "execution_count": null,
   "metadata": {},
   "outputs": [],
   "source": [
    "skplt.metrics.plot_cumulative_gain(y_test, y_predProba_lr_imb, title='Logistic Regression (unbalanced)')\n",
    "skplt.metrics.plot_cumulative_gain(y_test, y_predProba_lr_bal, title='Logistic Regression (SMOTE)')\n",
    "skplt.metrics.plot_cumulative_gain(y_test, y_predProba_svm_bal, title='SVM (SMOTE)');"
   ]
  },
  {
   "cell_type": "markdown",
   "metadata": {},
   "source": [
    "Which model should we choose? \n",
    "- Rebalancing clearly improves the models' performance\n",
    "- still unclear wheather to choose SVM or Logistic Regression\n",
    "\n",
    "**--> It depends on the missclassification costs whether to choose SVM or Logistic Regression.**"
   ]
  },
  {
   "cell_type": "markdown",
   "metadata": {},
   "source": [
    "## Classifier evaluation with Expected Value Framework -> EXCEL"
   ]
  },
  {
   "cell_type": "markdown",
   "metadata": {},
   "source": [
    "## Conclusion\n",
    "\n",
    "In this tutorial we learned:\n",
    "- how to important data and slice a subset for further analysis\n",
    "- how to visualize data\n",
    "- how to to rebalance imbalanced data using SMOTE oversampling\n",
    "- how to train SVM and Logistic Regression models\n",
    "- how to evaluate model performance using confusion matrices, AUC and ROC curves, Gain charts, and charts.\n",
    "- how to compare models using the Expected Value Framework"
   ]
  },
  {
   "cell_type": "markdown",
   "metadata": {},
   "source": [
    "## BONUS"
   ]
  },
  {
   "cell_type": "code",
   "execution_count": null,
   "metadata": {},
   "outputs": [],
   "source": [
    "from sklearn import tree\n",
    "from sklearn.tree import DecisionTreeClassifier #Decision Tree algorithm"
   ]
  },
  {
   "cell_type": "code",
   "execution_count": null,
   "metadata": {},
   "outputs": [],
   "source": [
    "#Define Decision tree classifier with some default parameters\n",
    "tree_imb = tree.DecisionTreeClassifier(criterion = \"gini\", random_state = 100,\n",
    "                               max_depth=3, min_samples_leaf=3).fit(X_train, y_train)\n",
    "\n",
    "\n",
    "y_pred_tree_imb = tree_imb.predict(X_test) #what do we need here?\n",
    "y_predProba_tree_imb = tree_imb.predict_proba(X_test)\n",
    "print (\"Accuracy is: \", (accuracy_score(y_test, y_pred_tree_imb)*100).round(2))"
   ]
  },
  {
   "cell_type": "code",
   "execution_count": null,
   "metadata": {},
   "outputs": [],
   "source": [
    "#Define Decision tree classifier with some default parameters\n",
    "tree_bal = tree.DecisionTreeClassifier(criterion = \"gini\", random_state = 100,\n",
    "                               max_depth=3, min_samples_leaf=3).fit(X_sm, y_sm)\n",
    "\n",
    "y_pred_tree_bal = tree_bal.predict(X_test) #what do we need here?\n",
    "y_predProba_tree_bal = tree_bal.predict_proba(X_test)\n",
    "print (\"Accuracy is: \", (accuracy_score(y_test, y_pred_tree_bal)*100).round(2))"
   ]
  },
  {
   "cell_type": "code",
   "execution_count": null,
   "metadata": {},
   "outputs": [],
   "source": [
    "plt.figure(figsize=(12,10))\n",
    "\n",
    "for test, pred, name in zip([y_test, y_test, y_test, y_test, y_test, y_test], [y_predProba_svm_bal[:,1], y_predProba_lr_imb[:,1], y_predProba_lr_bal[:,1], y_predProba_svm_imb[:,1], y_predProba_tree_imb[:,1], y_predProba_tree_bal[:,1]], ['SVM balanced (SMOTE)', 'Logistic Regression unbalanced','Logistic Regression balanced (SMOTE)', 'SVM unbalanced', 'Tree unbalanced', 'Tree balanced (SMOTE)']):\n",
    "    fpr, tpr, _ = roc_curve(test, pred)\n",
    "    roc_auc = auc(fpr, tpr)\n",
    "    plt.plot(fpr, tpr, label='{}: AUC = {}'.format(name, round(roc_auc, 3)))\n",
    "    plt.legend(loc='best')\n",
    "    plt.plot([0,1],[0,1],color='black', linestyle='--')\n",
    "\n",
    "plt.title('ROC curve (Receiver Operating Characteristic)')    \n",
    "plt.ylabel('True Positive Rate (TPR)')\n",
    "plt.xlabel('False Positive Rate (FPR)')\n",
    "\n",
    "plt.show()"
   ]
  },
  {
   "cell_type": "code",
   "execution_count": null,
   "metadata": {},
   "outputs": [],
   "source": []
  }
 ],
 "metadata": {
  "kernelspec": {
   "display_name": "Python 3",
   "language": "python",
   "name": "python3"
  },
  "language_info": {
   "codemirror_mode": {
    "name": "ipython",
    "version": 3
   },
   "file_extension": ".py",
   "mimetype": "text/x-python",
   "name": "python",
   "nbconvert_exporter": "python",
   "pygments_lexer": "ipython3",
   "version": "3.9.5"
  }
 },
 "nbformat": 4,
 "nbformat_minor": 4
}
