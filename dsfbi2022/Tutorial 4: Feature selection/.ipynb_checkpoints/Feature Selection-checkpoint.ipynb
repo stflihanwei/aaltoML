{
 "cells": [
  {
   "cell_type": "markdown",
   "metadata": {},
   "source": [
    "**30E03000 - Data Science for Business I (2022)**"
   ]
  },
  {
   "cell_type": "markdown",
   "metadata": {},
   "source": [
    "# Tutorial 4: Feature Selection for Sparsity\n",
    "\n",
    "### Acknowledgement\n",
    "\n",
    "This tutorial on Subset Selection, Ridge Regression, and Lasso is based on pp. 244-247 and pp. 251-255 of \"Introduction to Statistical Learning with Applications in R\" by Gareth James, Daniela Witten, Trevor Hastie and Robert Tibshirani. The Python code has been adapted from R. Jordan Crouser at Smith College.\n",
    "\n",
    "### Overview \n",
    "\n",
    "In this tutorial, you will get acquainted with the **bias-variance trade-off** problem in linear regression and how it can be solved with (sequential) feature selection algorithms and regularization.\n",
    "\n",
    "<img src=\"Images/variancebias.png\" alt=\"Drawing\" style=\"width: 700px;\"/>\n",
    "\n",
    "The motivation behind feature selection algorithms is to automatically select a subset of features that is most relevant to the problem. The goal of feature selection is two-fold: We want to **improve the computational efficiency** and **reduce the generalization error** of the model by removing irrelevant features or noise.\n",
    "\n",
    "In this tutorial, we will discuss:\n",
    "- Best Subset Selection\n",
    "- Sequential Forward Selection (SFS)\n",
    "- Sequential Backward Selection (SBS)\n",
    "- Ridge Regression\n",
    "- Lasso\n",
    "\n",
    "### Problem setting\n",
    "\n",
    "In this tutorial, we are working with Baseball data that was collected over 2 seasons. We wish to **predict a baseball player’s salary** based on various statistics describing the performance in the previous year:\n",
    "\n",
    "- AtBat: Number of times at bat (season 1)\n",
    "- Hits: Number of hits (season 1)\n",
    "- HmRun: Number of home runs (season 1)\n",
    "- Runs: Number of runs (season 1)\n",
    "- RBI: Number of runs batted (season 1)\n",
    "- Walks: Number of walks (season 1)\n",
    "- Years: Number of years in the major leagues\n",
    "- CAtBat: Number of times at bat during his career\n",
    "- CHits: Number of hits during his career\n",
    "- CHmRun: Number of home runs during his career\n",
    "- CRuns: Number of runs during his career\n",
    "- CRBI: Number of runs batted in during his career\n",
    "- CWalks: Number of walks during his career\n",
    "- League: A factor with levels A and N indicating player's league (season 1)\n",
    "- Division: A factor with levels E and W indicating player's division (season 1)\n",
    "- PutOuts: Number of put outs (season 1)\n",
    "- Assists: Number of assists (season 1)\n",
    "- Errors: Number of errors (season 1)\n",
    "- Salary: 2nd season annual salary on opening day in thousands of dollars\n",
    "- NewLeague: A factor with levels A and N indicating player's league at the beginning of season 2\n",
    "\n",
    "**Source:** StatLib library at Carnegie Mellon University. \n",
    "\n",
    "<table><tr>\n",
    "<td> <img src=\"Images/hit.jpeg\" alt=\"Drawing\" style=\"width: 250px;\"/> </td>\n",
    "<td> <img src=\"Images/court.jpg\" alt=\"Drawing\" style=\"width: 450px;\"/> </td>\n",
    "    <td> <img src=\"Images/ball.jpeg\" alt=\"Drawing\" style=\"width: 270px;\"/> </td>\n",
    "</tr></table>"
   ]
  },
  {
   "cell_type": "markdown",
   "metadata": {},
   "source": [
    "## Import libraries"
   ]
  },
  {
   "cell_type": "code",
   "execution_count": 1,
   "metadata": {},
   "outputs": [],
   "source": [
    "%matplotlib inline\n",
    "import pandas as pd\n",
    "import numpy as np\n",
    "import itertools\n",
    "import time\n",
    "import statsmodels.api as sm\n",
    "import matplotlib.pyplot as plt\n",
    "\n",
    "from sklearn.preprocessing import scale \n",
    "from sklearn.model_selection import train_test_split\n",
    "from sklearn.linear_model import Ridge, RidgeCV, Lasso, LassoCV\n",
    "from sklearn.metrics import mean_squared_error"
   ]
  },
  {
   "cell_type": "code",
   "execution_count": 2,
   "metadata": {},
   "outputs": [],
   "source": [
    "%config Completer.use_jedi = False"
   ]
  },
  {
   "cell_type": "markdown",
   "metadata": {},
   "source": [
    "## Load Data"
   ]
  },
  {
   "cell_type": "code",
   "execution_count": 3,
   "metadata": {},
   "outputs": [
    {
     "data": {
      "text/html": [
       "<style type=\"text/css\">\n",
       "</style>\n",
       "<table id=\"T_ffb68_\">\n",
       "  <thead>\n",
       "    <tr>\n",
       "      <th class=\"blank level0\" >&nbsp;</th>\n",
       "      <th class=\"col_heading level0 col0\" >player</th>\n",
       "      <th class=\"col_heading level0 col1\" >AtBat</th>\n",
       "      <th class=\"col_heading level0 col2\" >Hits</th>\n",
       "      <th class=\"col_heading level0 col3\" >HmRun</th>\n",
       "      <th class=\"col_heading level0 col4\" >Runs</th>\n",
       "      <th class=\"col_heading level0 col5\" >RBI</th>\n",
       "      <th class=\"col_heading level0 col6\" >Walks</th>\n",
       "      <th class=\"col_heading level0 col7\" >Years</th>\n",
       "      <th class=\"col_heading level0 col8\" >CAtBat</th>\n",
       "      <th class=\"col_heading level0 col9\" >CHits</th>\n",
       "      <th class=\"col_heading level0 col10\" >CHmRun</th>\n",
       "      <th class=\"col_heading level0 col11\" >CRuns</th>\n",
       "      <th class=\"col_heading level0 col12\" >CRBI</th>\n",
       "      <th class=\"col_heading level0 col13\" >CWalks</th>\n",
       "      <th class=\"col_heading level0 col14\" >League</th>\n",
       "      <th class=\"col_heading level0 col15\" >Division</th>\n",
       "      <th class=\"col_heading level0 col16\" >PutOuts</th>\n",
       "      <th class=\"col_heading level0 col17\" >Assists</th>\n",
       "      <th class=\"col_heading level0 col18\" >Errors</th>\n",
       "      <th class=\"col_heading level0 col19\" >Salary</th>\n",
       "      <th class=\"col_heading level0 col20\" >NewLeague</th>\n",
       "    </tr>\n",
       "  </thead>\n",
       "  <tbody>\n",
       "    <tr>\n",
       "      <th id=\"T_ffb68_level0_row0\" class=\"row_heading level0 row0\" >0</th>\n",
       "      <td id=\"T_ffb68_row0_col0\" class=\"data row0 col0\" >-Andy Allanson</td>\n",
       "      <td id=\"T_ffb68_row0_col1\" class=\"data row0 col1\" >293</td>\n",
       "      <td id=\"T_ffb68_row0_col2\" class=\"data row0 col2\" >66</td>\n",
       "      <td id=\"T_ffb68_row0_col3\" class=\"data row0 col3\" >1</td>\n",
       "      <td id=\"T_ffb68_row0_col4\" class=\"data row0 col4\" >30</td>\n",
       "      <td id=\"T_ffb68_row0_col5\" class=\"data row0 col5\" >29</td>\n",
       "      <td id=\"T_ffb68_row0_col6\" class=\"data row0 col6\" >14</td>\n",
       "      <td id=\"T_ffb68_row0_col7\" class=\"data row0 col7\" >1</td>\n",
       "      <td id=\"T_ffb68_row0_col8\" class=\"data row0 col8\" >293</td>\n",
       "      <td id=\"T_ffb68_row0_col9\" class=\"data row0 col9\" >66</td>\n",
       "      <td id=\"T_ffb68_row0_col10\" class=\"data row0 col10\" >1</td>\n",
       "      <td id=\"T_ffb68_row0_col11\" class=\"data row0 col11\" >30</td>\n",
       "      <td id=\"T_ffb68_row0_col12\" class=\"data row0 col12\" >29</td>\n",
       "      <td id=\"T_ffb68_row0_col13\" class=\"data row0 col13\" >14</td>\n",
       "      <td id=\"T_ffb68_row0_col14\" class=\"data row0 col14\" >A</td>\n",
       "      <td id=\"T_ffb68_row0_col15\" class=\"data row0 col15\" >E</td>\n",
       "      <td id=\"T_ffb68_row0_col16\" class=\"data row0 col16\" >446</td>\n",
       "      <td id=\"T_ffb68_row0_col17\" class=\"data row0 col17\" >33</td>\n",
       "      <td id=\"T_ffb68_row0_col18\" class=\"data row0 col18\" >20</td>\n",
       "      <td id=\"T_ffb68_row0_col19\" class=\"data row0 col19\" >nan</td>\n",
       "      <td id=\"T_ffb68_row0_col20\" class=\"data row0 col20\" >A</td>\n",
       "    </tr>\n",
       "    <tr>\n",
       "      <th id=\"T_ffb68_level0_row1\" class=\"row_heading level0 row1\" >1</th>\n",
       "      <td id=\"T_ffb68_row1_col0\" class=\"data row1 col0\" >-Alan Ashby</td>\n",
       "      <td id=\"T_ffb68_row1_col1\" class=\"data row1 col1\" >315</td>\n",
       "      <td id=\"T_ffb68_row1_col2\" class=\"data row1 col2\" >81</td>\n",
       "      <td id=\"T_ffb68_row1_col3\" class=\"data row1 col3\" >7</td>\n",
       "      <td id=\"T_ffb68_row1_col4\" class=\"data row1 col4\" >24</td>\n",
       "      <td id=\"T_ffb68_row1_col5\" class=\"data row1 col5\" >38</td>\n",
       "      <td id=\"T_ffb68_row1_col6\" class=\"data row1 col6\" >39</td>\n",
       "      <td id=\"T_ffb68_row1_col7\" class=\"data row1 col7\" >14</td>\n",
       "      <td id=\"T_ffb68_row1_col8\" class=\"data row1 col8\" >3449</td>\n",
       "      <td id=\"T_ffb68_row1_col9\" class=\"data row1 col9\" >835</td>\n",
       "      <td id=\"T_ffb68_row1_col10\" class=\"data row1 col10\" >69</td>\n",
       "      <td id=\"T_ffb68_row1_col11\" class=\"data row1 col11\" >321</td>\n",
       "      <td id=\"T_ffb68_row1_col12\" class=\"data row1 col12\" >414</td>\n",
       "      <td id=\"T_ffb68_row1_col13\" class=\"data row1 col13\" >375</td>\n",
       "      <td id=\"T_ffb68_row1_col14\" class=\"data row1 col14\" >N</td>\n",
       "      <td id=\"T_ffb68_row1_col15\" class=\"data row1 col15\" >W</td>\n",
       "      <td id=\"T_ffb68_row1_col16\" class=\"data row1 col16\" >632</td>\n",
       "      <td id=\"T_ffb68_row1_col17\" class=\"data row1 col17\" >43</td>\n",
       "      <td id=\"T_ffb68_row1_col18\" class=\"data row1 col18\" >10</td>\n",
       "      <td id=\"T_ffb68_row1_col19\" class=\"data row1 col19\" >475.000000</td>\n",
       "      <td id=\"T_ffb68_row1_col20\" class=\"data row1 col20\" >N</td>\n",
       "    </tr>\n",
       "    <tr>\n",
       "      <th id=\"T_ffb68_level0_row2\" class=\"row_heading level0 row2\" >2</th>\n",
       "      <td id=\"T_ffb68_row2_col0\" class=\"data row2 col0\" >-Alvin Davis</td>\n",
       "      <td id=\"T_ffb68_row2_col1\" class=\"data row2 col1\" >479</td>\n",
       "      <td id=\"T_ffb68_row2_col2\" class=\"data row2 col2\" >130</td>\n",
       "      <td id=\"T_ffb68_row2_col3\" class=\"data row2 col3\" >18</td>\n",
       "      <td id=\"T_ffb68_row2_col4\" class=\"data row2 col4\" >66</td>\n",
       "      <td id=\"T_ffb68_row2_col5\" class=\"data row2 col5\" >72</td>\n",
       "      <td id=\"T_ffb68_row2_col6\" class=\"data row2 col6\" >76</td>\n",
       "      <td id=\"T_ffb68_row2_col7\" class=\"data row2 col7\" >3</td>\n",
       "      <td id=\"T_ffb68_row2_col8\" class=\"data row2 col8\" >1624</td>\n",
       "      <td id=\"T_ffb68_row2_col9\" class=\"data row2 col9\" >457</td>\n",
       "      <td id=\"T_ffb68_row2_col10\" class=\"data row2 col10\" >63</td>\n",
       "      <td id=\"T_ffb68_row2_col11\" class=\"data row2 col11\" >224</td>\n",
       "      <td id=\"T_ffb68_row2_col12\" class=\"data row2 col12\" >266</td>\n",
       "      <td id=\"T_ffb68_row2_col13\" class=\"data row2 col13\" >263</td>\n",
       "      <td id=\"T_ffb68_row2_col14\" class=\"data row2 col14\" >A</td>\n",
       "      <td id=\"T_ffb68_row2_col15\" class=\"data row2 col15\" >W</td>\n",
       "      <td id=\"T_ffb68_row2_col16\" class=\"data row2 col16\" >880</td>\n",
       "      <td id=\"T_ffb68_row2_col17\" class=\"data row2 col17\" >82</td>\n",
       "      <td id=\"T_ffb68_row2_col18\" class=\"data row2 col18\" >14</td>\n",
       "      <td id=\"T_ffb68_row2_col19\" class=\"data row2 col19\" >480.000000</td>\n",
       "      <td id=\"T_ffb68_row2_col20\" class=\"data row2 col20\" >A</td>\n",
       "    </tr>\n",
       "    <tr>\n",
       "      <th id=\"T_ffb68_level0_row3\" class=\"row_heading level0 row3\" >3</th>\n",
       "      <td id=\"T_ffb68_row3_col0\" class=\"data row3 col0\" >-Andre Dawson</td>\n",
       "      <td id=\"T_ffb68_row3_col1\" class=\"data row3 col1\" >496</td>\n",
       "      <td id=\"T_ffb68_row3_col2\" class=\"data row3 col2\" >141</td>\n",
       "      <td id=\"T_ffb68_row3_col3\" class=\"data row3 col3\" >20</td>\n",
       "      <td id=\"T_ffb68_row3_col4\" class=\"data row3 col4\" >65</td>\n",
       "      <td id=\"T_ffb68_row3_col5\" class=\"data row3 col5\" >78</td>\n",
       "      <td id=\"T_ffb68_row3_col6\" class=\"data row3 col6\" >37</td>\n",
       "      <td id=\"T_ffb68_row3_col7\" class=\"data row3 col7\" >11</td>\n",
       "      <td id=\"T_ffb68_row3_col8\" class=\"data row3 col8\" >5628</td>\n",
       "      <td id=\"T_ffb68_row3_col9\" class=\"data row3 col9\" >1575</td>\n",
       "      <td id=\"T_ffb68_row3_col10\" class=\"data row3 col10\" >225</td>\n",
       "      <td id=\"T_ffb68_row3_col11\" class=\"data row3 col11\" >828</td>\n",
       "      <td id=\"T_ffb68_row3_col12\" class=\"data row3 col12\" >838</td>\n",
       "      <td id=\"T_ffb68_row3_col13\" class=\"data row3 col13\" >354</td>\n",
       "      <td id=\"T_ffb68_row3_col14\" class=\"data row3 col14\" >N</td>\n",
       "      <td id=\"T_ffb68_row3_col15\" class=\"data row3 col15\" >E</td>\n",
       "      <td id=\"T_ffb68_row3_col16\" class=\"data row3 col16\" >200</td>\n",
       "      <td id=\"T_ffb68_row3_col17\" class=\"data row3 col17\" >11</td>\n",
       "      <td id=\"T_ffb68_row3_col18\" class=\"data row3 col18\" >3</td>\n",
       "      <td id=\"T_ffb68_row3_col19\" class=\"data row3 col19\" >500.000000</td>\n",
       "      <td id=\"T_ffb68_row3_col20\" class=\"data row3 col20\" >N</td>\n",
       "    </tr>\n",
       "    <tr>\n",
       "      <th id=\"T_ffb68_level0_row4\" class=\"row_heading level0 row4\" >4</th>\n",
       "      <td id=\"T_ffb68_row4_col0\" class=\"data row4 col0\" >-Andres Galarraga</td>\n",
       "      <td id=\"T_ffb68_row4_col1\" class=\"data row4 col1\" >321</td>\n",
       "      <td id=\"T_ffb68_row4_col2\" class=\"data row4 col2\" >87</td>\n",
       "      <td id=\"T_ffb68_row4_col3\" class=\"data row4 col3\" >10</td>\n",
       "      <td id=\"T_ffb68_row4_col4\" class=\"data row4 col4\" >39</td>\n",
       "      <td id=\"T_ffb68_row4_col5\" class=\"data row4 col5\" >42</td>\n",
       "      <td id=\"T_ffb68_row4_col6\" class=\"data row4 col6\" >30</td>\n",
       "      <td id=\"T_ffb68_row4_col7\" class=\"data row4 col7\" >2</td>\n",
       "      <td id=\"T_ffb68_row4_col8\" class=\"data row4 col8\" >396</td>\n",
       "      <td id=\"T_ffb68_row4_col9\" class=\"data row4 col9\" >101</td>\n",
       "      <td id=\"T_ffb68_row4_col10\" class=\"data row4 col10\" >12</td>\n",
       "      <td id=\"T_ffb68_row4_col11\" class=\"data row4 col11\" >48</td>\n",
       "      <td id=\"T_ffb68_row4_col12\" class=\"data row4 col12\" >46</td>\n",
       "      <td id=\"T_ffb68_row4_col13\" class=\"data row4 col13\" >33</td>\n",
       "      <td id=\"T_ffb68_row4_col14\" class=\"data row4 col14\" >N</td>\n",
       "      <td id=\"T_ffb68_row4_col15\" class=\"data row4 col15\" >E</td>\n",
       "      <td id=\"T_ffb68_row4_col16\" class=\"data row4 col16\" >805</td>\n",
       "      <td id=\"T_ffb68_row4_col17\" class=\"data row4 col17\" >40</td>\n",
       "      <td id=\"T_ffb68_row4_col18\" class=\"data row4 col18\" >4</td>\n",
       "      <td id=\"T_ffb68_row4_col19\" class=\"data row4 col19\" >91.500000</td>\n",
       "      <td id=\"T_ffb68_row4_col20\" class=\"data row4 col20\" >N</td>\n",
       "    </tr>\n",
       "  </tbody>\n",
       "</table>\n"
      ],
      "text/plain": [
       "<pandas.io.formats.style.Styler at 0x7fea1c7abfd0>"
      ]
     },
     "execution_count": 3,
     "metadata": {},
     "output_type": "execute_result"
    }
   ],
   "source": [
    "data = pd.read_csv('hitters.csv')\n",
    "data.head().style #Call the head() function to see how the dataset looks (.style() shows all columns)"
   ]
  },
  {
   "cell_type": "code",
   "execution_count": 4,
   "metadata": {},
   "outputs": [
    {
     "name": "stdout",
     "output_type": "stream",
     "text": [
      "Dimensions of original data: (322, 21)\n"
     ]
    }
   ],
   "source": [
    "# Print the dimensions of the original Hitters data (322 rows x 20 columns)\n",
    "print(\"Dimensions of original data:\", data.shape)"
   ]
  },
  {
   "cell_type": "code",
   "execution_count": 5,
   "metadata": {},
   "outputs": [
    {
     "name": "stdout",
     "output_type": "stream",
     "text": [
      "<class 'pandas.core.frame.DataFrame'>\n",
      "RangeIndex: 322 entries, 0 to 321\n",
      "Data columns (total 21 columns):\n",
      " #   Column     Non-Null Count  Dtype  \n",
      "---  ------     --------------  -----  \n",
      " 0   player     322 non-null    object \n",
      " 1   AtBat      322 non-null    int64  \n",
      " 2   Hits       322 non-null    int64  \n",
      " 3   HmRun      322 non-null    int64  \n",
      " 4   Runs       322 non-null    int64  \n",
      " 5   RBI        322 non-null    int64  \n",
      " 6   Walks      322 non-null    int64  \n",
      " 7   Years      322 non-null    int64  \n",
      " 8   CAtBat     322 non-null    int64  \n",
      " 9   CHits      322 non-null    int64  \n",
      " 10  CHmRun     322 non-null    int64  \n",
      " 11  CRuns      322 non-null    int64  \n",
      " 12  CRBI       322 non-null    int64  \n",
      " 13  CWalks     322 non-null    int64  \n",
      " 14  League     322 non-null    object \n",
      " 15  Division   322 non-null    object \n",
      " 16  PutOuts    322 non-null    int64  \n",
      " 17  Assists    322 non-null    int64  \n",
      " 18  Errors     322 non-null    int64  \n",
      " 19  Salary     263 non-null    float64\n",
      " 20  NewLeague  322 non-null    object \n",
      "dtypes: float64(1), int64(16), object(4)\n",
      "memory usage: 53.0+ KB\n"
     ]
    }
   ],
   "source": [
    "data.info()"
   ]
  },
  {
   "cell_type": "markdown",
   "metadata": {},
   "source": [
    "Calling `data.info()`, we note that the `Salary` **variable is missing** for 59 players (263/322 entries non-null). Before doing any kind of feature selection, we have to remove the NaN values."
   ]
  },
  {
   "cell_type": "markdown",
   "metadata": {},
   "source": [
    "## Preprocessing\n",
    "\n",
    "As usual, we preprocess the data to allow for the subsequent modeling steps:\n",
    "- remove all entries where (at least) one variable is NaN, using Panda's `dropna()` function\n",
    "- perfrom one-hot-encoding for all string variables, using Panda's `get_dummies()` function\n",
    "- drop columns with no information value (player names) and columns that have been one-hot-encoded using `drop()`\n",
    "- merge the data with the one-hot-encoded dummy values, using `concat()`"
   ]
  },
  {
   "cell_type": "code",
   "execution_count": 6,
   "metadata": {},
   "outputs": [
    {
     "data": {
      "text/plain": [
       "(263, 21)"
      ]
     },
     "execution_count": 6,
     "metadata": {},
     "output_type": "execute_result"
    }
   ],
   "source": [
    "#Drop rows where (at least) one variable is NaN -> removes Salary = NaN values\n",
    "data = data.dropna() \n",
    "data.shape"
   ]
  },
  {
   "cell_type": "code",
   "execution_count": 7,
   "metadata": {},
   "outputs": [],
   "source": [
    "# Drop the player column (no predictive value)\n",
    "data = data.drop(['player'], axis=1)"
   ]
  },
  {
   "cell_type": "markdown",
   "metadata": {},
   "source": [
    "<font color='red'>**Beware of multicollinearity when dealing with Regression models**</font>"
   ]
  },
  {
   "cell_type": "code",
   "execution_count": 8,
   "metadata": {},
   "outputs": [
    {
     "data": {
      "text/html": [
       "<div>\n",
       "<style scoped>\n",
       "    .dataframe tbody tr th:only-of-type {\n",
       "        vertical-align: middle;\n",
       "    }\n",
       "\n",
       "    .dataframe tbody tr th {\n",
       "        vertical-align: top;\n",
       "    }\n",
       "\n",
       "    .dataframe thead th {\n",
       "        text-align: right;\n",
       "    }\n",
       "</style>\n",
       "<table border=\"1\" class=\"dataframe\">\n",
       "  <thead>\n",
       "    <tr style=\"text-align: right;\">\n",
       "      <th></th>\n",
       "      <th>League_A</th>\n",
       "      <th>League_N</th>\n",
       "      <th>Division_E</th>\n",
       "      <th>Division_W</th>\n",
       "      <th>NewLeague_A</th>\n",
       "      <th>NewLeague_N</th>\n",
       "    </tr>\n",
       "  </thead>\n",
       "  <tbody>\n",
       "    <tr>\n",
       "      <th>1</th>\n",
       "      <td>0</td>\n",
       "      <td>1</td>\n",
       "      <td>0</td>\n",
       "      <td>1</td>\n",
       "      <td>0</td>\n",
       "      <td>1</td>\n",
       "    </tr>\n",
       "    <tr>\n",
       "      <th>2</th>\n",
       "      <td>1</td>\n",
       "      <td>0</td>\n",
       "      <td>0</td>\n",
       "      <td>1</td>\n",
       "      <td>1</td>\n",
       "      <td>0</td>\n",
       "    </tr>\n",
       "    <tr>\n",
       "      <th>3</th>\n",
       "      <td>0</td>\n",
       "      <td>1</td>\n",
       "      <td>1</td>\n",
       "      <td>0</td>\n",
       "      <td>0</td>\n",
       "      <td>1</td>\n",
       "    </tr>\n",
       "    <tr>\n",
       "      <th>4</th>\n",
       "      <td>0</td>\n",
       "      <td>1</td>\n",
       "      <td>1</td>\n",
       "      <td>0</td>\n",
       "      <td>0</td>\n",
       "      <td>1</td>\n",
       "    </tr>\n",
       "    <tr>\n",
       "      <th>5</th>\n",
       "      <td>1</td>\n",
       "      <td>0</td>\n",
       "      <td>0</td>\n",
       "      <td>1</td>\n",
       "      <td>1</td>\n",
       "      <td>0</td>\n",
       "    </tr>\n",
       "  </tbody>\n",
       "</table>\n",
       "</div>"
      ],
      "text/plain": [
       "   League_A  League_N  Division_E  Division_W  NewLeague_A  NewLeague_N\n",
       "1         0         1           0           1            0            1\n",
       "2         1         0           0           1            1            0\n",
       "3         0         1           1           0            0            1\n",
       "4         0         1           1           0            0            1\n",
       "5         1         0           0           1            1            0"
      ]
     },
     "execution_count": 8,
     "metadata": {},
     "output_type": "execute_result"
    }
   ],
   "source": [
    "#Use panda`s \"get_dummies()\" function to one-hot-encode the string variables into a new dataframe \n",
    "pd.get_dummies(data[['League', 'Division', 'NewLeague']]).head()"
   ]
  },
  {
   "cell_type": "code",
   "execution_count": 9,
   "metadata": {},
   "outputs": [],
   "source": [
    "#Use the drop_first=True argument to fix the multicollinearity issue when performing one-hot encoding\n",
    "data = pd.get_dummies(data, columns=['League', 'Division', 'NewLeague'], prefix=['League', 'Division', 'NewLeague'],\n",
    "                      drop_first=True)"
   ]
  },
  {
   "cell_type": "code",
   "execution_count": 10,
   "metadata": {},
   "outputs": [
    {
     "data": {
      "text/html": [
       "<style type=\"text/css\">\n",
       "</style>\n",
       "<table id=\"T_f199e_\">\n",
       "  <thead>\n",
       "    <tr>\n",
       "      <th class=\"blank level0\" >&nbsp;</th>\n",
       "      <th class=\"col_heading level0 col0\" >AtBat</th>\n",
       "      <th class=\"col_heading level0 col1\" >Hits</th>\n",
       "      <th class=\"col_heading level0 col2\" >HmRun</th>\n",
       "      <th class=\"col_heading level0 col3\" >Runs</th>\n",
       "      <th class=\"col_heading level0 col4\" >RBI</th>\n",
       "      <th class=\"col_heading level0 col5\" >Walks</th>\n",
       "      <th class=\"col_heading level0 col6\" >Years</th>\n",
       "      <th class=\"col_heading level0 col7\" >CAtBat</th>\n",
       "      <th class=\"col_heading level0 col8\" >CHits</th>\n",
       "      <th class=\"col_heading level0 col9\" >CHmRun</th>\n",
       "      <th class=\"col_heading level0 col10\" >CRuns</th>\n",
       "      <th class=\"col_heading level0 col11\" >CRBI</th>\n",
       "      <th class=\"col_heading level0 col12\" >CWalks</th>\n",
       "      <th class=\"col_heading level0 col13\" >PutOuts</th>\n",
       "      <th class=\"col_heading level0 col14\" >Assists</th>\n",
       "      <th class=\"col_heading level0 col15\" >Errors</th>\n",
       "      <th class=\"col_heading level0 col16\" >Salary</th>\n",
       "      <th class=\"col_heading level0 col17\" >League_N</th>\n",
       "      <th class=\"col_heading level0 col18\" >Division_W</th>\n",
       "      <th class=\"col_heading level0 col19\" >NewLeague_N</th>\n",
       "    </tr>\n",
       "  </thead>\n",
       "  <tbody>\n",
       "    <tr>\n",
       "      <th id=\"T_f199e_level0_row0\" class=\"row_heading level0 row0\" >1</th>\n",
       "      <td id=\"T_f199e_row0_col0\" class=\"data row0 col0\" >315</td>\n",
       "      <td id=\"T_f199e_row0_col1\" class=\"data row0 col1\" >81</td>\n",
       "      <td id=\"T_f199e_row0_col2\" class=\"data row0 col2\" >7</td>\n",
       "      <td id=\"T_f199e_row0_col3\" class=\"data row0 col3\" >24</td>\n",
       "      <td id=\"T_f199e_row0_col4\" class=\"data row0 col4\" >38</td>\n",
       "      <td id=\"T_f199e_row0_col5\" class=\"data row0 col5\" >39</td>\n",
       "      <td id=\"T_f199e_row0_col6\" class=\"data row0 col6\" >14</td>\n",
       "      <td id=\"T_f199e_row0_col7\" class=\"data row0 col7\" >3449</td>\n",
       "      <td id=\"T_f199e_row0_col8\" class=\"data row0 col8\" >835</td>\n",
       "      <td id=\"T_f199e_row0_col9\" class=\"data row0 col9\" >69</td>\n",
       "      <td id=\"T_f199e_row0_col10\" class=\"data row0 col10\" >321</td>\n",
       "      <td id=\"T_f199e_row0_col11\" class=\"data row0 col11\" >414</td>\n",
       "      <td id=\"T_f199e_row0_col12\" class=\"data row0 col12\" >375</td>\n",
       "      <td id=\"T_f199e_row0_col13\" class=\"data row0 col13\" >632</td>\n",
       "      <td id=\"T_f199e_row0_col14\" class=\"data row0 col14\" >43</td>\n",
       "      <td id=\"T_f199e_row0_col15\" class=\"data row0 col15\" >10</td>\n",
       "      <td id=\"T_f199e_row0_col16\" class=\"data row0 col16\" >475.000000</td>\n",
       "      <td id=\"T_f199e_row0_col17\" class=\"data row0 col17\" >1</td>\n",
       "      <td id=\"T_f199e_row0_col18\" class=\"data row0 col18\" >1</td>\n",
       "      <td id=\"T_f199e_row0_col19\" class=\"data row0 col19\" >1</td>\n",
       "    </tr>\n",
       "    <tr>\n",
       "      <th id=\"T_f199e_level0_row1\" class=\"row_heading level0 row1\" >2</th>\n",
       "      <td id=\"T_f199e_row1_col0\" class=\"data row1 col0\" >479</td>\n",
       "      <td id=\"T_f199e_row1_col1\" class=\"data row1 col1\" >130</td>\n",
       "      <td id=\"T_f199e_row1_col2\" class=\"data row1 col2\" >18</td>\n",
       "      <td id=\"T_f199e_row1_col3\" class=\"data row1 col3\" >66</td>\n",
       "      <td id=\"T_f199e_row1_col4\" class=\"data row1 col4\" >72</td>\n",
       "      <td id=\"T_f199e_row1_col5\" class=\"data row1 col5\" >76</td>\n",
       "      <td id=\"T_f199e_row1_col6\" class=\"data row1 col6\" >3</td>\n",
       "      <td id=\"T_f199e_row1_col7\" class=\"data row1 col7\" >1624</td>\n",
       "      <td id=\"T_f199e_row1_col8\" class=\"data row1 col8\" >457</td>\n",
       "      <td id=\"T_f199e_row1_col9\" class=\"data row1 col9\" >63</td>\n",
       "      <td id=\"T_f199e_row1_col10\" class=\"data row1 col10\" >224</td>\n",
       "      <td id=\"T_f199e_row1_col11\" class=\"data row1 col11\" >266</td>\n",
       "      <td id=\"T_f199e_row1_col12\" class=\"data row1 col12\" >263</td>\n",
       "      <td id=\"T_f199e_row1_col13\" class=\"data row1 col13\" >880</td>\n",
       "      <td id=\"T_f199e_row1_col14\" class=\"data row1 col14\" >82</td>\n",
       "      <td id=\"T_f199e_row1_col15\" class=\"data row1 col15\" >14</td>\n",
       "      <td id=\"T_f199e_row1_col16\" class=\"data row1 col16\" >480.000000</td>\n",
       "      <td id=\"T_f199e_row1_col17\" class=\"data row1 col17\" >0</td>\n",
       "      <td id=\"T_f199e_row1_col18\" class=\"data row1 col18\" >1</td>\n",
       "      <td id=\"T_f199e_row1_col19\" class=\"data row1 col19\" >0</td>\n",
       "    </tr>\n",
       "    <tr>\n",
       "      <th id=\"T_f199e_level0_row2\" class=\"row_heading level0 row2\" >3</th>\n",
       "      <td id=\"T_f199e_row2_col0\" class=\"data row2 col0\" >496</td>\n",
       "      <td id=\"T_f199e_row2_col1\" class=\"data row2 col1\" >141</td>\n",
       "      <td id=\"T_f199e_row2_col2\" class=\"data row2 col2\" >20</td>\n",
       "      <td id=\"T_f199e_row2_col3\" class=\"data row2 col3\" >65</td>\n",
       "      <td id=\"T_f199e_row2_col4\" class=\"data row2 col4\" >78</td>\n",
       "      <td id=\"T_f199e_row2_col5\" class=\"data row2 col5\" >37</td>\n",
       "      <td id=\"T_f199e_row2_col6\" class=\"data row2 col6\" >11</td>\n",
       "      <td id=\"T_f199e_row2_col7\" class=\"data row2 col7\" >5628</td>\n",
       "      <td id=\"T_f199e_row2_col8\" class=\"data row2 col8\" >1575</td>\n",
       "      <td id=\"T_f199e_row2_col9\" class=\"data row2 col9\" >225</td>\n",
       "      <td id=\"T_f199e_row2_col10\" class=\"data row2 col10\" >828</td>\n",
       "      <td id=\"T_f199e_row2_col11\" class=\"data row2 col11\" >838</td>\n",
       "      <td id=\"T_f199e_row2_col12\" class=\"data row2 col12\" >354</td>\n",
       "      <td id=\"T_f199e_row2_col13\" class=\"data row2 col13\" >200</td>\n",
       "      <td id=\"T_f199e_row2_col14\" class=\"data row2 col14\" >11</td>\n",
       "      <td id=\"T_f199e_row2_col15\" class=\"data row2 col15\" >3</td>\n",
       "      <td id=\"T_f199e_row2_col16\" class=\"data row2 col16\" >500.000000</td>\n",
       "      <td id=\"T_f199e_row2_col17\" class=\"data row2 col17\" >1</td>\n",
       "      <td id=\"T_f199e_row2_col18\" class=\"data row2 col18\" >0</td>\n",
       "      <td id=\"T_f199e_row2_col19\" class=\"data row2 col19\" >1</td>\n",
       "    </tr>\n",
       "    <tr>\n",
       "      <th id=\"T_f199e_level0_row3\" class=\"row_heading level0 row3\" >4</th>\n",
       "      <td id=\"T_f199e_row3_col0\" class=\"data row3 col0\" >321</td>\n",
       "      <td id=\"T_f199e_row3_col1\" class=\"data row3 col1\" >87</td>\n",
       "      <td id=\"T_f199e_row3_col2\" class=\"data row3 col2\" >10</td>\n",
       "      <td id=\"T_f199e_row3_col3\" class=\"data row3 col3\" >39</td>\n",
       "      <td id=\"T_f199e_row3_col4\" class=\"data row3 col4\" >42</td>\n",
       "      <td id=\"T_f199e_row3_col5\" class=\"data row3 col5\" >30</td>\n",
       "      <td id=\"T_f199e_row3_col6\" class=\"data row3 col6\" >2</td>\n",
       "      <td id=\"T_f199e_row3_col7\" class=\"data row3 col7\" >396</td>\n",
       "      <td id=\"T_f199e_row3_col8\" class=\"data row3 col8\" >101</td>\n",
       "      <td id=\"T_f199e_row3_col9\" class=\"data row3 col9\" >12</td>\n",
       "      <td id=\"T_f199e_row3_col10\" class=\"data row3 col10\" >48</td>\n",
       "      <td id=\"T_f199e_row3_col11\" class=\"data row3 col11\" >46</td>\n",
       "      <td id=\"T_f199e_row3_col12\" class=\"data row3 col12\" >33</td>\n",
       "      <td id=\"T_f199e_row3_col13\" class=\"data row3 col13\" >805</td>\n",
       "      <td id=\"T_f199e_row3_col14\" class=\"data row3 col14\" >40</td>\n",
       "      <td id=\"T_f199e_row3_col15\" class=\"data row3 col15\" >4</td>\n",
       "      <td id=\"T_f199e_row3_col16\" class=\"data row3 col16\" >91.500000</td>\n",
       "      <td id=\"T_f199e_row3_col17\" class=\"data row3 col17\" >1</td>\n",
       "      <td id=\"T_f199e_row3_col18\" class=\"data row3 col18\" >0</td>\n",
       "      <td id=\"T_f199e_row3_col19\" class=\"data row3 col19\" >1</td>\n",
       "    </tr>\n",
       "    <tr>\n",
       "      <th id=\"T_f199e_level0_row4\" class=\"row_heading level0 row4\" >5</th>\n",
       "      <td id=\"T_f199e_row4_col0\" class=\"data row4 col0\" >594</td>\n",
       "      <td id=\"T_f199e_row4_col1\" class=\"data row4 col1\" >169</td>\n",
       "      <td id=\"T_f199e_row4_col2\" class=\"data row4 col2\" >4</td>\n",
       "      <td id=\"T_f199e_row4_col3\" class=\"data row4 col3\" >74</td>\n",
       "      <td id=\"T_f199e_row4_col4\" class=\"data row4 col4\" >51</td>\n",
       "      <td id=\"T_f199e_row4_col5\" class=\"data row4 col5\" >35</td>\n",
       "      <td id=\"T_f199e_row4_col6\" class=\"data row4 col6\" >11</td>\n",
       "      <td id=\"T_f199e_row4_col7\" class=\"data row4 col7\" >4408</td>\n",
       "      <td id=\"T_f199e_row4_col8\" class=\"data row4 col8\" >1133</td>\n",
       "      <td id=\"T_f199e_row4_col9\" class=\"data row4 col9\" >19</td>\n",
       "      <td id=\"T_f199e_row4_col10\" class=\"data row4 col10\" >501</td>\n",
       "      <td id=\"T_f199e_row4_col11\" class=\"data row4 col11\" >336</td>\n",
       "      <td id=\"T_f199e_row4_col12\" class=\"data row4 col12\" >194</td>\n",
       "      <td id=\"T_f199e_row4_col13\" class=\"data row4 col13\" >282</td>\n",
       "      <td id=\"T_f199e_row4_col14\" class=\"data row4 col14\" >421</td>\n",
       "      <td id=\"T_f199e_row4_col15\" class=\"data row4 col15\" >25</td>\n",
       "      <td id=\"T_f199e_row4_col16\" class=\"data row4 col16\" >750.000000</td>\n",
       "      <td id=\"T_f199e_row4_col17\" class=\"data row4 col17\" >0</td>\n",
       "      <td id=\"T_f199e_row4_col18\" class=\"data row4 col18\" >1</td>\n",
       "      <td id=\"T_f199e_row4_col19\" class=\"data row4 col19\" >0</td>\n",
       "    </tr>\n",
       "  </tbody>\n",
       "</table>\n"
      ],
      "text/plain": [
       "<pandas.io.formats.style.Styler at 0x7fe9d662f220>"
      ]
     },
     "execution_count": 10,
     "metadata": {},
     "output_type": "execute_result"
    }
   ],
   "source": [
    "data.head().style"
   ]
  },
  {
   "cell_type": "code",
   "execution_count": 11,
   "metadata": {},
   "outputs": [
    {
     "name": "stdout",
     "output_type": "stream",
     "text": [
      "Dimensions of modified data: (263, 20)\n"
     ]
    }
   ],
   "source": [
    "# Print the dimensions of the modified Hitters data (263 rows x 20 columns)\n",
    "print(\"Dimensions of modified data:\", data.shape)"
   ]
  },
  {
   "cell_type": "markdown",
   "metadata": {},
   "source": [
    "Next, we create a feature dataframe `X` and a target vector `y`."
   ]
  },
  {
   "cell_type": "code",
   "execution_count": 12,
   "metadata": {},
   "outputs": [],
   "source": [
    "y = data['Salary'].values #define target variable \n",
    "X = data.loc[:, data.columns != 'Salary'] #define feature matrix"
   ]
  },
  {
   "cell_type": "code",
   "execution_count": 13,
   "metadata": {},
   "outputs": [],
   "source": [
    "X = sm.add_constant(X)"
   ]
  },
  {
   "cell_type": "markdown",
   "metadata": {},
   "source": [
    "## Data split\n",
    "\n",
    "We split the data 70:30 into training and testing:"
   ]
  },
  {
   "cell_type": "code",
   "execution_count": 14,
   "metadata": {},
   "outputs": [],
   "source": [
    "X_train, X_test, y_train, y_test = train_test_split(X, y, test_size=0.3, random_state=1)"
   ]
  },
  {
   "cell_type": "markdown",
   "metadata": {},
   "source": [
    "# Why do you need feature selection/sparse models?"
   ]
  },
  {
   "cell_type": "code",
   "execution_count": 15,
   "metadata": {},
   "outputs": [
    {
     "name": "stdout",
     "output_type": "stream",
     "text": [
      "                            OLS Regression Results                            \n",
      "==============================================================================\n",
      "Dep. Variable:                      y   R-squared:                       0.577\n",
      "Model:                            OLS   Adj. R-squared:                  0.528\n",
      "Method:                 Least Squares   F-statistic:                     11.79\n",
      "Date:                Wed, 02 Mar 2022   Prob (F-statistic):           5.51e-22\n",
      "Time:                        19:08:39   Log-Likelihood:                -1306.6\n",
      "No. Observations:                 184   AIC:                             2653.\n",
      "Df Residuals:                     164   BIC:                             2718.\n",
      "Df Model:                          19                                         \n",
      "Covariance Type:            nonrobust                                         \n",
      "===============================================================================\n",
      "                  coef    std err          t      P>|t|      [0.025      0.975]\n",
      "-------------------------------------------------------------------------------\n",
      "const         188.6776    108.431      1.740      0.084     -25.423     402.778\n",
      "AtBat          -2.2230      0.791     -2.809      0.006      -3.785      -0.661\n",
      "Hits            7.6063      2.844      2.675      0.008       1.992      13.221\n",
      "HmRun          -2.9203      7.899     -0.370      0.712     -18.516      12.676\n",
      "Runs           -2.2608      3.605     -0.627      0.531      -9.380       4.858\n",
      "RBI             2.1885      3.226      0.678      0.498      -4.181       8.558\n",
      "Walks           5.6647      2.155      2.629      0.009       1.410       9.919\n",
      "Years           6.9839     14.185      0.492      0.623     -21.024      34.992\n",
      "CAtBat         -0.3330      0.168     -1.983      0.049      -0.665      -0.001\n",
      "CHits           1.0766      0.788      1.367      0.174      -0.479       2.632\n",
      "CHmRun          2.0236      1.880      1.077      0.283      -1.688       5.735\n",
      "CRuns           0.4230      0.888      0.476      0.634      -1.330       2.176\n",
      "CRBI            0.1433      0.780      0.184      0.854      -1.396       1.683\n",
      "CWalks         -0.4789      0.377     -1.271      0.206      -1.223       0.265\n",
      "PutOuts         0.3109      0.093      3.335      0.001       0.127       0.495\n",
      "Assists         0.1340      0.265      0.505      0.614      -0.389       0.657\n",
      "Errors         -0.1435      5.187     -0.028      0.978     -10.385      10.098\n",
      "League_N       29.0039    100.652      0.288      0.774    -169.737     227.745\n",
      "Division_W   -124.8448     48.841     -2.556      0.011    -221.282     -28.407\n",
      "NewLeague_N    13.5185    100.212      0.135      0.893    -184.353     211.390\n",
      "==============================================================================\n",
      "Omnibus:                       75.266   Durbin-Watson:                   1.708\n",
      "Prob(Omnibus):                  0.000   Jarque-Bera (JB):              553.742\n",
      "Skew:                           1.317   Prob(JB):                    5.71e-121\n",
      "Kurtosis:                      11.080   Cond. No.                     2.35e+04\n",
      "==============================================================================\n",
      "\n",
      "Notes:\n",
      "[1] Standard Errors assume that the covariance matrix of the errors is correctly specified.\n",
      "[2] The condition number is large, 2.35e+04. This might indicate that there are\n",
      "strong multicollinearity or other numerical problems.\n"
     ]
    }
   ],
   "source": [
    "#exog = sm.add_constant(X_train)\n",
    "result = sm.OLS(y_train, X_train).fit()\n",
    "print(result.summary())"
   ]
  },
  {
   "cell_type": "code",
   "execution_count": 16,
   "metadata": {},
   "outputs": [
    {
     "name": "stdout",
     "output_type": "stream",
     "text": [
      "\n",
      "Training MSE: 86228.0\n",
      "Test MSE:    125103.0\n"
     ]
    }
   ],
   "source": [
    "print('\\nTraining MSE: ' + str(round(mean_squared_error(y_train, result.predict(X_train)), 0)))\n",
    "print('Test MSE:    ' + str(round(mean_squared_error(y_test, result.predict(X_test)), 0)))"
   ]
  },
  {
   "cell_type": "markdown",
   "metadata": {},
   "source": [
    "<font color='red'>**Problem: big performance difference between train and test!**</font>\n",
    "\n",
    "--> we want to find a sparse model (fewer features) in the hopes that such a model will generalize better to unseen test data.\n",
    "\n",
    "<img src=\"Images/variancebias_edit.png\" alt=\"Drawing\" style=\"width: 700px;\"/>\n",
    "\n"
   ]
  },
  {
   "cell_type": "markdown",
   "metadata": {},
   "source": [
    "## Option 1: Best Subset Selection (the Brute Force approach)\n",
    "\n",
    "First, we will perfrom Best Subset Selection by identifying the best model that contains a given number of features, where **best** is quantified using the [Residual Sum of Squares (RSS)](https://en.wikipedia.org/wiki/Residual_sum_of_squares). We'll define a helper function `processSubset()` to outputs the best set of variables for each model size:"
   ]
  },
  {
   "cell_type": "code",
   "execution_count": 17,
   "metadata": {},
   "outputs": [],
   "source": [
    "def processSubset(feature_set):\n",
    "    # Fit model on feature_set and calculate RSS\n",
    "    \n",
    "    features = list(feature_set)\n",
    "    if 'const' not in features:\n",
    "        features.append('const')\n",
    "    \n",
    "    exog = X_train[features]\n",
    "    exog_test = X_test[features]\n",
    "\n",
    "    model = sm.OLS(y_train, exog)\n",
    "    regr = model.fit()\n",
    "    \n",
    "    train_MSE = round(mean_squared_error(y_train, regr.predict(exog)), 0)\n",
    "    test_MSE = round(mean_squared_error(y_test, regr.predict(exog_test)), 0)\n",
    "    \n",
    "    RSS = ((regr.predict(exog) - y_train) ** 2).sum()\n",
    "    return {\"model\":regr, \"RSS\":RSS, \"Train MSE\": train_MSE, \"Test MSE\": test_MSE}"
   ]
  },
  {
   "cell_type": "code",
   "execution_count": 18,
   "metadata": {},
   "outputs": [],
   "source": [
    "def getBest(k):\n",
    "    \n",
    "    tic = time.time()\n",
    "    \n",
    "    results = []\n",
    "        \n",
    "    for combo in itertools.combinations(X.columns[1:-1], k):\n",
    "        results.append(processSubset(combo))\n",
    "    \n",
    "    # Wrap everything up in a nice dataframe\n",
    "    models = pd.DataFrame(results)\n",
    "    \n",
    "    # Choose the model with the highest RSS\n",
    "    best_model = models.loc[models['RSS'].idxmin()]\n",
    "    \n",
    "    toc = time.time()\n",
    "    print(\"Processed\", models.shape[0], \"models on\", k, \"predictors in\", (round(toc-tic,3)), \"seconds.\")\n",
    "    \n",
    "    # Return the best model, along with some other useful information about the model\n",
    "    return best_model"
   ]
  },
  {
   "cell_type": "markdown",
   "metadata": {},
   "source": [
    " Now we want to call that function for each number of features $k$:"
   ]
  },
  {
   "cell_type": "code",
   "execution_count": 19,
   "metadata": {},
   "outputs": [
    {
     "name": "stdout",
     "output_type": "stream",
     "text": [
      "Processed 18 models on 1 predictors in 0.053 seconds.\n",
      "Processed 153 models on 2 predictors in 0.297 seconds.\n",
      "Processed 816 models on 3 predictors in 1.593 seconds.\n",
      "Processed 3060 models on 4 predictors in 5.476 seconds.\n",
      "Processed 8568 models on 5 predictors in 16.111 seconds.\n",
      "Processed 18564 models on 6 predictors in 34.936 seconds.\n",
      "Total elapsed time: 58.814379930496216 seconds.\n"
     ]
    }
   ],
   "source": [
    "# Could take quite awhile to complete...\n",
    "\n",
    "models_best = pd.DataFrame(columns=[\"model\", \"RSS\", \"Train MSE\", \"Test MSE\"])\n",
    "\n",
    "tic = time.time()\n",
    "for i in range(1,7): #between 1 and 6 features\n",
    "    models_best.loc[i] = getBest(i)\n",
    "\n",
    "toc = time.time()\n",
    "print(\"Total elapsed time:\", (toc-tic), \"seconds.\")"
   ]
  },
  {
   "cell_type": "markdown",
   "metadata": {},
   "source": [
    "Efficiency matters: the Best Subset selection algorithm is computationally heavy. The CS Jupyter Hub is not able to handle more than 6 predictors! "
   ]
  },
  {
   "cell_type": "markdown",
   "metadata": {},
   "source": [
    "Now we have one big Dataframe `models_best` that contains the best models for each $k$ value along with their RSS, Train MSE, and Test MSE:"
   ]
  },
  {
   "cell_type": "code",
   "execution_count": 20,
   "metadata": {},
   "outputs": [
    {
     "data": {
      "text/html": [
       "<div>\n",
       "<style scoped>\n",
       "    .dataframe tbody tr th:only-of-type {\n",
       "        vertical-align: middle;\n",
       "    }\n",
       "\n",
       "    .dataframe tbody tr th {\n",
       "        vertical-align: top;\n",
       "    }\n",
       "\n",
       "    .dataframe thead th {\n",
       "        text-align: right;\n",
       "    }\n",
       "</style>\n",
       "<table border=\"1\" class=\"dataframe\">\n",
       "  <thead>\n",
       "    <tr style=\"text-align: right;\">\n",
       "      <th></th>\n",
       "      <th>model</th>\n",
       "      <th>RSS</th>\n",
       "      <th>Train MSE</th>\n",
       "      <th>Test MSE</th>\n",
       "    </tr>\n",
       "  </thead>\n",
       "  <tbody>\n",
       "    <tr>\n",
       "      <th>1</th>\n",
       "      <td>&lt;statsmodels.regression.linear_model.Regressio...</td>\n",
       "      <td>2.607561e+07</td>\n",
       "      <td>141715.0</td>\n",
       "      <td>129594.0</td>\n",
       "    </tr>\n",
       "    <tr>\n",
       "      <th>2</th>\n",
       "      <td>&lt;statsmodels.regression.linear_model.Regressio...</td>\n",
       "      <td>2.150437e+07</td>\n",
       "      <td>116872.0</td>\n",
       "      <td>117364.0</td>\n",
       "    </tr>\n",
       "    <tr>\n",
       "      <th>3</th>\n",
       "      <td>&lt;statsmodels.regression.linear_model.Regressio...</td>\n",
       "      <td>1.980684e+07</td>\n",
       "      <td>107646.0</td>\n",
       "      <td>123233.0</td>\n",
       "    </tr>\n",
       "    <tr>\n",
       "      <th>4</th>\n",
       "      <td>&lt;statsmodels.regression.linear_model.Regressio...</td>\n",
       "      <td>1.866418e+07</td>\n",
       "      <td>101436.0</td>\n",
       "      <td>139792.0</td>\n",
       "    </tr>\n",
       "    <tr>\n",
       "      <th>5</th>\n",
       "      <td>&lt;statsmodels.regression.linear_model.Regressio...</td>\n",
       "      <td>1.807503e+07</td>\n",
       "      <td>98234.0</td>\n",
       "      <td>130041.0</td>\n",
       "    </tr>\n",
       "    <tr>\n",
       "      <th>6</th>\n",
       "      <td>&lt;statsmodels.regression.linear_model.Regressio...</td>\n",
       "      <td>1.719781e+07</td>\n",
       "      <td>93466.0</td>\n",
       "      <td>126188.0</td>\n",
       "    </tr>\n",
       "  </tbody>\n",
       "</table>\n",
       "</div>"
      ],
      "text/plain": [
       "                                               model           RSS  Train MSE  \\\n",
       "1  <statsmodels.regression.linear_model.Regressio...  2.607561e+07   141715.0   \n",
       "2  <statsmodels.regression.linear_model.Regressio...  2.150437e+07   116872.0   \n",
       "3  <statsmodels.regression.linear_model.Regressio...  1.980684e+07   107646.0   \n",
       "4  <statsmodels.regression.linear_model.Regressio...  1.866418e+07   101436.0   \n",
       "5  <statsmodels.regression.linear_model.Regressio...  1.807503e+07    98234.0   \n",
       "6  <statsmodels.regression.linear_model.Regressio...  1.719781e+07    93466.0   \n",
       "\n",
       "   Test MSE  \n",
       "1  129594.0  \n",
       "2  117364.0  \n",
       "3  123233.0  \n",
       "4  139792.0  \n",
       "5  130041.0  \n",
       "6  126188.0  "
      ]
     },
     "execution_count": 20,
     "metadata": {},
     "output_type": "execute_result"
    }
   ],
   "source": [
    "models_best"
   ]
  },
  {
   "cell_type": "markdown",
   "metadata": {},
   "source": [
    "We can get the details of each model by calling the `summary()` function:"
   ]
  },
  {
   "cell_type": "code",
   "execution_count": 21,
   "metadata": {},
   "outputs": [
    {
     "name": "stdout",
     "output_type": "stream",
     "text": [
      "                            OLS Regression Results                            \n",
      "==============================================================================\n",
      "Dep. Variable:                      y   R-squared:                       0.427\n",
      "Model:                            OLS   Adj. R-squared:                  0.421\n",
      "Method:                 Least Squares   F-statistic:                     67.44\n",
      "Date:                Wed, 02 Mar 2022   Prob (F-statistic):           1.29e-22\n",
      "Time:                        19:09:38   Log-Likelihood:                -1334.6\n",
      "No. Observations:                 184   AIC:                             2675.\n",
      "Df Residuals:                     181   BIC:                             2685.\n",
      "Df Model:                           2                                         \n",
      "Covariance Type:            nonrobust                                         \n",
      "==============================================================================\n",
      "                 coef    std err          t      P>|t|      [0.025      0.975]\n",
      "------------------------------------------------------------------------------\n",
      "Hits           3.5623      0.574      6.203      0.000       2.429       4.695\n",
      "CRBI           0.6248      0.076      8.195      0.000       0.474       0.775\n",
      "const        -59.1388     66.259     -0.893      0.373    -189.879      71.601\n",
      "==============================================================================\n",
      "Omnibus:                      106.717   Durbin-Watson:                   1.744\n",
      "Prob(Omnibus):                  0.000   Jarque-Bera (JB):              818.543\n",
      "Skew:                           2.061   Prob(JB):                    1.80e-178\n",
      "Kurtosis:                      12.475   Cond. No.                     1.30e+03\n",
      "==============================================================================\n",
      "\n",
      "Notes:\n",
      "[1] Standard Errors assume that the covariance matrix of the errors is correctly specified.\n",
      "[2] The condition number is large, 1.3e+03. This might indicate that there are\n",
      "strong multicollinearity or other numerical problems.\n"
     ]
    }
   ],
   "source": [
    "print(models_best.loc[2, \"model\"].summary())"
   ]
  },
  {
   "cell_type": "markdown",
   "metadata": {},
   "source": [
    "This output indicates that the best **two-variable model** contains `Hits` and `CRBI`. \n",
    "\n",
    "Printing the above summery for all 6 models would quickly clutter the notebook. Instead of calling the `summary()` function, we can direcly access the models' attributes we are interested in, e.g. adjusted $R^2$, AIC, and BIC. We can examine these to try to select the best overall model. Let's start by looking at $R^2$ across all our models:"
   ]
  },
  {
   "cell_type": "code",
   "execution_count": 22,
   "metadata": {},
   "outputs": [
    {
     "data": {
      "text/plain": [
       "1    0.305214\n",
       "2    0.427015\n",
       "3    0.472246\n",
       "4    0.502692\n",
       "5    0.518390\n",
       "6    0.541763\n",
       "dtype: float64"
      ]
     },
     "execution_count": 22,
     "metadata": {},
     "output_type": "execute_result"
    }
   ],
   "source": [
    "#models_best.loc[2, \"model\"].rsquared\n",
    "\n",
    "# Gets the second element from each row ('model') and pulls out its rsquared attribute\n",
    "models_best.apply(lambda row: row[0].rsquared, axis=1)"
   ]
  },
  {
   "cell_type": "markdown",
   "metadata": {},
   "source": [
    "As expected, the $R^2$ statistic increases monotonically as more variables are included.\n",
    "\n",
    "Plotting MSE, adjusted $R^2$, AIC, and BIC for all of the models at once will help us decide which model to select:"
   ]
  },
  {
   "cell_type": "code",
   "execution_count": 23,
   "metadata": {},
   "outputs": [],
   "source": [
    "def plotFeatureSelection(model):\n",
    "    plt.figure(figsize=(20,10))\n",
    "    plt.rcParams.update({'font.size': 18, 'lines.markersize': 10})\n",
    "\n",
    "    # Set up a 2x2 grid so we can look at 4 plots at once\n",
    "    plt.subplot(2, 2, 1)\n",
    "\n",
    "    # We will now plot a red dot to indicate the model with the largest adjusted R^2 statistic.\n",
    "    # The idxmax() function can be used to identify the location of the maximum point of a vector\n",
    "    #plt.plot(model[\"RSS\"])\n",
    "    #plt.xticks(model.index)\n",
    "    #plt.xlabel('# Predictors')\n",
    "    #plt.ylabel('RSS')\n",
    "\n",
    "    plt.plot(model[\"Train MSE\"], label='train')\n",
    "    plt.plot(model[\"Test MSE\"], label='test')\n",
    "    plt.xticks(model.index)\n",
    "    plt.xlabel('# Predictors')\n",
    "    plt.ylabel('MSE')\n",
    "    plt.legend()\n",
    "    \n",
    "    \n",
    "    # We will now plot a red dot to indicate the model with the largest adjusted R^2 statistic.\n",
    "    # The idxmax() function can be used to identify the location of the maximum point of a vector\n",
    "\n",
    "    rsquared_adj = model.apply(lambda row: row[0].rsquared_adj, axis=1)\n",
    "\n",
    "    plt.subplot(2, 2, 2)\n",
    "    plt.plot(rsquared_adj)\n",
    "    plt.plot(rsquared_adj.idxmax(), rsquared_adj.max(), \"or\")\n",
    "    plt.xticks(model.index)\n",
    "    plt.xlabel('# Predictors')\n",
    "    plt.ylabel('adjusted rsquared')\n",
    "\n",
    "    # We'll do the same for AIC and BIC, this time looking for the models with the SMALLEST statistic\n",
    "    aic = model.apply(lambda row: row[0].aic, axis=1)\n",
    "\n",
    "    plt.subplot(2, 2, 3)\n",
    "    plt.plot(aic)\n",
    "    plt.plot(aic.idxmin(), aic.min(), \"or\")\n",
    "    plt.xticks(model.index)\n",
    "    plt.xlabel('# Predictors')\n",
    "    plt.ylabel('AIC')\n",
    "\n",
    "    bic = model.apply(lambda row: row[0].bic, axis=1)\n",
    "\n",
    "    plt.subplot(2, 2, 4)\n",
    "    plt.plot(bic)\n",
    "    plt.plot(bic.idxmin(), bic.min(), \"or\")\n",
    "    plt.xticks(model.index)\n",
    "    plt.xlabel('# Predictors')\n",
    "    plt.ylabel('BIC')\n",
    "\n",
    "    plt.tight_layout();"
   ]
  },
  {
   "cell_type": "code",
   "execution_count": 24,
   "metadata": {},
   "outputs": [
    {
     "data": {
      "image/png": "[encoded data removed]",
      "text/plain": [
       "<Figure size 1440x720 with 4 Axes>"
      ]
     },
     "metadata": {
      "needs_background": "light"
     },
     "output_type": "display_data"
    }
   ],
   "source": [
    "plotFeatureSelection(models_best)"
   ]
  },
  {
   "cell_type": "markdown",
   "metadata": {},
   "source": [
    "We see that according to adjusted $R^2$ something, AIC, and BIC the 6-variable model is best. Again, no one measure is going to give us an entirely accurate picture... but they all agree that a model with 5 or fewer predictors is insufficient.\n",
    "\n",
    "In summary, the Best Subset Selection approach resembles a brute force approach in the way that it simply tries all possible combinations. It becomes computationally heavy very quickly, even on small datasets (which is why we did not explore beyond k = 7 in the above example). "
   ]
  },
  {
   "cell_type": "markdown",
   "metadata": {},
   "source": [
    "## Option 2: Forward Selection\n",
    "\n",
    "A more elegant approach is Forward Selection (FWS). With a slight modification, The Best Subset Selection code can be used for Forward Selection:"
   ]
  },
  {
   "cell_type": "code",
   "execution_count": 25,
   "metadata": {},
   "outputs": [],
   "source": [
    "def forward(predictors):\n",
    "\n",
    "    # Pull out predictors we still need to process\n",
    "    remaining_predictors = [p for p in X.columns[1:-1] if p not in predictors]\n",
    "    #print(remaining_predictors)\n",
    "    \n",
    "    tic = time.time()\n",
    "    \n",
    "    results = []\n",
    "    \n",
    "    for p in remaining_predictors:\n",
    "        results.append(processSubset(predictors+[p]))\n",
    "        #print(predictors+[p])\n",
    "    \n",
    "    # Wrap everything up in a nice dataframe\n",
    "    models = pd.DataFrame(results)\n",
    "    \n",
    "    # Choose the model with the highest RSS\n",
    "    best_model = models.loc[models['RSS'].idxmin()]\n",
    "    \n",
    "    toc = time.time()\n",
    "    print(\"Processed \", models.shape[0], \"models on\", len(predictors)+1, \"predictors in\", (round(toc-tic,3)), \"seconds.\")\n",
    "    \n",
    "    # Return the best model, along with some other useful information about the model\n",
    "    return best_model"
   ]
  },
  {
   "cell_type": "code",
   "execution_count": 26,
   "metadata": {},
   "outputs": [
    {
     "name": "stdout",
     "output_type": "stream",
     "text": [
      "Processed  18 models on 2 predictors in 0.037 seconds.\n",
      "Processed  17 models on 3 predictors in 0.03 seconds.\n",
      "Processed  16 models on 4 predictors in 0.028 seconds.\n",
      "Processed  15 models on 5 predictors in 0.026 seconds.\n",
      "Processed  14 models on 6 predictors in 0.025 seconds.\n",
      "Processed  13 models on 7 predictors in 0.025 seconds.\n",
      "Processed  12 models on 8 predictors in 0.024 seconds.\n",
      "Processed  11 models on 9 predictors in 0.022 seconds.\n",
      "Processed  10 models on 10 predictors in 0.02 seconds.\n",
      "Processed  9 models on 11 predictors in 0.02 seconds.\n",
      "Processed  8 models on 12 predictors in 0.017 seconds.\n",
      "Processed  7 models on 13 predictors in 0.014 seconds.\n",
      "Processed  6 models on 14 predictors in 0.012 seconds.\n",
      "Processed  5 models on 15 predictors in 0.018 seconds.\n",
      "Processed  4 models on 16 predictors in 0.009 seconds.\n",
      "Processed  3 models on 17 predictors in 0.007 seconds.\n",
      "Processed  2 models on 18 predictors in 0.006 seconds.\n",
      "Processed  1 models on 19 predictors in 0.003 seconds.\n",
      "Total elapsed time: 0.3806650638580322 seconds.\n"
     ]
    }
   ],
   "source": [
    "models_fwd = pd.DataFrame(columns=[\"model\", \"RSS\", \"Train MSE\", \"Test MSE\"])\n",
    "\n",
    "\n",
    "\n",
    "tic = time.time()\n",
    "predictors = ['const']\n",
    "#predictors.append(X.)\n",
    "\n",
    "for i in range(1,len(X.columns[1:-1])+1):    \n",
    "    models_fwd.loc[i] = forward(predictors)\n",
    "    predictors = models_fwd.loc[i][\"model\"].model.exog_names\n",
    "\n",
    "toc = time.time()\n",
    "print(\"Total elapsed time:\", (toc-tic), \"seconds.\")"
   ]
  },
  {
   "cell_type": "markdown",
   "metadata": {},
   "source": [
    "Forward-stepwise selection is a greedy algorithm, producing a nested sequence of models."
   ]
  },
  {
   "cell_type": "markdown",
   "metadata": {},
   "source": [
    "The forward selection approach runs sooooo much faster, even when evaluating models with large k values!\n",
    "\n",
    "<img src=\"Images/vegeta.jpg\" alt=\"Drawing\" style=\"width: 350px;\"/>"
   ]
  },
  {
   "cell_type": "markdown",
   "metadata": {},
   "source": [
    "As in the Best Subset Selection, Forward Selection suggests that the best 2-variable model includes `Hits` and `CRBI` (not shown here). Additionally, we compare the best 6-variable model for each approach:"
   ]
  },
  {
   "cell_type": "code",
   "execution_count": 27,
   "metadata": {},
   "outputs": [
    {
     "name": "stdout",
     "output_type": "stream",
     "text": [
      "                            OLS Regression Results                            \n",
      "==============================================================================\n",
      "Dep. Variable:                      y   R-squared:                       0.542\n",
      "Model:                            OLS   Adj. R-squared:                  0.526\n",
      "Method:                 Least Squares   F-statistic:                     34.88\n",
      "Date:                Wed, 02 Mar 2022   Prob (F-statistic):           1.23e-27\n",
      "Time:                        19:09:38   Log-Likelihood:                -1314.1\n",
      "No. Observations:                 184   AIC:                             2642.\n",
      "Df Residuals:                     177   BIC:                             2665.\n",
      "Df Model:                           6                                         \n",
      "Covariance Type:            nonrobust                                         \n",
      "==============================================================================\n",
      "                 coef    std err          t      P>|t|      [0.025      0.975]\n",
      "------------------------------------------------------------------------------\n",
      "Walks          3.8392      1.161      3.308      0.001       1.549       6.130\n",
      "CAtBat        -0.5640      0.110     -5.129      0.000      -0.781      -0.347\n",
      "CHits          2.0553      0.372      5.518      0.000       1.320       2.790\n",
      "CHmRun         2.1016      0.482      4.363      0.000       1.151       3.052\n",
      "PutOuts        0.3054      0.087      3.527      0.001       0.135       0.476\n",
      "Division_W  -138.7558     46.179     -3.005      0.003    -229.889     -47.623\n",
      "const        216.5582     61.216      3.538      0.001      95.751     337.365\n",
      "==============================================================================\n",
      "Omnibus:                       68.474   Durbin-Watson:                   1.684\n",
      "Prob(Omnibus):                  0.000   Jarque-Bera (JB):              435.913\n",
      "Skew:                           1.218   Prob(JB):                     2.20e-95\n",
      "Kurtosis:                      10.136   Cond. No.                     1.10e+04\n",
      "==============================================================================\n",
      "\n",
      "Notes:\n",
      "[1] Standard Errors assume that the covariance matrix of the errors is correctly specified.\n",
      "[2] The condition number is large, 1.1e+04. This might indicate that there are\n",
      "strong multicollinearity or other numerical problems.\n",
      "\n",
      "                            OLS Regression Results                            \n",
      "==============================================================================\n",
      "Dep. Variable:                      y   R-squared:                       0.533\n",
      "Model:                            OLS   Adj. R-squared:                  0.517\n",
      "Method:                 Least Squares   F-statistic:                     33.70\n",
      "Date:                Wed, 02 Mar 2022   Prob (F-statistic):           6.08e-27\n",
      "Time:                        19:09:38   Log-Likelihood:                -1315.8\n",
      "No. Observations:                 184   AIC:                             2646.\n",
      "Df Residuals:                     177   BIC:                             2668.\n",
      "Df Model:                           6                                         \n",
      "Covariance Type:            nonrobust                                         \n",
      "==============================================================================\n",
      "                 coef    std err          t      P>|t|      [0.025      0.975]\n",
      "------------------------------------------------------------------------------\n",
      "const        142.5128     77.621      1.836      0.068     -10.668     295.694\n",
      "CRBI           0.5855      0.072      8.175      0.000       0.444       0.727\n",
      "Hits           8.6290      1.974      4.370      0.000       4.732      12.525\n",
      "PutOuts        0.3540      0.088      4.012      0.000       0.180       0.528\n",
      "AtBat         -2.2905      0.633     -3.618      0.000      -3.540      -1.041\n",
      "Division_W  -120.7814     46.829     -2.579      0.011    -213.197     -28.366\n",
      "Walks          3.4257      1.389      2.467      0.015       0.685       6.166\n",
      "==============================================================================\n",
      "Omnibus:                       89.399   Durbin-Watson:                   1.706\n",
      "Prob(Omnibus):                  0.000   Jarque-Bera (JB):              699.523\n",
      "Skew:                           1.622   Prob(JB):                    1.26e-152\n",
      "Kurtosis:                      11.984   Cond. No.                     2.39e+03\n",
      "==============================================================================\n",
      "\n",
      "Notes:\n",
      "[1] Standard Errors assume that the covariance matrix of the errors is correctly specified.\n",
      "[2] The condition number is large, 2.39e+03. This might indicate that there are\n",
      "strong multicollinearity or other numerical problems.\n"
     ]
    }
   ],
   "source": [
    "print(models_best.loc[6, \"model\"].summary())\n",
    "print()\n",
    "print(models_fwd.loc[6, \"model\"].summary())"
   ]
  },
  {
   "cell_type": "markdown",
   "metadata": {},
   "source": [
    "Both methods suggest different variables. Moreover, Forward Selection found the subset **significantly** faster!\n",
    "\n",
    "Plotting MSE, adjusted $R^2$, AIC, and BIC for all of the models at once will help us decide which model to select:"
   ]
  },
  {
   "cell_type": "code",
   "execution_count": 28,
   "metadata": {},
   "outputs": [
    {
     "data": {
      "image/png": "[encoded data removed]",
      "text/plain": [
       "<Figure size 1440x720 with 4 Axes>"
      ]
     },
     "metadata": {
      "needs_background": "light"
     },
     "output_type": "display_data"
    }
   ],
   "source": [
    "plotFeatureSelection(models_fwd)"
   ]
  },
  {
   "cell_type": "markdown",
   "metadata": {},
   "source": [
    "Beware: once a variable is including in the model it will stay there!"
   ]
  },
  {
   "cell_type": "markdown",
   "metadata": {},
   "source": [
    "## Option 3: Backwards Selection\n",
    "\n",
    "We recycle the Forward Selection code, but loop through the predictors in reverse to perform Backwards Selection:"
   ]
  },
  {
   "cell_type": "code",
   "execution_count": 29,
   "metadata": {},
   "outputs": [],
   "source": [
    "def backward(predictors):\n",
    "    \n",
    "    tic = time.time()\n",
    "    \n",
    "    results = []\n",
    "    \n",
    "    for combo in itertools.combinations(predictors, len(predictors)-2):\n",
    "        results.append(processSubset(combo))\n",
    "    \n",
    "    # Wrap everything up in a nice dataframe\n",
    "    models = pd.DataFrame(results)\n",
    "    \n",
    "    # Choose the model with the highest RSS\n",
    "    best_model = models.loc[models['RSS'].idxmin()]\n",
    "    \n",
    "    toc = time.time()\n",
    "    print(\"Processed \", models.shape[0], \"models on\", len(predictors)-1, \"predictors in\", (round(toc-tic,3)), \"seconds.\")\n",
    "    \n",
    "    # Return the best model, along with some other useful information about the model\n",
    "    return best_model"
   ]
  },
  {
   "cell_type": "code",
   "execution_count": 30,
   "metadata": {},
   "outputs": [
    {
     "name": "stdout",
     "output_type": "stream",
     "text": [
      "Processed  153 models on 17 predictors in 0.319 seconds.\n",
      "Processed  136 models on 16 predictors in 0.273 seconds.\n",
      "Processed  120 models on 15 predictors in 0.235 seconds.\n",
      "Processed  105 models on 14 predictors in 0.202 seconds.\n",
      "Processed  91 models on 13 predictors in 0.173 seconds.\n",
      "Processed  78 models on 12 predictors in 0.148 seconds.\n",
      "Processed  66 models on 11 predictors in 0.123 seconds.\n",
      "Processed  55 models on 10 predictors in 0.101 seconds.\n",
      "Processed  45 models on 9 predictors in 0.083 seconds.\n",
      "Processed  36 models on 8 predictors in 0.064 seconds.\n",
      "Processed  28 models on 7 predictors in 0.049 seconds.\n",
      "Processed  21 models on 6 predictors in 0.038 seconds.\n",
      "Processed  15 models on 5 predictors in 0.031 seconds.\n",
      "Processed  10 models on 4 predictors in 0.018 seconds.\n",
      "Processed  6 models on 3 predictors in 0.011 seconds.\n",
      "Processed  3 models on 2 predictors in 0.005 seconds.\n",
      "Processed  1 models on 1 predictors in 0.002 seconds.\n",
      "Total elapsed time: 1.9213366508483887 seconds.\n"
     ]
    }
   ],
   "source": [
    "models_bwd = pd.DataFrame(columns=[\"model\", \"RSS\", \"Train MSE\", \"Test MSE\"])#, \n",
    "                          #index = range(1,len(X.columns)))\n",
    "\n",
    "tic = time.time()\n",
    "predictors = X.columns[1:-1]\n",
    "\n",
    "while(len(predictors) > 1):  \n",
    "    models_bwd.loc[len(predictors)-1] = backward(predictors)\n",
    "    predictors = models_bwd.loc[len(predictors)-1][\"model\"].model.exog_names\n",
    "\n",
    "toc = time.time()\n",
    "print(\"Total elapsed time:\", (toc-tic), \"seconds.\")"
   ]
  },
  {
   "cell_type": "code",
   "execution_count": 31,
   "metadata": {},
   "outputs": [
    {
     "name": "stdout",
     "output_type": "stream",
     "text": [
      "                            OLS Regression Results                            \n",
      "==============================================================================\n",
      "Dep. Variable:                      y   R-squared:                       0.517\n",
      "Model:                            OLS   Adj. R-squared:                  0.504\n",
      "Method:                 Least Squares   F-statistic:                     38.14\n",
      "Date:                Wed, 02 Mar 2022   Prob (F-statistic):           1.74e-26\n",
      "Time:                        19:09:41   Log-Likelihood:                -1318.9\n",
      "No. Observations:                 184   AIC:                             2650.\n",
      "Df Residuals:                     178   BIC:                             2669.\n",
      "Df Model:                           5                                         \n",
      "Covariance Type:            nonrobust                                         \n",
      "==============================================================================\n",
      "                 coef    std err          t      P>|t|      [0.025      0.975]\n",
      "------------------------------------------------------------------------------\n",
      "Hits           1.9458      0.604      3.223      0.002       0.754       3.137\n",
      "CAtBat        -0.4658      0.118     -3.960      0.000      -0.698      -0.234\n",
      "CHits          1.6944      0.400      4.235      0.000       0.905       2.484\n",
      "CHmRun         2.3103      0.481      4.808      0.000       1.362       3.259\n",
      "PutOuts        0.3226      0.089      3.628      0.000       0.147       0.498\n",
      "const         78.9628     70.792      1.115      0.266     -60.737     218.663\n",
      "==============================================================================\n",
      "Omnibus:                       84.992   Durbin-Watson:                   1.712\n",
      "Prob(Omnibus):                  0.000   Jarque-Bera (JB):              643.426\n",
      "Skew:                           1.531   Prob(JB):                    1.91e-140\n",
      "Kurtosis:                      11.634   Cond. No.                     1.15e+04\n",
      "==============================================================================\n",
      "\n",
      "Notes:\n",
      "[1] Standard Errors assume that the covariance matrix of the errors is correctly specified.\n",
      "[2] The condition number is large, 1.15e+04. This might indicate that there are\n",
      "strong multicollinearity or other numerical problems.\n"
     ]
    }
   ],
   "source": [
    "print(models_bwd.loc[6, \"model\"].summary())"
   ]
  },
  {
   "cell_type": "markdown",
   "metadata": {},
   "source": [
    "We plot the best 6-variable models for Best Subset, Forwards, and Backwards Selection:"
   ]
  },
  {
   "cell_type": "code",
   "execution_count": 32,
   "metadata": {},
   "outputs": [
    {
     "name": "stdout",
     "output_type": "stream",
     "text": [
      "\n",
      "------------\n",
      "Best Subset\n",
      "------------\n",
      "CAtBat         -0.564019\n",
      "CHits           2.055325\n",
      "CHmRun          2.101613\n",
      "Division_W   -138.755836\n",
      "PutOuts         0.305372\n",
      "Walks           3.839172\n",
      "const         216.558213\n",
      "dtype: float64\n",
      "\n",
      "------------\n",
      "Forward Selection\n",
      "------------\n",
      "AtBat          -2.290507\n",
      "CRBI            0.585546\n",
      "Division_W   -120.781447\n",
      "Hits            8.628968\n",
      "PutOuts         0.353988\n",
      "Walks           3.425734\n",
      "const         142.512798\n",
      "dtype: float64\n",
      "\n",
      "------------\n",
      "Backward Selection\n",
      "------------\n",
      "CAtBat     -0.465784\n",
      "CHits       1.694425\n",
      "CHmRun      2.310292\n",
      "Hits        1.945801\n",
      "PutOuts     0.322634\n",
      "const      78.962842\n",
      "dtype: float64\n"
     ]
    }
   ],
   "source": [
    "for model, name in zip([models_best, models_fwd, models_bwd], ['Best Subset', 'Forward Selection', 'Backward Selection']):\n",
    "    print(\"\\n------------\")\n",
    "    print(name)\n",
    "    print(\"------------\")\n",
    "    print(model.loc[6, \"model\"].params.sort_index())"
   ]
  },
  {
   "cell_type": "markdown",
   "metadata": {},
   "source": [
    "Plotting MSE, adjusted $R^2$, AIC, and BIC for all of the models at once will help us decide which model to select:"
   ]
  },
  {
   "cell_type": "code",
   "execution_count": 33,
   "metadata": {},
   "outputs": [
    {
     "data": {
      "image/png": "[encoded data removed]",
      "text/plain": [
       "<Figure size 1440x720 with 4 Axes>"
      ]
     },
     "metadata": {
      "needs_background": "light"
     },
     "output_type": "display_data"
    }
   ],
   "source": [
    "plotFeatureSelection(models_bwd)"
   ]
  },
  {
   "cell_type": "markdown",
   "metadata": {},
   "source": [
    "<img src=\"Images/variancebias_edit_3.png\" alt=\"Drawing\" style=\"width: 700px;\"/>"
   ]
  },
  {
   "cell_type": "markdown",
   "metadata": {},
   "source": [
    "## Option 4: Ridge Regression\n",
    "\n",
    "Ridge estimates are found by minimizing (from slides):\n",
    "\n",
    "<img src=\"Images/ridge.png\" alt=\"Drawing\" style=\"width: 500px;\"/>\n",
    "\n",
    "- As with least squares, ridge regression seeks coefficient estimates that fit the data well, by making the RSS small.\n",
    "- **The second term is a penalty that shrinks the coefficients towards zero**\n",
    "- Though not immediately obvious, shrinking can help to reduce variance\n",
    "- The estimates are very sensitive to the “tuning parameter” lambda -> needs to be found separately using cross validation!\n",
    "- The tuning parameter controls the relative impact of RSS and penalty on the regression coefficient estimates.\n",
    "\n",
    "We will use a `sklearn` package in order to perform ridge regression. Specifically, we will be using `Ridge()` to fit ridge regression models and its cross-validated counterpart `RidgeCV()`.\n",
    "\n",
    "\n",
    "The `Ridge()` function has an alpha argument **($\\lambda$, but with a different name!)** that is used to tune the model. We'll generate an array of alpha values ($\\lambda$!!!) ranging from very big to very small, essentially covering the full range of scenarios from the null model containing only the intercept, to the least squares fit:"
   ]
  },
  {
   "cell_type": "code",
   "execution_count": 34,
   "metadata": {},
   "outputs": [],
   "source": [
    "np.set_printoptions(suppress=True, precision=2)"
   ]
  },
  {
   "cell_type": "code",
   "execution_count": 35,
   "metadata": {},
   "outputs": [
    {
     "data": {
      "text/plain": [
       "array([5.00e+09, 3.78e+09, 2.86e+09, 2.16e+09, 1.64e+09, 1.24e+09,\n",
       "       9.37e+08, 7.09e+08, 5.36e+08, 4.06e+08, 3.07e+08, 2.32e+08,\n",
       "       1.76e+08, 1.33e+08, 1.00e+08, 7.60e+07, 5.75e+07, 4.35e+07,\n",
       "       3.29e+07, 2.49e+07, 1.88e+07, 1.42e+07, 1.08e+07, 8.15e+06,\n",
       "       6.16e+06, 4.66e+06, 3.53e+06, 2.67e+06, 2.02e+06, 1.53e+06,\n",
       "       1.16e+06, 8.74e+05, 6.61e+05, 5.00e+05, 3.78e+05, 2.86e+05,\n",
       "       2.16e+05, 1.64e+05, 1.24e+05, 9.37e+04, 7.09e+04, 5.36e+04,\n",
       "       4.06e+04, 3.07e+04, 2.32e+04, 1.76e+04, 1.33e+04, 1.00e+04,\n",
       "       7.60e+03, 5.75e+03, 4.35e+03, 3.29e+03, 2.49e+03, 1.88e+03,\n",
       "       1.42e+03, 1.08e+03, 8.15e+02, 6.16e+02, 4.66e+02, 3.53e+02,\n",
       "       2.67e+02, 2.02e+02, 1.53e+02, 1.16e+02, 8.74e+01, 6.61e+01,\n",
       "       5.00e+01, 3.78e+01, 2.86e+01, 2.16e+01, 1.64e+01, 1.24e+01,\n",
       "       9.37e+00, 7.09e+00, 5.36e+00, 4.06e+00, 3.07e+00, 2.32e+00,\n",
       "       1.76e+00, 1.33e+00, 1.00e+00, 7.60e-01, 5.75e-01, 4.35e-01,\n",
       "       3.29e-01, 2.49e-01, 1.88e-01, 1.42e-01, 1.08e-01, 8.15e-02,\n",
       "       6.16e-02, 4.66e-02, 3.53e-02, 2.67e-02, 2.02e-02, 1.53e-02,\n",
       "       1.16e-02, 8.74e-03, 6.61e-03, 5.00e-03])"
      ]
     },
     "execution_count": 35,
     "metadata": {},
     "output_type": "execute_result"
    }
   ],
   "source": [
    "alphas = 10**np.linspace(10,-2,100)*0.5\n",
    "alphas"
   ]
  },
  {
   "cell_type": "code",
   "execution_count": 36,
   "metadata": {},
   "outputs": [
    {
     "data": {
      "image/png": "[encoded data removed]",
      "text/plain": [
       "<Figure size 432x288 with 1 Axes>"
      ]
     },
     "metadata": {
      "needs_background": "light"
     },
     "output_type": "display_data"
    }
   ],
   "source": [
    "plt.plot(alphas)\n",
    "plt.ylabel('alpha value');"
   ]
  },
  {
   "cell_type": "markdown",
   "metadata": {},
   "source": [
    "Associated with each alpha value is a vector of ridge regression coefficients, which we'll store in a matrix `coefs`. In this case, it is a $19 \\times 100$ matrix, with 19 rows (one for each predictor) and 100 columns (one for each value of alpha). Remember that we'll want to standardize the variables so that they are on the same scale. To do this, we can use the `normalize = True` parameter:"
   ]
  },
  {
   "cell_type": "code",
   "execution_count": 37,
   "metadata": {},
   "outputs": [
    {
     "data": {
      "text/plain": [
       "(100, 20)"
      ]
     },
     "execution_count": 37,
     "metadata": {},
     "output_type": "execute_result"
    }
   ],
   "source": [
    "ridge = Ridge(normalize = True)\n",
    "coefs = []\n",
    "\n",
    "for a in alphas:\n",
    "    ridge.set_params(alpha = a)\n",
    "    ridge.fit(X_train, y_train)\n",
    "    coefs.append(ridge.coef_)\n",
    "    \n",
    "np.shape(coefs)"
   ]
  },
  {
   "cell_type": "markdown",
   "metadata": {},
   "source": [
    "We expect the coefficient estimates to be much smaller, in terms of $l_2$ norm, when a large value of alpha is used, as compared to when a small value of alpha is used. Let's plot and find out:"
   ]
  },
  {
   "cell_type": "code",
   "execution_count": 38,
   "metadata": {},
   "outputs": [
    {
     "data": {
      "image/png": "[encoded data removed]",
      "text/plain": [
       "<Figure size 432x288 with 1 Axes>"
      ]
     },
     "metadata": {
      "needs_background": "light"
     },
     "output_type": "display_data"
    }
   ],
   "source": [
    "ax = plt.gca()\n",
    "ax.plot(alphas, coefs)\n",
    "ax.set_xscale('log')\n",
    "plt.axis('tight')\n",
    "plt.xlabel('alpha')\n",
    "plt.ylabel('weights');"
   ]
  },
  {
   "cell_type": "markdown",
   "metadata": {},
   "source": [
    "Next we fit a ridge regression model on the training set, and evaluate its MSE on the test set, using $\\lambda = 4$ (the lambda value is **chosen randomly** for illustrative purposes. We'll cover how to pick an optimal value in a second):"
   ]
  },
  {
   "cell_type": "code",
   "execution_count": 39,
   "metadata": {},
   "outputs": [
    {
     "name": "stdout",
     "output_type": "stream",
     "text": [
      "const           0.000000\n",
      "AtBat           0.107993\n",
      "Hits            0.473495\n",
      "HmRun           1.399789\n",
      "Runs            0.675409\n",
      "RBI             0.822569\n",
      "Walks           0.901355\n",
      "Years           2.365136\n",
      "CAtBat          0.007420\n",
      "CHits           0.029945\n",
      "CHmRun          0.261695\n",
      "CRuns           0.057900\n",
      "CRBI            0.067693\n",
      "CWalks          0.053269\n",
      "PutOuts         0.086797\n",
      "Assists        -0.013971\n",
      "Errors          0.153121\n",
      "League_N        1.057862\n",
      "Division_W    -27.855268\n",
      "NewLeague_N     3.819842\n",
      "dtype: float64\n",
      "\n",
      "Training MSE: 125374.0\n",
      "\n",
      "Test MSE:     129245.0\n"
     ]
    }
   ],
   "source": [
    "ridge2 = Ridge(alpha = 4, normalize = True).fit(X_train, y_train) # Fit a ridge regression on the training data\n",
    "pred2 = ridge2.predict(X_test) # Use this model to predict the test data\n",
    "print(pd.Series(ridge2.coef_, index = X.columns)) # Print coefficients\n",
    "\n",
    "print('\\nTraining MSE: ' + str(round(mean_squared_error(y_train, ridge2.predict(X_train)), 0)))\n",
    "print('\\nTest MSE:     ' + str(round(mean_squared_error(y_test, ridge2.predict(X_test)), 0)))"
   ]
  },
  {
   "cell_type": "markdown",
   "metadata": {},
   "source": [
    "<img src=\"Images/variancebias_edit_4.png\" alt=\"Drawing\" style=\"width: 700px;\"/>"
   ]
  },
  {
   "cell_type": "markdown",
   "metadata": {},
   "source": [
    "The test MSE when alpha = 4 is 129,245. Now let's see what happens if we use a huge value of alpha, say $10^{10}$:"
   ]
  },
  {
   "cell_type": "code",
   "execution_count": 40,
   "metadata": {},
   "outputs": [
    {
     "name": "stdout",
     "output_type": "stream",
     "text": [
      "const          0.000000e+00\n",
      "AtBat          1.289497e-10\n",
      "Hits           4.608072e-10\n",
      "HmRun          1.905632e-09\n",
      "Runs           7.623916e-10\n",
      "RBI            8.735153e-10\n",
      "Walks          9.114154e-10\n",
      "Years          3.352330e-09\n",
      "CAtBat         9.159260e-12\n",
      "CHits          3.391950e-11\n",
      "CHmRun         2.787049e-10\n",
      "CRuns          6.759012e-11\n",
      "CRBI           7.298246e-11\n",
      "CWalks         7.250350e-11\n",
      "PutOuts        6.313977e-11\n",
      "Assists       -4.436847e-12\n",
      "Errors         9.694369e-11\n",
      "League_N      -5.970420e-09\n",
      "Division_W    -1.623587e-08\n",
      "NewLeague_N   -4.034523e-09\n",
      "dtype: float64\n",
      "\n",
      "Training MSE: 203970.0\n",
      "\n",
      "Test MSE:     199951.0\n"
     ]
    }
   ],
   "source": [
    "ridge3 = Ridge(alpha = 10**10, normalize = True)\n",
    "ridge3.fit(X_train, y_train)             # Fit a ridge regression on the training data\n",
    "pred3 = ridge3.predict(X_test)           # Use this model to predict the test data\n",
    "print(pd.Series(ridge3.coef_, index = X.columns)) # Print coefficients\n",
    "print('\\nTraining MSE: ' + str(round(mean_squared_error(y_train, ridge3.predict(X_train)), 0)))\n",
    "print('\\nTest MSE:     ' + str(round(mean_squared_error(y_test, ridge3.predict(X_test)), 0)))"
   ]
  },
  {
   "cell_type": "markdown",
   "metadata": {},
   "source": [
    "This big penalty shrinks the coefficients to a very large degree, essentially reducing to a model containing just the intercept. This **over-shrinking makes the model more biased**, resulting in a higher MSE.\n",
    "\n",
    "<img src=\"Images/variancebias_edit_5.png\" alt=\"Drawing\" style=\"width: 700px;\"/>\n",
    "\n",
    "Okay, so fitting a ridge regression model with alpha = 4 leads to a much lower test MSE than fitting a model with just an intercept. We now check whether there is any benefit to performing ridge regression with alpha = 4 instead of just performing least squares regression. Recall that least squares is simply ridge regression with alpha = 0."
   ]
  },
  {
   "cell_type": "code",
   "execution_count": 41,
   "metadata": {},
   "outputs": [
    {
     "name": "stdout",
     "output_type": "stream",
     "text": [
      "const            0.000000\n",
      "AtBat           -2.222964\n",
      "Hits             7.606262\n",
      "HmRun           -2.920254\n",
      "Runs            -2.260796\n",
      "RBI              2.188527\n",
      "Walks            5.664732\n",
      "Years            6.983902\n",
      "CAtBat          -0.333004\n",
      "CHits            1.076608\n",
      "CHmRun           2.023639\n",
      "CRuns            0.422991\n",
      "CRBI             0.143343\n",
      "CWalks          -0.478938\n",
      "PutOuts          0.310889\n",
      "Assists          0.133993\n",
      "Errors          -0.143540\n",
      "League_N        29.003932\n",
      "Division_W    -124.844775\n",
      "NewLeague_N     13.518478\n",
      "dtype: float64\n",
      "\n",
      "Training MSE: 86228.0\n",
      "\n",
      "Test MSE:     125103.0\n"
     ]
    }
   ],
   "source": [
    "ridge4 = Ridge(alpha = 0, normalize = True).fit(X_train, y_train)             # Fit a ridge regression on the training data\n",
    "pred = ridge4.predict(X_test)            # Use this model to predict the test data\n",
    "print(pd.Series(ridge4.coef_, index = X.columns)) # Print coefficients\n",
    "print('\\nTraining MSE: ' + str(round(mean_squared_error(y_train, ridge4.predict(X_train)), 0)))\n",
    "print('\\nTest MSE:     ' + str(round(mean_squared_error(y_test, ridge4.predict(X_test)), 0)))"
   ]
  },
  {
   "cell_type": "markdown",
   "metadata": {},
   "source": [
    "It looks like we are indeed improving over regular least-squares!\n",
    "\n",
    "Instead of arbitrarily choosing alpha $ = 4$, it would be better to use cross-validation to choose the tuning parameter alpha. We can do this using the cross-validated ridge regression function, `RidgeCV()`. By default, the function performs generalized cross-validation (an efficient form of LOOCV), though this can be changed using the argument `cv`."
   ]
  },
  {
   "cell_type": "code",
   "execution_count": 42,
   "metadata": {},
   "outputs": [
    {
     "data": {
      "text/plain": [
       "0.008737642000038414"
      ]
     },
     "execution_count": 42,
     "metadata": {},
     "output_type": "execute_result"
    }
   ],
   "source": [
    "ridgecv = RidgeCV(alphas=alphas, scoring = 'neg_mean_squared_error', normalize = True)\n",
    "ridgecv.fit(X_train, y_train)\n",
    "ridgecv.alpha_"
   ]
  },
  {
   "cell_type": "markdown",
   "metadata": {},
   "source": [
    "Therefore, we see that the value of alpha that results in the smallest cross-validation\n",
    "error is 0.57. What is the test MSE associated with this value of\n",
    "alpha?"
   ]
  },
  {
   "cell_type": "code",
   "execution_count": 43,
   "metadata": {},
   "outputs": [
    {
     "name": "stdout",
     "output_type": "stream",
     "text": [
      "\n",
      "Training MSE: 88176.0\n",
      "\n",
      "Test MSE:    119042.0\n"
     ]
    }
   ],
   "source": [
    "ridge5 = Ridge(alpha = ridgecv.alpha_, normalize = True).fit(X_train, y_train)\n",
    "mean_squared_error(y_test, ridge5.predict(X_test))\n",
    "print('\\nTraining MSE: ' + str(round(mean_squared_error(y_train, ridge5.predict(X_train)), 0)))\n",
    "print('\\nTest MSE:    ' + str(round(mean_squared_error(y_test, ridge5.predict(X_test)), 0)))"
   ]
  },
  {
   "cell_type": "markdown",
   "metadata": {},
   "source": [
    "Unlike subset selection, which will generally select models that involve just a subset of the variables, \n",
    "<font color='red'>**ridge regression will include all p predictors in the final model!** </font>"
   ]
  },
  {
   "cell_type": "markdown",
   "metadata": {},
   "source": [
    "## Option 5: LASSO\n",
    "\n",
    "Similar to ridge regression, but the key difference in behavior follows from penalty:\n",
    "\n",
    "<img src=\"Images/lasso.png\" alt=\"Drawing\" style=\"width: 500px;\"/>\n",
    "\n",
    "We saw that ridge regression with a wise choice of alpha can outperform least\n",
    "squares as well as the null model on the Hitters data set. We now ask\n",
    "whether the lasso can yield either a more accurate or a more interpretable\n",
    "model than ridge regression. In order to fit a lasso model, we'll\n",
    "use the `Lasso()` function; however, this time we'll need to include the argument `max_iter = 10000`.\n",
    "Other than that change, we proceed just as we did in fitting a ridge model:"
   ]
  },
  {
   "cell_type": "code",
   "execution_count": 44,
   "metadata": {},
   "outputs": [
    {
     "data": {
      "image/png": "[encoded data removed]",
      "text/plain": [
       "<Figure size 432x288 with 1 Axes>"
      ]
     },
     "metadata": {
      "needs_background": "light"
     },
     "output_type": "display_data"
    }
   ],
   "source": [
    "lasso = Lasso(max_iter = 10000, normalize = True)\n",
    "coefs = []\n",
    "\n",
    "for a in alphas:\n",
    "    lasso.set_params(alpha=a)\n",
    "    lasso.fit(scale(X_train.astype(float)), y_train)\n",
    "    coefs.append(lasso.coef_)\n",
    "    \n",
    "ax = plt.gca()\n",
    "ax.plot(alphas*2, coefs)\n",
    "ax.set_xscale('log')\n",
    "plt.axis('tight')\n",
    "plt.xlabel('alpha')\n",
    "plt.ylabel('weights');"
   ]
  },
  {
   "cell_type": "markdown",
   "metadata": {},
   "source": [
    "Notice that in the coefficient plot that depending on the choice of tuning\n",
    "parameter, some of the coefficients are exactly equal to zero. We now\n",
    "perform 10-fold cross-validation to choose the best alpha, refit the model, and compute the associated test error:"
   ]
  },
  {
   "cell_type": "code",
   "execution_count": 45,
   "metadata": {},
   "outputs": [
    {
     "name": "stdout",
     "output_type": "stream",
     "text": [
      "\n",
      "Training MSE: 86804.0\n",
      "\n",
      "Test MSE:    121178.0\n"
     ]
    }
   ],
   "source": [
    "lassocv = LassoCV(alphas = alphas, cv = 10, max_iter = 100000, normalize = True)\n",
    "lassocv.fit(X_train, y_train)\n",
    "\n",
    "lasso.set_params(alpha=lassocv.alpha_)\n",
    "lasso.fit(X_train, y_train)\n",
    "print('\\nTraining MSE: ' + str(round(mean_squared_error(y_train, lasso.predict(X_train)), 0)))\n",
    "print('\\nTest MSE:    ' + str(round(mean_squared_error(y_test, lasso.predict(X_test)), 0)))"
   ]
  },
  {
   "cell_type": "markdown",
   "metadata": {},
   "source": [
    "This is substantially lower than the test set MSE of the null model and of\n",
    "least squares, and only a little worse than the test MSE of ridge regression with alpha\n",
    "chosen by cross-validation.\n",
    "\n",
    "**However, the lasso has a substantial advantage over ridge regression in that the resulting coefficient estimates are sparse.** Here we see that 13 of\n",
    "the 19 coefficient estimates are exactly zero:"
   ]
  },
  {
   "cell_type": "code",
   "execution_count": 46,
   "metadata": {},
   "outputs": [
    {
     "data": {
      "text/plain": [
       "const            0.000000\n",
       "AtBat           -2.267186\n",
       "Hits             7.758589\n",
       "HmRun           -3.287416\n",
       "Runs            -2.002968\n",
       "RBI              2.204797\n",
       "Walks            5.577079\n",
       "Years            0.000000\n",
       "CAtBat          -0.183021\n",
       "CHits            0.628739\n",
       "CHmRun           1.717085\n",
       "CRuns            0.383991\n",
       "CRBI             0.200774\n",
       "CWalks          -0.510605\n",
       "PutOuts          0.319788\n",
       "Assists          0.083395\n",
       "Errors           0.000000\n",
       "League_N        19.725022\n",
       "Division_W    -122.093616\n",
       "NewLeague_N     16.710288\n",
       "dtype: float64"
      ]
     },
     "execution_count": 46,
     "metadata": {},
     "output_type": "execute_result"
    }
   ],
   "source": [
    "# Some of the coefficients are now reduced to exactly zero.\n",
    "pd.Series(lasso.coef_, index=X.columns)"
   ]
  },
  {
   "cell_type": "markdown",
   "metadata": {},
   "source": [
    "## LASSO vs. Ridge\n",
    "\n",
    "<img src=\"Images/ridgevslasso.png\" alt=\"Drawing\" style=\"width: 800px;\"/>"
   ]
  },
  {
   "cell_type": "markdown",
   "metadata": {},
   "source": [
    "## Final thoughts\n",
    "\n",
    "- dont use the forward and backwards selection code that was used in this tutorial! It is simple but inefficient!\n",
    "- Forward selection using mlxtend -> Sequential Feature Selector: https://www.kdnuggets.com/2018/06/step-forward-feature-selection-python.html"
   ]
  }
 ],
 "metadata": {
  "kernelspec": {
   "display_name": "Python 3",
   "language": "python",
   "name": "python3"
  },
  "language_info": {
   "codemirror_mode": {
    "name": "ipython",
    "version": 3
   },
   "file_extension": ".py",
   "mimetype": "text/x-python",
   "name": "python",
   "nbconvert_exporter": "python",
   "pygments_lexer": "ipython3",
   "version": "3.9.5"
  }
 },
 "nbformat": 4,
 "nbformat_minor": 2
}
